{
 "cells": [
  {
   "cell_type": "markdown",
   "id": "aef8b5db",
   "metadata": {},
   "source": [
    "Настройка рабочего пространства"
   ]
  },
  {
   "cell_type": "code",
   "execution_count": 1,
   "id": "9421da4d",
   "metadata": {
    "scrolled": true
   },
   "outputs": [],
   "source": [
    "# !pip install ydata_profiling"
   ]
  },
  {
   "cell_type": "code",
   "execution_count": 2,
   "id": "0de6148f",
   "metadata": {},
   "outputs": [],
   "source": [
    "# !pip install absl-py==1.2.0 alembic==1.6.5 anyio==3.2.1 argon2-cffi==20.1.0 astunparse==1.6.3 async-generator==1.10 attrs==21.2.0 Babel==2.9.1 backcall==0.2.0 backports.functools-lru-cache==1.6.4 beautifulsoup4==4.9.3 bleach==3.3.0 blinker==1.4 blis==0.7.8 branca==0.5.0 brotlipy==0.7.0 cachetools==5.2.0 catalogue==2.0.8 catboost==1.0.3 certifi==2022.6.15 certipy==0.1.3 cffi==1.14.5 chardet==4.0.0 click==8.1.3 convertdate==2.4.0 cryptography==3.4.7 cycler==0.11.0 cymem==2.0.6 Cython DAWG-Python==0.7.2 debugpy decorator==5.0.9 defusedxml==0.7.1 docopt==0.6.2 entrypoints==0.3 et-xmlfile==1.1.0 filelock==3.8.0 findspark==1.4.2 flatbuffers==2.0.7 folium==0.12.1.post1 fuzzywuzzy==0.18.0 gast==0.4.0 gensim==4.1.2 google-auth==2.11.0 google-auth-oauthlib==0.4.6 google-pasta==0.2.0 graphviz==0.20.1 greenlet==1.1.0 grpcio==1.47.0 gspread==5.0.0 h5py==3.7.0 hijri-converter==2.2.4 holidays==0.11.3.1 huggingface-hub==0.9.1 idna==2.10 importlib-metadata==4.6.1 ipykernel==6.0.1 ipython==7.25.0 ipython-genutils==0.2.0 ipywidgets==7.6.3 jedi==0.18.0 Jinja2==3.0.1 joblib==1.1.0 json5==0.9.5 jsonschema==3.2.0 jupyter==1.0.0 jupyter-client==6.1.12 jupyter-console==6.4.2 jupyter-contrib-core==0.4.0 jupyter-contrib-nbextensions==0.5.1 jupyter-core==4.7.1 jupyter-dash jupyter-highlight-selected-word==0.2.0 jupyter-latex-envs==1.4.6 jupyter-nbextensions-configurator==0.5.0 jupyter-server==1.9.0 jupyter-telemetry==0.1.0 jupyterhub==1.4.2 jupyterlab-pygments==0.1.2 jupyterlab-server==2.6.0 jupyterlab-widgets==3.0.2 keras==2.7.0 Keras-Preprocessing==1.1.2 kiwisolver==1.4.4 korean-lunar-calendar==0.2.1 langcodes==3.3.0 libclang==14.0.6 lightgbm==3.3.1 llvmlite==0.39.0 lxml==4.6.3 Mako==1.1.4 Markdown==3.4.1 MarkupSafe==2.1.1 matplotlib==3.3.4 matplotlib-inline==0.1.2 murmurhash==1.0.8 nbclassic==0.3.1 nbclient==0.5.3 nbconvert==6.1.0 nbformat==5.1.3 nbgrader==0.6.1 nest-asyncio==1.5.1 nltk==3.6.1 notebook==6.4.0 numba==0.56.0 numpy==1.21.1 oauthlib==3.1.1 openpyxl==3.0.9 opt-einsum==3.3.0 packaging==21.3 pamela==1.0.0 pandas==1.2.4 pandocfilters==1.4.2 parso==0.8.2 pathy==0.6.2 patsy==0.5.2 pexpect==4.8.0 pickleshare==0.7.5 Pillow==8.4.0 plotly==5.4.0 preshed==3.0.7 prometheus-client==0.11.0 prompt-toolkit==3.0.19 protobuf==3.19.4 psycopg2-binary==2.9.2 ptyprocess==0.7.0 py4j==0.10.9 pyarrow==5.0.0 pyasn1==0.4.8 pyasn1-modules==0.2.8 pycosat==0.6.3 pycparser==2.20 pydantic==1.8.2 Pygments==2.9.0 PyJWT==2.1.0 PyMeeus==0.5.11 pymorphy2==0.9.1 pymorphy2-dicts-ru==2.4.417127.4579844 pymystem3==0.2.0 pyod==0.9.5 pyOpenSSL==20.0.1 pyparsing==2.4.7 PySocks==1.7.1 pyspark==3.0.2 python-editor==1.0.4 python-json-logger==2.0.1 pytz==2021.1 PyYAML==6.0 qtconsole==5.3.2 QtPy==2.2.0 regex==2022.8.17 requests==2.25.1 requests-oauthlib==1.3.1 requests-unixsocket==0.2.0 rsa==4.9 ruamel.yaml==0.17.10 ruamel.yaml.clib==0.2.2 sacremoses==0.0.53 scikit-learn==0.24.1 scipy==1.9.1 seaborn==0.11.1 setuptools==49.6.0 six==1.16.0 smart-open==5.2.1 sniffio==1.2.0 soupsieve==2.3.2.post1 spacy==3.2.0 spacy-legacy==3.0.10 spacy-loggers==1.0.3 SQLAlchemy==1.4.20 srsly==2.4.4 statsmodels==0.13.2 tenacity==8.0.1 tensorboard==2.10.0 tensorboard-data-server==0.6.1 tensorboard-plugin-wit==1.8.1 tensorflow-cpu==2.7.0 tensorflow-estimator==2.7.0 tensorflow-io-gcs-filesystem==0.26.0 termcolor==1.1.0 terminado==0.10.1 testpath==0.5.0 thinc==8.0.17 threadpoolctl==3.1.0 tokenizers==0.10.3 torch==1.10.0 tqdm==4.61.2 transformers==4.12.5 typer==0.4.2 typing-extensions==4.3.0 urllib3==1.26.6 wasabi==0.10.1 wcwidth==0.2.5 webencodings==0.5.1 websocket-client==0.57.0 Werkzeug==2.2.2 wheel==0.36.2 widgetsnbextension==3.5.2 wrapt==1.14.1 xgboost==1.5.1 xlrd==2.0.1 xmltodict==0.12.0 zipp==3.5.0"
   ]
  },
  {
   "cell_type": "code",
   "execution_count": 1,
   "id": "e6c1c18c",
   "metadata": {},
   "outputs": [],
   "source": [
    "# !pip install phik"
   ]
  },
  {
   "cell_type": "code",
   "execution_count": 2,
   "id": "17c8229e",
   "metadata": {},
   "outputs": [],
   "source": [
    "# !pip install -U scikit-learn"
   ]
  },
  {
   "cell_type": "code",
   "execution_count": null,
   "id": "f562f6bd",
   "metadata": {
    "scrolled": true
   },
   "outputs": [],
   "source": [
    "import os\n",
    "\n",
    "from IPython.display import display, HTML \n",
    "import warnings\n",
    "import pandas as pd\n",
    "import numpy as np\n",
    "\n",
    "import matplotlib.pyplot as plt\n",
    "import matplotlib\n",
    "import seaborn as sns\n",
    "\n",
    "# from ydata_profiling import ProfileReport\n",
    "from typing import List\n",
    "from phik import phik_matrix\n",
    "\n",
    "from sklearn.base import BaseEstimator, TransformerMixin\n",
    "\n",
    "from sklearn.model_selection import train_test_split, GridSearchCV, StratifiedKFold, cross_val_predict\n",
    "\n",
    "from sklearn.preprocessing import StandardScaler, MinMaxScaler, RobustScaler, OneHotEncoder, OrdinalEncoder\n",
    "\n",
    "from sklearn.pipeline import Pipeline\n",
    "from sklearn.compose import ColumnTransformer\n",
    "\n",
    "from sklearn.dummy import DummyClassifier\n",
    "from sklearn.linear_model import LogisticRegression\n",
    "from sklearn.svm import SVC\n",
    "from sklearn.tree import DecisionTreeClassifier\n",
    "from sklearn.neighbors import KNeighborsClassifier\n",
    "\n",
    "from sklearn.impute import SimpleImputer \n",
    "from sklearn.metrics import make_scorer, f1_score, roc_auc_score, precision_score, recall_score\n",
    "\n",
    "from sklearn.inspection import permutation_importance"
   ]
  },
  {
   "cell_type": "code",
   "execution_count": 6,
   "id": "025e1051",
   "metadata": {},
   "outputs": [],
   "source": [
    "warnings.filterwarnings('ignore') # чтобы не было красный полей с предупреждениями об устаревших библиотеках\n",
    "#matplotlib.use('inline')  # или 'TkAgg' # принудительное отображение графиков matplotlib\n",
    "#matplotlib.use('Agg')  # Установи backend\n",
    "%matplotlib inline\n",
    "plt.ion() # принудительное отображение графиков matplotlib в VS Code\n",
    "#display(HTML(\"<style>.container { width:90% !important; }</style>\")) # чтобы листик в джупитре был пошире - не работает\n",
    "pd.set_option(\"display.max_columns\", None) # чтобы сам df был пошире\n",
    "pd.set_option('display.max_colwidth', None) # чтобы df колонки были пошире\n",
    "pd.set_option('display.float_format', '{:.2f}'.format) # округление чисел в df, чтобы числа не печатал экспоненциально\n",
    "pd.options.display.expand_frame_repr = False # для принта чтобы колонки не переносил рабоатет тольок в vs code, in jupyter notebook получается каша\n",
    "\n",
    "# plt.style.use('dark_background') # темная тема на графиках - график черный, остальной лист белый\n",
    "# sns.set_style('darkgrid') # темная тема на графиках - график черный, остальной лист белый"
   ]
  },
  {
   "cell_type": "markdown",
   "id": "38ee06dd",
   "metadata": {},
   "source": [
    "# **Описание проекта**"
   ]
  },
  {
   "cell_type": "markdown",
   "id": "a6fb85d5",
   "metadata": {},
   "source": [
    "Интернет-магазин «В один клик» продаёт разные товары: для детей, для дома, мелкую бытовую технику, косметику и даже продукты. \n",
    "\n",
    "Отчёт магазина за прошлый период показал, что активность покупателей начала снижаться. Привлекать новых клиентов уже не так эффективно: о магазине и так знает большая часть целевой аудитории. Возможный выход — удерживать активность постоянных клиентов. Сделать это можно с помощью персонализированных предложений.\n",
    "\n",
    "«В один клик» — современная компания, поэтому её руководство не хочет принимать решения просто так — только на основе анализа данных и бизнес-моделирования.\n",
    "\n",
    "Итак, вашему отделу поручили разработать решение, которое позволит **персонализировать предложения постоянным клиентам, чтобы увеличить их покупательскую активность.**"
   ]
  },
  {
   "cell_type": "markdown",
   "id": "d815a229",
   "metadata": {},
   "source": [
    "## **Основная задача:**"
   ]
  },
  {
   "cell_type": "markdown",
   "id": "da78bfb2",
   "metadata": {},
   "source": [
    "**=> Удерживать активность постоянных клиентов с помощью персональных предложений.**"
   ]
  },
  {
   "cell_type": "markdown",
   "id": "2a536198",
   "metadata": {},
   "source": [
    "### **Как решать задачу**"
   ]
  },
  {
   "cell_type": "markdown",
   "id": "db62f31c",
   "metadata": {},
   "source": [
    "Решим задачу в два этапа:\n",
    "\n",
    "**1) Разработаем модель, которая предскажет вероятность снижения покупательской активности в следующие три месяца.** Для этого мы:\n",
    "\n",
    "1.1. промаркируем уровень финансовой активности постоянных покупателей. В компании принято выделять два уровня активности: «снизилась», если клиент стал покупать меньше товаров, и «прежний уровень», таким образом:"
   ]
  },
  {
   "cell_type": "markdown",
   "id": "5aa75509",
   "metadata": {},
   "source": [
    "### **Целевой признак:**\n",
    "**- Покупательская активность**"
   ]
  },
  {
   "cell_type": "markdown",
   "id": "faa8d1d7",
   "metadata": {},
   "source": [
    "\n",
    "\n",
    "1.2. собрем данные по клиентам по следующим группам:\n",
    "\n",
    "* Признаки, которые описывают **коммуникацию сотрудников компании с клиентом**;\n",
    "* Признаки, которые описывают **продуктовое поведение покупателя.** Например, какие товары покупает и как часто;\n",
    "* Признаки, которые описывают **покупательское поведение клиента.** Например, сколько тратил в магазине;\n",
    "* Признаки, которые описывают **поведение покупателя на сайте.** Например, как много страниц просматривает и сколько времени проводит на сайте;\n",
    "\n",
    "1.3. Представим группы признаков (вместе с целевым) в виде диаграммы — такую визуализацию ещё называют диаграммой Исикавы."
   ]
  },
  {
   "attachments": {
    "image.png": {
     "image/png": "[encoded data removed]"
    }
   },
   "cell_type": "markdown",
   "id": "566c12fa",
   "metadata": {},
   "source": [
    "![image.png](attachment:image.png)"
   ]
  },
  {
   "cell_type": "markdown",
   "id": "82102408",
   "metadata": {},
   "source": [
    "\n",
    "\n",
    "1.4. В исследование нужно включить дополнительные данные финансового департамента о прибыльности клиента: какой доход каждый покупатель приносил компании за последние три месяца;\n",
    "\n",
    "**2) выделим сегменты покупателей и разработаем для них персонализированные предложения**, чтобы увеличить покупательскую активность, на основе данных модели и данных о прибыльности клиентов.\n",
    "\n"
   ]
  },
  {
   "cell_type": "markdown",
   "id": "575c8b73",
   "metadata": {},
   "source": [
    "# **Этап 1. Загрузка данных**"
   ]
  },
  {
   "cell_type": "markdown",
   "id": "da321165",
   "metadata": {},
   "source": [
    "Загрузим данные и обратим внимание: в некоторых файлах разделитель значений — точка с запятой, а разделитель десятичных значений — запятая.  "
   ]
  },
  {
   "cell_type": "code",
   "execution_count": 7,
   "id": "5b989d8e",
   "metadata": {},
   "outputs": [],
   "source": [
    "try:\n",
    "    market_file_df = pd.read_csv('https://code.s3.yandex.net/datasets/market_file.csv', sep=',')\n",
    "    market_money_df = pd.read_csv('https://code.s3.yandex.net/datasets/market_money.csv', sep=',')\n",
    "    market_time_df = pd.read_csv('https://code.s3.yandex.net/datasets/market_time.csv', sep=',')\n",
    "    money_df = pd.read_csv('https://code.s3.yandex.net/datasets/money.csv', sep=';')\n",
    "except:\n",
    "    market_file_df = pd.read_csv('C:/Users/dmi-a/OneDrive/Рабочий стол/DS учеба/datasets/market_file.csv', sep=',')\n",
    "    market_money_df = pd.read_csv('C:/Users/dmi-a/OneDrive/Рабочий стол/DS учеба/datasets/market_money.csv', sep=',')\n",
    "    market_time_df = pd.read_csv('C:/Users/dmi-a/OneDrive/Рабочий стол/DS учеба/datasets/market_time.csv', sep=',')\n",
    "    money_df = pd.read_csv('C:/Users/dmi-a/OneDrive/Рабочий стол/DS учеба/datasets/money.csv', sep=';')"
   ]
  },
  {
   "cell_type": "markdown",
   "id": "408129e0",
   "metadata": {},
   "source": [
    "## **1.1. Описание данных**"
   ]
  },
  {
   "cell_type": "markdown",
   "id": "00286229",
   "metadata": {},
   "source": [
    "### * **market_file.csv**"
   ]
  },
  {
   "cell_type": "markdown",
   "id": "11c47f0a",
   "metadata": {},
   "source": [
    "Таблица, которая содержит данные о поведении покупателя на сайте, о коммуникациях с покупателем и его продуктовом поведении."
   ]
  },
  {
   "cell_type": "code",
   "execution_count": 8,
   "id": "c168e0f9",
   "metadata": {},
   "outputs": [
    {
     "data": {
      "text/html": [
       "<div>\n",
       "<style scoped>\n",
       "    .dataframe tbody tr th:only-of-type {\n",
       "        vertical-align: middle;\n",
       "    }\n",
       "\n",
       "    .dataframe tbody tr th {\n",
       "        vertical-align: top;\n",
       "    }\n",
       "\n",
       "    .dataframe thead th {\n",
       "        text-align: right;\n",
       "    }\n",
       "</style>\n",
       "<table border=\"1\" class=\"dataframe\">\n",
       "  <thead>\n",
       "    <tr style=\"text-align: right;\">\n",
       "      <th></th>\n",
       "      <th>id</th>\n",
       "      <th>Покупательская активность</th>\n",
       "      <th>Тип сервиса</th>\n",
       "      <th>Разрешить сообщать</th>\n",
       "      <th>Маркет_актив_6_мес</th>\n",
       "      <th>Маркет_актив_тек_мес</th>\n",
       "      <th>Длительность</th>\n",
       "      <th>Акционные_покупки</th>\n",
       "      <th>Популярная_категория</th>\n",
       "      <th>Средний_просмотр_категорий_за_визит</th>\n",
       "      <th>Неоплаченные_продукты_штук_квартал</th>\n",
       "      <th>Ошибка_сервиса</th>\n",
       "      <th>Страниц_за_визит</th>\n",
       "    </tr>\n",
       "  </thead>\n",
       "  <tbody>\n",
       "    <tr>\n",
       "      <th>0</th>\n",
       "      <td>215348</td>\n",
       "      <td>Снизилась</td>\n",
       "      <td>премиум</td>\n",
       "      <td>да</td>\n",
       "      <td>3.40</td>\n",
       "      <td>5</td>\n",
       "      <td>121</td>\n",
       "      <td>0.00</td>\n",
       "      <td>Товары для детей</td>\n",
       "      <td>6</td>\n",
       "      <td>2</td>\n",
       "      <td>1</td>\n",
       "      <td>5</td>\n",
       "    </tr>\n",
       "    <tr>\n",
       "      <th>1</th>\n",
       "      <td>215349</td>\n",
       "      <td>Снизилась</td>\n",
       "      <td>премиум</td>\n",
       "      <td>да</td>\n",
       "      <td>4.40</td>\n",
       "      <td>4</td>\n",
       "      <td>819</td>\n",
       "      <td>0.75</td>\n",
       "      <td>Товары для детей</td>\n",
       "      <td>4</td>\n",
       "      <td>4</td>\n",
       "      <td>2</td>\n",
       "      <td>5</td>\n",
       "    </tr>\n",
       "    <tr>\n",
       "      <th>2</th>\n",
       "      <td>215350</td>\n",
       "      <td>Снизилась</td>\n",
       "      <td>стандартт</td>\n",
       "      <td>нет</td>\n",
       "      <td>4.90</td>\n",
       "      <td>3</td>\n",
       "      <td>539</td>\n",
       "      <td>0.14</td>\n",
       "      <td>Домашний текстиль</td>\n",
       "      <td>5</td>\n",
       "      <td>2</td>\n",
       "      <td>1</td>\n",
       "      <td>5</td>\n",
       "    </tr>\n",
       "    <tr>\n",
       "      <th>3</th>\n",
       "      <td>215351</td>\n",
       "      <td>Снизилась</td>\n",
       "      <td>стандартт</td>\n",
       "      <td>да</td>\n",
       "      <td>3.20</td>\n",
       "      <td>5</td>\n",
       "      <td>896</td>\n",
       "      <td>0.99</td>\n",
       "      <td>Товары для детей</td>\n",
       "      <td>5</td>\n",
       "      <td>0</td>\n",
       "      <td>6</td>\n",
       "      <td>4</td>\n",
       "    </tr>\n",
       "    <tr>\n",
       "      <th>4</th>\n",
       "      <td>215352</td>\n",
       "      <td>Снизилась</td>\n",
       "      <td>стандартт</td>\n",
       "      <td>нет</td>\n",
       "      <td>5.10</td>\n",
       "      <td>3</td>\n",
       "      <td>1064</td>\n",
       "      <td>0.94</td>\n",
       "      <td>Товары для детей</td>\n",
       "      <td>3</td>\n",
       "      <td>2</td>\n",
       "      <td>3</td>\n",
       "      <td>2</td>\n",
       "    </tr>\n",
       "    <tr>\n",
       "      <th>5</th>\n",
       "      <td>215353</td>\n",
       "      <td>Снизилась</td>\n",
       "      <td>стандартт</td>\n",
       "      <td>да</td>\n",
       "      <td>3.30</td>\n",
       "      <td>4</td>\n",
       "      <td>762</td>\n",
       "      <td>0.26</td>\n",
       "      <td>Домашний текстиль</td>\n",
       "      <td>4</td>\n",
       "      <td>1</td>\n",
       "      <td>1</td>\n",
       "      <td>4</td>\n",
       "    </tr>\n",
       "  </tbody>\n",
       "</table>\n",
       "</div>"
      ],
      "text/plain": [
       "       id Покупательская активность Тип сервиса Разрешить сообщать  Маркет_актив_6_мес  Маркет_актив_тек_мес  Длительность  Акционные_покупки Популярная_категория  Средний_просмотр_категорий_за_визит  Неоплаченные_продукты_штук_квартал  Ошибка_сервиса  Страниц_за_визит\n",
       "0  215348                 Снизилась     премиум                 да                3.40                     5           121               0.00     Товары для детей                                    6                                   2               1                 5\n",
       "1  215349                 Снизилась     премиум                 да                4.40                     4           819               0.75     Товары для детей                                    4                                   4               2                 5\n",
       "2  215350                 Снизилась   стандартт                нет                4.90                     3           539               0.14    Домашний текстиль                                    5                                   2               1                 5\n",
       "3  215351                 Снизилась   стандартт                 да                3.20                     5           896               0.99     Товары для детей                                    5                                   0               6                 4\n",
       "4  215352                 Снизилась   стандартт                нет                5.10                     3          1064               0.94     Товары для детей                                    3                                   2               3                 2\n",
       "5  215353                 Снизилась   стандартт                 да                3.30                     4           762               0.26    Домашний текстиль                                    4                                   1               1                 4"
      ]
     },
     "execution_count": 8,
     "metadata": {},
     "output_type": "execute_result"
    }
   ],
   "source": [
    "market_file_df.head(6)"
   ]
  },
  {
   "cell_type": "markdown",
   "id": "02f40f39",
   "metadata": {},
   "source": [
    "\n",
    "- **id** — номер покупателя в корпоративной базе данных.\n",
    "- **Покупательская активность** — рассчитанный класс покупательской активности (целевой признак): «снизилась» или «прежний уровень».\n",
    "- **Тип сервиса** — уровень сервиса, например «премиум» и «стандарт».\n",
    "- **Разрешить сообщать** — информация о том, можно ли присылать покупателю дополнительные предложения о товаре. Согласие на это даёт покупатель.\n",
    "- **Маркет_актив_6_мес** — среднемесячное значение маркетинговых коммуникаций компании, которое приходилось на покупателя за последние 6 месяцев. Это значение показывает, какое число рассылок, звонков, показов рекламы и прочего приходилось на клиента.\n",
    "- **Маркет_актив_тек_мес** — количество маркетинговых коммуникаций в текущем месяце.\n",
    "- **Длительность** — значение, которое показывает, сколько дней прошло с момента регистрации покупателя на сайте.\n",
    "- **Акционные_покупки** — среднемесячная доля покупок по акции от общего числа покупок за последние 6 месяцев.\n",
    "- **Популярная_категория** — самая популярная категория товаров у покупателя за последние 6 месяцев.\n",
    "- **Средний_просмотр_категорий_за_визит** — показывает, сколько в среднем категорий покупатель просмотрел за визит в течение последнего месяца.\n",
    "- **Неоплаченные_продукты_штук_квартал** — общее число неоплаченных товаров в корзине за последние 3 месяца.\n",
    "- **Ошибка_сервиса** — число сбоев, которые коснулись покупателя во время посещения сайта.\n",
    "- **Страниц_за_визит** — среднее количество страниц, которые просмотрел покупатель за один визит на сайт за последние 3 месяца."
   ]
  },
  {
   "cell_type": "code",
   "execution_count": 9,
   "id": "aceb1474",
   "metadata": {},
   "outputs": [
    {
     "name": "stdout",
     "output_type": "stream",
     "text": [
      "<class 'pandas.core.frame.DataFrame'>\n",
      "RangeIndex: 1300 entries, 0 to 1299\n",
      "Data columns (total 13 columns):\n",
      " #   Column                               Non-Null Count  Dtype  \n",
      "---  ------                               --------------  -----  \n",
      " 0   id                                   1300 non-null   int64  \n",
      " 1   Покупательская активность            1300 non-null   object \n",
      " 2   Тип сервиса                          1300 non-null   object \n",
      " 3   Разрешить сообщать                   1300 non-null   object \n",
      " 4   Маркет_актив_6_мес                   1300 non-null   float64\n",
      " 5   Маркет_актив_тек_мес                 1300 non-null   int64  \n",
      " 6   Длительность                         1300 non-null   int64  \n",
      " 7   Акционные_покупки                    1300 non-null   float64\n",
      " 8   Популярная_категория                 1300 non-null   object \n",
      " 9   Средний_просмотр_категорий_за_визит  1300 non-null   int64  \n",
      " 10  Неоплаченные_продукты_штук_квартал   1300 non-null   int64  \n",
      " 11  Ошибка_сервиса                       1300 non-null   int64  \n",
      " 12  Страниц_за_визит                     1300 non-null   int64  \n",
      "dtypes: float64(2), int64(7), object(4)\n",
      "memory usage: 132.2+ KB\n"
     ]
    }
   ],
   "source": [
    "market_file_df.info()"
   ]
  },
  {
   "cell_type": "markdown",
   "id": "598c24eb",
   "metadata": {},
   "source": [
    "### * **market_money.csv**"
   ]
  },
  {
   "cell_type": "markdown",
   "id": "fb99709b",
   "metadata": {},
   "source": [
    "Таблица с данными о выручке, которую получает магазин с покупателя, то есть сколько покупатель всего потратил за период взаимодействия с сайтом."
   ]
  },
  {
   "cell_type": "code",
   "execution_count": 10,
   "id": "bd1b35e2",
   "metadata": {},
   "outputs": [
    {
     "data": {
      "text/html": [
       "<div>\n",
       "<style scoped>\n",
       "    .dataframe tbody tr th:only-of-type {\n",
       "        vertical-align: middle;\n",
       "    }\n",
       "\n",
       "    .dataframe tbody tr th {\n",
       "        vertical-align: top;\n",
       "    }\n",
       "\n",
       "    .dataframe thead th {\n",
       "        text-align: right;\n",
       "    }\n",
       "</style>\n",
       "<table border=\"1\" class=\"dataframe\">\n",
       "  <thead>\n",
       "    <tr style=\"text-align: right;\">\n",
       "      <th></th>\n",
       "      <th>id</th>\n",
       "      <th>Период</th>\n",
       "      <th>Выручка</th>\n",
       "    </tr>\n",
       "  </thead>\n",
       "  <tbody>\n",
       "    <tr>\n",
       "      <th>3487</th>\n",
       "      <td>216510</td>\n",
       "      <td>предыдущий_месяц</td>\n",
       "      <td>5821.00</td>\n",
       "    </tr>\n",
       "    <tr>\n",
       "      <th>1495</th>\n",
       "      <td>215846</td>\n",
       "      <td>препредыдущий_месяц</td>\n",
       "      <td>4956.00</td>\n",
       "    </tr>\n",
       "    <tr>\n",
       "      <th>244</th>\n",
       "      <td>215429</td>\n",
       "      <td>предыдущий_месяц</td>\n",
       "      <td>3662.00</td>\n",
       "    </tr>\n",
       "    <tr>\n",
       "      <th>1759</th>\n",
       "      <td>215934</td>\n",
       "      <td>текущий_месяц</td>\n",
       "      <td>5773.80</td>\n",
       "    </tr>\n",
       "    <tr>\n",
       "      <th>57</th>\n",
       "      <td>215367</td>\n",
       "      <td>препредыдущий_месяц</td>\n",
       "      <td>4668.00</td>\n",
       "    </tr>\n",
       "  </tbody>\n",
       "</table>\n",
       "</div>"
      ],
      "text/plain": [
       "          id               Период  Выручка\n",
       "3487  216510     предыдущий_месяц  5821.00\n",
       "1495  215846  препредыдущий_месяц  4956.00\n",
       "244   215429     предыдущий_месяц  3662.00\n",
       "1759  215934        текущий_месяц  5773.80\n",
       "57    215367  препредыдущий_месяц  4668.00"
      ]
     },
     "execution_count": 10,
     "metadata": {},
     "output_type": "execute_result"
    }
   ],
   "source": [
    "market_money_df.sample(5)"
   ]
  },
  {
   "cell_type": "markdown",
   "id": "9375af06",
   "metadata": {},
   "source": [
    "- **id** — номер покупателя в корпоративной базе данных.\n",
    "- **Период** — название периода, во время которого зафиксирована выручка. Например, 'текущий_месяц' или 'предыдущий_месяц'.\n",
    "- **Выручка** — сумма выручки за период."
   ]
  },
  {
   "cell_type": "code",
   "execution_count": 11,
   "id": "410b1348",
   "metadata": {},
   "outputs": [
    {
     "name": "stdout",
     "output_type": "stream",
     "text": [
      "<class 'pandas.core.frame.DataFrame'>\n",
      "RangeIndex: 3900 entries, 0 to 3899\n",
      "Data columns (total 3 columns):\n",
      " #   Column   Non-Null Count  Dtype  \n",
      "---  ------   --------------  -----  \n",
      " 0   id       3900 non-null   int64  \n",
      " 1   Период   3900 non-null   object \n",
      " 2   Выручка  3900 non-null   float64\n",
      "dtypes: float64(1), int64(1), object(1)\n",
      "memory usage: 91.5+ KB\n"
     ]
    }
   ],
   "source": [
    "market_money_df.info()"
   ]
  },
  {
   "cell_type": "markdown",
   "id": "b26254df",
   "metadata": {},
   "source": [
    "### * **market_time.csv**"
   ]
  },
  {
   "cell_type": "markdown",
   "id": "67cb3984",
   "metadata": {},
   "source": [
    "Таблица с данными о времени (в минутах), которое покупатель провёл на сайте в течение периода."
   ]
  },
  {
   "cell_type": "code",
   "execution_count": 12,
   "id": "a59e6be3",
   "metadata": {},
   "outputs": [
    {
     "data": {
      "text/html": [
       "<div>\n",
       "<style scoped>\n",
       "    .dataframe tbody tr th:only-of-type {\n",
       "        vertical-align: middle;\n",
       "    }\n",
       "\n",
       "    .dataframe tbody tr th {\n",
       "        vertical-align: top;\n",
       "    }\n",
       "\n",
       "    .dataframe thead th {\n",
       "        text-align: right;\n",
       "    }\n",
       "</style>\n",
       "<table border=\"1\" class=\"dataframe\">\n",
       "  <thead>\n",
       "    <tr style=\"text-align: right;\">\n",
       "      <th></th>\n",
       "      <th>id</th>\n",
       "      <th>Период</th>\n",
       "      <th>минут</th>\n",
       "    </tr>\n",
       "  </thead>\n",
       "  <tbody>\n",
       "    <tr>\n",
       "      <th>1996</th>\n",
       "      <td>216346</td>\n",
       "      <td>предыдцщий_месяц</td>\n",
       "      <td>15</td>\n",
       "    </tr>\n",
       "    <tr>\n",
       "      <th>1578</th>\n",
       "      <td>216137</td>\n",
       "      <td>предыдцщий_месяц</td>\n",
       "      <td>10</td>\n",
       "    </tr>\n",
       "    <tr>\n",
       "      <th>2174</th>\n",
       "      <td>216435</td>\n",
       "      <td>предыдцщий_месяц</td>\n",
       "      <td>11</td>\n",
       "    </tr>\n",
       "    <tr>\n",
       "      <th>643</th>\n",
       "      <td>215669</td>\n",
       "      <td>предыдцщий_месяц</td>\n",
       "      <td>8</td>\n",
       "    </tr>\n",
       "    <tr>\n",
       "      <th>66</th>\n",
       "      <td>215381</td>\n",
       "      <td>текущий_месяц</td>\n",
       "      <td>9</td>\n",
       "    </tr>\n",
       "    <tr>\n",
       "      <th>804</th>\n",
       "      <td>215750</td>\n",
       "      <td>предыдцщий_месяц</td>\n",
       "      <td>13</td>\n",
       "    </tr>\n",
       "  </tbody>\n",
       "</table>\n",
       "</div>"
      ],
      "text/plain": [
       "          id            Период  минут\n",
       "1996  216346  предыдцщий_месяц     15\n",
       "1578  216137  предыдцщий_месяц     10\n",
       "2174  216435  предыдцщий_месяц     11\n",
       "643   215669  предыдцщий_месяц      8\n",
       "66    215381     текущий_месяц      9\n",
       "804   215750  предыдцщий_месяц     13"
      ]
     },
     "execution_count": 12,
     "metadata": {},
     "output_type": "execute_result"
    }
   ],
   "source": [
    "market_time_df.sample(6)"
   ]
  },
  {
   "cell_type": "markdown",
   "id": "b81ac068",
   "metadata": {},
   "source": [
    "\n",
    "- **id** — номер покупателя в корпоративной базе данных.\n",
    "- **Период** — название периода, во время которого зафиксировано общее время.\n",
    "- **минут** — значение времени, проведённого на сайте, в минутах."
   ]
  },
  {
   "cell_type": "code",
   "execution_count": 13,
   "id": "494042fc",
   "metadata": {},
   "outputs": [
    {
     "name": "stdout",
     "output_type": "stream",
     "text": [
      "<class 'pandas.core.frame.DataFrame'>\n",
      "RangeIndex: 2600 entries, 0 to 2599\n",
      "Data columns (total 3 columns):\n",
      " #   Column  Non-Null Count  Dtype \n",
      "---  ------  --------------  ----- \n",
      " 0   id      2600 non-null   int64 \n",
      " 1   Период  2600 non-null   object\n",
      " 2   минут   2600 non-null   int64 \n",
      "dtypes: int64(2), object(1)\n",
      "memory usage: 61.1+ KB\n"
     ]
    }
   ],
   "source": [
    "market_time_df.info()"
   ]
  },
  {
   "cell_type": "markdown",
   "id": "7cb986d3",
   "metadata": {},
   "source": [
    "### * **money.csv**"
   ]
  },
  {
   "cell_type": "markdown",
   "id": "fd8afd05",
   "metadata": {},
   "source": [
    "Таблица с данными о среднемесячной прибыли покупателя за последние 3 месяца: какую прибыль получает магазин от продаж каждому покупателю."
   ]
  },
  {
   "cell_type": "code",
   "execution_count": 14,
   "id": "8b511f4c",
   "metadata": {},
   "outputs": [
    {
     "data": {
      "text/html": [
       "<div>\n",
       "<style scoped>\n",
       "    .dataframe tbody tr th:only-of-type {\n",
       "        vertical-align: middle;\n",
       "    }\n",
       "\n",
       "    .dataframe tbody tr th {\n",
       "        vertical-align: top;\n",
       "    }\n",
       "\n",
       "    .dataframe thead th {\n",
       "        text-align: right;\n",
       "    }\n",
       "</style>\n",
       "<table border=\"1\" class=\"dataframe\">\n",
       "  <thead>\n",
       "    <tr style=\"text-align: right;\">\n",
       "      <th></th>\n",
       "      <th>id</th>\n",
       "      <th>Прибыль</th>\n",
       "    </tr>\n",
       "  </thead>\n",
       "  <tbody>\n",
       "    <tr>\n",
       "      <th>509</th>\n",
       "      <td>215857</td>\n",
       "      <td>4,77</td>\n",
       "    </tr>\n",
       "    <tr>\n",
       "      <th>549</th>\n",
       "      <td>215897</td>\n",
       "      <td>6,24</td>\n",
       "    </tr>\n",
       "    <tr>\n",
       "      <th>102</th>\n",
       "      <td>215450</td>\n",
       "      <td>2,93</td>\n",
       "    </tr>\n",
       "    <tr>\n",
       "      <th>366</th>\n",
       "      <td>215714</td>\n",
       "      <td>4,85</td>\n",
       "    </tr>\n",
       "    <tr>\n",
       "      <th>1039</th>\n",
       "      <td>216387</td>\n",
       "      <td>4,89</td>\n",
       "    </tr>\n",
       "  </tbody>\n",
       "</table>\n",
       "</div>"
      ],
      "text/plain": [
       "          id Прибыль\n",
       "509   215857    4,77\n",
       "549   215897    6,24\n",
       "102   215450    2,93\n",
       "366   215714    4,85\n",
       "1039  216387    4,89"
      ]
     },
     "execution_count": 14,
     "metadata": {},
     "output_type": "execute_result"
    }
   ],
   "source": [
    "money_df.sample(5)"
   ]
  },
  {
   "cell_type": "markdown",
   "id": "ea922924",
   "metadata": {},
   "source": [
    "- **id** — номер покупателя в корпоративной базе данных.\n",
    "- **Прибыль** — значение прибыли."
   ]
  },
  {
   "cell_type": "code",
   "execution_count": 15,
   "id": "69f8139f",
   "metadata": {},
   "outputs": [
    {
     "name": "stdout",
     "output_type": "stream",
     "text": [
      "<class 'pandas.core.frame.DataFrame'>\n",
      "RangeIndex: 1300 entries, 0 to 1299\n",
      "Data columns (total 2 columns):\n",
      " #   Column   Non-Null Count  Dtype \n",
      "---  ------   --------------  ----- \n",
      " 0   id       1300 non-null   int64 \n",
      " 1   Прибыль  1300 non-null   object\n",
      "dtypes: int64(1), object(1)\n",
      "memory usage: 20.4+ KB\n"
     ]
    }
   ],
   "source": [
    "money_df.info()"
   ]
  },
  {
   "cell_type": "markdown",
   "id": "71521304",
   "metadata": {},
   "source": [
    "## **1.2. Предварительный итог знакомства с данными**"
   ]
  },
  {
   "cell_type": "markdown",
   "id": "3cd021c1",
   "metadata": {},
   "source": [
    "1)  В таблице market_file_df требуется:\n",
    "- добавить нижнее подчеркивание в названии трех столбцов.\n",
    "- заменить опечатку в столбце \"Тип сервиса\" значение \"стандартт\" => \"стандарт\"\n",
    "\n",
    "2) В таблице market_time_df требуется заменить опечатку \"предыдцщий_месяц\" => \"предыдущий_месяц\"\n",
    "3) В таблице money_df требуется заменить дробный разделитель в столбце выручки."
   ]
  },
  {
   "cell_type": "markdown",
   "id": "cfcf64a1",
   "metadata": {},
   "source": [
    "# **Этап 2. EDA: Предобработка данных**"
   ]
  },
  {
   "cell_type": "markdown",
   "id": "f9fcddb3",
   "metadata": {},
   "source": [
    "Создадим словарь датафреймов на всякий случай для итераций для удобства и автоматизации однотипных для разных наборов данных."
   ]
  },
  {
   "cell_type": "code",
   "execution_count": 16,
   "id": "f1443974",
   "metadata": {},
   "outputs": [],
   "source": [
    "df_dict = {'market_file_df': market_file_df, \n",
    "            'market_money_df': market_money_df, \n",
    "            'market_time_df': market_time_df, \n",
    "            'money_df': money_df}"
   ]
  },
  {
   "cell_type": "markdown",
   "id": "fe499f62",
   "metadata": {},
   "source": [
    "Начнем потихоньку собирать пайплан"
   ]
  },
  {
   "cell_type": "markdown",
   "id": "2d5d7a74",
   "metadata": {},
   "source": [
    "Создадим сразу класс для пайплайна для переименовывания столбцов предобработки данных и исправления выявленных замечаний."
   ]
  },
  {
   "cell_type": "markdown",
   "id": "5bef5130",
   "metadata": {},
   "source": [
    "Для предобработки данных и повышения качества данных до разделения датасета на выборки находим целесообразным использовать один метод fit_transform(), так как предобработка производится до разделения на выборки."
   ]
  },
  {
   "cell_type": "code",
   "execution_count": 17,
   "id": "d70a0188",
   "metadata": {},
   "outputs": [],
   "source": [
    "class ColumnRenamer(BaseEstimator, TransformerMixin):\n",
    "    \"\"\"Переименовывает столбцы. Чтобы sklearn не путал местами списки с корректными и некорректными значениями, передавать их нужно в том же порядке во всех функциях и методах, особенно в виде кортежей.\"\"\"\n",
    "\n",
    "    def __init__(self, incorrect_names: List[str], correct_names: List[str]):\n",
    "        if len(correct_names) != len(incorrect_names):\n",
    "            raise ValueError('Длины списков не совпадают')\n",
    "        \n",
    "        self.incorrect_names = incorrect_names\n",
    "        self.correct_names = correct_names\n",
    "\n",
    "    def __repr__(self):\n",
    "        \"\"\"Контролирует и изменяет порядок вывода аргументов. По умолчанию в sklearn параметры выводятся в алфавитном порядке, из-за чего присваивались они неправильно наоборот correct_names и incorrect_names\"\"\"\n",
    "        return f\"ColumnRenamer(incorrect_names={self.incorrect_names}, correct_names={self.correct_names})\"\n",
    "        \n",
    "\n",
    "    def fit(self, X, y=None):\n",
    "        return self\n",
    "\n",
    "    def transform(self, X):\n",
    "        print('- Переименовываю значения\\n')\n",
    "        df_transformed = X.copy()\n",
    "        \n",
    "        # Отладочная информация\n",
    "        print(f\"Исходные столбцы: {list(df_transformed.columns)}\")\n",
    "        print(f\"Ищу столбцы: {self.incorrect_names}\")\n",
    "        \n",
    "        rename_dict = {str(old): str(new) for old, new in zip(self.incorrect_names, self.correct_names)}\n",
    "        print(f\"Словарь переименования: {rename_dict}\")\n",
    "        \n",
    "        # Проверяем, какие столбцы действительно есть\n",
    "        existing_cols = [col for col in self.incorrect_names if col in df_transformed.columns]\n",
    "        print(f\"Найденные столбцы для переименования: {existing_cols}\")\n",
    "        \n",
    "        df_transformed = df_transformed.rename(columns=rename_dict)\n",
    "        print(f\"Столбцы после переименования: {list(df_transformed.columns)}\\n\")\n",
    "        \n",
    "        return df_transformed\n",
    "\n",
    "    def fit_transform(self, X, y=None):\n",
    "        return self.fit(X, y).transform(X)"
   ]
  },
  {
   "cell_type": "code",
   "execution_count": 18,
   "id": "e19886a7",
   "metadata": {},
   "outputs": [],
   "source": [
    "class DecimalPointChanger(BaseEstimator, TransformerMixin):\n",
    "    \"\"\"Класс для замены разделителя дроби в строковых столбцах\"\"\"\n",
    "\n",
    "    def __init__(self, columns=None):\n",
    "        \"\"\"Инициализация заменщика дроби в строковых столбцах\"\"\"\n",
    "        self.columns = columns  # список столбцов, в которых нужно заменить разделитель дроби\n",
    "    \n",
    "    def fit_transform(self, df, y=None):\n",
    "        \"\"\"Непосредственно заменяет разделитель дроби запятую на точку\"\"\"\n",
    "        print('- Определяю необходимость замены запятой на точку')\n",
    "        \n",
    "        for col in self.columns:\n",
    "            if col in df.columns:\n",
    "                df[col] = df[col].str.replace(',', '.').astype(float)\n",
    "                print('- Заменил запятую на точку')\n",
    "                print(f'--- Значения в столбце {col}: {df[col].unique()}\\n')\n",
    "            else:\n",
    "                print(f'- Ничего не заменил, все в порядке.\\n')                \n",
    "      \n",
    "        return df\n"
   ]
  },
  {
   "cell_type": "code",
   "execution_count": 19,
   "id": "53db9bcb",
   "metadata": {},
   "outputs": [],
   "source": [
    "class OutlierRemover(BaseEstimator, TransformerMixin):\n",
    "    \"\"\"Класс для удаления выбросов из данных методом IQR\"\"\"\n",
    "\n",
    "    def __init__(self, columns=None, factor=1.5):\n",
    "        \"\"\"Инициализация удалителя выбросов. Есть возможность указать столбцы, в которых убирать выбросы. По умолчанию размер услов 1.5 квартиля\"\"\"\n",
    "        self.columns = columns\n",
    "        self.factor = factor\n",
    "        self.bounds_ = {}  # для хранения границ выбросов\n",
    "\n",
    "\n",
    "    def fit_transform(self, df, y=None):\n",
    "        \"\"\"Обучает удалитель выбросов - описывает размер квантилей и границы усов. Удаляет выбросы\"\"\"\n",
    "        print('- Определяю границы выбросов методом IQR')\n",
    "        \n",
    "        df_transformed = df.copy()\n",
    "        cols_to_process = self.columns if self.columns else df_transformed.select_dtypes(include=[np.number]).columns\n",
    "        \n",
    "        print(f'- Обрабатываю столбцы:')\n",
    "        \n",
    "        for col in cols_to_process:\n",
    "            if col in df_transformed.columns:\n",
    "                Q1 = df_transformed[col].quantile(0.25)\n",
    "                Q3 = df_transformed[col].quantile(0.75)\n",
    "                IQR = Q3 - Q1\n",
    "                lower_bound = Q1 - self.factor * IQR\n",
    "                upper_bound = Q3 + self.factor * IQR\n",
    "                self.bounds_[col] = (lower_bound, upper_bound)\n",
    "\n",
    "        print('- Выполняю удаление выбросов\\n')\n",
    "        \n",
    "        for col, (lower_bound, upper_bound) in self.bounds_.items():\n",
    "            if col in df_transformed.columns:\n",
    "                outliers = (df_transformed[col] < lower_bound) | (df_transformed[col] > upper_bound)\n",
    "                df_transformed = df_transformed[~outliers]\n",
    "                \n",
    "        return df_transformed"
   ]
  },
  {
   "cell_type": "code",
   "execution_count": null,
   "id": "b01b8530",
   "metadata": {},
   "outputs": [],
   "source": [
    "class MissingValueHandler(BaseEstimator, TransformerMixin):\n",
    "    \"\"\"Класс для обработки пропущенных значений в данных.\"\"\"\n",
    "\n",
    "    def __init__(self, strategy='mean', fill_value=None):\n",
    "        \"\"\"Инициализация обработчика пропущенных значений. По умолчанию заполняет средним значением.\n",
    "        \"\"\"\n",
    "        self.strategy = strategy\n",
    "        self.fill_value = fill_value\n",
    "        self.fill_values_ = {}  # для хранения значений для заполнения\n",
    "\n",
    "\n",
    "    def fit_transform(self, df, y=None):\n",
    "        \"\"\"Заполняет пропущенные значения или удаляет строки в тестовой выборке. режимы: mean, median, mode, drop\"\"\"\n",
    "        \n",
    "        if self.strategy == 'mean':\n",
    "            self.fill_values_ = df.select_dtypes(include=[np.number]).mean().to_dict() # словарь средних значений для каждого числового столбца\n",
    "        elif self.strategy == 'median':\n",
    "            self.fill_values_ = df.select_dtypes(include=[np.number]).median().to_dict()\n",
    "        elif self.strategy == 'drop':\n",
    "            print('- Выполняю удаление строк с пропущенными значениями\\n')\n",
    "            display(df[df.isna().any(axis=1)])\n",
    "            df = df.dropna()\n",
    "            return df\n",
    "        elif self.strategy == 'mode':\n",
    "            self.fill_values_ = {}\n",
    "            for col in df.columns:\n",
    "                self.fill_values_[col] = df[col].value_counts().index[0]\n",
    "\n",
    "        print('- Определяю методы заполнения пропусков\\n')\n",
    "        for col, fill_value in self.fill_values_.items():\n",
    "             if col in df.columns:\n",
    "                if df[col].isnull().sum() > 0:\n",
    "                    print(f'- В колонке {col} {df[col].isnull().sum()} пропусков. Заполняю пропуски\\n')\n",
    "                    df[col] = df[col].fillna(fill_value)\n",
    "\n",
    "        return df"
   ]
  },
  {
   "cell_type": "code",
   "execution_count": 21,
   "id": "5ca8686f",
   "metadata": {},
   "outputs": [],
   "source": [
    "class MissingRemover(BaseEstimator, TransformerMixin):\n",
    "    \"\"\"Класс для удаления строк с пропущенными значениями, по умолчанию axis=0, но можно поменять на 1 для столбцов\"\"\"\n",
    "\n",
    "    def __init__(self, columns=None, axis=0):\n",
    "        \"\"\"Инициализация удаления строк с пропущенными значениями\"\"\"\n",
    "        self.columns = columns\n",
    "        self.axis = axis\n",
    "\n",
    "    def fit_transform(self, df, y=None):\n",
    "        \"\"\"Удаляет строки с пропущенными значениями\"\"\"\n",
    "        print('- Выполняю удаление строк с пропущенными значениями\\n')\n",
    "        \n",
    "        if self.columns:\n",
    "            return df.dropna(subset=self.columns, axis=self.axis)\n",
    "        else:\n",
    "            return df.dropna(axis=self.axis)   \n"
   ]
  },
  {
   "cell_type": "code",
   "execution_count": 22,
   "id": "c01ce4f3",
   "metadata": {},
   "outputs": [],
   "source": [
    "class MistakeCorrector(BaseEstimator, TransformerMixin):\n",
    "    \"\"\"Класс для исправления опечаток в данных.\"\"\"\n",
    "\n",
    "    def __init__(self, columns: List[str], values_dict: dict):\n",
    "        \"\"\"Инициализация исправителя опечаток. Принимает словарь с правильными значениями.\"\"\"\n",
    "        self.values_dict = values_dict\n",
    "        self.columns = columns\n",
    "\n",
    "    def fit_transform(self, df, y=None):\n",
    "        \"\"\"Исправляет опечатки в данных\"\"\"\n",
    "        print('- Выполняю исправление опечаток\\n')\n",
    "        \n",
    "        df_transformed = df.copy()\n",
    "        \n",
    "        for col in self.columns:\n",
    "            if col in df_transformed.columns:\n",
    "                for incorrect_value, correct_value in self.values_dict.items():\n",
    "                    df_transformed[col] = df_transformed[col].replace(incorrect_value, correct_value)\n",
    "        \n",
    "        return df_transformed"
   ]
  },
  {
   "cell_type": "code",
   "execution_count": null,
   "id": "de7485c0",
   "metadata": {},
   "outputs": [],
   "source": [
    "class DuplicateRemover(BaseEstimator, TransformerMixin):\n",
    "    \"\"\"Класс для удаления дубликатов\"\"\"\n",
    "\n",
    "    def __init__(self, columns=None):\n",
    "        \"\"\"Инициализация удалителя дубликатов\"\"\"\n",
    "        self.columns = columns\n",
    "\n",
    "    def fit(self, df, y=None):\n",
    "        return self\n",
    "\n",
    "    def transform(self, df, y=None):\n",
    "        \"\"\"Удаляет дубликаты\"\"\"\n",
    "\n",
    "        duplicate_count = df.duplicated().sum()\n",
    "\n",
    "        if duplicate_count:\n",
    "            print(f'- Выявлено {duplicate_count} дубликатов')\n",
    "            print('- Выполняю удаление дубликатов\\n')\n",
    "\n",
    "            if self.columns:\n",
    "                df = df.drop_duplicates(subset=self.columns)                \n",
    "            else:\n",
    "                df = df.drop_duplicates()\n",
    "            \n",
    "            remaining_duplicates = df.duplicated().sum()\n",
    "            print(f'- Осталось {remaining_duplicates} дубликатов\\n')\n",
    "\n",
    "        else:\n",
    "            print('- Дубликатов не выявлено\\n')\n",
    "\n",
    "\n",
    "        return df\n",
    "            \n",
    "    \n",
    "    def fit_transform(self, df, y=None):\n",
    "        return self.fit(df, y).transform(df)\n",
    "                "
   ]
  },
  {
   "cell_type": "code",
   "execution_count": 24,
   "id": "17a70549",
   "metadata": {},
   "outputs": [],
   "source": [
    "class ImplicitDuplicatesViewer(BaseEstimator, TransformerMixin):\n",
    "    \"\"\"Выводит уникальные значения каждого столбца для визуального определения неявных дубликатов\"\"\"\n",
    "\n",
    "    def __init__(self, columns=None):\n",
    "        \"\"\"Инициализация определеителя неявных дуликатов\"\"\"\n",
    "        self.columns = columns\n",
    "\n",
    "\n",
    "    def fit(self, df, y=None):\n",
    "        return self\n",
    "\n",
    "\n",
    "    def transform(self, df, y=None):\n",
    "        \"\"\"Выводит уникальные значения каждого столбца для визуального определения неявных дуликатов\"\"\"\n",
    "\n",
    "        print('- Выполняю поиск неявных дубликатов в нечисловых столбцах\\n')\n",
    "\n",
    "        if self.columns:\n",
    "            for col in self.columns:\n",
    "                if col in df.columns:\n",
    "                    print(f'- Уникальные значения в столбце {col}: {df[col].unique()}\\n')\n",
    "            return df\n",
    "        else: \n",
    "            columns = df.select_dtypes(exclude=[np.number]).columns\n",
    "            for col in columns:\n",
    "                print(f'- Уникальные значения в столбце {col}: {df[col].unique()}\\n')\n",
    "            return df\n",
    "        \n",
    "    def fit_transform(self, df, y=None):\n",
    "        return self.fit(df, y).transform(df)"
   ]
  },
  {
   "cell_type": "code",
   "execution_count": 25,
   "id": "e7728350",
   "metadata": {},
   "outputs": [],
   "source": [
    "class Preprocessor:\n",
    "    \"\"\"\n",
    "    Основной класс пайплайна для предобработки данных\n",
    "    \"\"\"\n",
    "\n",
    "    def __init__(self):\n",
    "        self.steps = []  # список шагов предобработки, которые будут выполняться в пайплайне\n",
    "        self.fitted_transformers = {}  # для хранения обученных трансформеров (запоминает что-то и делает)\n",
    "\n",
    "\n",
    "    def add_column_renamer(self, incorrect_names: List[str], correct_names: List[str]):\n",
    "        \"\"\"Добавляет шаг переименовывания  столбцов в пайплайн\"\"\"\n",
    "        renamer = ColumnRenamer(incorrect_names, correct_names)\n",
    "        self.steps.append(('column_renamer', renamer))\n",
    "        return self\n",
    "    \n",
    "\n",
    "    def add_missing_value_handler(self, strategy='mean', fill_value=None, step_name='missing_handler'):\n",
    "        \"\"\"Добавляет обработчик пропущенных значений в препроцессор\"\"\"\n",
    "        handler = MissingValueHandler(strategy=strategy, fill_value=fill_value)\n",
    "        self.steps.append((step_name, handler))\n",
    "        return self\n",
    "    \n",
    "\n",
    "    def add_mistake_corrector(self, columns: List[str], values_dict: dict[str], step_name='mistake_corrector'):\n",
    "        \"\"\"Добавляет шаг исправления опечаток в препроцессор, принимает на вход список колонок, в которых произвести замены, словарь с неверными и верными значениями\"\"\"\n",
    "        mistake_corrector = MistakeCorrector(columns=columns, values_dict=values_dict)\n",
    "        self.steps.append((step_name, mistake_corrector))\n",
    "        return self\n",
    "    \n",
    "\n",
    "    def add_outlier_remover(self, step_name='outlier_remover'):\n",
    "        '''Добавляет шаг удаления выбросов в препроцессор'''\n",
    "        outlier_remover = OutlierRemover()\n",
    "        self.steps.append((step_name, outlier_remover))\n",
    "        return self\n",
    "    \n",
    "\n",
    "    def add_decimal_point_changer(self, columns: List[str], step_name='decimal_point_changer'):\n",
    "        \"\"\"Добавляет шаг замены десятичного разделителя в препроцессор\"\"\"\n",
    "        decimal_point_changer = DecimalPointChanger(columns)\n",
    "        self.steps.append((step_name, decimal_point_changer))\n",
    "        return self\n",
    "    \n",
    "    def add_drop_duplicates(self, step_name='drop_duplicates'):\n",
    "        \"\"\"Добавляет шаг удаления дуликатов\"\"\"\n",
    "        duplicate_remover = DuplicateRemover()\n",
    "        self.steps.append((step_name, duplicate_remover))\n",
    "        return self\n",
    "    \n",
    "\n",
    "    def add_implicit_duplicates_viewer(self, step_name='implicit_duplicates_viewer'):\n",
    "        \"\"\"Добавляет шаг отображения уникальных значений каждого столбца для выявления неявных дуликатов визуально.\"\"\"\n",
    "        implict_duplicates_viewer = ImplicitDuplicatesViewer()\n",
    "        self.steps.append((step_name, implict_duplicates_viewer))\n",
    "        return self\n",
    "    \n",
    "\n",
    "    def add_custom_transformer(self, step_name: str, transformer):\n",
    "        \"\"\"Добавляет пользовательский трансформер в пайплан предобраотки\"\"\"\n",
    "        self.steps.append((step_name, transformer))\n",
    "        return self\n",
    "    \n",
    "\n",
    "    def fit_transform(self, df, y=None):\n",
    "        \"\"\"Обучает все трансформеры пайплайна (запоминает единые параметры и условия исполнения - консистентность). Принимает df и целевую переменную опционально.\"\"\"\n",
    "\n",
    "        for i, (step_name, transformer) in enumerate(self.steps):\n",
    "            print(f'Исполнение шага {i+1}: {step_name}')\n",
    "            df = transformer.fit_transform(df)\n",
    "            self.fitted_transformers[step_name] = transformer\n",
    "            # df = transformer.transform(df)\n",
    "        return df\n"
   ]
  },
  {
   "cell_type": "markdown",
   "id": "e370733f",
   "metadata": {},
   "source": [
    "## **2.1. Исправление выявленных замечаний**"
   ]
  },
  {
   "cell_type": "code",
   "execution_count": 26,
   "id": "fd66d773",
   "metadata": {},
   "outputs": [
    {
     "name": "stdout",
     "output_type": "stream",
     "text": [
      "Вот такким у нас получился предобработчки данных.\n",
      "Шаги в пайплайне:\n",
      "1. column_renamer: ColumnRenamer(incorrect_names=['Покупательская активность', 'Тип сервиса', 'Разрешить сообщать'], correct_names=['Покупательская_активность', 'Тип_сервиса', 'Разрешить_сообщать'])\n",
      "\n",
      "2. decimal_point_changer: DecimalPointChanger(columns=['Прибыль'])\n",
      "\n",
      "3. missing_handler: MissingValueHandler(strategy='mode')\n",
      "\n",
      "4. mistake_corrector: MistakeCorrector(columns=['Тип_сервиса', 'Период'],\n",
      "                 values_dict={'предыдцщий_месяц': 'предыдущий_месяц',\n",
      "                              'стандартт': 'стандарт'})\n",
      "\n",
      "5. drop_duplicates: DuplicateRemover()\n",
      "\n",
      "6. implicit_duplicates_viewer: ImplicitDuplicatesViewer()\n",
      "\n"
     ]
    }
   ],
   "source": [
    "Preprocessor_pipeline = (\n",
    "    Preprocessor()\n",
    "    .add_column_renamer(incorrect_names=['Покупательская активность', 'Тип сервиса', 'Разрешить сообщать'], correct_names=['Покупательская_активность', 'Тип_сервиса', 'Разрешить_сообщать'])\n",
    "    .add_decimal_point_changer(columns=['Прибыль'])\n",
    "    .add_missing_value_handler(strategy='mode')\n",
    "    .add_mistake_corrector(columns=['Тип_сервиса', 'Период'], values_dict={'предыдцщий_месяц': 'предыдущий_месяц',\n",
    "                                                    'стандартт': 'стандарт'})\n",
    "    .add_drop_duplicates()\n",
    "    .add_implicit_duplicates_viewer()\n",
    "    # .add_outlier_remover() # он удаляет 762 строки выбросы удалять не надо, как оказалось\n",
    ")\n",
    "\n",
    "print('Вот такким у нас получился предобработчки данных.')\n",
    "\n",
    "print(\"Шаги в пайплайне:\")\n",
    "for i, (name, step) in enumerate(Preprocessor_pipeline.steps):\n",
    "    print(f\"{i+1}. {name}: {step}\\n\")"
   ]
  },
  {
   "cell_type": "markdown",
   "id": "919eb395",
   "metadata": {},
   "source": [
    "Исполним препроцессор по предобработке данных."
   ]
  },
  {
   "cell_type": "markdown",
   "id": "22d1bf3c",
   "metadata": {},
   "source": [
    "Исправим выявленные замечания."
   ]
  },
  {
   "cell_type": "code",
   "execution_count": 27,
   "id": "7e74eddb",
   "metadata": {},
   "outputs": [
    {
     "name": "stdout",
     "output_type": "stream",
     "text": [
      "==================================================\n",
      " =>  Обработка датафрейма market_file_df\n",
      "==================================================\n",
      "Исполнение шага 1: column_renamer\n",
      "- Переименовываю значения\n",
      "\n",
      "Исходные столбцы: ['id', 'Покупательская активность', 'Тип сервиса', 'Разрешить сообщать', 'Маркет_актив_6_мес', 'Маркет_актив_тек_мес', 'Длительность', 'Акционные_покупки', 'Популярная_категория', 'Средний_просмотр_категорий_за_визит', 'Неоплаченные_продукты_штук_квартал', 'Ошибка_сервиса', 'Страниц_за_визит']\n",
      "Ищу столбцы: ['Покупательская активность', 'Тип сервиса', 'Разрешить сообщать']\n",
      "Словарь переименования: {'Покупательская активность': 'Покупательская_активность', 'Тип сервиса': 'Тип_сервиса', 'Разрешить сообщать': 'Разрешить_сообщать'}\n",
      "Найденные столбцы для переименования: ['Покупательская активность', 'Тип сервиса', 'Разрешить сообщать']\n",
      "Столбцы после переименования: ['id', 'Покупательская_активность', 'Тип_сервиса', 'Разрешить_сообщать', 'Маркет_актив_6_мес', 'Маркет_актив_тек_мес', 'Длительность', 'Акционные_покупки', 'Популярная_категория', 'Средний_просмотр_категорий_за_визит', 'Неоплаченные_продукты_штук_квартал', 'Ошибка_сервиса', 'Страниц_за_визит']\n",
      "\n",
      "Исполнение шага 2: decimal_point_changer\n",
      "- Определяю необходимость замены запятой на точку\n",
      "- Ничего не заменил, все в порядке.\n",
      "\n",
      "Исполнение шага 3: missing_handler\n",
      "- Определяю методы заполнения пропусков\n",
      "\n",
      "Исполнение шага 4: mistake_corrector\n",
      "- Выполняю исправление опечаток\n",
      "\n",
      "Исполнение шага 5: drop_duplicates\n",
      "- Осталось 0 дубликатов\n",
      "\n",
      "Исполнение шага 6: implicit_duplicates_viewer\n",
      "- Выполняю поиск неявных дубликатов в нечисловых столбцах\n",
      "\n",
      "- Уникальные значения в столбце Покупательская_активность: ['Снизилась' 'Прежний уровень']\n",
      "\n",
      "- Уникальные значения в столбце Тип_сервиса: ['премиум' 'стандарт']\n",
      "\n",
      "- Уникальные значения в столбце Разрешить_сообщать: ['да' 'нет']\n",
      "\n",
      "- Уникальные значения в столбце Популярная_категория: ['Товары для детей' 'Домашний текстиль' 'Косметика и аксесуары'\n",
      " 'Техника для красоты и здоровья' 'Кухонная посуда'\n",
      " 'Мелкая бытовая техника и электроника']\n",
      "\n",
      "Проверка датафрейма market_file_df\n"
     ]
    },
    {
     "data": {
      "text/html": [
       "<div>\n",
       "<style scoped>\n",
       "    .dataframe tbody tr th:only-of-type {\n",
       "        vertical-align: middle;\n",
       "    }\n",
       "\n",
       "    .dataframe tbody tr th {\n",
       "        vertical-align: top;\n",
       "    }\n",
       "\n",
       "    .dataframe thead th {\n",
       "        text-align: right;\n",
       "    }\n",
       "</style>\n",
       "<table border=\"1\" class=\"dataframe\">\n",
       "  <thead>\n",
       "    <tr style=\"text-align: right;\">\n",
       "      <th></th>\n",
       "      <th>id</th>\n",
       "      <th>Покупательская_активность</th>\n",
       "      <th>Тип_сервиса</th>\n",
       "      <th>Разрешить_сообщать</th>\n",
       "      <th>Маркет_актив_6_мес</th>\n",
       "      <th>Маркет_актив_тек_мес</th>\n",
       "      <th>Длительность</th>\n",
       "      <th>Акционные_покупки</th>\n",
       "      <th>Популярная_категория</th>\n",
       "      <th>Средний_просмотр_категорий_за_визит</th>\n",
       "      <th>Неоплаченные_продукты_штук_квартал</th>\n",
       "      <th>Ошибка_сервиса</th>\n",
       "      <th>Страниц_за_визит</th>\n",
       "    </tr>\n",
       "  </thead>\n",
       "  <tbody>\n",
       "    <tr>\n",
       "      <th>0</th>\n",
       "      <td>215348</td>\n",
       "      <td>Снизилась</td>\n",
       "      <td>премиум</td>\n",
       "      <td>да</td>\n",
       "      <td>3.40</td>\n",
       "      <td>5</td>\n",
       "      <td>121</td>\n",
       "      <td>0.00</td>\n",
       "      <td>Товары для детей</td>\n",
       "      <td>6</td>\n",
       "      <td>2</td>\n",
       "      <td>1</td>\n",
       "      <td>5</td>\n",
       "    </tr>\n",
       "    <tr>\n",
       "      <th>1</th>\n",
       "      <td>215349</td>\n",
       "      <td>Снизилась</td>\n",
       "      <td>премиум</td>\n",
       "      <td>да</td>\n",
       "      <td>4.40</td>\n",
       "      <td>4</td>\n",
       "      <td>819</td>\n",
       "      <td>0.75</td>\n",
       "      <td>Товары для детей</td>\n",
       "      <td>4</td>\n",
       "      <td>4</td>\n",
       "      <td>2</td>\n",
       "      <td>5</td>\n",
       "    </tr>\n",
       "    <tr>\n",
       "      <th>2</th>\n",
       "      <td>215350</td>\n",
       "      <td>Снизилась</td>\n",
       "      <td>стандарт</td>\n",
       "      <td>нет</td>\n",
       "      <td>4.90</td>\n",
       "      <td>3</td>\n",
       "      <td>539</td>\n",
       "      <td>0.14</td>\n",
       "      <td>Домашний текстиль</td>\n",
       "      <td>5</td>\n",
       "      <td>2</td>\n",
       "      <td>1</td>\n",
       "      <td>5</td>\n",
       "    </tr>\n",
       "    <tr>\n",
       "      <th>3</th>\n",
       "      <td>215351</td>\n",
       "      <td>Снизилась</td>\n",
       "      <td>стандарт</td>\n",
       "      <td>да</td>\n",
       "      <td>3.20</td>\n",
       "      <td>5</td>\n",
       "      <td>896</td>\n",
       "      <td>0.99</td>\n",
       "      <td>Товары для детей</td>\n",
       "      <td>5</td>\n",
       "      <td>0</td>\n",
       "      <td>6</td>\n",
       "      <td>4</td>\n",
       "    </tr>\n",
       "    <tr>\n",
       "      <th>4</th>\n",
       "      <td>215352</td>\n",
       "      <td>Снизилась</td>\n",
       "      <td>стандарт</td>\n",
       "      <td>нет</td>\n",
       "      <td>5.10</td>\n",
       "      <td>3</td>\n",
       "      <td>1064</td>\n",
       "      <td>0.94</td>\n",
       "      <td>Товары для детей</td>\n",
       "      <td>3</td>\n",
       "      <td>2</td>\n",
       "      <td>3</td>\n",
       "      <td>2</td>\n",
       "    </tr>\n",
       "  </tbody>\n",
       "</table>\n",
       "</div>"
      ],
      "text/plain": [
       "       id Покупательская_активность Тип_сервиса Разрешить_сообщать  Маркет_актив_6_мес  Маркет_актив_тек_мес  Длительность  Акционные_покупки Популярная_категория  Средний_просмотр_категорий_за_визит  Неоплаченные_продукты_штук_квартал  Ошибка_сервиса  Страниц_за_визит\n",
       "0  215348                 Снизилась     премиум                 да                3.40                     5           121               0.00     Товары для детей                                    6                                   2               1                 5\n",
       "1  215349                 Снизилась     премиум                 да                4.40                     4           819               0.75     Товары для детей                                    4                                   4               2                 5\n",
       "2  215350                 Снизилась    стандарт                нет                4.90                     3           539               0.14    Домашний текстиль                                    5                                   2               1                 5\n",
       "3  215351                 Снизилась    стандарт                 да                3.20                     5           896               0.99     Товары для детей                                    5                                   0               6                 4\n",
       "4  215352                 Снизилась    стандарт                нет                5.10                     3          1064               0.94     Товары для детей                                    3                                   2               3                 2"
      ]
     },
     "metadata": {},
     "output_type": "display_data"
    },
    {
     "name": "stdout",
     "output_type": "stream",
     "text": [
      "==================================================\n",
      " =>  Обработка датафрейма market_money_df\n",
      "==================================================\n",
      "Исполнение шага 1: column_renamer\n",
      "- Переименовываю значения\n",
      "\n",
      "Исходные столбцы: ['id', 'Период', 'Выручка']\n",
      "Ищу столбцы: ['Покупательская активность', 'Тип сервиса', 'Разрешить сообщать']\n",
      "Словарь переименования: {'Покупательская активность': 'Покупательская_активность', 'Тип сервиса': 'Тип_сервиса', 'Разрешить сообщать': 'Разрешить_сообщать'}\n",
      "Найденные столбцы для переименования: []\n",
      "Столбцы после переименования: ['id', 'Период', 'Выручка']\n",
      "\n",
      "Исполнение шага 2: decimal_point_changer\n",
      "- Определяю необходимость замены запятой на точку\n",
      "- Ничего не заменил, все в порядке.\n",
      "\n",
      "Исполнение шага 3: missing_handler\n",
      "- Определяю методы заполнения пропусков\n",
      "\n",
      "Исполнение шага 4: mistake_corrector\n",
      "- Выполняю исправление опечаток\n",
      "\n",
      "Исполнение шага 5: drop_duplicates\n",
      "- Осталось 0 дубликатов\n",
      "\n",
      "Исполнение шага 6: implicit_duplicates_viewer\n",
      "- Выполняю поиск неявных дубликатов в нечисловых столбцах\n",
      "\n",
      "- Уникальные значения в столбце Период: ['препредыдущий_месяц' 'текущий_месяц' 'предыдущий_месяц']\n",
      "\n",
      "Проверка датафрейма market_money_df\n"
     ]
    },
    {
     "data": {
      "text/html": [
       "<div>\n",
       "<style scoped>\n",
       "    .dataframe tbody tr th:only-of-type {\n",
       "        vertical-align: middle;\n",
       "    }\n",
       "\n",
       "    .dataframe tbody tr th {\n",
       "        vertical-align: top;\n",
       "    }\n",
       "\n",
       "    .dataframe thead th {\n",
       "        text-align: right;\n",
       "    }\n",
       "</style>\n",
       "<table border=\"1\" class=\"dataframe\">\n",
       "  <thead>\n",
       "    <tr style=\"text-align: right;\">\n",
       "      <th></th>\n",
       "      <th>id</th>\n",
       "      <th>Период</th>\n",
       "      <th>Выручка</th>\n",
       "    </tr>\n",
       "  </thead>\n",
       "  <tbody>\n",
       "    <tr>\n",
       "      <th>0</th>\n",
       "      <td>215348</td>\n",
       "      <td>препредыдущий_месяц</td>\n",
       "      <td>0.00</td>\n",
       "    </tr>\n",
       "    <tr>\n",
       "      <th>1</th>\n",
       "      <td>215348</td>\n",
       "      <td>текущий_месяц</td>\n",
       "      <td>3293.10</td>\n",
       "    </tr>\n",
       "    <tr>\n",
       "      <th>2</th>\n",
       "      <td>215348</td>\n",
       "      <td>предыдущий_месяц</td>\n",
       "      <td>0.00</td>\n",
       "    </tr>\n",
       "    <tr>\n",
       "      <th>3</th>\n",
       "      <td>215349</td>\n",
       "      <td>препредыдущий_месяц</td>\n",
       "      <td>4472.00</td>\n",
       "    </tr>\n",
       "    <tr>\n",
       "      <th>4</th>\n",
       "      <td>215349</td>\n",
       "      <td>текущий_месяц</td>\n",
       "      <td>4971.60</td>\n",
       "    </tr>\n",
       "  </tbody>\n",
       "</table>\n",
       "</div>"
      ],
      "text/plain": [
       "       id               Период  Выручка\n",
       "0  215348  препредыдущий_месяц     0.00\n",
       "1  215348        текущий_месяц  3293.10\n",
       "2  215348     предыдущий_месяц     0.00\n",
       "3  215349  препредыдущий_месяц  4472.00\n",
       "4  215349        текущий_месяц  4971.60"
      ]
     },
     "metadata": {},
     "output_type": "display_data"
    },
    {
     "name": "stdout",
     "output_type": "stream",
     "text": [
      "==================================================\n",
      " =>  Обработка датафрейма market_time_df\n",
      "==================================================\n",
      "Исполнение шага 1: column_renamer\n",
      "- Переименовываю значения\n",
      "\n",
      "Исходные столбцы: ['id', 'Период', 'минут']\n",
      "Ищу столбцы: ['Покупательская активность', 'Тип сервиса', 'Разрешить сообщать']\n",
      "Словарь переименования: {'Покупательская активность': 'Покупательская_активность', 'Тип сервиса': 'Тип_сервиса', 'Разрешить сообщать': 'Разрешить_сообщать'}\n",
      "Найденные столбцы для переименования: []\n",
      "Столбцы после переименования: ['id', 'Период', 'минут']\n",
      "\n",
      "Исполнение шага 2: decimal_point_changer\n",
      "- Определяю необходимость замены запятой на точку\n",
      "- Ничего не заменил, все в порядке.\n",
      "\n",
      "Исполнение шага 3: missing_handler\n",
      "- Определяю методы заполнения пропусков\n",
      "\n",
      "Исполнение шага 4: mistake_corrector\n",
      "- Выполняю исправление опечаток\n",
      "\n",
      "Исполнение шага 5: drop_duplicates\n",
      "- Осталось 0 дубликатов\n",
      "\n",
      "Исполнение шага 6: implicit_duplicates_viewer\n",
      "- Выполняю поиск неявных дубликатов в нечисловых столбцах\n",
      "\n",
      "- Уникальные значения в столбце Период: ['текущий_месяц' 'предыдущий_месяц']\n",
      "\n",
      "Проверка датафрейма market_time_df\n"
     ]
    },
    {
     "data": {
      "text/html": [
       "<div>\n",
       "<style scoped>\n",
       "    .dataframe tbody tr th:only-of-type {\n",
       "        vertical-align: middle;\n",
       "    }\n",
       "\n",
       "    .dataframe tbody tr th {\n",
       "        vertical-align: top;\n",
       "    }\n",
       "\n",
       "    .dataframe thead th {\n",
       "        text-align: right;\n",
       "    }\n",
       "</style>\n",
       "<table border=\"1\" class=\"dataframe\">\n",
       "  <thead>\n",
       "    <tr style=\"text-align: right;\">\n",
       "      <th></th>\n",
       "      <th>id</th>\n",
       "      <th>Период</th>\n",
       "      <th>минут</th>\n",
       "    </tr>\n",
       "  </thead>\n",
       "  <tbody>\n",
       "    <tr>\n",
       "      <th>0</th>\n",
       "      <td>215348</td>\n",
       "      <td>текущий_месяц</td>\n",
       "      <td>14</td>\n",
       "    </tr>\n",
       "    <tr>\n",
       "      <th>1</th>\n",
       "      <td>215348</td>\n",
       "      <td>предыдущий_месяц</td>\n",
       "      <td>13</td>\n",
       "    </tr>\n",
       "    <tr>\n",
       "      <th>2</th>\n",
       "      <td>215349</td>\n",
       "      <td>текущий_месяц</td>\n",
       "      <td>10</td>\n",
       "    </tr>\n",
       "    <tr>\n",
       "      <th>3</th>\n",
       "      <td>215349</td>\n",
       "      <td>предыдущий_месяц</td>\n",
       "      <td>12</td>\n",
       "    </tr>\n",
       "    <tr>\n",
       "      <th>4</th>\n",
       "      <td>215350</td>\n",
       "      <td>текущий_месяц</td>\n",
       "      <td>13</td>\n",
       "    </tr>\n",
       "  </tbody>\n",
       "</table>\n",
       "</div>"
      ],
      "text/plain": [
       "       id            Период  минут\n",
       "0  215348     текущий_месяц     14\n",
       "1  215348  предыдущий_месяц     13\n",
       "2  215349     текущий_месяц     10\n",
       "3  215349  предыдущий_месяц     12\n",
       "4  215350     текущий_месяц     13"
      ]
     },
     "metadata": {},
     "output_type": "display_data"
    },
    {
     "name": "stdout",
     "output_type": "stream",
     "text": [
      "==================================================\n",
      " =>  Обработка датафрейма money_df\n",
      "==================================================\n",
      "Исполнение шага 1: column_renamer\n",
      "- Переименовываю значения\n",
      "\n",
      "Исходные столбцы: ['id', 'Прибыль']\n",
      "Ищу столбцы: ['Покупательская активность', 'Тип сервиса', 'Разрешить сообщать']\n",
      "Словарь переименования: {'Покупательская активность': 'Покупательская_активность', 'Тип сервиса': 'Тип_сервиса', 'Разрешить сообщать': 'Разрешить_сообщать'}\n",
      "Найденные столбцы для переименования: []\n",
      "Столбцы после переименования: ['id', 'Прибыль']\n",
      "\n",
      "Исполнение шага 2: decimal_point_changer\n",
      "- Определяю необходимость замены запятой на точку\n",
      "- Заменил запятую на точку\n",
      "--- Значения в столбце Прибыль: [0.98 4.16 3.13 4.87 4.21 3.95 3.62 5.26 4.93 4.66 3.06 5.08 4.55 4.03\n",
      " 3.49 1.83 2.67 3.65 2.95 3.03 6.27 3.86 2.82 1.4  1.63 3.69 4.08 4.18\n",
      " 4.26 4.27 4.42 3.88 2.42 4.78 4.85 4.05 3.48 5.16 4.6  5.7  5.44 4.1\n",
      " 2.93 3.9  3.28 5.09 3.19 4.77 5.01 6.73 7.43 4.28 3.73 3.38 3.47 5.\n",
      " 2.02 3.68 2.68 4.46 2.41 5.4  3.4  4.22 4.5  4.98 3.96 3.18 4.65 3.92\n",
      " 3.89 5.64 2.76 4.25 3.71 4.63 2.97 3.24 3.81 4.04 6.33 4.68 3.6  3.04\n",
      " 4.41 3.98 2.47 4.52 4.01 5.31 2.53 5.83 4.48 2.98 4.92 3.08 4.9  3.94\n",
      " 2.99 4.62 3.76 3.42 4.17 4.47 4.69 4.59 2.84 3.66 4.97 2.19 2.74 5.41\n",
      " 4.12 3.93 5.02 3.52 3.39 6.12 4.64 3.14 4.71 4.99 3.74 4.   5.23 2.08\n",
      " 6.55 2.36 4.32 3.15 2.77 5.56 3.44 3.58 2.92 4.67 3.33 2.94 1.06 2.45\n",
      " 4.86 5.05 3.2  2.8  4.13 1.81 2.79 4.11 2.55 3.84 3.17 4.51 3.45 3.27\n",
      " 4.2  4.33 3.01 5.79 3.12 6.59 6.88 2.7  2.69 5.49 2.34 5.25 3.25 4.74\n",
      " 3.77 4.34 5.06 4.95 3.1  4.14 3.3  3.99 2.6  4.31 2.96 4.19 5.12 5.35\n",
      " 4.29 4.61 2.29 4.43 5.99 5.04 3.55 2.59 2.57 4.36 3.87 3.91 3.54 4.94\n",
      " 5.74 5.14 5.59 2.86 2.49 4.79 4.06 5.71 2.54 5.15 4.4  2.75 4.82 4.02\n",
      " 3.7  4.49 1.48 2.72 5.1  3.63 3.07 2.88 5.66 2.09 3.56 1.82 4.3  3.22\n",
      " 3.59 3.53 4.07 4.84 5.28 3.75 3.34 2.9  2.5  3.82 3.51 2.78 3.43 4.8\n",
      " 4.81 3.64 5.07 3.26 3.32 6.17 2.39 3.35 2.85 2.33 2.43 5.37 3.83 5.61\n",
      " 4.09 1.38 5.69 5.6  1.55 1.37 3.79 2.61 2.48 4.88 4.76 2.13 4.37 4.54\n",
      " 2.63 5.62 6.09 5.42 5.29 5.3  3.85 3.05 5.95 5.13 1.33 6.44 2.23 5.2\n",
      " 5.55 5.34 4.35 3.8  5.58 2.21 3.72 4.23 3.16 6.24 2.35 3.36 3.5  5.33\n",
      " 2.66 2.51 2.71 5.88 3.67 1.64 4.7  3.61 5.57 6.78 2.07 1.92 5.53 4.24\n",
      " 4.45 1.68 2.81 5.81 4.83 5.68 5.03 3.11 3.37 4.56 6.58 1.84 4.38 5.9\n",
      " 2.   3.78 3.97 2.64 3.46 4.72 5.36 0.86 4.75 6.02 1.97 2.91 6.13 3.21\n",
      " 2.73 6.16 7.02 3.31 5.67 4.44 6.29 5.39 5.22 2.26 2.18 2.46 6.65 3.57\n",
      " 3.23 1.39 2.87 4.39 5.72 2.24 5.52 5.38 6.81 3.09 5.75 2.83 2.32 5.18\n",
      " 1.08 3.29 4.15 2.44 2.37 2.38 4.73 2.16 4.89 5.27 5.21 7.21 5.87 5.11\n",
      " 5.94 4.57 4.91 4.58 2.15 1.57 5.32 6.4  1.87 1.95 1.54 2.03 5.19 5.8\n",
      " 5.5  2.1  2.27 3.   2.11 6.1  5.63 6.11]\n",
      "\n",
      "Исполнение шага 3: missing_handler\n",
      "- Определяю методы заполнения пропусков\n",
      "\n",
      "Исполнение шага 4: mistake_corrector\n",
      "- Выполняю исправление опечаток\n",
      "\n",
      "Исполнение шага 5: drop_duplicates\n",
      "- Осталось 0 дубликатов\n",
      "\n",
      "Исполнение шага 6: implicit_duplicates_viewer\n",
      "- Выполняю поиск неявных дубликатов в нечисловых столбцах\n",
      "\n",
      "Проверка датафрейма money_df\n"
     ]
    },
    {
     "data": {
      "text/html": [
       "<div>\n",
       "<style scoped>\n",
       "    .dataframe tbody tr th:only-of-type {\n",
       "        vertical-align: middle;\n",
       "    }\n",
       "\n",
       "    .dataframe tbody tr th {\n",
       "        vertical-align: top;\n",
       "    }\n",
       "\n",
       "    .dataframe thead th {\n",
       "        text-align: right;\n",
       "    }\n",
       "</style>\n",
       "<table border=\"1\" class=\"dataframe\">\n",
       "  <thead>\n",
       "    <tr style=\"text-align: right;\">\n",
       "      <th></th>\n",
       "      <th>id</th>\n",
       "      <th>Прибыль</th>\n",
       "    </tr>\n",
       "  </thead>\n",
       "  <tbody>\n",
       "    <tr>\n",
       "      <th>0</th>\n",
       "      <td>215348</td>\n",
       "      <td>0.98</td>\n",
       "    </tr>\n",
       "    <tr>\n",
       "      <th>1</th>\n",
       "      <td>215349</td>\n",
       "      <td>4.16</td>\n",
       "    </tr>\n",
       "    <tr>\n",
       "      <th>2</th>\n",
       "      <td>215350</td>\n",
       "      <td>3.13</td>\n",
       "    </tr>\n",
       "    <tr>\n",
       "      <th>3</th>\n",
       "      <td>215351</td>\n",
       "      <td>4.87</td>\n",
       "    </tr>\n",
       "    <tr>\n",
       "      <th>4</th>\n",
       "      <td>215352</td>\n",
       "      <td>4.21</td>\n",
       "    </tr>\n",
       "  </tbody>\n",
       "</table>\n",
       "</div>"
      ],
      "text/plain": [
       "       id  Прибыль\n",
       "0  215348     0.98\n",
       "1  215349     4.16\n",
       "2  215350     3.13\n",
       "3  215351     4.87\n",
       "4  215352     4.21"
      ]
     },
     "metadata": {},
     "output_type": "display_data"
    }
   ],
   "source": [
    "for name, df in df_dict.items():\n",
    "    print('=' * 50)\n",
    "    print(f' =>  Обработка датафрейма {name}')\n",
    "    print('=' * 50)\n",
    "    df_dict[name] = Preprocessor_pipeline.fit_transform(df)\n",
    "    globals()[name] = df_dict[name]  # Перезаписывает глобальную переменную\n",
    "    print(f'Проверка датафрейма {name}')\n",
    "    display(df_dict[name].head())"
   ]
  },
  {
   "cell_type": "markdown",
   "id": "5e4e4019",
   "metadata": {},
   "source": [
    "## **2.2. Промежуточный итог**"
   ]
  },
  {
   "cell_type": "markdown",
   "id": "09791c9f",
   "metadata": {},
   "source": [
    "1)  В таблице **market_file_df**:\n",
    "- добавили нижнее подчеркивание в названии трех столбцов.\n",
    "- заменили опечатку в столбце \"Тип сервиса\" значение \"стандартт\" => \"стандарт\"\n",
    "\n",
    "2) В таблице **market_time_df** заменили опечатку \"предыдцщий_месяц\" => \"предыдущий_месяц\"\n",
    "3) В таблице **money_df** заменили дробный разделитель с запятой на точку в столбце выручки."
   ]
  },
  {
   "cell_type": "markdown",
   "id": "eae5282d",
   "metadata": {},
   "source": [
    "# **Этап 3. Исследовательский анализ данных**"
   ]
  },
  {
   "cell_type": "markdown",
   "id": "637db5dd",
   "metadata": {},
   "source": [
    "Проведем EDA (исследовательский анализ данных) из каждой таблицы."
   ]
  },
  {
   "cell_type": "markdown",
   "id": "44571f09",
   "metadata": {},
   "source": [
    "## **3.1. Профайлинг данных**"
   ]
  },
  {
   "cell_type": "markdown",
   "id": "450846bc",
   "metadata": {},
   "source": [
    "Это комплексное быстрое представление о качестве данных и их зависимостях. "
   ]
  },
  {
   "cell_type": "markdown",
   "id": "176fee47",
   "metadata": {},
   "source": [
    "(можно прокручивать вниз в рамках ячейки)"
   ]
  },
  {
   "cell_type": "code",
   "execution_count": null,
   "id": "baf63c00",
   "metadata": {},
   "outputs": [],
   "source": [
    "# for name, df in df_dict.items():\n",
    "#     print(f'\\n=== {name.upper()} ===')\n",
    "#     print(f'Описательная статистика:')\n",
    "#     display(df.describe())\n",
    "#     profile = ProfileReport(df)\n",
    "#     display(profile.to_notebook_iframe())"
   ]
  },
  {
   "cell_type": "markdown",
   "id": "2017861f",
   "metadata": {},
   "source": [
    "## **3.1. Ключевые выводы из статистики:**\n",
    "\n",
    "<U>**Наибольшие корреляции:**</U>\n",
    "\n",
    "**Прямая корреляция**\n",
    "- [Тип сервиса] и [Длительность регистрации];\n",
    "- [Покупательская активность] и [Страниц за визит];\n",
    "- [Покупательская активность] и [Неоплаченные продукты штук за квартал];\n",
    "- [Покупательская активность] и [Актив за 6 месяцев];\n",
    "\n",
    "**Обратная корреляция**\n",
    "- [Акционные покупки] и [Страниц за визит]\n",
    "\n",
    "\n",
    "🔍 <U>**Маркетинговая активность:**</U>\n",
    "\n",
    "- **Среднее значение:** 4.38 коммуникаций за 6 месяцев\n",
    "- **Текущий месяц:** стабильно 4.0 у всех клиентов\n",
    "**Вывод:** Умеренная маркетинговая нагрузка немного снизилась, есть потенциал для увеличения\n",
    "\n",
    "\n",
    "👥 <U>**Клиентская база:**</U>\n",
    "\n",
    "- **Наибольший сегмент по [типу сервиса]:** стандарт\n",
    "- **Длительность регистрации:** средний срок жизни клиента 601 день (~1.6 года)\n",
    "- **Разброс:** от 4 месяцев до 3 лет\n",
    "**Вывод:** Зрелая клиентская база с хорошим retention\n",
    "\n",
    "\n",
    "🛒 <U>**Покупательское поведение:**</U>\n",
    "\n",
    "- **Самая популярная категория товаров:** Товары для детей\n",
    "- **Акционные покупки:** 23% от всех покупок\n",
    "- **Неоплаченные товары:** в среднем 2.76 штук в квартал\n",
    "**Вывод:** Клиенты умеренно реагируют на акции, есть проблемы с конверсией корзины\n",
    "\n",
    "\n",
    "🌐 <U>**Поведение на сайте:**</U>\n",
    "\n",
    "- **Просмотр категорий:** 3.31 за визит\n",
    "- **Страниц за визит:** 8.8 страниц\n",
    "- **Ошибки сервиса:** 4.17 в среднем\n",
    "**Вывод:** Активное исследовательское поведение, но высокий уровень технических проблем\n",
    "\n",
    "\n",
    "<U>**Рекомендации:**</U>\n",
    "- Снизить технические ошибки (4+ ошибок критично)\n",
    "- Оптимизировать конверсию корзины (2.76 неоплаченных товаров)\n",
    "- Персонализировать маркетинг на основе категорий интересов\n",
    "- Увеличить долю акционных предложений для активных пользователей\n",
    "\n",
    "\n",
    "⚠️ <U>**Риски:**</U>\n",
    "- Высокий уровень технических проблем может снижать лояльность\n",
    "- Большое количество неоплаченных товаров указывает на проблемы UX"
   ]
  },
  {
   "cell_type": "markdown",
   "id": "6208dbd3",
   "metadata": {},
   "source": [
    "## **3.2. Анализ выручки интернет-магазина**"
   ]
  },
  {
   "cell_type": "markdown",
   "id": "69306c46",
   "metadata": {},
   "source": [
    "Основные показатели"
   ]
  },
  {
   "cell_type": "code",
   "execution_count": 29,
   "id": "e297000a",
   "metadata": {},
   "outputs": [
    {
     "data": {
      "text/html": [
       "<div>\n",
       "<style scoped>\n",
       "    .dataframe tbody tr th:only-of-type {\n",
       "        vertical-align: middle;\n",
       "    }\n",
       "\n",
       "    .dataframe tbody tr th {\n",
       "        vertical-align: top;\n",
       "    }\n",
       "\n",
       "    .dataframe thead tr th {\n",
       "        text-align: left;\n",
       "    }\n",
       "\n",
       "    .dataframe thead tr:last-of-type th {\n",
       "        text-align: right;\n",
       "    }\n",
       "</style>\n",
       "<table border=\"1\" class=\"dataframe\">\n",
       "  <thead>\n",
       "    <tr>\n",
       "      <th></th>\n",
       "      <th>sum</th>\n",
       "      <th>mean</th>\n",
       "      <th>count</th>\n",
       "    </tr>\n",
       "    <tr>\n",
       "      <th></th>\n",
       "      <th>Выручка</th>\n",
       "      <th>Выручка</th>\n",
       "      <th>Выручка</th>\n",
       "    </tr>\n",
       "    <tr>\n",
       "      <th>Период</th>\n",
       "      <th></th>\n",
       "      <th></th>\n",
       "      <th></th>\n",
       "    </tr>\n",
       "  </thead>\n",
       "  <tbody>\n",
       "    <tr>\n",
       "      <th>предыдущий_месяц</th>\n",
       "      <td>6417996.50</td>\n",
       "      <td>4936.92</td>\n",
       "      <td>1300</td>\n",
       "    </tr>\n",
       "    <tr>\n",
       "      <th>препредыдущий_месяц</th>\n",
       "      <td>6272769.00</td>\n",
       "      <td>4825.21</td>\n",
       "      <td>1300</td>\n",
       "    </tr>\n",
       "    <tr>\n",
       "      <th>текущий_месяц</th>\n",
       "      <td>6909449.10</td>\n",
       "      <td>5314.96</td>\n",
       "      <td>1300</td>\n",
       "    </tr>\n",
       "  </tbody>\n",
       "</table>\n",
       "</div>"
      ],
      "text/plain": [
       "                           sum    mean   count\n",
       "                       Выручка Выручка Выручка\n",
       "Период                                        \n",
       "предыдущий_месяц    6417996.50 4936.92    1300\n",
       "препредыдущий_месяц 6272769.00 4825.21    1300\n",
       "текущий_месяц       6909449.10 5314.96    1300"
      ]
     },
     "execution_count": 29,
     "metadata": {},
     "output_type": "execute_result"
    }
   ],
   "source": [
    "revenue = market_money_df.pivot_table(index='Период', values='Выручка', aggfunc=['sum', 'mean', 'count']).sort_values(('count','Выручка'), ascending=False)\n",
    "revenue"
   ]
  },
  {
   "cell_type": "markdown",
   "id": "409456e6",
   "metadata": {},
   "source": [
    "Основной график"
   ]
  },
  {
   "cell_type": "code",
   "execution_count": 30,
   "id": "c16457e3",
   "metadata": {},
   "outputs": [
    {
     "data": {
      "image/png": "[encoded data removed]",
      "text/plain": [
       "<Figure size 720x432 with 1 Axes>"
      ]
     },
     "metadata": {
      "needs_background": "light"
     },
     "output_type": "display_data"
    }
   ],
   "source": [
    "revenue[('sum', 'Выручка')].plot(kind='bar', figsize=(10, 6), title='Выручка по месяцам')\n",
    "plt.ylabel('Выручка (руб.)')\n",
    "plt.xlabel('Период')\n",
    "# plt.savefig('revenue_chart.png', dpi=300, bbox_inches='tight')\n",
    "plt.show()"
   ]
  },
  {
   "cell_type": "markdown",
   "id": "b6dc8c1a",
   "metadata": {},
   "source": [
    "\n",
    "\n",
    "📊 **Ключевые показатели выручки:**</U>\n",
    "\n",
    "**Положительная динамика:**\n",
    "\n",
    "* Выручка растет: с 6.27М → 6.42М → 6.91М рублей\n",
    "* Средний чек увеличился с 4825 до 5315 рублей (+10.2%)\n",
    "* Количество заказов стабильно (1300 в месяц)\n",
    "\n",
    "💵 **Средняя выручка с клиента:** 4,982 руб. за период взаимодействия\n",
    "\n",
    "- **Медиана:** 4,952 руб. (близко к среднему - хорошее распределение)\n",
    "- **Диапазон:** от 3,432 до 6,518 руб.\n",
    "\n",
    "\n",
    "📈 <U>**Распределение клиентов:**</U>\n",
    "\n",
    "- **25% клиентов** тратят менее 4,599 руб.\n",
    "- **50% клиентов** тратят 4,599-5,334 руб. (основная масса)\n",
    "- **25% клиентов** тратят более 5,334 руб. (VIP-сегмент)\n",
    "\n",
    "\n",
    "✅ <U>**Позитивные моменты:**</U>\n",
    "\n",
    "- Стабильная монетизация клиентской базы\n",
    "- Умеренный разброс значений (CV = 11.5%) - предсказуемая выручка\n",
    "- Отсутствие экстремальных выбросов\n",
    "\n",
    "\n",
    "⚠️ <U>**Возможности для роста:**</U>\n",
    "\n",
    "- **Потенциал увеличения:** разница между топ-25% и средним сегментом составляет ~350 руб.\n",
    "- **Up-sell возможности:** 75% клиентов тратят менее 5,334 руб.\n",
    "\n",
    "\n",
    "🚀 <U>**Рекомендации по увеличению выручки:**</U>\n",
    "\n",
    "**Сегментация клиентов:**\n",
    "\n",
    "- **Низкий чек** (<4,599): стимулирование покупок\n",
    "- **Средний чек** (4,599-5,334): cross-sell программы\n",
    "- **Высокий чек** (>5,334): VIP-программы лояльности\n",
    "\n",
    "**Целевые показатели:**\n",
    "\n",
    "- Поднять средний чек до 5,200-5,500 руб.\n",
    "- Увеличить долю клиентов с чеком >5,334 руб. до 35-40%\n",
    "\n",
    "<U>**Тактики:**</U>\n",
    "\n",
    "- Персонализированные рекомендации для среднего сегмента\n",
    "- Программы лояльности для топ-клиентов\n",
    "- Стимулирование повторных покупок\n",
    "\n",
    "💡 <U>**Потенциал роста выручки:**</U>\n",
    "\n",
    " +10-15% при правильной сегментации"
   ]
  },
  {
   "cell_type": "markdown",
   "id": "3249138b",
   "metadata": {},
   "source": [
    "##  **3.3. Анализ времени на сайте**"
   ]
  },
  {
   "cell_type": "markdown",
   "id": "9f9310a6",
   "metadata": {},
   "source": [
    "🕐 <U>**Среднее время на сайте:**</U>\n",
    "\n",
    "13.34 минуты за период\n",
    "\n",
    "- **Медиана**: 13 минут (идеально совпадает со средним)\n",
    "- **Диапазон**: от 4 до 23 минут\n",
    "\n",
    "📈 <U>**Распределение пользователей:**</U>\n",
    "- **25% пользователей** проводят менее 10 минут (быстрые покупки)\n",
    "- **50% пользователей** проводят 10-16 минут (основная масса)\n",
    "- **25% пользователей** проводят более 16 минут (исследователи)\n",
    "\n",
    "🎯 <U>**Поведенческие выводы:**</U>\n",
    "\n",
    "✅ **Позитивные сигналы:**\n",
    "- Высокая вовлеченность: 13+ минут - отличный показатель для e-commerce\n",
    "- Стабильное распределение: низкое стандартное отклонение (4.08)\n",
    "- Отсутствие \"отказников\": минимум 4 минуты\n",
    "\n",
    "🔍 <U>**Сегментация по времени:**</U>\n",
    "\n",
    "- **Быстрые покупатели** (<10 мин): знают что хотят, целенаправленные\n",
    "- **Обычные покупатели** (10-16 мин): изучают ассортимент, сравнивают\n",
    "- **Исследователи** (>16 мин): детально изучают, возможно нерешительные, сомневаются\n",
    "\n",
    "🚀 <U>**Стратегические рекомендации:**</U>\n",
    "\n",
    "**Для быстрых покупателей (<10 мин):**\n",
    "- Упростить процесс покупки\n",
    "- Быстрый доступ к популярным товарам\n",
    "- One-click покупки\n",
    "\n",
    "**Для исследователей (>16 мин):**\n",
    "- Персональные консультанты/чат-боты\n",
    "- Детальные сравнения товаров\n",
    "- Программы лояльности\n",
    "\n",
    "**Общие улучшения:**</U>\n",
    "\n",
    "- Оптимизировать UX для удержания среднего времени ~15 минут\n",
    "- A/B тестировать элементы для увеличения конверсии\n",
    "\n",
    "💡 <U>**Вывод:**</U> Пользователи активно взаимодействуют с сайтом, что создает хорошие возможности для персонализации и увеличения продаж"
   ]
  },
  {
   "cell_type": "markdown",
   "id": "939a0832",
   "metadata": {},
   "source": [
    "# **Этап 4. Объединение таблиц**"
   ]
  },
  {
   "cell_type": "markdown",
   "id": "5354723f",
   "metadata": {},
   "source": [
    "## **4.1 Объединие таблиц**"
   ]
  },
  {
   "cell_type": "markdown",
   "id": "0b8abd9b",
   "metadata": {},
   "source": [
    "* market_file.csv, \n",
    "* market_money.csv, \n",
    "* market_time.csv."
   ]
  },
  {
   "cell_type": "markdown",
   "id": "2d5ad2df",
   "metadata": {},
   "source": [
    "Данные о прибыли из файла money.csv при моделировании нам не понадобятся.\n",
    "\n",
    "Но данные о прибыли понядобятся при сегментации. \n",
    "\n",
    "Поэтому, мы сейчас данные о прибыли присоединим, но перед моделированием удалим."
   ]
  },
  {
   "cell_type": "markdown",
   "id": "641d7eef",
   "metadata": {},
   "source": [
    "**В market_file_df ничего пивотировать не нужно (нечего и все айди уникальные)**\n"
   ]
  },
  {
   "cell_type": "code",
   "execution_count": 31,
   "id": "66b8636a",
   "metadata": {},
   "outputs": [
    {
     "data": {
      "text/html": [
       "<div>\n",
       "<style scoped>\n",
       "    .dataframe tbody tr th:only-of-type {\n",
       "        vertical-align: middle;\n",
       "    }\n",
       "\n",
       "    .dataframe tbody tr th {\n",
       "        vertical-align: top;\n",
       "    }\n",
       "\n",
       "    .dataframe thead th {\n",
       "        text-align: right;\n",
       "    }\n",
       "</style>\n",
       "<table border=\"1\" class=\"dataframe\">\n",
       "  <thead>\n",
       "    <tr style=\"text-align: right;\">\n",
       "      <th></th>\n",
       "      <th>id</th>\n",
       "      <th>Покупательская_активность</th>\n",
       "      <th>Тип_сервиса</th>\n",
       "      <th>Разрешить_сообщать</th>\n",
       "      <th>Маркет_актив_6_мес</th>\n",
       "      <th>Маркет_актив_тек_мес</th>\n",
       "      <th>Длительность</th>\n",
       "      <th>Акционные_покупки</th>\n",
       "      <th>Популярная_категория</th>\n",
       "      <th>Средний_просмотр_категорий_за_визит</th>\n",
       "      <th>Неоплаченные_продукты_штук_квартал</th>\n",
       "      <th>Ошибка_сервиса</th>\n",
       "      <th>Страниц_за_визит</th>\n",
       "    </tr>\n",
       "  </thead>\n",
       "  <tbody>\n",
       "    <tr>\n",
       "      <th>0</th>\n",
       "      <td>215348</td>\n",
       "      <td>Снизилась</td>\n",
       "      <td>премиум</td>\n",
       "      <td>да</td>\n",
       "      <td>3.40</td>\n",
       "      <td>5</td>\n",
       "      <td>121</td>\n",
       "      <td>0.00</td>\n",
       "      <td>Товары для детей</td>\n",
       "      <td>6</td>\n",
       "      <td>2</td>\n",
       "      <td>1</td>\n",
       "      <td>5</td>\n",
       "    </tr>\n",
       "    <tr>\n",
       "      <th>1</th>\n",
       "      <td>215349</td>\n",
       "      <td>Снизилась</td>\n",
       "      <td>премиум</td>\n",
       "      <td>да</td>\n",
       "      <td>4.40</td>\n",
       "      <td>4</td>\n",
       "      <td>819</td>\n",
       "      <td>0.75</td>\n",
       "      <td>Товары для детей</td>\n",
       "      <td>4</td>\n",
       "      <td>4</td>\n",
       "      <td>2</td>\n",
       "      <td>5</td>\n",
       "    </tr>\n",
       "    <tr>\n",
       "      <th>2</th>\n",
       "      <td>215350</td>\n",
       "      <td>Снизилась</td>\n",
       "      <td>стандарт</td>\n",
       "      <td>нет</td>\n",
       "      <td>4.90</td>\n",
       "      <td>3</td>\n",
       "      <td>539</td>\n",
       "      <td>0.14</td>\n",
       "      <td>Домашний текстиль</td>\n",
       "      <td>5</td>\n",
       "      <td>2</td>\n",
       "      <td>1</td>\n",
       "      <td>5</td>\n",
       "    </tr>\n",
       "    <tr>\n",
       "      <th>3</th>\n",
       "      <td>215351</td>\n",
       "      <td>Снизилась</td>\n",
       "      <td>стандарт</td>\n",
       "      <td>да</td>\n",
       "      <td>3.20</td>\n",
       "      <td>5</td>\n",
       "      <td>896</td>\n",
       "      <td>0.99</td>\n",
       "      <td>Товары для детей</td>\n",
       "      <td>5</td>\n",
       "      <td>0</td>\n",
       "      <td>6</td>\n",
       "      <td>4</td>\n",
       "    </tr>\n",
       "    <tr>\n",
       "      <th>4</th>\n",
       "      <td>215352</td>\n",
       "      <td>Снизилась</td>\n",
       "      <td>стандарт</td>\n",
       "      <td>нет</td>\n",
       "      <td>5.10</td>\n",
       "      <td>3</td>\n",
       "      <td>1064</td>\n",
       "      <td>0.94</td>\n",
       "      <td>Товары для детей</td>\n",
       "      <td>3</td>\n",
       "      <td>2</td>\n",
       "      <td>3</td>\n",
       "      <td>2</td>\n",
       "    </tr>\n",
       "    <tr>\n",
       "      <th>...</th>\n",
       "      <td>...</td>\n",
       "      <td>...</td>\n",
       "      <td>...</td>\n",
       "      <td>...</td>\n",
       "      <td>...</td>\n",
       "      <td>...</td>\n",
       "      <td>...</td>\n",
       "      <td>...</td>\n",
       "      <td>...</td>\n",
       "      <td>...</td>\n",
       "      <td>...</td>\n",
       "      <td>...</td>\n",
       "      <td>...</td>\n",
       "    </tr>\n",
       "    <tr>\n",
       "      <th>1295</th>\n",
       "      <td>216643</td>\n",
       "      <td>Прежний уровень</td>\n",
       "      <td>стандарт</td>\n",
       "      <td>да</td>\n",
       "      <td>6.60</td>\n",
       "      <td>3</td>\n",
       "      <td>318</td>\n",
       "      <td>0.24</td>\n",
       "      <td>Техника для красоты и здоровья</td>\n",
       "      <td>5</td>\n",
       "      <td>3</td>\n",
       "      <td>3</td>\n",
       "      <td>11</td>\n",
       "    </tr>\n",
       "    <tr>\n",
       "      <th>1296</th>\n",
       "      <td>216644</td>\n",
       "      <td>Прежний уровень</td>\n",
       "      <td>стандарт</td>\n",
       "      <td>нет</td>\n",
       "      <td>5.10</td>\n",
       "      <td>4</td>\n",
       "      <td>454</td>\n",
       "      <td>0.21</td>\n",
       "      <td>Домашний текстиль</td>\n",
       "      <td>6</td>\n",
       "      <td>2</td>\n",
       "      <td>3</td>\n",
       "      <td>9</td>\n",
       "    </tr>\n",
       "    <tr>\n",
       "      <th>1297</th>\n",
       "      <td>216645</td>\n",
       "      <td>Прежний уровень</td>\n",
       "      <td>стандарт</td>\n",
       "      <td>да</td>\n",
       "      <td>4.10</td>\n",
       "      <td>3</td>\n",
       "      <td>586</td>\n",
       "      <td>0.20</td>\n",
       "      <td>Домашний текстиль</td>\n",
       "      <td>3</td>\n",
       "      <td>2</td>\n",
       "      <td>5</td>\n",
       "      <td>7</td>\n",
       "    </tr>\n",
       "    <tr>\n",
       "      <th>1298</th>\n",
       "      <td>216646</td>\n",
       "      <td>Прежний уровень</td>\n",
       "      <td>стандарт</td>\n",
       "      <td>да</td>\n",
       "      <td>6.30</td>\n",
       "      <td>5</td>\n",
       "      <td>645</td>\n",
       "      <td>0.12</td>\n",
       "      <td>Техника для красоты и здоровья</td>\n",
       "      <td>3</td>\n",
       "      <td>3</td>\n",
       "      <td>5</td>\n",
       "      <td>7</td>\n",
       "    </tr>\n",
       "    <tr>\n",
       "      <th>1299</th>\n",
       "      <td>216647</td>\n",
       "      <td>Прежний уровень</td>\n",
       "      <td>премиум</td>\n",
       "      <td>да</td>\n",
       "      <td>4.00</td>\n",
       "      <td>5</td>\n",
       "      <td>906</td>\n",
       "      <td>0.94</td>\n",
       "      <td>Техника для красоты и здоровья</td>\n",
       "      <td>4</td>\n",
       "      <td>5</td>\n",
       "      <td>3</td>\n",
       "      <td>12</td>\n",
       "    </tr>\n",
       "  </tbody>\n",
       "</table>\n",
       "<p>1300 rows × 13 columns</p>\n",
       "</div>"
      ],
      "text/plain": [
       "          id Покупательская_активность Тип_сервиса Разрешить_сообщать  Маркет_актив_6_мес  Маркет_актив_тек_мес  Длительность  Акционные_покупки            Популярная_категория  Средний_просмотр_категорий_за_визит  Неоплаченные_продукты_штук_квартал  Ошибка_сервиса  Страниц_за_визит\n",
       "0     215348                 Снизилась     премиум                 да                3.40                     5           121               0.00                Товары для детей                                    6                                   2               1                 5\n",
       "1     215349                 Снизилась     премиум                 да                4.40                     4           819               0.75                Товары для детей                                    4                                   4               2                 5\n",
       "2     215350                 Снизилась    стандарт                нет                4.90                     3           539               0.14               Домашний текстиль                                    5                                   2               1                 5\n",
       "3     215351                 Снизилась    стандарт                 да                3.20                     5           896               0.99                Товары для детей                                    5                                   0               6                 4\n",
       "4     215352                 Снизилась    стандарт                нет                5.10                     3          1064               0.94                Товары для детей                                    3                                   2               3                 2\n",
       "...      ...                       ...         ...                ...                 ...                   ...           ...                ...                             ...                                  ...                                 ...             ...               ...\n",
       "1295  216643           Прежний уровень    стандарт                 да                6.60                     3           318               0.24  Техника для красоты и здоровья                                    5                                   3               3                11\n",
       "1296  216644           Прежний уровень    стандарт                нет                5.10                     4           454               0.21               Домашний текстиль                                    6                                   2               3                 9\n",
       "1297  216645           Прежний уровень    стандарт                 да                4.10                     3           586               0.20               Домашний текстиль                                    3                                   2               5                 7\n",
       "1298  216646           Прежний уровень    стандарт                 да                6.30                     5           645               0.12  Техника для красоты и здоровья                                    3                                   3               5                 7\n",
       "1299  216647           Прежний уровень     премиум                 да                4.00                     5           906               0.94  Техника для красоты и здоровья                                    4                                   5               3                12\n",
       "\n",
       "[1300 rows x 13 columns]"
      ]
     },
     "execution_count": 31,
     "metadata": {},
     "output_type": "execute_result"
    }
   ],
   "source": [
    "market_file_df"
   ]
  },
  {
   "cell_type": "code",
   "execution_count": 32,
   "id": "c52bf363",
   "metadata": {},
   "outputs": [
    {
     "data": {
      "text/plain": [
       "1300"
      ]
     },
     "execution_count": 32,
     "metadata": {},
     "output_type": "execute_result"
    }
   ],
   "source": [
    "df['id'].nunique()"
   ]
  },
  {
   "cell_type": "markdown",
   "id": "149fdbde",
   "metadata": {},
   "source": [
    "**в market_money_df нужно пивотировать период**\n"
   ]
  },
  {
   "cell_type": "code",
   "execution_count": 33,
   "id": "057b3d3c",
   "metadata": {},
   "outputs": [
    {
     "data": {
      "text/html": [
       "<div>\n",
       "<style scoped>\n",
       "    .dataframe tbody tr th:only-of-type {\n",
       "        vertical-align: middle;\n",
       "    }\n",
       "\n",
       "    .dataframe tbody tr th {\n",
       "        vertical-align: top;\n",
       "    }\n",
       "\n",
       "    .dataframe thead th {\n",
       "        text-align: right;\n",
       "    }\n",
       "</style>\n",
       "<table border=\"1\" class=\"dataframe\">\n",
       "  <thead>\n",
       "    <tr style=\"text-align: right;\">\n",
       "      <th></th>\n",
       "      <th>id</th>\n",
       "      <th>Выручка_предыдущий_месяц</th>\n",
       "      <th>Выручка_препредыдущий_месяц</th>\n",
       "      <th>Выручка_текущий_месяц</th>\n",
       "    </tr>\n",
       "  </thead>\n",
       "  <tbody>\n",
       "    <tr>\n",
       "      <th>0</th>\n",
       "      <td>215348</td>\n",
       "      <td>0.00</td>\n",
       "      <td>0.00</td>\n",
       "      <td>3293.10</td>\n",
       "    </tr>\n",
       "    <tr>\n",
       "      <th>1</th>\n",
       "      <td>215349</td>\n",
       "      <td>5216.00</td>\n",
       "      <td>4472.00</td>\n",
       "      <td>4971.60</td>\n",
       "    </tr>\n",
       "    <tr>\n",
       "      <th>2</th>\n",
       "      <td>215350</td>\n",
       "      <td>5457.50</td>\n",
       "      <td>4826.00</td>\n",
       "      <td>5058.40</td>\n",
       "    </tr>\n",
       "    <tr>\n",
       "      <th>3</th>\n",
       "      <td>215351</td>\n",
       "      <td>6158.00</td>\n",
       "      <td>4793.00</td>\n",
       "      <td>6610.40</td>\n",
       "    </tr>\n",
       "    <tr>\n",
       "      <th>4</th>\n",
       "      <td>215352</td>\n",
       "      <td>5807.50</td>\n",
       "      <td>4594.00</td>\n",
       "      <td>5872.50</td>\n",
       "    </tr>\n",
       "    <tr>\n",
       "      <th>...</th>\n",
       "      <td>...</td>\n",
       "      <td>...</td>\n",
       "      <td>...</td>\n",
       "      <td>...</td>\n",
       "    </tr>\n",
       "    <tr>\n",
       "      <th>1295</th>\n",
       "      <td>216643</td>\n",
       "      <td>3664.00</td>\n",
       "      <td>4704.00</td>\n",
       "      <td>4741.70</td>\n",
       "    </tr>\n",
       "    <tr>\n",
       "      <th>1296</th>\n",
       "      <td>216644</td>\n",
       "      <td>4729.00</td>\n",
       "      <td>5299.00</td>\n",
       "      <td>5353.00</td>\n",
       "    </tr>\n",
       "    <tr>\n",
       "      <th>1297</th>\n",
       "      <td>216645</td>\n",
       "      <td>5160.00</td>\n",
       "      <td>5334.00</td>\n",
       "      <td>5139.20</td>\n",
       "    </tr>\n",
       "    <tr>\n",
       "      <th>1298</th>\n",
       "      <td>216646</td>\n",
       "      <td>4923.00</td>\n",
       "      <td>4725.00</td>\n",
       "      <td>5224.60</td>\n",
       "    </tr>\n",
       "    <tr>\n",
       "      <th>1299</th>\n",
       "      <td>216647</td>\n",
       "      <td>4720.00</td>\n",
       "      <td>5183.00</td>\n",
       "      <td>4448.30</td>\n",
       "    </tr>\n",
       "  </tbody>\n",
       "</table>\n",
       "<p>1300 rows × 4 columns</p>\n",
       "</div>"
      ],
      "text/plain": [
       "          id  Выручка_предыдущий_месяц  Выручка_препредыдущий_месяц  Выручка_текущий_месяц\n",
       "0     215348                      0.00                         0.00                3293.10\n",
       "1     215349                   5216.00                      4472.00                4971.60\n",
       "2     215350                   5457.50                      4826.00                5058.40\n",
       "3     215351                   6158.00                      4793.00                6610.40\n",
       "4     215352                   5807.50                      4594.00                5872.50\n",
       "...      ...                       ...                          ...                    ...\n",
       "1295  216643                   3664.00                      4704.00                4741.70\n",
       "1296  216644                   4729.00                      5299.00                5353.00\n",
       "1297  216645                   5160.00                      5334.00                5139.20\n",
       "1298  216646                   4923.00                      4725.00                5224.60\n",
       "1299  216647                   4720.00                      5183.00                4448.30\n",
       "\n",
       "[1300 rows x 4 columns]"
      ]
     },
     "execution_count": 33,
     "metadata": {},
     "output_type": "execute_result"
    }
   ],
   "source": [
    "market_money_df = market_money_df.pivot_table(index='id', columns='Период', values='Выручка')\n",
    "market_money_df.columns.name = None\n",
    "market_money_df = market_money_df.reset_index()\n",
    "market_money_df.columns = ['id', 'Выручка_предыдущий_месяц', 'Выручка_препредыдущий_месяц', 'Выручка_текущий_месяц']\n",
    "market_money_df"
   ]
  },
  {
   "cell_type": "markdown",
   "id": "63c48168",
   "metadata": {},
   "source": [
    "**Отеберем только активных пользователей: необходимые 1297 пользователей**"
   ]
  },
  {
   "cell_type": "markdown",
   "id": "099218d6",
   "metadata": {},
   "source": [
    "Для этого нужно найти тех, у кого стоит 0 по выручке в любой из трех месяцев - и удалить их. Но таких пользователей нет."
   ]
  },
  {
   "cell_type": "code",
   "execution_count": 34,
   "id": "0dbfb2a7",
   "metadata": {},
   "outputs": [],
   "source": [
    "market_money_df = market_money_df[(market_money_df != 0).all(axis=1)]"
   ]
  },
  {
   "cell_type": "code",
   "execution_count": 35,
   "id": "e6dde7fa",
   "metadata": {
    "scrolled": true
   },
   "outputs": [
    {
     "data": {
      "text/html": [
       "<div>\n",
       "<style scoped>\n",
       "    .dataframe tbody tr th:only-of-type {\n",
       "        vertical-align: middle;\n",
       "    }\n",
       "\n",
       "    .dataframe tbody tr th {\n",
       "        vertical-align: top;\n",
       "    }\n",
       "\n",
       "    .dataframe thead th {\n",
       "        text-align: right;\n",
       "    }\n",
       "</style>\n",
       "<table border=\"1\" class=\"dataframe\">\n",
       "  <thead>\n",
       "    <tr style=\"text-align: right;\">\n",
       "      <th></th>\n",
       "      <th>id</th>\n",
       "      <th>Выручка_предыдущий_месяц</th>\n",
       "      <th>Выручка_препредыдущий_месяц</th>\n",
       "      <th>Выручка_текущий_месяц</th>\n",
       "      <th>Покупательская_активность</th>\n",
       "      <th>Тип_сервиса</th>\n",
       "      <th>Разрешить_сообщать</th>\n",
       "      <th>Маркет_актив_6_мес</th>\n",
       "      <th>Маркет_актив_тек_мес</th>\n",
       "      <th>Длительность</th>\n",
       "      <th>Акционные_покупки</th>\n",
       "      <th>Популярная_категория</th>\n",
       "      <th>Средний_просмотр_категорий_за_визит</th>\n",
       "      <th>Неоплаченные_продукты_штук_квартал</th>\n",
       "      <th>Ошибка_сервиса</th>\n",
       "      <th>Страниц_за_визит</th>\n",
       "    </tr>\n",
       "  </thead>\n",
       "  <tbody>\n",
       "    <tr>\n",
       "      <th>0</th>\n",
       "      <td>215349</td>\n",
       "      <td>5216.00</td>\n",
       "      <td>4472.00</td>\n",
       "      <td>4971.60</td>\n",
       "      <td>Снизилась</td>\n",
       "      <td>премиум</td>\n",
       "      <td>да</td>\n",
       "      <td>4.40</td>\n",
       "      <td>4</td>\n",
       "      <td>819</td>\n",
       "      <td>0.75</td>\n",
       "      <td>Товары для детей</td>\n",
       "      <td>4</td>\n",
       "      <td>4</td>\n",
       "      <td>2</td>\n",
       "      <td>5</td>\n",
       "    </tr>\n",
       "    <tr>\n",
       "      <th>1</th>\n",
       "      <td>215350</td>\n",
       "      <td>5457.50</td>\n",
       "      <td>4826.00</td>\n",
       "      <td>5058.40</td>\n",
       "      <td>Снизилась</td>\n",
       "      <td>стандарт</td>\n",
       "      <td>нет</td>\n",
       "      <td>4.90</td>\n",
       "      <td>3</td>\n",
       "      <td>539</td>\n",
       "      <td>0.14</td>\n",
       "      <td>Домашний текстиль</td>\n",
       "      <td>5</td>\n",
       "      <td>2</td>\n",
       "      <td>1</td>\n",
       "      <td>5</td>\n",
       "    </tr>\n",
       "    <tr>\n",
       "      <th>2</th>\n",
       "      <td>215351</td>\n",
       "      <td>6158.00</td>\n",
       "      <td>4793.00</td>\n",
       "      <td>6610.40</td>\n",
       "      <td>Снизилась</td>\n",
       "      <td>стандарт</td>\n",
       "      <td>да</td>\n",
       "      <td>3.20</td>\n",
       "      <td>5</td>\n",
       "      <td>896</td>\n",
       "      <td>0.99</td>\n",
       "      <td>Товары для детей</td>\n",
       "      <td>5</td>\n",
       "      <td>0</td>\n",
       "      <td>6</td>\n",
       "      <td>4</td>\n",
       "    </tr>\n",
       "    <tr>\n",
       "      <th>3</th>\n",
       "      <td>215352</td>\n",
       "      <td>5807.50</td>\n",
       "      <td>4594.00</td>\n",
       "      <td>5872.50</td>\n",
       "      <td>Снизилась</td>\n",
       "      <td>стандарт</td>\n",
       "      <td>нет</td>\n",
       "      <td>5.10</td>\n",
       "      <td>3</td>\n",
       "      <td>1064</td>\n",
       "      <td>0.94</td>\n",
       "      <td>Товары для детей</td>\n",
       "      <td>3</td>\n",
       "      <td>2</td>\n",
       "      <td>3</td>\n",
       "      <td>2</td>\n",
       "    </tr>\n",
       "    <tr>\n",
       "      <th>4</th>\n",
       "      <td>215353</td>\n",
       "      <td>4738.50</td>\n",
       "      <td>5124.00</td>\n",
       "      <td>5388.50</td>\n",
       "      <td>Снизилась</td>\n",
       "      <td>стандарт</td>\n",
       "      <td>да</td>\n",
       "      <td>3.30</td>\n",
       "      <td>4</td>\n",
       "      <td>762</td>\n",
       "      <td>0.26</td>\n",
       "      <td>Домашний текстиль</td>\n",
       "      <td>4</td>\n",
       "      <td>1</td>\n",
       "      <td>1</td>\n",
       "      <td>4</td>\n",
       "    </tr>\n",
       "  </tbody>\n",
       "</table>\n",
       "</div>"
      ],
      "text/plain": [
       "       id  Выручка_предыдущий_месяц  Выручка_препредыдущий_месяц  Выручка_текущий_месяц Покупательская_активность Тип_сервиса Разрешить_сообщать  Маркет_актив_6_мес  Маркет_актив_тек_мес  Длительность  Акционные_покупки Популярная_категория  Средний_просмотр_категорий_за_визит  Неоплаченные_продукты_штук_квартал  Ошибка_сервиса  Страниц_за_визит\n",
       "0  215349                   5216.00                      4472.00                4971.60                 Снизилась     премиум                 да                4.40                     4           819               0.75     Товары для детей                                    4                                   4               2                 5\n",
       "1  215350                   5457.50                      4826.00                5058.40                 Снизилась    стандарт                нет                4.90                     3           539               0.14    Домашний текстиль                                    5                                   2               1                 5\n",
       "2  215351                   6158.00                      4793.00                6610.40                 Снизилась    стандарт                 да                3.20                     5           896               0.99     Товары для детей                                    5                                   0               6                 4\n",
       "3  215352                   5807.50                      4594.00                5872.50                 Снизилась    стандарт                нет                5.10                     3          1064               0.94     Товары для детей                                    3                                   2               3                 2\n",
       "4  215353                   4738.50                      5124.00                5388.50                 Снизилась    стандарт                 да                3.30                     4           762               0.26    Домашний текстиль                                    4                                   1               1                 4"
      ]
     },
     "execution_count": 35,
     "metadata": {},
     "output_type": "execute_result"
    }
   ],
   "source": [
    "df = pd.merge(market_money_df, market_file_df, on='id', how='left') \n",
    "df.head()"
   ]
  },
  {
   "cell_type": "code",
   "execution_count": 36,
   "id": "5b0b4b0f",
   "metadata": {},
   "outputs": [
    {
     "data": {
      "text/plain": [
       "(1297, 16)"
      ]
     },
     "execution_count": 36,
     "metadata": {},
     "output_type": "execute_result"
    }
   ],
   "source": [
    "df.shape"
   ]
  },
  {
   "cell_type": "markdown",
   "id": "e6e821b5",
   "metadata": {},
   "source": [
    "Первые две таблицы соединили успешно."
   ]
  },
  {
   "cell_type": "markdown",
   "id": "ed524cf9",
   "metadata": {},
   "source": [
    "**Пивотируем market_time_df**"
   ]
  },
  {
   "cell_type": "code",
   "execution_count": 37,
   "id": "74e2a833",
   "metadata": {},
   "outputs": [
    {
     "data": {
      "text/html": [
       "<div>\n",
       "<style scoped>\n",
       "    .dataframe tbody tr th:only-of-type {\n",
       "        vertical-align: middle;\n",
       "    }\n",
       "\n",
       "    .dataframe tbody tr th {\n",
       "        vertical-align: top;\n",
       "    }\n",
       "\n",
       "    .dataframe thead th {\n",
       "        text-align: right;\n",
       "    }\n",
       "</style>\n",
       "<table border=\"1\" class=\"dataframe\">\n",
       "  <thead>\n",
       "    <tr style=\"text-align: right;\">\n",
       "      <th></th>\n",
       "      <th>id</th>\n",
       "      <th>минут_предыдущий_месяц</th>\n",
       "      <th>минут_препредыдущий_месяц</th>\n",
       "    </tr>\n",
       "  </thead>\n",
       "  <tbody>\n",
       "    <tr>\n",
       "      <th>0</th>\n",
       "      <td>215348</td>\n",
       "      <td>13</td>\n",
       "      <td>14</td>\n",
       "    </tr>\n",
       "    <tr>\n",
       "      <th>1</th>\n",
       "      <td>215349</td>\n",
       "      <td>12</td>\n",
       "      <td>10</td>\n",
       "    </tr>\n",
       "    <tr>\n",
       "      <th>2</th>\n",
       "      <td>215350</td>\n",
       "      <td>8</td>\n",
       "      <td>13</td>\n",
       "    </tr>\n",
       "    <tr>\n",
       "      <th>3</th>\n",
       "      <td>215351</td>\n",
       "      <td>11</td>\n",
       "      <td>13</td>\n",
       "    </tr>\n",
       "    <tr>\n",
       "      <th>4</th>\n",
       "      <td>215352</td>\n",
       "      <td>8</td>\n",
       "      <td>11</td>\n",
       "    </tr>\n",
       "    <tr>\n",
       "      <th>...</th>\n",
       "      <td>...</td>\n",
       "      <td>...</td>\n",
       "      <td>...</td>\n",
       "    </tr>\n",
       "    <tr>\n",
       "      <th>1295</th>\n",
       "      <td>216643</td>\n",
       "      <td>14</td>\n",
       "      <td>7</td>\n",
       "    </tr>\n",
       "    <tr>\n",
       "      <th>1296</th>\n",
       "      <td>216644</td>\n",
       "      <td>12</td>\n",
       "      <td>11</td>\n",
       "    </tr>\n",
       "    <tr>\n",
       "      <th>1297</th>\n",
       "      <td>216645</td>\n",
       "      <td>12</td>\n",
       "      <td>18</td>\n",
       "    </tr>\n",
       "    <tr>\n",
       "      <th>1298</th>\n",
       "      <td>216646</td>\n",
       "      <td>18</td>\n",
       "      <td>7</td>\n",
       "    </tr>\n",
       "    <tr>\n",
       "      <th>1299</th>\n",
       "      <td>216647</td>\n",
       "      <td>15</td>\n",
       "      <td>10</td>\n",
       "    </tr>\n",
       "  </tbody>\n",
       "</table>\n",
       "<p>1300 rows × 3 columns</p>\n",
       "</div>"
      ],
      "text/plain": [
       "          id  минут_предыдущий_месяц  минут_препредыдущий_месяц\n",
       "0     215348                      13                         14\n",
       "1     215349                      12                         10\n",
       "2     215350                       8                         13\n",
       "3     215351                      11                         13\n",
       "4     215352                       8                         11\n",
       "...      ...                     ...                        ...\n",
       "1295  216643                      14                          7\n",
       "1296  216644                      12                         11\n",
       "1297  216645                      12                         18\n",
       "1298  216646                      18                          7\n",
       "1299  216647                      15                         10\n",
       "\n",
       "[1300 rows x 3 columns]"
      ]
     },
     "execution_count": 37,
     "metadata": {},
     "output_type": "execute_result"
    }
   ],
   "source": [
    "market_time_df = market_time_df.pivot_table(index='id', columns='Период', values='минут')\n",
    "market_time_df.columns.name = None\n",
    "market_time_df = market_time_df.reset_index()\n",
    "market_time_df.columns = ['id', 'минут_предыдущий_месяц', 'минут_препредыдущий_месяц']\n",
    "market_time_df\n"
   ]
  },
  {
   "cell_type": "code",
   "execution_count": 38,
   "id": "06211e4a",
   "metadata": {},
   "outputs": [
    {
     "data": {
      "text/html": [
       "<div>\n",
       "<style scoped>\n",
       "    .dataframe tbody tr th:only-of-type {\n",
       "        vertical-align: middle;\n",
       "    }\n",
       "\n",
       "    .dataframe tbody tr th {\n",
       "        vertical-align: top;\n",
       "    }\n",
       "\n",
       "    .dataframe thead th {\n",
       "        text-align: right;\n",
       "    }\n",
       "</style>\n",
       "<table border=\"1\" class=\"dataframe\">\n",
       "  <thead>\n",
       "    <tr style=\"text-align: right;\">\n",
       "      <th></th>\n",
       "      <th>id</th>\n",
       "      <th>Выручка_предыдущий_месяц</th>\n",
       "      <th>Выручка_препредыдущий_месяц</th>\n",
       "      <th>Выручка_текущий_месяц</th>\n",
       "      <th>Покупательская_активность</th>\n",
       "      <th>Тип_сервиса</th>\n",
       "      <th>Разрешить_сообщать</th>\n",
       "      <th>Маркет_актив_6_мес</th>\n",
       "      <th>Маркет_актив_тек_мес</th>\n",
       "      <th>Длительность</th>\n",
       "      <th>Акционные_покупки</th>\n",
       "      <th>Популярная_категория</th>\n",
       "      <th>Средний_просмотр_категорий_за_визит</th>\n",
       "      <th>Неоплаченные_продукты_штук_квартал</th>\n",
       "      <th>Ошибка_сервиса</th>\n",
       "      <th>Страниц_за_визит</th>\n",
       "      <th>минут_предыдущий_месяц</th>\n",
       "      <th>минут_препредыдущий_месяц</th>\n",
       "    </tr>\n",
       "  </thead>\n",
       "  <tbody>\n",
       "    <tr>\n",
       "      <th>0</th>\n",
       "      <td>215349</td>\n",
       "      <td>5216.00</td>\n",
       "      <td>4472.00</td>\n",
       "      <td>4971.60</td>\n",
       "      <td>Снизилась</td>\n",
       "      <td>премиум</td>\n",
       "      <td>да</td>\n",
       "      <td>4.40</td>\n",
       "      <td>4</td>\n",
       "      <td>819</td>\n",
       "      <td>0.75</td>\n",
       "      <td>Товары для детей</td>\n",
       "      <td>4</td>\n",
       "      <td>4</td>\n",
       "      <td>2</td>\n",
       "      <td>5</td>\n",
       "      <td>12</td>\n",
       "      <td>10</td>\n",
       "    </tr>\n",
       "    <tr>\n",
       "      <th>1</th>\n",
       "      <td>215350</td>\n",
       "      <td>5457.50</td>\n",
       "      <td>4826.00</td>\n",
       "      <td>5058.40</td>\n",
       "      <td>Снизилась</td>\n",
       "      <td>стандарт</td>\n",
       "      <td>нет</td>\n",
       "      <td>4.90</td>\n",
       "      <td>3</td>\n",
       "      <td>539</td>\n",
       "      <td>0.14</td>\n",
       "      <td>Домашний текстиль</td>\n",
       "      <td>5</td>\n",
       "      <td>2</td>\n",
       "      <td>1</td>\n",
       "      <td>5</td>\n",
       "      <td>8</td>\n",
       "      <td>13</td>\n",
       "    </tr>\n",
       "    <tr>\n",
       "      <th>2</th>\n",
       "      <td>215351</td>\n",
       "      <td>6158.00</td>\n",
       "      <td>4793.00</td>\n",
       "      <td>6610.40</td>\n",
       "      <td>Снизилась</td>\n",
       "      <td>стандарт</td>\n",
       "      <td>да</td>\n",
       "      <td>3.20</td>\n",
       "      <td>5</td>\n",
       "      <td>896</td>\n",
       "      <td>0.99</td>\n",
       "      <td>Товары для детей</td>\n",
       "      <td>5</td>\n",
       "      <td>0</td>\n",
       "      <td>6</td>\n",
       "      <td>4</td>\n",
       "      <td>11</td>\n",
       "      <td>13</td>\n",
       "    </tr>\n",
       "    <tr>\n",
       "      <th>3</th>\n",
       "      <td>215352</td>\n",
       "      <td>5807.50</td>\n",
       "      <td>4594.00</td>\n",
       "      <td>5872.50</td>\n",
       "      <td>Снизилась</td>\n",
       "      <td>стандарт</td>\n",
       "      <td>нет</td>\n",
       "      <td>5.10</td>\n",
       "      <td>3</td>\n",
       "      <td>1064</td>\n",
       "      <td>0.94</td>\n",
       "      <td>Товары для детей</td>\n",
       "      <td>3</td>\n",
       "      <td>2</td>\n",
       "      <td>3</td>\n",
       "      <td>2</td>\n",
       "      <td>8</td>\n",
       "      <td>11</td>\n",
       "    </tr>\n",
       "    <tr>\n",
       "      <th>4</th>\n",
       "      <td>215353</td>\n",
       "      <td>4738.50</td>\n",
       "      <td>5124.00</td>\n",
       "      <td>5388.50</td>\n",
       "      <td>Снизилась</td>\n",
       "      <td>стандарт</td>\n",
       "      <td>да</td>\n",
       "      <td>3.30</td>\n",
       "      <td>4</td>\n",
       "      <td>762</td>\n",
       "      <td>0.26</td>\n",
       "      <td>Домашний текстиль</td>\n",
       "      <td>4</td>\n",
       "      <td>1</td>\n",
       "      <td>1</td>\n",
       "      <td>4</td>\n",
       "      <td>10</td>\n",
       "      <td>10</td>\n",
       "    </tr>\n",
       "  </tbody>\n",
       "</table>\n",
       "</div>"
      ],
      "text/plain": [
       "       id  Выручка_предыдущий_месяц  Выручка_препредыдущий_месяц  Выручка_текущий_месяц Покупательская_активность Тип_сервиса Разрешить_сообщать  Маркет_актив_6_мес  Маркет_актив_тек_мес  Длительность  Акционные_покупки Популярная_категория  Средний_просмотр_категорий_за_визит  Неоплаченные_продукты_штук_квартал  Ошибка_сервиса  Страниц_за_визит  минут_предыдущий_месяц  минут_препредыдущий_месяц\n",
       "0  215349                   5216.00                      4472.00                4971.60                 Снизилась     премиум                 да                4.40                     4           819               0.75     Товары для детей                                    4                                   4               2                 5                      12                         10\n",
       "1  215350                   5457.50                      4826.00                5058.40                 Снизилась    стандарт                нет                4.90                     3           539               0.14    Домашний текстиль                                    5                                   2               1                 5                       8                         13\n",
       "2  215351                   6158.00                      4793.00                6610.40                 Снизилась    стандарт                 да                3.20                     5           896               0.99     Товары для детей                                    5                                   0               6                 4                      11                         13\n",
       "3  215352                   5807.50                      4594.00                5872.50                 Снизилась    стандарт                нет                5.10                     3          1064               0.94     Товары для детей                                    3                                   2               3                 2                       8                         11\n",
       "4  215353                   4738.50                      5124.00                5388.50                 Снизилась    стандарт                 да                3.30                     4           762               0.26    Домашний текстиль                                    4                                   1               1                 4                      10                         10"
      ]
     },
     "execution_count": 38,
     "metadata": {},
     "output_type": "execute_result"
    }
   ],
   "source": [
    "df = pd.merge(df, market_time_df, on='id', how='left') \n",
    "df.head()"
   ]
  },
  {
   "cell_type": "code",
   "execution_count": 39,
   "id": "eb1136fc",
   "metadata": {},
   "outputs": [
    {
     "data": {
      "text/plain": [
       "(1297, 18)"
      ]
     },
     "execution_count": 39,
     "metadata": {},
     "output_type": "execute_result"
    }
   ],
   "source": [
    "df.shape"
   ]
  },
  {
   "cell_type": "code",
   "execution_count": 40,
   "id": "409a42e2",
   "metadata": {},
   "outputs": [
    {
     "data": {
      "text/html": [
       "<div>\n",
       "<style scoped>\n",
       "    .dataframe tbody tr th:only-of-type {\n",
       "        vertical-align: middle;\n",
       "    }\n",
       "\n",
       "    .dataframe tbody tr th {\n",
       "        vertical-align: top;\n",
       "    }\n",
       "\n",
       "    .dataframe thead th {\n",
       "        text-align: right;\n",
       "    }\n",
       "</style>\n",
       "<table border=\"1\" class=\"dataframe\">\n",
       "  <thead>\n",
       "    <tr style=\"text-align: right;\">\n",
       "      <th></th>\n",
       "      <th>id</th>\n",
       "      <th>Выручка_предыдущий_месяц</th>\n",
       "      <th>Выручка_препредыдущий_месяц</th>\n",
       "      <th>Выручка_текущий_месяц</th>\n",
       "      <th>Покупательская_активность</th>\n",
       "      <th>Тип_сервиса</th>\n",
       "      <th>Разрешить_сообщать</th>\n",
       "      <th>Маркет_актив_6_мес</th>\n",
       "      <th>Маркет_актив_тек_мес</th>\n",
       "      <th>Длительность</th>\n",
       "      <th>Акционные_покупки</th>\n",
       "      <th>Популярная_категория</th>\n",
       "      <th>Средний_просмотр_категорий_за_визит</th>\n",
       "      <th>Неоплаченные_продукты_штук_квартал</th>\n",
       "      <th>Ошибка_сервиса</th>\n",
       "      <th>Страниц_за_визит</th>\n",
       "      <th>минут_предыдущий_месяц</th>\n",
       "      <th>минут_препредыдущий_месяц</th>\n",
       "      <th>Прибыль</th>\n",
       "    </tr>\n",
       "  </thead>\n",
       "  <tbody>\n",
       "    <tr>\n",
       "      <th>0</th>\n",
       "      <td>215349</td>\n",
       "      <td>5216.00</td>\n",
       "      <td>4472.00</td>\n",
       "      <td>4971.60</td>\n",
       "      <td>Снизилась</td>\n",
       "      <td>премиум</td>\n",
       "      <td>да</td>\n",
       "      <td>4.40</td>\n",
       "      <td>4</td>\n",
       "      <td>819</td>\n",
       "      <td>0.75</td>\n",
       "      <td>Товары для детей</td>\n",
       "      <td>4</td>\n",
       "      <td>4</td>\n",
       "      <td>2</td>\n",
       "      <td>5</td>\n",
       "      <td>12</td>\n",
       "      <td>10</td>\n",
       "      <td>4.16</td>\n",
       "    </tr>\n",
       "    <tr>\n",
       "      <th>1</th>\n",
       "      <td>215350</td>\n",
       "      <td>5457.50</td>\n",
       "      <td>4826.00</td>\n",
       "      <td>5058.40</td>\n",
       "      <td>Снизилась</td>\n",
       "      <td>стандарт</td>\n",
       "      <td>нет</td>\n",
       "      <td>4.90</td>\n",
       "      <td>3</td>\n",
       "      <td>539</td>\n",
       "      <td>0.14</td>\n",
       "      <td>Домашний текстиль</td>\n",
       "      <td>5</td>\n",
       "      <td>2</td>\n",
       "      <td>1</td>\n",
       "      <td>5</td>\n",
       "      <td>8</td>\n",
       "      <td>13</td>\n",
       "      <td>3.13</td>\n",
       "    </tr>\n",
       "    <tr>\n",
       "      <th>2</th>\n",
       "      <td>215351</td>\n",
       "      <td>6158.00</td>\n",
       "      <td>4793.00</td>\n",
       "      <td>6610.40</td>\n",
       "      <td>Снизилась</td>\n",
       "      <td>стандарт</td>\n",
       "      <td>да</td>\n",
       "      <td>3.20</td>\n",
       "      <td>5</td>\n",
       "      <td>896</td>\n",
       "      <td>0.99</td>\n",
       "      <td>Товары для детей</td>\n",
       "      <td>5</td>\n",
       "      <td>0</td>\n",
       "      <td>6</td>\n",
       "      <td>4</td>\n",
       "      <td>11</td>\n",
       "      <td>13</td>\n",
       "      <td>4.87</td>\n",
       "    </tr>\n",
       "    <tr>\n",
       "      <th>3</th>\n",
       "      <td>215352</td>\n",
       "      <td>5807.50</td>\n",
       "      <td>4594.00</td>\n",
       "      <td>5872.50</td>\n",
       "      <td>Снизилась</td>\n",
       "      <td>стандарт</td>\n",
       "      <td>нет</td>\n",
       "      <td>5.10</td>\n",
       "      <td>3</td>\n",
       "      <td>1064</td>\n",
       "      <td>0.94</td>\n",
       "      <td>Товары для детей</td>\n",
       "      <td>3</td>\n",
       "      <td>2</td>\n",
       "      <td>3</td>\n",
       "      <td>2</td>\n",
       "      <td>8</td>\n",
       "      <td>11</td>\n",
       "      <td>4.21</td>\n",
       "    </tr>\n",
       "    <tr>\n",
       "      <th>4</th>\n",
       "      <td>215353</td>\n",
       "      <td>4738.50</td>\n",
       "      <td>5124.00</td>\n",
       "      <td>5388.50</td>\n",
       "      <td>Снизилась</td>\n",
       "      <td>стандарт</td>\n",
       "      <td>да</td>\n",
       "      <td>3.30</td>\n",
       "      <td>4</td>\n",
       "      <td>762</td>\n",
       "      <td>0.26</td>\n",
       "      <td>Домашний текстиль</td>\n",
       "      <td>4</td>\n",
       "      <td>1</td>\n",
       "      <td>1</td>\n",
       "      <td>4</td>\n",
       "      <td>10</td>\n",
       "      <td>10</td>\n",
       "      <td>3.95</td>\n",
       "    </tr>\n",
       "  </tbody>\n",
       "</table>\n",
       "</div>"
      ],
      "text/plain": [
       "       id  Выручка_предыдущий_месяц  Выручка_препредыдущий_месяц  Выручка_текущий_месяц Покупательская_активность Тип_сервиса Разрешить_сообщать  Маркет_актив_6_мес  Маркет_актив_тек_мес  Длительность  Акционные_покупки Популярная_категория  Средний_просмотр_категорий_за_визит  Неоплаченные_продукты_штук_квартал  Ошибка_сервиса  Страниц_за_визит  минут_предыдущий_месяц  минут_препредыдущий_месяц  Прибыль\n",
       "0  215349                   5216.00                      4472.00                4971.60                 Снизилась     премиум                 да                4.40                     4           819               0.75     Товары для детей                                    4                                   4               2                 5                      12                         10     4.16\n",
       "1  215350                   5457.50                      4826.00                5058.40                 Снизилась    стандарт                нет                4.90                     3           539               0.14    Домашний текстиль                                    5                                   2               1                 5                       8                         13     3.13\n",
       "2  215351                   6158.00                      4793.00                6610.40                 Снизилась    стандарт                 да                3.20                     5           896               0.99     Товары для детей                                    5                                   0               6                 4                      11                         13     4.87\n",
       "3  215352                   5807.50                      4594.00                5872.50                 Снизилась    стандарт                нет                5.10                     3          1064               0.94     Товары для детей                                    3                                   2               3                 2                       8                         11     4.21\n",
       "4  215353                   4738.50                      5124.00                5388.50                 Снизилась    стандарт                 да                3.30                     4           762               0.26    Домашний текстиль                                    4                                   1               1                 4                      10                         10     3.95"
      ]
     },
     "execution_count": 40,
     "metadata": {},
     "output_type": "execute_result"
    }
   ],
   "source": [
    "df = pd.merge(df, money_df, on='id', how='left') \n",
    "df.head()"
   ]
  },
  {
   "cell_type": "code",
   "execution_count": 41,
   "id": "5074f8dc",
   "metadata": {},
   "outputs": [
    {
     "data": {
      "text/plain": [
       "(1297, 19)"
      ]
     },
     "execution_count": 41,
     "metadata": {},
     "output_type": "execute_result"
    }
   ],
   "source": [
    "df.shape"
   ]
  },
  {
   "cell_type": "markdown",
   "id": "464c35d1",
   "metadata": {},
   "source": [
    "## **4.2. Разделим данные на числовые и категориальные**"
   ]
  },
  {
   "cell_type": "markdown",
   "id": "ec74a83c",
   "metadata": {},
   "source": [
    "Для начала чтобы потом посмотреть корреляции"
   ]
  },
  {
   "cell_type": "code",
   "execution_count": 42,
   "id": "37e0a559",
   "metadata": {},
   "outputs": [],
   "source": [
    "numeric_names = df.select_dtypes(include=[np.number]).columns\n",
    "categoric_names = df.select_dtypes(exclude=[np.number]).columns"
   ]
  },
  {
   "cell_type": "markdown",
   "id": "88e565db",
   "metadata": {},
   "source": [
    "## **4.3 Закодируем категориальные признаки**"
   ]
  },
  {
   "cell_type": "markdown",
   "id": "6adbfa64",
   "metadata": {},
   "source": [
    "* отдельный столбец для каждого периода создался после пивотирования."
   ]
  },
  {
   "cell_type": "markdown",
   "id": "2a1d9450",
   "metadata": {},
   "source": [
    "**удалим id столбец из датафрейма**"
   ]
  },
  {
   "cell_type": "markdown",
   "id": "bb33675f",
   "metadata": {},
   "source": [
    "* Сохраним в другой датафрейм без ['id', 'Прибыль'] для обучения модели\n",
    "* Оставим в исходном датафрейме ['id', 'Прибыль'] для сегментации покупателей."
   ]
  },
  {
   "cell_type": "code",
   "execution_count": 43,
   "id": "3393e0ea",
   "metadata": {},
   "outputs": [],
   "source": [
    "df_for_model = df.drop(['id', 'Прибыль'], axis=1)"
   ]
  },
  {
   "cell_type": "markdown",
   "id": "4b524e16",
   "metadata": {},
   "source": [
    "# **Этап 5. Корреляционный анализ**"
   ]
  },
  {
   "cell_type": "markdown",
   "id": "d3ef65b8",
   "metadata": {},
   "source": [
    "## **5.1. Коэффициенты корреляции**"
   ]
  },
  {
   "cell_type": "markdown",
   "id": "24a69ff9",
   "metadata": {},
   "source": [
    "Будем смотреть на датафрейме для обучения модели, у которого удален id из-за мультиколлениарности.\n",
    "Долго считается phik_matrix"
   ]
  },
  {
   "cell_type": "code",
   "execution_count": 44,
   "id": "affdd249",
   "metadata": {},
   "outputs": [
    {
     "data": {
      "text/html": [
       "<div>\n",
       "<style scoped>\n",
       "    .dataframe tbody tr th:only-of-type {\n",
       "        vertical-align: middle;\n",
       "    }\n",
       "\n",
       "    .dataframe tbody tr th {\n",
       "        vertical-align: top;\n",
       "    }\n",
       "\n",
       "    .dataframe thead th {\n",
       "        text-align: right;\n",
       "    }\n",
       "</style>\n",
       "<table border=\"1\" class=\"dataframe\">\n",
       "  <thead>\n",
       "    <tr style=\"text-align: right;\">\n",
       "      <th></th>\n",
       "      <th>Выручка_предыдущий_месяц</th>\n",
       "      <th>Выручка_препредыдущий_месяц</th>\n",
       "      <th>Выручка_текущий_месяц</th>\n",
       "      <th>Покупательская_активность</th>\n",
       "      <th>Тип_сервиса</th>\n",
       "      <th>Разрешить_сообщать</th>\n",
       "      <th>Маркет_актив_6_мес</th>\n",
       "      <th>Маркет_актив_тек_мес</th>\n",
       "      <th>Длительность</th>\n",
       "      <th>Акционные_покупки</th>\n",
       "      <th>Популярная_категория</th>\n",
       "      <th>Средний_просмотр_категорий_за_визит</th>\n",
       "      <th>Неоплаченные_продукты_штук_квартал</th>\n",
       "      <th>Ошибка_сервиса</th>\n",
       "      <th>Страниц_за_визит</th>\n",
       "      <th>минут_предыдущий_месяц</th>\n",
       "      <th>минут_препредыдущий_месяц</th>\n",
       "    </tr>\n",
       "  </thead>\n",
       "  <tbody>\n",
       "    <tr>\n",
       "      <th>Выручка_предыдущий_месяц</th>\n",
       "      <td>1.00</td>\n",
       "      <td>0.36</td>\n",
       "      <td>0.14</td>\n",
       "      <td>0.23</td>\n",
       "      <td>0.00</td>\n",
       "      <td>0.08</td>\n",
       "      <td>0.15</td>\n",
       "      <td>0.05</td>\n",
       "      <td>0.13</td>\n",
       "      <td>0.07</td>\n",
       "      <td>0.25</td>\n",
       "      <td>0.10</td>\n",
       "      <td>0.19</td>\n",
       "      <td>0.00</td>\n",
       "      <td>0.15</td>\n",
       "      <td>0.18</td>\n",
       "      <td>0.16</td>\n",
       "    </tr>\n",
       "    <tr>\n",
       "      <th>Выручка_препредыдущий_месяц</th>\n",
       "      <td>0.36</td>\n",
       "      <td>1.00</td>\n",
       "      <td>0.00</td>\n",
       "      <td>0.50</td>\n",
       "      <td>0.07</td>\n",
       "      <td>0.00</td>\n",
       "      <td>0.31</td>\n",
       "      <td>0.00</td>\n",
       "      <td>0.11</td>\n",
       "      <td>0.23</td>\n",
       "      <td>0.05</td>\n",
       "      <td>0.18</td>\n",
       "      <td>0.19</td>\n",
       "      <td>0.14</td>\n",
       "      <td>0.34</td>\n",
       "      <td>0.35</td>\n",
       "      <td>0.33</td>\n",
       "    </tr>\n",
       "    <tr>\n",
       "      <th>Выручка_текущий_месяц</th>\n",
       "      <td>0.14</td>\n",
       "      <td>0.00</td>\n",
       "      <td>1.00</td>\n",
       "      <td>0.00</td>\n",
       "      <td>0.00</td>\n",
       "      <td>0.00</td>\n",
       "      <td>0.27</td>\n",
       "      <td>0.00</td>\n",
       "      <td>0.00</td>\n",
       "      <td>0.02</td>\n",
       "      <td>0.04</td>\n",
       "      <td>0.00</td>\n",
       "      <td>0.00</td>\n",
       "      <td>0.00</td>\n",
       "      <td>0.00</td>\n",
       "      <td>0.00</td>\n",
       "      <td>0.00</td>\n",
       "    </tr>\n",
       "    <tr>\n",
       "      <th>Покупательская_активность</th>\n",
       "      <td>0.23</td>\n",
       "      <td>0.50</td>\n",
       "      <td>0.00</td>\n",
       "      <td>1.00</td>\n",
       "      <td>0.13</td>\n",
       "      <td>0.00</td>\n",
       "      <td>0.55</td>\n",
       "      <td>0.00</td>\n",
       "      <td>0.10</td>\n",
       "      <td>0.51</td>\n",
       "      <td>0.30</td>\n",
       "      <td>0.54</td>\n",
       "      <td>0.40</td>\n",
       "      <td>0.22</td>\n",
       "      <td>0.75</td>\n",
       "      <td>0.60</td>\n",
       "      <td>0.57</td>\n",
       "    </tr>\n",
       "    <tr>\n",
       "      <th>Тип_сервиса</th>\n",
       "      <td>0.00</td>\n",
       "      <td>0.07</td>\n",
       "      <td>0.00</td>\n",
       "      <td>0.13</td>\n",
       "      <td>1.00</td>\n",
       "      <td>0.29</td>\n",
       "      <td>0.09</td>\n",
       "      <td>0.04</td>\n",
       "      <td>0.40</td>\n",
       "      <td>0.03</td>\n",
       "      <td>0.07</td>\n",
       "      <td>0.19</td>\n",
       "      <td>0.11</td>\n",
       "      <td>0.08</td>\n",
       "      <td>0.09</td>\n",
       "      <td>0.12</td>\n",
       "      <td>0.06</td>\n",
       "    </tr>\n",
       "    <tr>\n",
       "      <th>Разрешить_сообщать</th>\n",
       "      <td>0.08</td>\n",
       "      <td>0.00</td>\n",
       "      <td>0.00</td>\n",
       "      <td>0.00</td>\n",
       "      <td>0.29</td>\n",
       "      <td>1.00</td>\n",
       "      <td>0.00</td>\n",
       "      <td>0.05</td>\n",
       "      <td>0.25</td>\n",
       "      <td>0.02</td>\n",
       "      <td>0.07</td>\n",
       "      <td>0.07</td>\n",
       "      <td>0.16</td>\n",
       "      <td>0.02</td>\n",
       "      <td>0.10</td>\n",
       "      <td>0.06</td>\n",
       "      <td>0.00</td>\n",
       "    </tr>\n",
       "    <tr>\n",
       "      <th>Маркет_актив_6_мес</th>\n",
       "      <td>0.15</td>\n",
       "      <td>0.31</td>\n",
       "      <td>0.27</td>\n",
       "      <td>0.55</td>\n",
       "      <td>0.09</td>\n",
       "      <td>0.00</td>\n",
       "      <td>1.00</td>\n",
       "      <td>0.08</td>\n",
       "      <td>0.00</td>\n",
       "      <td>0.28</td>\n",
       "      <td>0.15</td>\n",
       "      <td>0.21</td>\n",
       "      <td>0.22</td>\n",
       "      <td>0.15</td>\n",
       "      <td>0.37</td>\n",
       "      <td>0.32</td>\n",
       "      <td>0.33</td>\n",
       "    </tr>\n",
       "    <tr>\n",
       "      <th>Маркет_актив_тек_мес</th>\n",
       "      <td>0.05</td>\n",
       "      <td>0.00</td>\n",
       "      <td>0.00</td>\n",
       "      <td>0.00</td>\n",
       "      <td>0.04</td>\n",
       "      <td>0.05</td>\n",
       "      <td>0.08</td>\n",
       "      <td>1.00</td>\n",
       "      <td>0.17</td>\n",
       "      <td>0.00</td>\n",
       "      <td>0.14</td>\n",
       "      <td>0.25</td>\n",
       "      <td>0.14</td>\n",
       "      <td>0.12</td>\n",
       "      <td>0.00</td>\n",
       "      <td>0.17</td>\n",
       "      <td>0.08</td>\n",
       "    </tr>\n",
       "    <tr>\n",
       "      <th>Длительность</th>\n",
       "      <td>0.13</td>\n",
       "      <td>0.11</td>\n",
       "      <td>0.00</td>\n",
       "      <td>0.10</td>\n",
       "      <td>0.40</td>\n",
       "      <td>0.25</td>\n",
       "      <td>0.00</td>\n",
       "      <td>0.17</td>\n",
       "      <td>1.00</td>\n",
       "      <td>0.00</td>\n",
       "      <td>0.00</td>\n",
       "      <td>0.19</td>\n",
       "      <td>0.13</td>\n",
       "      <td>0.17</td>\n",
       "      <td>0.13</td>\n",
       "      <td>0.04</td>\n",
       "      <td>0.01</td>\n",
       "    </tr>\n",
       "    <tr>\n",
       "      <th>Акционные_покупки</th>\n",
       "      <td>0.07</td>\n",
       "      <td>0.23</td>\n",
       "      <td>0.02</td>\n",
       "      <td>0.51</td>\n",
       "      <td>0.03</td>\n",
       "      <td>0.02</td>\n",
       "      <td>0.28</td>\n",
       "      <td>0.00</td>\n",
       "      <td>0.00</td>\n",
       "      <td>1.00</td>\n",
       "      <td>0.12</td>\n",
       "      <td>0.20</td>\n",
       "      <td>0.25</td>\n",
       "      <td>0.00</td>\n",
       "      <td>0.35</td>\n",
       "      <td>0.31</td>\n",
       "      <td>0.29</td>\n",
       "    </tr>\n",
       "    <tr>\n",
       "      <th>Популярная_категория</th>\n",
       "      <td>0.25</td>\n",
       "      <td>0.05</td>\n",
       "      <td>0.04</td>\n",
       "      <td>0.30</td>\n",
       "      <td>0.07</td>\n",
       "      <td>0.07</td>\n",
       "      <td>0.15</td>\n",
       "      <td>0.14</td>\n",
       "      <td>0.00</td>\n",
       "      <td>0.12</td>\n",
       "      <td>1.00</td>\n",
       "      <td>0.23</td>\n",
       "      <td>0.25</td>\n",
       "      <td>0.00</td>\n",
       "      <td>0.18</td>\n",
       "      <td>0.22</td>\n",
       "      <td>0.11</td>\n",
       "    </tr>\n",
       "    <tr>\n",
       "      <th>Средний_просмотр_категорий_за_визит</th>\n",
       "      <td>0.10</td>\n",
       "      <td>0.18</td>\n",
       "      <td>0.00</td>\n",
       "      <td>0.54</td>\n",
       "      <td>0.19</td>\n",
       "      <td>0.07</td>\n",
       "      <td>0.21</td>\n",
       "      <td>0.25</td>\n",
       "      <td>0.19</td>\n",
       "      <td>0.20</td>\n",
       "      <td>0.23</td>\n",
       "      <td>1.00</td>\n",
       "      <td>0.34</td>\n",
       "      <td>0.07</td>\n",
       "      <td>0.29</td>\n",
       "      <td>0.22</td>\n",
       "      <td>0.24</td>\n",
       "    </tr>\n",
       "    <tr>\n",
       "      <th>Неоплаченные_продукты_штук_квартал</th>\n",
       "      <td>0.19</td>\n",
       "      <td>0.19</td>\n",
       "      <td>0.00</td>\n",
       "      <td>0.40</td>\n",
       "      <td>0.11</td>\n",
       "      <td>0.16</td>\n",
       "      <td>0.22</td>\n",
       "      <td>0.14</td>\n",
       "      <td>0.13</td>\n",
       "      <td>0.25</td>\n",
       "      <td>0.25</td>\n",
       "      <td>0.34</td>\n",
       "      <td>1.00</td>\n",
       "      <td>0.00</td>\n",
       "      <td>0.31</td>\n",
       "      <td>0.19</td>\n",
       "      <td>0.16</td>\n",
       "    </tr>\n",
       "    <tr>\n",
       "      <th>Ошибка_сервиса</th>\n",
       "      <td>0.00</td>\n",
       "      <td>0.14</td>\n",
       "      <td>0.00</td>\n",
       "      <td>0.22</td>\n",
       "      <td>0.08</td>\n",
       "      <td>0.02</td>\n",
       "      <td>0.15</td>\n",
       "      <td>0.12</td>\n",
       "      <td>0.17</td>\n",
       "      <td>0.00</td>\n",
       "      <td>0.00</td>\n",
       "      <td>0.07</td>\n",
       "      <td>0.00</td>\n",
       "      <td>1.00</td>\n",
       "      <td>0.16</td>\n",
       "      <td>0.19</td>\n",
       "      <td>0.13</td>\n",
       "    </tr>\n",
       "    <tr>\n",
       "      <th>Страниц_за_визит</th>\n",
       "      <td>0.15</td>\n",
       "      <td>0.34</td>\n",
       "      <td>0.00</td>\n",
       "      <td>0.75</td>\n",
       "      <td>0.09</td>\n",
       "      <td>0.10</td>\n",
       "      <td>0.37</td>\n",
       "      <td>0.00</td>\n",
       "      <td>0.13</td>\n",
       "      <td>0.35</td>\n",
       "      <td>0.18</td>\n",
       "      <td>0.29</td>\n",
       "      <td>0.31</td>\n",
       "      <td>0.16</td>\n",
       "      <td>1.00</td>\n",
       "      <td>0.39</td>\n",
       "      <td>0.35</td>\n",
       "    </tr>\n",
       "    <tr>\n",
       "      <th>минут_предыдущий_месяц</th>\n",
       "      <td>0.18</td>\n",
       "      <td>0.35</td>\n",
       "      <td>0.00</td>\n",
       "      <td>0.60</td>\n",
       "      <td>0.12</td>\n",
       "      <td>0.06</td>\n",
       "      <td>0.32</td>\n",
       "      <td>0.17</td>\n",
       "      <td>0.04</td>\n",
       "      <td>0.31</td>\n",
       "      <td>0.22</td>\n",
       "      <td>0.22</td>\n",
       "      <td>0.19</td>\n",
       "      <td>0.19</td>\n",
       "      <td>0.39</td>\n",
       "      <td>1.00</td>\n",
       "      <td>0.34</td>\n",
       "    </tr>\n",
       "    <tr>\n",
       "      <th>минут_препредыдущий_месяц</th>\n",
       "      <td>0.16</td>\n",
       "      <td>0.33</td>\n",
       "      <td>0.00</td>\n",
       "      <td>0.57</td>\n",
       "      <td>0.06</td>\n",
       "      <td>0.00</td>\n",
       "      <td>0.33</td>\n",
       "      <td>0.08</td>\n",
       "      <td>0.01</td>\n",
       "      <td>0.29</td>\n",
       "      <td>0.11</td>\n",
       "      <td>0.24</td>\n",
       "      <td>0.16</td>\n",
       "      <td>0.13</td>\n",
       "      <td>0.35</td>\n",
       "      <td>0.34</td>\n",
       "      <td>1.00</td>\n",
       "    </tr>\n",
       "  </tbody>\n",
       "</table>\n",
       "</div>"
      ],
      "text/plain": [
       "                                     Выручка_предыдущий_месяц  Выручка_препредыдущий_месяц  Выручка_текущий_месяц  Покупательская_активность  Тип_сервиса  Разрешить_сообщать  Маркет_актив_6_мес  Маркет_актив_тек_мес  Длительность  Акционные_покупки  Популярная_категория  Средний_просмотр_категорий_за_визит  Неоплаченные_продукты_штук_квартал  Ошибка_сервиса  Страниц_за_визит  минут_предыдущий_месяц  минут_препредыдущий_месяц\n",
       "Выручка_предыдущий_месяц                                 1.00                         0.36                   0.14                       0.23         0.00                0.08                0.15                  0.05          0.13               0.07                  0.25                                 0.10                                0.19            0.00              0.15                    0.18                       0.16\n",
       "Выручка_препредыдущий_месяц                              0.36                         1.00                   0.00                       0.50         0.07                0.00                0.31                  0.00          0.11               0.23                  0.05                                 0.18                                0.19            0.14              0.34                    0.35                       0.33\n",
       "Выручка_текущий_месяц                                    0.14                         0.00                   1.00                       0.00         0.00                0.00                0.27                  0.00          0.00               0.02                  0.04                                 0.00                                0.00            0.00              0.00                    0.00                       0.00\n",
       "Покупательская_активность                                0.23                         0.50                   0.00                       1.00         0.13                0.00                0.55                  0.00          0.10               0.51                  0.30                                 0.54                                0.40            0.22              0.75                    0.60                       0.57\n",
       "Тип_сервиса                                              0.00                         0.07                   0.00                       0.13         1.00                0.29                0.09                  0.04          0.40               0.03                  0.07                                 0.19                                0.11            0.08              0.09                    0.12                       0.06\n",
       "Разрешить_сообщать                                       0.08                         0.00                   0.00                       0.00         0.29                1.00                0.00                  0.05          0.25               0.02                  0.07                                 0.07                                0.16            0.02              0.10                    0.06                       0.00\n",
       "Маркет_актив_6_мес                                       0.15                         0.31                   0.27                       0.55         0.09                0.00                1.00                  0.08          0.00               0.28                  0.15                                 0.21                                0.22            0.15              0.37                    0.32                       0.33\n",
       "Маркет_актив_тек_мес                                     0.05                         0.00                   0.00                       0.00         0.04                0.05                0.08                  1.00          0.17               0.00                  0.14                                 0.25                                0.14            0.12              0.00                    0.17                       0.08\n",
       "Длительность                                             0.13                         0.11                   0.00                       0.10         0.40                0.25                0.00                  0.17          1.00               0.00                  0.00                                 0.19                                0.13            0.17              0.13                    0.04                       0.01\n",
       "Акционные_покупки                                        0.07                         0.23                   0.02                       0.51         0.03                0.02                0.28                  0.00          0.00               1.00                  0.12                                 0.20                                0.25            0.00              0.35                    0.31                       0.29\n",
       "Популярная_категория                                     0.25                         0.05                   0.04                       0.30         0.07                0.07                0.15                  0.14          0.00               0.12                  1.00                                 0.23                                0.25            0.00              0.18                    0.22                       0.11\n",
       "Средний_просмотр_категорий_за_визит                      0.10                         0.18                   0.00                       0.54         0.19                0.07                0.21                  0.25          0.19               0.20                  0.23                                 1.00                                0.34            0.07              0.29                    0.22                       0.24\n",
       "Неоплаченные_продукты_штук_квартал                       0.19                         0.19                   0.00                       0.40         0.11                0.16                0.22                  0.14          0.13               0.25                  0.25                                 0.34                                1.00            0.00              0.31                    0.19                       0.16\n",
       "Ошибка_сервиса                                           0.00                         0.14                   0.00                       0.22         0.08                0.02                0.15                  0.12          0.17               0.00                  0.00                                 0.07                                0.00            1.00              0.16                    0.19                       0.13\n",
       "Страниц_за_визит                                         0.15                         0.34                   0.00                       0.75         0.09                0.10                0.37                  0.00          0.13               0.35                  0.18                                 0.29                                0.31            0.16              1.00                    0.39                       0.35\n",
       "минут_предыдущий_месяц                                   0.18                         0.35                   0.00                       0.60         0.12                0.06                0.32                  0.17          0.04               0.31                  0.22                                 0.22                                0.19            0.19              0.39                    1.00                       0.34\n",
       "минут_препредыдущий_месяц                                0.16                         0.33                   0.00                       0.57         0.06                0.00                0.33                  0.08          0.01               0.29                  0.11                                 0.24                                0.16            0.13              0.35                    0.34                       1.00"
      ]
     },
     "execution_count": 44,
     "metadata": {},
     "output_type": "execute_result"
    }
   ],
   "source": [
    "interval_cols = [ # только дробные числа или которые не в силах посчитать руками (длительность 762) и может иметь дробную часть\n",
    "       'Маркет_актив_6_мес', 'Длительность', 'Акционные_покупки', \n",
    "       'Выручка_предыдущий_месяц', 'Выручка_препредыдущий_месяц', 'Выручка_текущий_месяц']\n",
    "\n",
    "phik_corr = df_for_model.phik_matrix(interval_cols=interval_cols)\n",
    "phik_corr         "
   ]
  },
  {
   "cell_type": "markdown",
   "id": "f31beeb0",
   "metadata": {},
   "source": [
    "Посмотрим коэффициенты корреляции."
   ]
  },
  {
   "cell_type": "code",
   "execution_count": 45,
   "id": "dbdec5d9",
   "metadata": {},
   "outputs": [
    {
     "data": {
      "image/png": "[encoded data removed]",
      "text/plain": [
       "<Figure size 1440x1152 with 2 Axes>"
      ]
     },
     "metadata": {
      "needs_background": "light"
     },
     "output_type": "display_data"
    }
   ],
   "source": [
    "plt.figure(figsize=(20, 16))\n",
    "sns.heatmap(phik_corr.round(2), annot=True, cmap='coolwarm')\n",
    "plt.show()"
   ]
  },
  {
   "cell_type": "markdown",
   "id": "b8caae0b",
   "metadata": {},
   "source": [
    "## **5.2. Мультиколлинеарность**"
   ]
  },
  {
   "cell_type": "markdown",
   "id": "c4dca816",
   "metadata": {},
   "source": [
    "Мультиколлениарность наблюдается с id пользователя, казалось бы, ее там нет, коэфициент всего 0.76, можно расценивать как хорошую корреляцию, а мультиколинеарность расценивать от 0.8, но id дает сильной переобучение, удалили его, да и все равно смысла в этом столбце никакого нет."
   ]
  },
  {
   "cell_type": "markdown",
   "id": "44e2703b",
   "metadata": {},
   "source": [
    "# **Этап 6. Пайплайн модели**"
   ]
  },
  {
   "cell_type": "markdown",
   "id": "d06c5157",
   "metadata": {},
   "source": [
    "## **6.1. Деление на выборки**"
   ]
  },
  {
   "cell_type": "markdown",
   "id": "fd998b82",
   "metadata": {},
   "source": [
    "Перед тем как создавать пайплайны, необходимо разделить на выборки."
   ]
  },
  {
   "cell_type": "markdown",
   "id": "1c17d424",
   "metadata": {},
   "source": [
    "* тренировочную\n",
    "* тестовую\n",
    "* валидационную"
   ]
  },
  {
   "cell_type": "code",
   "execution_count": 46,
   "id": "c0d8c962",
   "metadata": {},
   "outputs": [],
   "source": [
    "target = 'Покупательская_активность'\n",
    "\n",
    "X = df_for_model.drop(columns=target)\n",
    "y = df_for_model[target]\n",
    "\n",
    "RANDOM_STATE = 42\n",
    "TEST_SIZE = 0.25\n",
    "\n",
    "X_train, X_test, y_train, y_test = train_test_split(\n",
    "                                                    X,\n",
    "                                                    y,\n",
    "                                                    test_size=TEST_SIZE,\n",
    "                                                    random_state=RANDOM_STATE,\n",
    "                                                    stratify=y\n",
    "    )"
   ]
  },
  {
   "cell_type": "code",
   "execution_count": 47,
   "id": "6e3e9a45",
   "metadata": {},
   "outputs": [
    {
     "data": {
      "text/html": [
       "<div>\n",
       "<style scoped>\n",
       "    .dataframe tbody tr th:only-of-type {\n",
       "        vertical-align: middle;\n",
       "    }\n",
       "\n",
       "    .dataframe tbody tr th {\n",
       "        vertical-align: top;\n",
       "    }\n",
       "\n",
       "    .dataframe thead th {\n",
       "        text-align: right;\n",
       "    }\n",
       "</style>\n",
       "<table border=\"1\" class=\"dataframe\">\n",
       "  <thead>\n",
       "    <tr style=\"text-align: right;\">\n",
       "      <th></th>\n",
       "      <th>Выручка_предыдущий_месяц</th>\n",
       "      <th>Выручка_препредыдущий_месяц</th>\n",
       "      <th>Выручка_текущий_месяц</th>\n",
       "      <th>Покупательская_активность</th>\n",
       "      <th>Тип_сервиса</th>\n",
       "      <th>Разрешить_сообщать</th>\n",
       "      <th>Маркет_актив_6_мес</th>\n",
       "      <th>Маркет_актив_тек_мес</th>\n",
       "      <th>Длительность</th>\n",
       "      <th>Акционные_покупки</th>\n",
       "      <th>Популярная_категория</th>\n",
       "      <th>Средний_просмотр_категорий_за_визит</th>\n",
       "      <th>Неоплаченные_продукты_штук_квартал</th>\n",
       "      <th>Ошибка_сервиса</th>\n",
       "      <th>Страниц_за_визит</th>\n",
       "      <th>минут_предыдущий_месяц</th>\n",
       "      <th>минут_препредыдущий_месяц</th>\n",
       "    </tr>\n",
       "  </thead>\n",
       "  <tbody>\n",
       "    <tr>\n",
       "      <th>0</th>\n",
       "      <td>5216.00</td>\n",
       "      <td>4472.00</td>\n",
       "      <td>4971.60</td>\n",
       "      <td>Снизилась</td>\n",
       "      <td>премиум</td>\n",
       "      <td>да</td>\n",
       "      <td>4.40</td>\n",
       "      <td>4</td>\n",
       "      <td>819</td>\n",
       "      <td>0.75</td>\n",
       "      <td>Товары для детей</td>\n",
       "      <td>4</td>\n",
       "      <td>4</td>\n",
       "      <td>2</td>\n",
       "      <td>5</td>\n",
       "      <td>12</td>\n",
       "      <td>10</td>\n",
       "    </tr>\n",
       "    <tr>\n",
       "      <th>1</th>\n",
       "      <td>5457.50</td>\n",
       "      <td>4826.00</td>\n",
       "      <td>5058.40</td>\n",
       "      <td>Снизилась</td>\n",
       "      <td>стандарт</td>\n",
       "      <td>нет</td>\n",
       "      <td>4.90</td>\n",
       "      <td>3</td>\n",
       "      <td>539</td>\n",
       "      <td>0.14</td>\n",
       "      <td>Домашний текстиль</td>\n",
       "      <td>5</td>\n",
       "      <td>2</td>\n",
       "      <td>1</td>\n",
       "      <td>5</td>\n",
       "      <td>8</td>\n",
       "      <td>13</td>\n",
       "    </tr>\n",
       "    <tr>\n",
       "      <th>2</th>\n",
       "      <td>6158.00</td>\n",
       "      <td>4793.00</td>\n",
       "      <td>6610.40</td>\n",
       "      <td>Снизилась</td>\n",
       "      <td>стандарт</td>\n",
       "      <td>да</td>\n",
       "      <td>3.20</td>\n",
       "      <td>5</td>\n",
       "      <td>896</td>\n",
       "      <td>0.99</td>\n",
       "      <td>Товары для детей</td>\n",
       "      <td>5</td>\n",
       "      <td>0</td>\n",
       "      <td>6</td>\n",
       "      <td>4</td>\n",
       "      <td>11</td>\n",
       "      <td>13</td>\n",
       "    </tr>\n",
       "    <tr>\n",
       "      <th>3</th>\n",
       "      <td>5807.50</td>\n",
       "      <td>4594.00</td>\n",
       "      <td>5872.50</td>\n",
       "      <td>Снизилась</td>\n",
       "      <td>стандарт</td>\n",
       "      <td>нет</td>\n",
       "      <td>5.10</td>\n",
       "      <td>3</td>\n",
       "      <td>1064</td>\n",
       "      <td>0.94</td>\n",
       "      <td>Товары для детей</td>\n",
       "      <td>3</td>\n",
       "      <td>2</td>\n",
       "      <td>3</td>\n",
       "      <td>2</td>\n",
       "      <td>8</td>\n",
       "      <td>11</td>\n",
       "    </tr>\n",
       "    <tr>\n",
       "      <th>4</th>\n",
       "      <td>4738.50</td>\n",
       "      <td>5124.00</td>\n",
       "      <td>5388.50</td>\n",
       "      <td>Снизилась</td>\n",
       "      <td>стандарт</td>\n",
       "      <td>да</td>\n",
       "      <td>3.30</td>\n",
       "      <td>4</td>\n",
       "      <td>762</td>\n",
       "      <td>0.26</td>\n",
       "      <td>Домашний текстиль</td>\n",
       "      <td>4</td>\n",
       "      <td>1</td>\n",
       "      <td>1</td>\n",
       "      <td>4</td>\n",
       "      <td>10</td>\n",
       "      <td>10</td>\n",
       "    </tr>\n",
       "    <tr>\n",
       "      <th>...</th>\n",
       "      <td>...</td>\n",
       "      <td>...</td>\n",
       "      <td>...</td>\n",
       "      <td>...</td>\n",
       "      <td>...</td>\n",
       "      <td>...</td>\n",
       "      <td>...</td>\n",
       "      <td>...</td>\n",
       "      <td>...</td>\n",
       "      <td>...</td>\n",
       "      <td>...</td>\n",
       "      <td>...</td>\n",
       "      <td>...</td>\n",
       "      <td>...</td>\n",
       "      <td>...</td>\n",
       "      <td>...</td>\n",
       "      <td>...</td>\n",
       "    </tr>\n",
       "    <tr>\n",
       "      <th>1292</th>\n",
       "      <td>3664.00</td>\n",
       "      <td>4704.00</td>\n",
       "      <td>4741.70</td>\n",
       "      <td>Прежний уровень</td>\n",
       "      <td>стандарт</td>\n",
       "      <td>да</td>\n",
       "      <td>6.60</td>\n",
       "      <td>3</td>\n",
       "      <td>318</td>\n",
       "      <td>0.24</td>\n",
       "      <td>Техника для красоты и здоровья</td>\n",
       "      <td>5</td>\n",
       "      <td>3</td>\n",
       "      <td>3</td>\n",
       "      <td>11</td>\n",
       "      <td>14</td>\n",
       "      <td>7</td>\n",
       "    </tr>\n",
       "    <tr>\n",
       "      <th>1293</th>\n",
       "      <td>4729.00</td>\n",
       "      <td>5299.00</td>\n",
       "      <td>5353.00</td>\n",
       "      <td>Прежний уровень</td>\n",
       "      <td>стандарт</td>\n",
       "      <td>нет</td>\n",
       "      <td>5.10</td>\n",
       "      <td>4</td>\n",
       "      <td>454</td>\n",
       "      <td>0.21</td>\n",
       "      <td>Домашний текстиль</td>\n",
       "      <td>6</td>\n",
       "      <td>2</td>\n",
       "      <td>3</td>\n",
       "      <td>9</td>\n",
       "      <td>12</td>\n",
       "      <td>11</td>\n",
       "    </tr>\n",
       "    <tr>\n",
       "      <th>1294</th>\n",
       "      <td>5160.00</td>\n",
       "      <td>5334.00</td>\n",
       "      <td>5139.20</td>\n",
       "      <td>Прежний уровень</td>\n",
       "      <td>стандарт</td>\n",
       "      <td>да</td>\n",
       "      <td>4.10</td>\n",
       "      <td>3</td>\n",
       "      <td>586</td>\n",
       "      <td>0.20</td>\n",
       "      <td>Домашний текстиль</td>\n",
       "      <td>3</td>\n",
       "      <td>2</td>\n",
       "      <td>5</td>\n",
       "      <td>7</td>\n",
       "      <td>12</td>\n",
       "      <td>18</td>\n",
       "    </tr>\n",
       "    <tr>\n",
       "      <th>1295</th>\n",
       "      <td>4923.00</td>\n",
       "      <td>4725.00</td>\n",
       "      <td>5224.60</td>\n",
       "      <td>Прежний уровень</td>\n",
       "      <td>стандарт</td>\n",
       "      <td>да</td>\n",
       "      <td>6.30</td>\n",
       "      <td>5</td>\n",
       "      <td>645</td>\n",
       "      <td>0.12</td>\n",
       "      <td>Техника для красоты и здоровья</td>\n",
       "      <td>3</td>\n",
       "      <td>3</td>\n",
       "      <td>5</td>\n",
       "      <td>7</td>\n",
       "      <td>18</td>\n",
       "      <td>7</td>\n",
       "    </tr>\n",
       "    <tr>\n",
       "      <th>1296</th>\n",
       "      <td>4720.00</td>\n",
       "      <td>5183.00</td>\n",
       "      <td>4448.30</td>\n",
       "      <td>Прежний уровень</td>\n",
       "      <td>премиум</td>\n",
       "      <td>да</td>\n",
       "      <td>4.00</td>\n",
       "      <td>5</td>\n",
       "      <td>906</td>\n",
       "      <td>0.94</td>\n",
       "      <td>Техника для красоты и здоровья</td>\n",
       "      <td>4</td>\n",
       "      <td>5</td>\n",
       "      <td>3</td>\n",
       "      <td>12</td>\n",
       "      <td>15</td>\n",
       "      <td>10</td>\n",
       "    </tr>\n",
       "  </tbody>\n",
       "</table>\n",
       "<p>1297 rows × 17 columns</p>\n",
       "</div>"
      ],
      "text/plain": [
       "      Выручка_предыдущий_месяц  Выручка_препредыдущий_месяц  Выручка_текущий_месяц Покупательская_активность Тип_сервиса Разрешить_сообщать  Маркет_актив_6_мес  Маркет_актив_тек_мес  Длительность  Акционные_покупки            Популярная_категория  Средний_просмотр_категорий_за_визит  Неоплаченные_продукты_штук_квартал  Ошибка_сервиса  Страниц_за_визит  минут_предыдущий_месяц  минут_препредыдущий_месяц\n",
       "0                      5216.00                      4472.00                4971.60                 Снизилась     премиум                 да                4.40                     4           819               0.75                Товары для детей                                    4                                   4               2                 5                      12                         10\n",
       "1                      5457.50                      4826.00                5058.40                 Снизилась    стандарт                нет                4.90                     3           539               0.14               Домашний текстиль                                    5                                   2               1                 5                       8                         13\n",
       "2                      6158.00                      4793.00                6610.40                 Снизилась    стандарт                 да                3.20                     5           896               0.99                Товары для детей                                    5                                   0               6                 4                      11                         13\n",
       "3                      5807.50                      4594.00                5872.50                 Снизилась    стандарт                нет                5.10                     3          1064               0.94                Товары для детей                                    3                                   2               3                 2                       8                         11\n",
       "4                      4738.50                      5124.00                5388.50                 Снизилась    стандарт                 да                3.30                     4           762               0.26               Домашний текстиль                                    4                                   1               1                 4                      10                         10\n",
       "...                        ...                          ...                    ...                       ...         ...                ...                 ...                   ...           ...                ...                             ...                                  ...                                 ...             ...               ...                     ...                        ...\n",
       "1292                   3664.00                      4704.00                4741.70           Прежний уровень    стандарт                 да                6.60                     3           318               0.24  Техника для красоты и здоровья                                    5                                   3               3                11                      14                          7\n",
       "1293                   4729.00                      5299.00                5353.00           Прежний уровень    стандарт                нет                5.10                     4           454               0.21               Домашний текстиль                                    6                                   2               3                 9                      12                         11\n",
       "1294                   5160.00                      5334.00                5139.20           Прежний уровень    стандарт                 да                4.10                     3           586               0.20               Домашний текстиль                                    3                                   2               5                 7                      12                         18\n",
       "1295                   4923.00                      4725.00                5224.60           Прежний уровень    стандарт                 да                6.30                     5           645               0.12  Техника для красоты и здоровья                                    3                                   3               5                 7                      18                          7\n",
       "1296                   4720.00                      5183.00                4448.30           Прежний уровень     премиум                 да                4.00                     5           906               0.94  Техника для красоты и здоровья                                    4                                   5               3                12                      15                         10\n",
       "\n",
       "[1297 rows x 17 columns]"
      ]
     },
     "execution_count": 47,
     "metadata": {},
     "output_type": "execute_result"
    }
   ],
   "source": [
    "df_for_model"
   ]
  },
  {
   "cell_type": "code",
   "execution_count": 48,
   "id": "32095181",
   "metadata": {},
   "outputs": [
    {
     "name": "stdout",
     "output_type": "stream",
     "text": [
      "Размеры выборок:\n",
      "Train: 972 (74.9%)\n",
      "Test: 325 (25.1%)\n",
      "Общий размер: 1297\n",
      "\n",
      "Распределение классов:\n",
      "Train: Прежний уровень   0.62\n",
      "Снизилась         0.38\n",
      "Name: Покупательская_активность, dtype: float64\n",
      "\n",
      "Test: Прежний уровень   0.62\n",
      "Снизилась         0.38\n",
      "Name: Покупательская_активность, dtype: float64\n"
     ]
    }
   ],
   "source": [
    "# X_train - тренировочная выборка для обучения модели\n",
    "# y_train - целевой признак для обучения модели\n",
    "\n",
    "# X_test - для финальной проверки качества модели\n",
    "# y_test - целевой признак для финальной проверки качества модели\n",
    "\n",
    "print(\"Размеры выборок:\")\n",
    "print(f\"Train: {X_train.shape[0]} ({X_train.shape[0]/len(df)*100:.1f}%)\") \n",
    "print(f\"Test: {X_test.shape[0]} ({X_test.shape[0]/len(df)*100:.1f}%)\")\n",
    "print(f\"Общий размер: {len(df)}\")\n",
    "\n",
    "# проверим распределение классов\n",
    "print(\"\\nРаспределение классов:\")\n",
    "print(\"Train:\", y_train.value_counts(normalize=True).round(3))\n",
    "print()\n",
    "print(\"Test:\", y_test.value_counts(normalize=True).round(3))"
   ]
  },
  {
   "cell_type": "markdown",
   "id": "f3c37493",
   "metadata": {},
   "source": [
    "## **6.2. Масштабируем и категорируем**"
   ]
  },
  {
   "cell_type": "markdown",
   "id": "66151383",
   "metadata": {},
   "source": [
    "Создадим пайплайн для подготовки данных к обучению:\n",
    "* Кодируем категориальные признаки;\n",
    "* Масштабируем количественные признаки;\n",
    "\n",
    "Создадим пайплайн с использованием ColumnTransformer."
   ]
  },
  {
   "cell_type": "code",
   "execution_count": null,
   "id": "a6f478bd",
   "metadata": {},
   "outputs": [],
   "source": [
    "# Разделяем категориальные признаки\n",
    "numeric_features = X.select_dtypes(include=[np.number]).columns\n",
    "ordinal_features = ['Тип_сервиса', 'Разрешить_сообщать']  # стандарт < премиум; # нет < да\n",
    "nominal_features = ['Популярная_категория']  # неупорядоченные"
   ]
  },
  {
   "cell_type": "code",
   "execution_count": null,
   "id": "90ce051c",
   "metadata": {},
   "outputs": [],
   "source": [
    "# Создаем пайплайн\n",
    "preprocessor = ColumnTransformer([\n",
    "                                  ('num', Pipeline([\n",
    "                                      ('imputer', SimpleImputer(strategy='median')),\n",
    "                                      ('scaler', StandardScaler())  \n",
    "                                  ]), numeric_features),\n",
    "    \n",
    "                                  ('ord', Pipeline([\n",
    "                                      ('imputer', SimpleImputer(strategy='most_frequent')),\n",
    "                                      ('ordinal', OrdinalEncoder(categories=[['стандарт', 'премиум'], ['нет', 'да']], handle_unknown='use_encoded_value', unknown_value=-1))\n",
    "                                  ]), ordinal_features),\n",
    "    \n",
    "                                  ('nom', Pipeline([\n",
    "                                      ('imputer', SimpleImputer(strategy='most_frequent')),\n",
    "                                      ('ohe', OneHotEncoder(drop='first', handle_unknown='ignore', sparse_output=False)\n",
    "                                      )                   # И drop='first' И handle_unknown='ignore' - чудесно работают вместе в обновленной sklearn\n",
    "                                  ]), nominal_features)\n",
    "])\n"
   ]
  },
  {
   "cell_type": "markdown",
   "id": "88137568",
   "metadata": {},
   "source": [
    "## **6.3. Определение лучшей метрики для задачи**"
   ]
  },
  {
   "cell_type": "markdown",
   "id": "9d885b12",
   "metadata": {},
   "source": [
    "Чтобы выбрать лучшую модель, определимся с подходящей для моделей метрикой. Аргументируем свой выбор."
   ]
  },
  {
   "cell_type": "markdown",
   "id": "8c983222",
   "metadata": {},
   "source": [
    "   \n",
    "Для задачи увеличения покупательской активности лучшая метрика: **recall** для класса \"**Снизилась**\"\n",
    "\n",
    "**Почему именно recall:**\n",
    "\n",
    "* **Цель**: найти ВСЕХ клиентов с риском снижения активности\n",
    "* **Критично**: не пропустить клиентов, которым нужна помощь\n",
    "* **Допустимо**: ложные срабатывания (лишняя забота о клиенте не вредит)\n",
    "\n",
    "**Сравнение метрик в бизнес-контексте:**\n",
    "\n",
    "    \n",
    "| Метрика | Что показывает | Бизнес-смысл |\n",
    "|---------|----------------|--------------|\n",
    "| **Recall** | % проблемных клиентов | ✅ **Не потеряем клиентов** |\n",
    "| **Precision** | % найденных действительно проблемные | ⚠️ Потратим ресурсы на \"ложных\" |\n",
    "| **F1** | Баланс точности и полноты | 🔄 Компромисс |\n",
    "| **ROC-AUC** | Общее качество разделения | 📈 Техническая метрика |\n",
    "\n",
    "    \n",
    "**Экономическое обоснование (стоимость ошибок):**\n",
    "\n",
    "• Пропустить проблемного клиента = потеря клиента навсегда\n",
    "\n",
    "• Ложно определить как проблемного = небольшие маркетинговые расходы\n",
    "\n",
    "**Вывод: лучше перестраховаться!**\n",
    "\n",
    "**Определили основную метрику: recall**"
   ]
  },
  {
   "cell_type": "markdown",
   "id": "5144ef5e",
   "metadata": {},
   "source": [
    "## **6.3 Поиск лучшей модели**"
   ]
  },
  {
   "cell_type": "markdown",
   "id": "3e7cf443",
   "metadata": {},
   "source": [
    "**Создадим пайплайн для поиска лучшей модели среди:**\n",
    "* KNeighborsClassifier(), \n",
    "* DecisionTreeClassifier(), \n",
    "* LogisticRegression(), \n",
    "* SVC()."
   ]
  },
  {
   "cell_type": "markdown",
   "id": "25de2140",
   "metadata": {},
   "source": [
    "Для каждого классификатора укажем гиперпараметры."
   ]
  },
  {
   "cell_type": "markdown",
   "id": "72899c39",
   "metadata": {},
   "source": [
    "**Масштабируем данные тремя скалерами:**\n",
    "* StandardScaler(), \n",
    "* MinMaxScaler(), \n",
    "* RobustScaler()"
   ]
  },
  {
   "cell_type": "code",
   "execution_count": 51,
   "id": "31eb7ca1",
   "metadata": {},
   "outputs": [],
   "source": [
    "pos_label='Снизилась'\n",
    "\n",
    "scoring_metrics = {\n",
    "    'recall': make_scorer(recall_score, pos_label=pos_label),\n",
    "    'precision': make_scorer(precision_score, pos_label=pos_label), \n",
    "    'f1': make_scorer(f1_score, pos_label=pos_label),\n",
    "    'roc_auc': 'roc_auc'\n",
    "}\n",
    "main_metric = 'recall'\n",
    "\n",
    "\n",
    "classifiers_params = {\n",
    "                        KNeighborsClassifier(): {  # нет параметра random_state, потому что он не использует случайные числа в своей работе.\n",
    "                            'n_neighbors': [3, 5, 7, 9, 11],  # чем больше мы тут возьмем соседей, тем лучше мы сможем подобрать порог по recall и выбрать другую модель LogisticRegression\n",
    "                            'weights': ['uniform', 'distance'],\n",
    "                            'metric': ['euclidean', 'manhattan', 'minkowski'], \n",
    "                            'n_jobs': [-1],\n",
    "                            'algorithm': ['ball_tree', 'kd_tree']\n",
    "                        },\n",
    "                        \n",
    "                        DecisionTreeClassifier(class_weight='balanced', random_state=RANDOM_STATE): {\n",
    "                            'max_depth': [4, 5, 6, 7, 8],\n",
    "                            'criterion': ['gini', 'entropy'],\n",
    "                            'min_samples_split': [9, 10, 11],\n",
    "                            'min_samples_leaf': [1, 2, 3]\n",
    "                        },\n",
    "                        \n",
    "                        LogisticRegression(class_weight='balanced', random_state=RANDOM_STATE): {\n",
    "                            'C': [0.001, 0.01, 0.02, 0.1, 1, 5, 10, 100],\n",
    "                            'solver': ['liblinear', 'lbfgs'],\n",
    "                            'penalty': ['l1', 'l2'],\n",
    "                            'max_iter': [1000]\n",
    "                        },\n",
    "\n",
    "                        SVC(class_weight='balanced', random_state=RANDOM_STATE, probability=True): {  # У SVC добавлен probability=True для корректной работы с ROC-AUC\n",
    "                            'C': [1, 2, 3, 4, 6],\n",
    "                            'kernel': ['rbf', 'linear', 'poly'],\n",
    "                            'gamma': ['scale', 'auto', 0.05]\n",
    "                        }\n",
    "}"
   ]
  },
  {
   "cell_type": "code",
   "execution_count": 52,
   "id": "41d6cece",
   "metadata": {},
   "outputs": [
    {
     "data": {
      "text/html": [
       "<style>#sk-container-id-1 {\n",
       "  /* Definition of color scheme common for light and dark mode */\n",
       "  --sklearn-color-text: #000;\n",
       "  --sklearn-color-text-muted: #666;\n",
       "  --sklearn-color-line: gray;\n",
       "  /* Definition of color scheme for unfitted estimators */\n",
       "  --sklearn-color-unfitted-level-0: #fff5e6;\n",
       "  --sklearn-color-unfitted-level-1: #f6e4d2;\n",
       "  --sklearn-color-unfitted-level-2: #ffe0b3;\n",
       "  --sklearn-color-unfitted-level-3: chocolate;\n",
       "  /* Definition of color scheme for fitted estimators */\n",
       "  --sklearn-color-fitted-level-0: #f0f8ff;\n",
       "  --sklearn-color-fitted-level-1: #d4ebff;\n",
       "  --sklearn-color-fitted-level-2: #b3dbfd;\n",
       "  --sklearn-color-fitted-level-3: cornflowerblue;\n",
       "\n",
       "  /* Specific color for light theme */\n",
       "  --sklearn-color-text-on-default-background: var(--sg-text-color, var(--theme-code-foreground, var(--jp-content-font-color1, black)));\n",
       "  --sklearn-color-background: var(--sg-background-color, var(--theme-background, var(--jp-layout-color0, white)));\n",
       "  --sklearn-color-border-box: var(--sg-text-color, var(--theme-code-foreground, var(--jp-content-font-color1, black)));\n",
       "  --sklearn-color-icon: #696969;\n",
       "\n",
       "  @media (prefers-color-scheme: dark) {\n",
       "    /* Redefinition of color scheme for dark theme */\n",
       "    --sklearn-color-text-on-default-background: var(--sg-text-color, var(--theme-code-foreground, var(--jp-content-font-color1, white)));\n",
       "    --sklearn-color-background: var(--sg-background-color, var(--theme-background, var(--jp-layout-color0, #111)));\n",
       "    --sklearn-color-border-box: var(--sg-text-color, var(--theme-code-foreground, var(--jp-content-font-color1, white)));\n",
       "    --sklearn-color-icon: #878787;\n",
       "  }\n",
       "}\n",
       "\n",
       "#sk-container-id-1 {\n",
       "  color: var(--sklearn-color-text);\n",
       "}\n",
       "\n",
       "#sk-container-id-1 pre {\n",
       "  padding: 0;\n",
       "}\n",
       "\n",
       "#sk-container-id-1 input.sk-hidden--visually {\n",
       "  border: 0;\n",
       "  clip: rect(1px 1px 1px 1px);\n",
       "  clip: rect(1px, 1px, 1px, 1px);\n",
       "  height: 1px;\n",
       "  margin: -1px;\n",
       "  overflow: hidden;\n",
       "  padding: 0;\n",
       "  position: absolute;\n",
       "  width: 1px;\n",
       "}\n",
       "\n",
       "#sk-container-id-1 div.sk-dashed-wrapped {\n",
       "  border: 1px dashed var(--sklearn-color-line);\n",
       "  margin: 0 0.4em 0.5em 0.4em;\n",
       "  box-sizing: border-box;\n",
       "  padding-bottom: 0.4em;\n",
       "  background-color: var(--sklearn-color-background);\n",
       "}\n",
       "\n",
       "#sk-container-id-1 div.sk-container {\n",
       "  /* jupyter's `normalize.less` sets `[hidden] { display: none; }`\n",
       "     but bootstrap.min.css set `[hidden] { display: none !important; }`\n",
       "     so we also need the `!important` here to be able to override the\n",
       "     default hidden behavior on the sphinx rendered scikit-learn.org.\n",
       "     See: https://github.com/scikit-learn/scikit-learn/issues/21755 */\n",
       "  display: inline-block !important;\n",
       "  position: relative;\n",
       "}\n",
       "\n",
       "#sk-container-id-1 div.sk-text-repr-fallback {\n",
       "  display: none;\n",
       "}\n",
       "\n",
       "div.sk-parallel-item,\n",
       "div.sk-serial,\n",
       "div.sk-item {\n",
       "  /* draw centered vertical line to link estimators */\n",
       "  background-image: linear-gradient(var(--sklearn-color-text-on-default-background), var(--sklearn-color-text-on-default-background));\n",
       "  background-size: 2px 100%;\n",
       "  background-repeat: no-repeat;\n",
       "  background-position: center center;\n",
       "}\n",
       "\n",
       "/* Parallel-specific style estimator block */\n",
       "\n",
       "#sk-container-id-1 div.sk-parallel-item::after {\n",
       "  content: \"\";\n",
       "  width: 100%;\n",
       "  border-bottom: 2px solid var(--sklearn-color-text-on-default-background);\n",
       "  flex-grow: 1;\n",
       "}\n",
       "\n",
       "#sk-container-id-1 div.sk-parallel {\n",
       "  display: flex;\n",
       "  align-items: stretch;\n",
       "  justify-content: center;\n",
       "  background-color: var(--sklearn-color-background);\n",
       "  position: relative;\n",
       "}\n",
       "\n",
       "#sk-container-id-1 div.sk-parallel-item {\n",
       "  display: flex;\n",
       "  flex-direction: column;\n",
       "}\n",
       "\n",
       "#sk-container-id-1 div.sk-parallel-item:first-child::after {\n",
       "  align-self: flex-end;\n",
       "  width: 50%;\n",
       "}\n",
       "\n",
       "#sk-container-id-1 div.sk-parallel-item:last-child::after {\n",
       "  align-self: flex-start;\n",
       "  width: 50%;\n",
       "}\n",
       "\n",
       "#sk-container-id-1 div.sk-parallel-item:only-child::after {\n",
       "  width: 0;\n",
       "}\n",
       "\n",
       "/* Serial-specific style estimator block */\n",
       "\n",
       "#sk-container-id-1 div.sk-serial {\n",
       "  display: flex;\n",
       "  flex-direction: column;\n",
       "  align-items: center;\n",
       "  background-color: var(--sklearn-color-background);\n",
       "  padding-right: 1em;\n",
       "  padding-left: 1em;\n",
       "}\n",
       "\n",
       "\n",
       "/* Toggleable style: style used for estimator/Pipeline/ColumnTransformer box that is\n",
       "clickable and can be expanded/collapsed.\n",
       "- Pipeline and ColumnTransformer use this feature and define the default style\n",
       "- Estimators will overwrite some part of the style using the `sk-estimator` class\n",
       "*/\n",
       "\n",
       "/* Pipeline and ColumnTransformer style (default) */\n",
       "\n",
       "#sk-container-id-1 div.sk-toggleable {\n",
       "  /* Default theme specific background. It is overwritten whether we have a\n",
       "  specific estimator or a Pipeline/ColumnTransformer */\n",
       "  background-color: var(--sklearn-color-background);\n",
       "}\n",
       "\n",
       "/* Toggleable label */\n",
       "#sk-container-id-1 label.sk-toggleable__label {\n",
       "  cursor: pointer;\n",
       "  display: flex;\n",
       "  width: 100%;\n",
       "  margin-bottom: 0;\n",
       "  padding: 0.5em;\n",
       "  box-sizing: border-box;\n",
       "  text-align: center;\n",
       "  align-items: start;\n",
       "  justify-content: space-between;\n",
       "  gap: 0.5em;\n",
       "}\n",
       "\n",
       "#sk-container-id-1 label.sk-toggleable__label .caption {\n",
       "  font-size: 0.6rem;\n",
       "  font-weight: lighter;\n",
       "  color: var(--sklearn-color-text-muted);\n",
       "}\n",
       "\n",
       "#sk-container-id-1 label.sk-toggleable__label-arrow:before {\n",
       "  /* Arrow on the left of the label */\n",
       "  content: \"▸\";\n",
       "  float: left;\n",
       "  margin-right: 0.25em;\n",
       "  color: var(--sklearn-color-icon);\n",
       "}\n",
       "\n",
       "#sk-container-id-1 label.sk-toggleable__label-arrow:hover:before {\n",
       "  color: var(--sklearn-color-text);\n",
       "}\n",
       "\n",
       "/* Toggleable content - dropdown */\n",
       "\n",
       "#sk-container-id-1 div.sk-toggleable__content {\n",
       "  max-height: 0;\n",
       "  max-width: 0;\n",
       "  overflow: hidden;\n",
       "  text-align: left;\n",
       "  /* unfitted */\n",
       "  background-color: var(--sklearn-color-unfitted-level-0);\n",
       "}\n",
       "\n",
       "#sk-container-id-1 div.sk-toggleable__content.fitted {\n",
       "  /* fitted */\n",
       "  background-color: var(--sklearn-color-fitted-level-0);\n",
       "}\n",
       "\n",
       "#sk-container-id-1 div.sk-toggleable__content pre {\n",
       "  margin: 0.2em;\n",
       "  border-radius: 0.25em;\n",
       "  color: var(--sklearn-color-text);\n",
       "  /* unfitted */\n",
       "  background-color: var(--sklearn-color-unfitted-level-0);\n",
       "}\n",
       "\n",
       "#sk-container-id-1 div.sk-toggleable__content.fitted pre {\n",
       "  /* unfitted */\n",
       "  background-color: var(--sklearn-color-fitted-level-0);\n",
       "}\n",
       "\n",
       "#sk-container-id-1 input.sk-toggleable__control:checked~div.sk-toggleable__content {\n",
       "  /* Expand drop-down */\n",
       "  max-height: 200px;\n",
       "  max-width: 100%;\n",
       "  overflow: auto;\n",
       "}\n",
       "\n",
       "#sk-container-id-1 input.sk-toggleable__control:checked~label.sk-toggleable__label-arrow:before {\n",
       "  content: \"▾\";\n",
       "}\n",
       "\n",
       "/* Pipeline/ColumnTransformer-specific style */\n",
       "\n",
       "#sk-container-id-1 div.sk-label input.sk-toggleable__control:checked~label.sk-toggleable__label {\n",
       "  color: var(--sklearn-color-text);\n",
       "  background-color: var(--sklearn-color-unfitted-level-2);\n",
       "}\n",
       "\n",
       "#sk-container-id-1 div.sk-label.fitted input.sk-toggleable__control:checked~label.sk-toggleable__label {\n",
       "  background-color: var(--sklearn-color-fitted-level-2);\n",
       "}\n",
       "\n",
       "/* Estimator-specific style */\n",
       "\n",
       "/* Colorize estimator box */\n",
       "#sk-container-id-1 div.sk-estimator input.sk-toggleable__control:checked~label.sk-toggleable__label {\n",
       "  /* unfitted */\n",
       "  background-color: var(--sklearn-color-unfitted-level-2);\n",
       "}\n",
       "\n",
       "#sk-container-id-1 div.sk-estimator.fitted input.sk-toggleable__control:checked~label.sk-toggleable__label {\n",
       "  /* fitted */\n",
       "  background-color: var(--sklearn-color-fitted-level-2);\n",
       "}\n",
       "\n",
       "#sk-container-id-1 div.sk-label label.sk-toggleable__label,\n",
       "#sk-container-id-1 div.sk-label label {\n",
       "  /* The background is the default theme color */\n",
       "  color: var(--sklearn-color-text-on-default-background);\n",
       "}\n",
       "\n",
       "/* On hover, darken the color of the background */\n",
       "#sk-container-id-1 div.sk-label:hover label.sk-toggleable__label {\n",
       "  color: var(--sklearn-color-text);\n",
       "  background-color: var(--sklearn-color-unfitted-level-2);\n",
       "}\n",
       "\n",
       "/* Label box, darken color on hover, fitted */\n",
       "#sk-container-id-1 div.sk-label.fitted:hover label.sk-toggleable__label.fitted {\n",
       "  color: var(--sklearn-color-text);\n",
       "  background-color: var(--sklearn-color-fitted-level-2);\n",
       "}\n",
       "\n",
       "/* Estimator label */\n",
       "\n",
       "#sk-container-id-1 div.sk-label label {\n",
       "  font-family: monospace;\n",
       "  font-weight: bold;\n",
       "  display: inline-block;\n",
       "  line-height: 1.2em;\n",
       "}\n",
       "\n",
       "#sk-container-id-1 div.sk-label-container {\n",
       "  text-align: center;\n",
       "}\n",
       "\n",
       "/* Estimator-specific */\n",
       "#sk-container-id-1 div.sk-estimator {\n",
       "  font-family: monospace;\n",
       "  border: 1px dotted var(--sklearn-color-border-box);\n",
       "  border-radius: 0.25em;\n",
       "  box-sizing: border-box;\n",
       "  margin-bottom: 0.5em;\n",
       "  /* unfitted */\n",
       "  background-color: var(--sklearn-color-unfitted-level-0);\n",
       "}\n",
       "\n",
       "#sk-container-id-1 div.sk-estimator.fitted {\n",
       "  /* fitted */\n",
       "  background-color: var(--sklearn-color-fitted-level-0);\n",
       "}\n",
       "\n",
       "/* on hover */\n",
       "#sk-container-id-1 div.sk-estimator:hover {\n",
       "  /* unfitted */\n",
       "  background-color: var(--sklearn-color-unfitted-level-2);\n",
       "}\n",
       "\n",
       "#sk-container-id-1 div.sk-estimator.fitted:hover {\n",
       "  /* fitted */\n",
       "  background-color: var(--sklearn-color-fitted-level-2);\n",
       "}\n",
       "\n",
       "/* Specification for estimator info (e.g. \"i\" and \"?\") */\n",
       "\n",
       "/* Common style for \"i\" and \"?\" */\n",
       "\n",
       ".sk-estimator-doc-link,\n",
       "a:link.sk-estimator-doc-link,\n",
       "a:visited.sk-estimator-doc-link {\n",
       "  float: right;\n",
       "  font-size: smaller;\n",
       "  line-height: 1em;\n",
       "  font-family: monospace;\n",
       "  background-color: var(--sklearn-color-background);\n",
       "  border-radius: 1em;\n",
       "  height: 1em;\n",
       "  width: 1em;\n",
       "  text-decoration: none !important;\n",
       "  margin-left: 0.5em;\n",
       "  text-align: center;\n",
       "  /* unfitted */\n",
       "  border: var(--sklearn-color-unfitted-level-1) 1pt solid;\n",
       "  color: var(--sklearn-color-unfitted-level-1);\n",
       "}\n",
       "\n",
       ".sk-estimator-doc-link.fitted,\n",
       "a:link.sk-estimator-doc-link.fitted,\n",
       "a:visited.sk-estimator-doc-link.fitted {\n",
       "  /* fitted */\n",
       "  border: var(--sklearn-color-fitted-level-1) 1pt solid;\n",
       "  color: var(--sklearn-color-fitted-level-1);\n",
       "}\n",
       "\n",
       "/* On hover */\n",
       "div.sk-estimator:hover .sk-estimator-doc-link:hover,\n",
       ".sk-estimator-doc-link:hover,\n",
       "div.sk-label-container:hover .sk-estimator-doc-link:hover,\n",
       ".sk-estimator-doc-link:hover {\n",
       "  /* unfitted */\n",
       "  background-color: var(--sklearn-color-unfitted-level-3);\n",
       "  color: var(--sklearn-color-background);\n",
       "  text-decoration: none;\n",
       "}\n",
       "\n",
       "div.sk-estimator.fitted:hover .sk-estimator-doc-link.fitted:hover,\n",
       ".sk-estimator-doc-link.fitted:hover,\n",
       "div.sk-label-container:hover .sk-estimator-doc-link.fitted:hover,\n",
       ".sk-estimator-doc-link.fitted:hover {\n",
       "  /* fitted */\n",
       "  background-color: var(--sklearn-color-fitted-level-3);\n",
       "  color: var(--sklearn-color-background);\n",
       "  text-decoration: none;\n",
       "}\n",
       "\n",
       "/* Span, style for the box shown on hovering the info icon */\n",
       ".sk-estimator-doc-link span {\n",
       "  display: none;\n",
       "  z-index: 9999;\n",
       "  position: relative;\n",
       "  font-weight: normal;\n",
       "  right: .2ex;\n",
       "  padding: .5ex;\n",
       "  margin: .5ex;\n",
       "  width: min-content;\n",
       "  min-width: 20ex;\n",
       "  max-width: 50ex;\n",
       "  color: var(--sklearn-color-text);\n",
       "  box-shadow: 2pt 2pt 4pt #999;\n",
       "  /* unfitted */\n",
       "  background: var(--sklearn-color-unfitted-level-0);\n",
       "  border: .5pt solid var(--sklearn-color-unfitted-level-3);\n",
       "}\n",
       "\n",
       ".sk-estimator-doc-link.fitted span {\n",
       "  /* fitted */\n",
       "  background: var(--sklearn-color-fitted-level-0);\n",
       "  border: var(--sklearn-color-fitted-level-3);\n",
       "}\n",
       "\n",
       ".sk-estimator-doc-link:hover span {\n",
       "  display: block;\n",
       "}\n",
       "\n",
       "/* \"?\"-specific style due to the `<a>` HTML tag */\n",
       "\n",
       "#sk-container-id-1 a.estimator_doc_link {\n",
       "  float: right;\n",
       "  font-size: 1rem;\n",
       "  line-height: 1em;\n",
       "  font-family: monospace;\n",
       "  background-color: var(--sklearn-color-background);\n",
       "  border-radius: 1rem;\n",
       "  height: 1rem;\n",
       "  width: 1rem;\n",
       "  text-decoration: none;\n",
       "  /* unfitted */\n",
       "  color: var(--sklearn-color-unfitted-level-1);\n",
       "  border: var(--sklearn-color-unfitted-level-1) 1pt solid;\n",
       "}\n",
       "\n",
       "#sk-container-id-1 a.estimator_doc_link.fitted {\n",
       "  /* fitted */\n",
       "  border: var(--sklearn-color-fitted-level-1) 1pt solid;\n",
       "  color: var(--sklearn-color-fitted-level-1);\n",
       "}\n",
       "\n",
       "/* On hover */\n",
       "#sk-container-id-1 a.estimator_doc_link:hover {\n",
       "  /* unfitted */\n",
       "  background-color: var(--sklearn-color-unfitted-level-3);\n",
       "  color: var(--sklearn-color-background);\n",
       "  text-decoration: none;\n",
       "}\n",
       "\n",
       "#sk-container-id-1 a.estimator_doc_link.fitted:hover {\n",
       "  /* fitted */\n",
       "  background-color: var(--sklearn-color-fitted-level-3);\n",
       "}\n",
       "</style><div id=\"sk-container-id-1\" class=\"sk-top-container\"><div class=\"sk-text-repr-fallback\"><pre>GridSearchCV(cv=StratifiedKFold(n_splits=5, random_state=42, shuffle=True),\n",
       "             estimator=Pipeline(steps=[(&#x27;preprocessor&#x27;,\n",
       "                                        ColumnTransformer(transformers=[(&#x27;num&#x27;,\n",
       "                                                                         Pipeline(steps=[(&#x27;imputer&#x27;,\n",
       "                                                                                          SimpleImputer(strategy=&#x27;median&#x27;)),\n",
       "                                                                                         (&#x27;scaler&#x27;,\n",
       "                                                                                          StandardScaler())]),\n",
       "                                                                         Index([&#x27;Выручка_предыдущий_месяц&#x27;, &#x27;Выручка_препредыдущий_месяц&#x27;,\n",
       "       &#x27;Выручка_текущий_месяц&#x27;, &#x27;Маркет_актив_6_м...\n",
       "                          &#x27;preprocessor__num__scaler&#x27;: [StandardScaler(),\n",
       "                                                        MinMaxScaler(),\n",
       "                                                        RobustScaler()]}],\n",
       "             refit=&#x27;recall&#x27;,\n",
       "             scoring={&#x27;f1&#x27;: make_scorer(f1_score, response_method=&#x27;predict&#x27;, pos_label=Снизилась),\n",
       "                      &#x27;precision&#x27;: make_scorer(precision_score, response_method=&#x27;predict&#x27;, pos_label=Снизилась),\n",
       "                      &#x27;recall&#x27;: make_scorer(recall_score, response_method=&#x27;predict&#x27;, pos_label=Снизилась),\n",
       "                      &#x27;roc_auc&#x27;: &#x27;roc_auc&#x27;})</pre><b>In a Jupyter environment, please rerun this cell to show the HTML representation or trust the notebook. <br />On GitHub, the HTML representation is unable to render, please try loading this page with nbviewer.org.</b></div><div class=\"sk-container\" hidden><div class=\"sk-item sk-dashed-wrapped\"><div class=\"sk-label-container\"><div class=\"sk-label fitted sk-toggleable\"><input class=\"sk-toggleable__control sk-hidden--visually\" id=\"sk-estimator-id-1\" type=\"checkbox\" ><label for=\"sk-estimator-id-1\" class=\"sk-toggleable__label fitted sk-toggleable__label-arrow\"><div><div>GridSearchCV</div></div><div><a class=\"sk-estimator-doc-link fitted\" rel=\"noreferrer\" target=\"_blank\" href=\"https://scikit-learn.org/1.6/modules/generated/sklearn.model_selection.GridSearchCV.html\">?<span>Documentation for GridSearchCV</span></a><span class=\"sk-estimator-doc-link fitted\">i<span>Fitted</span></span></div></label><div class=\"sk-toggleable__content fitted\"><pre>GridSearchCV(cv=StratifiedKFold(n_splits=5, random_state=42, shuffle=True),\n",
       "             estimator=Pipeline(steps=[(&#x27;preprocessor&#x27;,\n",
       "                                        ColumnTransformer(transformers=[(&#x27;num&#x27;,\n",
       "                                                                         Pipeline(steps=[(&#x27;imputer&#x27;,\n",
       "                                                                                          SimpleImputer(strategy=&#x27;median&#x27;)),\n",
       "                                                                                         (&#x27;scaler&#x27;,\n",
       "                                                                                          StandardScaler())]),\n",
       "                                                                         Index([&#x27;Выручка_предыдущий_месяц&#x27;, &#x27;Выручка_препредыдущий_месяц&#x27;,\n",
       "       &#x27;Выручка_текущий_месяц&#x27;, &#x27;Маркет_актив_6_м...\n",
       "                          &#x27;preprocessor__num__scaler&#x27;: [StandardScaler(),\n",
       "                                                        MinMaxScaler(),\n",
       "                                                        RobustScaler()]}],\n",
       "             refit=&#x27;recall&#x27;,\n",
       "             scoring={&#x27;f1&#x27;: make_scorer(f1_score, response_method=&#x27;predict&#x27;, pos_label=Снизилась),\n",
       "                      &#x27;precision&#x27;: make_scorer(precision_score, response_method=&#x27;predict&#x27;, pos_label=Снизилась),\n",
       "                      &#x27;recall&#x27;: make_scorer(recall_score, response_method=&#x27;predict&#x27;, pos_label=Снизилась),\n",
       "                      &#x27;roc_auc&#x27;: &#x27;roc_auc&#x27;})</pre></div> </div></div><div class=\"sk-parallel\"><div class=\"sk-parallel-item\"><div class=\"sk-item\"><div class=\"sk-label-container\"><div class=\"sk-label fitted sk-toggleable\"><input class=\"sk-toggleable__control sk-hidden--visually\" id=\"sk-estimator-id-2\" type=\"checkbox\" ><label for=\"sk-estimator-id-2\" class=\"sk-toggleable__label fitted sk-toggleable__label-arrow\"><div><div>best_estimator_: Pipeline</div></div></label><div class=\"sk-toggleable__content fitted\"><pre>Pipeline(steps=[(&#x27;preprocessor&#x27;,\n",
       "                 ColumnTransformer(transformers=[(&#x27;num&#x27;,\n",
       "                                                  Pipeline(steps=[(&#x27;imputer&#x27;,\n",
       "                                                                   SimpleImputer(strategy=&#x27;median&#x27;)),\n",
       "                                                                  (&#x27;scaler&#x27;,\n",
       "                                                                   MinMaxScaler())]),\n",
       "                                                  Index([&#x27;Выручка_предыдущий_месяц&#x27;, &#x27;Выручка_препредыдущий_месяц&#x27;,\n",
       "       &#x27;Выручка_текущий_месяц&#x27;, &#x27;Маркет_актив_6_мес&#x27;, &#x27;Маркет_актив_тек_мес&#x27;,\n",
       "       &#x27;Длительность&#x27;, &#x27;Акционные_покупки&#x27;,\n",
       "       &#x27;Средний_просмотр_катег...\n",
       "                                                                                  unknown_value=-1))]),\n",
       "                                                  [&#x27;Тип_сервиса&#x27;,\n",
       "                                                   &#x27;Разрешить_сообщать&#x27;]),\n",
       "                                                 (&#x27;nom&#x27;,\n",
       "                                                  Pipeline(steps=[(&#x27;imputer&#x27;,\n",
       "                                                                   SimpleImputer(strategy=&#x27;most_frequent&#x27;)),\n",
       "                                                                  (&#x27;ohe&#x27;,\n",
       "                                                                   OneHotEncoder(drop=&#x27;first&#x27;,\n",
       "                                                                                 handle_unknown=&#x27;ignore&#x27;,\n",
       "                                                                                 sparse_output=False))]),\n",
       "                                                  [&#x27;Популярная_категория&#x27;])])),\n",
       "                (&#x27;classifier&#x27;,\n",
       "                 SVC(C=1, class_weight=&#x27;balanced&#x27;, gamma=&#x27;auto&#x27;, kernel=&#x27;poly&#x27;,\n",
       "                     probability=True, random_state=42))])</pre></div> </div></div><div class=\"sk-serial\"><div class=\"sk-item\"><div class=\"sk-serial\"><div class=\"sk-item sk-dashed-wrapped\"><div class=\"sk-label-container\"><div class=\"sk-label fitted sk-toggleable\"><input class=\"sk-toggleable__control sk-hidden--visually\" id=\"sk-estimator-id-3\" type=\"checkbox\" ><label for=\"sk-estimator-id-3\" class=\"sk-toggleable__label fitted sk-toggleable__label-arrow\"><div><div>preprocessor: ColumnTransformer</div></div><div><a class=\"sk-estimator-doc-link fitted\" rel=\"noreferrer\" target=\"_blank\" href=\"https://scikit-learn.org/1.6/modules/generated/sklearn.compose.ColumnTransformer.html\">?<span>Documentation for preprocessor: ColumnTransformer</span></a></div></label><div class=\"sk-toggleable__content fitted\"><pre>ColumnTransformer(transformers=[(&#x27;num&#x27;,\n",
       "                                 Pipeline(steps=[(&#x27;imputer&#x27;,\n",
       "                                                  SimpleImputer(strategy=&#x27;median&#x27;)),\n",
       "                                                 (&#x27;scaler&#x27;, MinMaxScaler())]),\n",
       "                                 Index([&#x27;Выручка_предыдущий_месяц&#x27;, &#x27;Выручка_препредыдущий_месяц&#x27;,\n",
       "       &#x27;Выручка_текущий_месяц&#x27;, &#x27;Маркет_актив_6_мес&#x27;, &#x27;Маркет_актив_тек_мес&#x27;,\n",
       "       &#x27;Длительность&#x27;, &#x27;Акционные_покупки&#x27;,\n",
       "       &#x27;Средний_просмотр_категорий_за_визит&#x27;,\n",
       "       &#x27;Неоплаченные_про...\n",
       "                                                 (&#x27;ordinal&#x27;,\n",
       "                                                  OrdinalEncoder(categories=[[&#x27;стандарт&#x27;,\n",
       "                                                                              &#x27;премиум&#x27;],\n",
       "                                                                             [&#x27;да&#x27;,\n",
       "                                                                              &#x27;нет&#x27;]],\n",
       "                                                                 handle_unknown=&#x27;use_encoded_value&#x27;,\n",
       "                                                                 unknown_value=-1))]),\n",
       "                                 [&#x27;Тип_сервиса&#x27;, &#x27;Разрешить_сообщать&#x27;]),\n",
       "                                (&#x27;nom&#x27;,\n",
       "                                 Pipeline(steps=[(&#x27;imputer&#x27;,\n",
       "                                                  SimpleImputer(strategy=&#x27;most_frequent&#x27;)),\n",
       "                                                 (&#x27;ohe&#x27;,\n",
       "                                                  OneHotEncoder(drop=&#x27;first&#x27;,\n",
       "                                                                handle_unknown=&#x27;ignore&#x27;,\n",
       "                                                                sparse_output=False))]),\n",
       "                                 [&#x27;Популярная_категория&#x27;])])</pre></div> </div></div><div class=\"sk-parallel\"><div class=\"sk-parallel-item\"><div class=\"sk-item\"><div class=\"sk-label-container\"><div class=\"sk-label fitted sk-toggleable\"><input class=\"sk-toggleable__control sk-hidden--visually\" id=\"sk-estimator-id-4\" type=\"checkbox\" ><label for=\"sk-estimator-id-4\" class=\"sk-toggleable__label fitted sk-toggleable__label-arrow\"><div><div>num</div></div></label><div class=\"sk-toggleable__content fitted\"><pre>Index([&#x27;Выручка_предыдущий_месяц&#x27;, &#x27;Выручка_препредыдущий_месяц&#x27;,\n",
       "       &#x27;Выручка_текущий_месяц&#x27;, &#x27;Маркет_актив_6_мес&#x27;, &#x27;Маркет_актив_тек_мес&#x27;,\n",
       "       &#x27;Длительность&#x27;, &#x27;Акционные_покупки&#x27;,\n",
       "       &#x27;Средний_просмотр_категорий_за_визит&#x27;,\n",
       "       &#x27;Неоплаченные_продукты_штук_квартал&#x27;, &#x27;Ошибка_сервиса&#x27;,\n",
       "       &#x27;Страниц_за_визит&#x27;, &#x27;минут_предыдущий_месяц&#x27;,\n",
       "       &#x27;минут_препредыдущий_месяц&#x27;],\n",
       "      dtype=&#x27;object&#x27;)</pre></div> </div></div><div class=\"sk-serial\"><div class=\"sk-item\"><div class=\"sk-serial\"><div class=\"sk-item\"><div class=\"sk-estimator fitted sk-toggleable\"><input class=\"sk-toggleable__control sk-hidden--visually\" id=\"sk-estimator-id-5\" type=\"checkbox\" ><label for=\"sk-estimator-id-5\" class=\"sk-toggleable__label fitted sk-toggleable__label-arrow\"><div><div>SimpleImputer</div></div><div><a class=\"sk-estimator-doc-link fitted\" rel=\"noreferrer\" target=\"_blank\" href=\"https://scikit-learn.org/1.6/modules/generated/sklearn.impute.SimpleImputer.html\">?<span>Documentation for SimpleImputer</span></a></div></label><div class=\"sk-toggleable__content fitted\"><pre>SimpleImputer(strategy=&#x27;median&#x27;)</pre></div> </div></div><div class=\"sk-item\"><div class=\"sk-estimator fitted sk-toggleable\"><input class=\"sk-toggleable__control sk-hidden--visually\" id=\"sk-estimator-id-6\" type=\"checkbox\" ><label for=\"sk-estimator-id-6\" class=\"sk-toggleable__label fitted sk-toggleable__label-arrow\"><div><div>MinMaxScaler</div></div><div><a class=\"sk-estimator-doc-link fitted\" rel=\"noreferrer\" target=\"_blank\" href=\"https://scikit-learn.org/1.6/modules/generated/sklearn.preprocessing.MinMaxScaler.html\">?<span>Documentation for MinMaxScaler</span></a></div></label><div class=\"sk-toggleable__content fitted\"><pre>MinMaxScaler()</pre></div> </div></div></div></div></div></div></div><div class=\"sk-parallel-item\"><div class=\"sk-item\"><div class=\"sk-label-container\"><div class=\"sk-label fitted sk-toggleable\"><input class=\"sk-toggleable__control sk-hidden--visually\" id=\"sk-estimator-id-7\" type=\"checkbox\" ><label for=\"sk-estimator-id-7\" class=\"sk-toggleable__label fitted sk-toggleable__label-arrow\"><div><div>ord</div></div></label><div class=\"sk-toggleable__content fitted\"><pre>[&#x27;Тип_сервиса&#x27;, &#x27;Разрешить_сообщать&#x27;]</pre></div> </div></div><div class=\"sk-serial\"><div class=\"sk-item\"><div class=\"sk-serial\"><div class=\"sk-item\"><div class=\"sk-estimator fitted sk-toggleable\"><input class=\"sk-toggleable__control sk-hidden--visually\" id=\"sk-estimator-id-8\" type=\"checkbox\" ><label for=\"sk-estimator-id-8\" class=\"sk-toggleable__label fitted sk-toggleable__label-arrow\"><div><div>SimpleImputer</div></div><div><a class=\"sk-estimator-doc-link fitted\" rel=\"noreferrer\" target=\"_blank\" href=\"https://scikit-learn.org/1.6/modules/generated/sklearn.impute.SimpleImputer.html\">?<span>Documentation for SimpleImputer</span></a></div></label><div class=\"sk-toggleable__content fitted\"><pre>SimpleImputer(strategy=&#x27;most_frequent&#x27;)</pre></div> </div></div><div class=\"sk-item\"><div class=\"sk-estimator fitted sk-toggleable\"><input class=\"sk-toggleable__control sk-hidden--visually\" id=\"sk-estimator-id-9\" type=\"checkbox\" ><label for=\"sk-estimator-id-9\" class=\"sk-toggleable__label fitted sk-toggleable__label-arrow\"><div><div>OrdinalEncoder</div></div><div><a class=\"sk-estimator-doc-link fitted\" rel=\"noreferrer\" target=\"_blank\" href=\"https://scikit-learn.org/1.6/modules/generated/sklearn.preprocessing.OrdinalEncoder.html\">?<span>Documentation for OrdinalEncoder</span></a></div></label><div class=\"sk-toggleable__content fitted\"><pre>OrdinalEncoder(categories=[[&#x27;стандарт&#x27;, &#x27;премиум&#x27;], [&#x27;да&#x27;, &#x27;нет&#x27;]],\n",
       "               handle_unknown=&#x27;use_encoded_value&#x27;, unknown_value=-1)</pre></div> </div></div></div></div></div></div></div><div class=\"sk-parallel-item\"><div class=\"sk-item\"><div class=\"sk-label-container\"><div class=\"sk-label fitted sk-toggleable\"><input class=\"sk-toggleable__control sk-hidden--visually\" id=\"sk-estimator-id-10\" type=\"checkbox\" ><label for=\"sk-estimator-id-10\" class=\"sk-toggleable__label fitted sk-toggleable__label-arrow\"><div><div>nom</div></div></label><div class=\"sk-toggleable__content fitted\"><pre>[&#x27;Популярная_категория&#x27;]</pre></div> </div></div><div class=\"sk-serial\"><div class=\"sk-item\"><div class=\"sk-serial\"><div class=\"sk-item\"><div class=\"sk-estimator fitted sk-toggleable\"><input class=\"sk-toggleable__control sk-hidden--visually\" id=\"sk-estimator-id-11\" type=\"checkbox\" ><label for=\"sk-estimator-id-11\" class=\"sk-toggleable__label fitted sk-toggleable__label-arrow\"><div><div>SimpleImputer</div></div><div><a class=\"sk-estimator-doc-link fitted\" rel=\"noreferrer\" target=\"_blank\" href=\"https://scikit-learn.org/1.6/modules/generated/sklearn.impute.SimpleImputer.html\">?<span>Documentation for SimpleImputer</span></a></div></label><div class=\"sk-toggleable__content fitted\"><pre>SimpleImputer(strategy=&#x27;most_frequent&#x27;)</pre></div> </div></div><div class=\"sk-item\"><div class=\"sk-estimator fitted sk-toggleable\"><input class=\"sk-toggleable__control sk-hidden--visually\" id=\"sk-estimator-id-12\" type=\"checkbox\" ><label for=\"sk-estimator-id-12\" class=\"sk-toggleable__label fitted sk-toggleable__label-arrow\"><div><div>OneHotEncoder</div></div><div><a class=\"sk-estimator-doc-link fitted\" rel=\"noreferrer\" target=\"_blank\" href=\"https://scikit-learn.org/1.6/modules/generated/sklearn.preprocessing.OneHotEncoder.html\">?<span>Documentation for OneHotEncoder</span></a></div></label><div class=\"sk-toggleable__content fitted\"><pre>OneHotEncoder(drop=&#x27;first&#x27;, handle_unknown=&#x27;ignore&#x27;, sparse_output=False)</pre></div> </div></div></div></div></div></div></div></div></div><div class=\"sk-item\"><div class=\"sk-estimator fitted sk-toggleable\"><input class=\"sk-toggleable__control sk-hidden--visually\" id=\"sk-estimator-id-13\" type=\"checkbox\" ><label for=\"sk-estimator-id-13\" class=\"sk-toggleable__label fitted sk-toggleable__label-arrow\"><div><div>SVC</div></div><div><a class=\"sk-estimator-doc-link fitted\" rel=\"noreferrer\" target=\"_blank\" href=\"https://scikit-learn.org/1.6/modules/generated/sklearn.svm.SVC.html\">?<span>Documentation for SVC</span></a></div></label><div class=\"sk-toggleable__content fitted\"><pre>SVC(C=1, class_weight=&#x27;balanced&#x27;, gamma=&#x27;auto&#x27;, kernel=&#x27;poly&#x27;, probability=True,\n",
       "    random_state=42)</pre></div> </div></div></div></div></div></div></div></div></div></div></div>"
      ],
      "text/plain": [
       "GridSearchCV(cv=StratifiedKFold(n_splits=5, random_state=42, shuffle=True),\n",
       "             estimator=Pipeline(steps=[('preprocessor',\n",
       "                                        ColumnTransformer(transformers=[('num',\n",
       "                                                                         Pipeline(steps=[('imputer',\n",
       "                                                                                          SimpleImputer(strategy='median')),\n",
       "                                                                                         ('scaler',\n",
       "                                                                                          StandardScaler())]),\n",
       "                                                                         Index(['Выручка_предыдущий_месяц', 'Выручка_препредыдущий_месяц',\n",
       "       'Выручка_текущий_месяц', 'Маркет_актив_6_м...\n",
       "                          'preprocessor__num__scaler': [StandardScaler(),\n",
       "                                                        MinMaxScaler(),\n",
       "                                                        RobustScaler()]}],\n",
       "             refit='recall',\n",
       "             scoring={'f1': make_scorer(f1_score, response_method='predict', pos_label=Снизилась),\n",
       "                      'precision': make_scorer(precision_score, response_method='predict', pos_label=Снизилась),\n",
       "                      'recall': make_scorer(recall_score, response_method='predict', pos_label=Снизилась),\n",
       "                      'roc_auc': 'roc_auc'})"
      ]
     },
     "execution_count": 52,
     "metadata": {},
     "output_type": "execute_result"
    }
   ],
   "source": [
    "scalers = [StandardScaler(), MinMaxScaler(), RobustScaler()]\n",
    "\n",
    "# Генерируем param_grid через цикл\n",
    "param_grid = []\n",
    "for classifier, params in classifiers_params.items():\n",
    "    grid_item = {\n",
    "        'preprocessor__num__scaler': scalers,\n",
    "        'classifier': [classifier]\n",
    "    }\n",
    "    # Добавляем параметры классификатора с префиксом\n",
    "    for param_name, param_values in params.items():\n",
    "        grid_item[f'classifier__{param_name}'] = param_values\n",
    "    \n",
    "    param_grid.append(grid_item)\n",
    "\n",
    "# Базовый пайплайн\n",
    "pipeline = Pipeline([\n",
    "                    ('preprocessor', preprocessor),\n",
    "                    ('classifier', LogisticRegression()) # указан один классификатор, потому что так положено, в GridSearchCV потом будут подставляться разные классификаторы.\n",
    "])\n",
    "\n",
    "# Поиск\n",
    "grid_search = GridSearchCV(pipeline, \n",
    "                           param_grid, \n",
    "                           cv=StratifiedKFold(n_splits=5, shuffle=True, random_state=42), \n",
    "                           n_jobs=-1, \n",
    "                           scoring=scoring_metrics, \n",
    "                           refit=main_metric)\n",
    "\n",
    "# Обучение и подбор гиперпараметров\n",
    "grid_search.fit(X_train, y_train)"
   ]
  },
  {
   "cell_type": "code",
   "execution_count": 53,
   "id": "98e2dbfb",
   "metadata": {},
   "outputs": [],
   "source": [
    "dummy_model = DummyClassifier(strategy='most_frequent', random_state=42)\n",
    "dummy_model.fit(X_train, y_train)\n",
    "dummy_predictions = dummy_model.predict(X_test)"
   ]
  },
  {
   "cell_type": "markdown",
   "id": "4341cb80",
   "metadata": {},
   "source": [
    "## **6.4 Лучшая модель: результаты**"
   ]
  },
  {
   "cell_type": "code",
   "execution_count": 54,
   "id": "905dd5e6",
   "metadata": {},
   "outputs": [
    {
     "name": "stdout",
     "output_type": "stream",
     "text": [
      "Оптимальный порог найден через CV: 0.3\n"
     ]
    }
   ],
   "source": [
    "# Получение лучшей модели\n",
    "best_model = grid_search.best_estimator_\n",
    "\n",
    "# Оптимизация порога на train с помощью кросс-валидации\n",
    "cv_proba = cross_val_predict(best_model, X_train, y_train, \n",
    "                            cv=StratifiedKFold(n_splits=5, shuffle=True, random_state=42),\n",
    "                            method='predict_proba')[:, 1]\n",
    "\n",
    "# Подбор оптимального порога на CV предсказаниях\n",
    "thresholds = [0.3, 0.31, 0.35, 0.4] # 0.25, 0.15, 0.17, 0.2, 0.23, \n",
    "best_threshold = 0.5\n",
    "best_recall = 0\n",
    "\n",
    "for threshold in thresholds:\n",
    "    cv_pred = (cv_proba >= threshold).astype(int)\n",
    "    cv_pred_labels = ['Снизилась' if pred == 1 else 'Прежний уровень' for pred in cv_pred]\n",
    "    recall = recall_score(y_train, cv_pred_labels, pos_label='Снизилась')\n",
    "    if recall > best_recall:\n",
    "        best_recall = recall\n",
    "        best_threshold = threshold\n",
    "\n",
    "# Теперь применяем найденный порог к test\n",
    "final_proba = best_model.predict_proba(X_test)[:, 1]\n",
    "final_predictions_binary = (final_proba >= best_threshold).astype(int)\n",
    "final_predictions = ['Снизилась' if pred == 1 else 'Прежний уровень' \n",
    "                    for pred in final_predictions_binary]\n",
    "\n",
    "print(f\"Оптимальный порог найден через CV: {best_threshold}\")"
   ]
  },
  {
   "cell_type": "code",
   "execution_count": 55,
   "id": "3e8b13ce",
   "metadata": {},
   "outputs": [
    {
     "name": "stdout",
     "output_type": "stream",
     "text": [
      "\n",
      "Лучшие параметры: {'classifier': SVC(class_weight='balanced', probability=True, random_state=42), 'classifier__C': 1, 'classifier__gamma': 'auto', 'classifier__kernel': 'poly', 'preprocessor__num__scaler': MinMaxScaler()}\n",
      "Модель выбрана по Recall на test: 0.9354838709677419\n"
     ]
    },
    {
     "data": {
      "text/html": [
       "<div>\n",
       "<style scoped>\n",
       "    .dataframe tbody tr th:only-of-type {\n",
       "        vertical-align: middle;\n",
       "    }\n",
       "\n",
       "    .dataframe tbody tr th {\n",
       "        vertical-align: top;\n",
       "    }\n",
       "\n",
       "    .dataframe thead th {\n",
       "        text-align: right;\n",
       "    }\n",
       "</style>\n",
       "<table border=\"1\" class=\"dataframe\">\n",
       "  <thead>\n",
       "    <tr style=\"text-align: right;\">\n",
       "      <th></th>\n",
       "      <th>Метрика</th>\n",
       "      <th>Train (CV)</th>\n",
       "      <th>Test (Final)</th>\n",
       "      <th>Dummy (Test)</th>\n",
       "    </tr>\n",
       "  </thead>\n",
       "  <tbody>\n",
       "    <tr>\n",
       "      <th>0</th>\n",
       "      <td>Recall c порогом 0.3</td>\n",
       "      <td>0.91</td>\n",
       "      <td>0.94</td>\n",
       "      <td>0.00</td>\n",
       "    </tr>\n",
       "    <tr>\n",
       "      <th>1</th>\n",
       "      <td>Precision</td>\n",
       "      <td>0.54</td>\n",
       "      <td>0.57</td>\n",
       "      <td>0.00</td>\n",
       "    </tr>\n",
       "    <tr>\n",
       "      <th>2</th>\n",
       "      <td>F1</td>\n",
       "      <td>0.68</td>\n",
       "      <td>0.70</td>\n",
       "      <td>0.00</td>\n",
       "    </tr>\n",
       "    <tr>\n",
       "      <th>3</th>\n",
       "      <td>ROC-AUC</td>\n",
       "      <td>0.89</td>\n",
       "      <td>0.93</td>\n",
       "      <td>0.50</td>\n",
       "    </tr>\n",
       "  </tbody>\n",
       "</table>\n",
       "</div>"
      ],
      "text/plain": [
       "                Метрика  Train (CV)  Test (Final)  Dummy (Test)\n",
       "0  Recall c порогом 0.3        0.91          0.94          0.00\n",
       "1             Precision        0.54          0.57          0.00\n",
       "2                    F1        0.68          0.70          0.00\n",
       "3               ROC-AUC        0.89          0.93          0.50"
      ]
     },
     "metadata": {},
     "output_type": "display_data"
    }
   ],
   "source": [
    "best_idx = grid_search.best_index_\n",
    "results = grid_search.cv_results_\n",
    "\n",
    "# Создание DataFrame с результатами\n",
    "metrics_df_final = pd.DataFrame({\n",
    "    'Метрика': [f'Recall c порогом {best_threshold}', 'Precision', 'F1', 'ROC-AUC'],\n",
    "    'Train (CV)': [\n",
    "        results['mean_test_recall'][best_idx],\n",
    "        results['mean_test_precision'][best_idx], \n",
    "        results['mean_test_f1'][best_idx],\n",
    "        results['mean_test_roc_auc'][best_idx]\n",
    "    ],\n",
    "\n",
    "    'Test (Final)': [\n",
    "        recall_score(y_test, final_predictions, pos_label=pos_label),\n",
    "        precision_score(y_test, final_predictions, pos_label=pos_label),\n",
    "        f1_score(y_test, final_predictions, pos_label=pos_label),\n",
    "        roc_auc_score(y_test, final_proba)\n",
    "    ], \n",
    "\n",
    "    'Dummy (Test)': [\n",
    "        recall_score(y_test, dummy_predictions, pos_label=pos_label),\n",
    "        precision_score(y_test, dummy_predictions, pos_label=pos_label),\n",
    "        f1_score(y_test, dummy_predictions, pos_label=pos_label),\n",
    "        0.5  # ROC-AUC для константной модели всегда 0.5\n",
    "]\n",
    "})\n",
    "\n",
    "\n",
    "print(f\"\\nЛучшие параметры: {grid_search.best_params_}\")\n",
    "print(f\"Модель выбрана по Recall на test: {recall_score(y_test, final_predictions, pos_label=pos_label)}\")\n",
    "\n",
    "metrics_df_final = metrics_df_final.round(3)\n",
    "display(metrics_df_final)"
   ]
  },
  {
   "cell_type": "markdown",
   "id": "290cfdfa",
   "metadata": {},
   "source": [
    "**Recall 0.94** - отличный результат! Не стоит его снижать.\n",
    "\n",
    "**Анализ результатов:**\n",
    "\n",
    "**Recall 0.94** - находим 94% клиентов со снижением активности\n",
    "\n",
    "**Precision 0.57** - из всех предсказаний \"Снизилась\" только 57% корректны. \n",
    "\n",
    "**ROC-AUC 0.93** - отличная способность различать классы\n",
    "\n",
    "* **остановился на пороге 0.3** потому,  что лезет сильное переобучение и падает precission, если брать порог меньше, но растет recall.\n",
    "\n",
    "При выборе порога приоритет между recall и precission  отдали recall.\n",
    "\n",
    "Хотелось найти настолько такой баланс recall и precission, чтобы precission был больше половины при максимально высоокм recall, так ка они взаимоисключающие.\n",
    "\n",
    "Это нормально для задач с дисбалансом классов. Высокий recall важнее высокой precision, потому что:\n",
    "\n",
    "* Цель бизнеса - найти максимум клиентов с риском оттока\n",
    "\n",
    "* Ложные срабатывания (низкая precision) менее критичны - лучше предложить акцию лишнему клиенту, чем потерять уходящего\n",
    "\n",
    "* Пропущенные клиенты (низкий recall) критичны - потеря клиента дороже\n",
    "\n",
    "**Решено:** Оставить текущие результаты (большее количество соседей и меньше порог для более высокого recall. Благодаря большему количеству соседей мы смогли лучше подобрать лучший оптимальный порог для recall). Recall 0.94 - это приемлемый показатель для задачи удержания клиентов. Модель успешно выявляет почти всех клиентов группы риска."
   ]
  },
  {
   "cell_type": "markdown",
   "id": "47a36cca",
   "metadata": {},
   "source": [
    "Лучшая модель:"
   ]
  },
  {
   "cell_type": "code",
   "execution_count": 56,
   "id": "55990800",
   "metadata": {},
   "outputs": [
    {
     "data": {
      "text/html": [
       "<style>#sk-container-id-2 {\n",
       "  /* Definition of color scheme common for light and dark mode */\n",
       "  --sklearn-color-text: #000;\n",
       "  --sklearn-color-text-muted: #666;\n",
       "  --sklearn-color-line: gray;\n",
       "  /* Definition of color scheme for unfitted estimators */\n",
       "  --sklearn-color-unfitted-level-0: #fff5e6;\n",
       "  --sklearn-color-unfitted-level-1: #f6e4d2;\n",
       "  --sklearn-color-unfitted-level-2: #ffe0b3;\n",
       "  --sklearn-color-unfitted-level-3: chocolate;\n",
       "  /* Definition of color scheme for fitted estimators */\n",
       "  --sklearn-color-fitted-level-0: #f0f8ff;\n",
       "  --sklearn-color-fitted-level-1: #d4ebff;\n",
       "  --sklearn-color-fitted-level-2: #b3dbfd;\n",
       "  --sklearn-color-fitted-level-3: cornflowerblue;\n",
       "\n",
       "  /* Specific color for light theme */\n",
       "  --sklearn-color-text-on-default-background: var(--sg-text-color, var(--theme-code-foreground, var(--jp-content-font-color1, black)));\n",
       "  --sklearn-color-background: var(--sg-background-color, var(--theme-background, var(--jp-layout-color0, white)));\n",
       "  --sklearn-color-border-box: var(--sg-text-color, var(--theme-code-foreground, var(--jp-content-font-color1, black)));\n",
       "  --sklearn-color-icon: #696969;\n",
       "\n",
       "  @media (prefers-color-scheme: dark) {\n",
       "    /* Redefinition of color scheme for dark theme */\n",
       "    --sklearn-color-text-on-default-background: var(--sg-text-color, var(--theme-code-foreground, var(--jp-content-font-color1, white)));\n",
       "    --sklearn-color-background: var(--sg-background-color, var(--theme-background, var(--jp-layout-color0, #111)));\n",
       "    --sklearn-color-border-box: var(--sg-text-color, var(--theme-code-foreground, var(--jp-content-font-color1, white)));\n",
       "    --sklearn-color-icon: #878787;\n",
       "  }\n",
       "}\n",
       "\n",
       "#sk-container-id-2 {\n",
       "  color: var(--sklearn-color-text);\n",
       "}\n",
       "\n",
       "#sk-container-id-2 pre {\n",
       "  padding: 0;\n",
       "}\n",
       "\n",
       "#sk-container-id-2 input.sk-hidden--visually {\n",
       "  border: 0;\n",
       "  clip: rect(1px 1px 1px 1px);\n",
       "  clip: rect(1px, 1px, 1px, 1px);\n",
       "  height: 1px;\n",
       "  margin: -1px;\n",
       "  overflow: hidden;\n",
       "  padding: 0;\n",
       "  position: absolute;\n",
       "  width: 1px;\n",
       "}\n",
       "\n",
       "#sk-container-id-2 div.sk-dashed-wrapped {\n",
       "  border: 1px dashed var(--sklearn-color-line);\n",
       "  margin: 0 0.4em 0.5em 0.4em;\n",
       "  box-sizing: border-box;\n",
       "  padding-bottom: 0.4em;\n",
       "  background-color: var(--sklearn-color-background);\n",
       "}\n",
       "\n",
       "#sk-container-id-2 div.sk-container {\n",
       "  /* jupyter's `normalize.less` sets `[hidden] { display: none; }`\n",
       "     but bootstrap.min.css set `[hidden] { display: none !important; }`\n",
       "     so we also need the `!important` here to be able to override the\n",
       "     default hidden behavior on the sphinx rendered scikit-learn.org.\n",
       "     See: https://github.com/scikit-learn/scikit-learn/issues/21755 */\n",
       "  display: inline-block !important;\n",
       "  position: relative;\n",
       "}\n",
       "\n",
       "#sk-container-id-2 div.sk-text-repr-fallback {\n",
       "  display: none;\n",
       "}\n",
       "\n",
       "div.sk-parallel-item,\n",
       "div.sk-serial,\n",
       "div.sk-item {\n",
       "  /* draw centered vertical line to link estimators */\n",
       "  background-image: linear-gradient(var(--sklearn-color-text-on-default-background), var(--sklearn-color-text-on-default-background));\n",
       "  background-size: 2px 100%;\n",
       "  background-repeat: no-repeat;\n",
       "  background-position: center center;\n",
       "}\n",
       "\n",
       "/* Parallel-specific style estimator block */\n",
       "\n",
       "#sk-container-id-2 div.sk-parallel-item::after {\n",
       "  content: \"\";\n",
       "  width: 100%;\n",
       "  border-bottom: 2px solid var(--sklearn-color-text-on-default-background);\n",
       "  flex-grow: 1;\n",
       "}\n",
       "\n",
       "#sk-container-id-2 div.sk-parallel {\n",
       "  display: flex;\n",
       "  align-items: stretch;\n",
       "  justify-content: center;\n",
       "  background-color: var(--sklearn-color-background);\n",
       "  position: relative;\n",
       "}\n",
       "\n",
       "#sk-container-id-2 div.sk-parallel-item {\n",
       "  display: flex;\n",
       "  flex-direction: column;\n",
       "}\n",
       "\n",
       "#sk-container-id-2 div.sk-parallel-item:first-child::after {\n",
       "  align-self: flex-end;\n",
       "  width: 50%;\n",
       "}\n",
       "\n",
       "#sk-container-id-2 div.sk-parallel-item:last-child::after {\n",
       "  align-self: flex-start;\n",
       "  width: 50%;\n",
       "}\n",
       "\n",
       "#sk-container-id-2 div.sk-parallel-item:only-child::after {\n",
       "  width: 0;\n",
       "}\n",
       "\n",
       "/* Serial-specific style estimator block */\n",
       "\n",
       "#sk-container-id-2 div.sk-serial {\n",
       "  display: flex;\n",
       "  flex-direction: column;\n",
       "  align-items: center;\n",
       "  background-color: var(--sklearn-color-background);\n",
       "  padding-right: 1em;\n",
       "  padding-left: 1em;\n",
       "}\n",
       "\n",
       "\n",
       "/* Toggleable style: style used for estimator/Pipeline/ColumnTransformer box that is\n",
       "clickable and can be expanded/collapsed.\n",
       "- Pipeline and ColumnTransformer use this feature and define the default style\n",
       "- Estimators will overwrite some part of the style using the `sk-estimator` class\n",
       "*/\n",
       "\n",
       "/* Pipeline and ColumnTransformer style (default) */\n",
       "\n",
       "#sk-container-id-2 div.sk-toggleable {\n",
       "  /* Default theme specific background. It is overwritten whether we have a\n",
       "  specific estimator or a Pipeline/ColumnTransformer */\n",
       "  background-color: var(--sklearn-color-background);\n",
       "}\n",
       "\n",
       "/* Toggleable label */\n",
       "#sk-container-id-2 label.sk-toggleable__label {\n",
       "  cursor: pointer;\n",
       "  display: flex;\n",
       "  width: 100%;\n",
       "  margin-bottom: 0;\n",
       "  padding: 0.5em;\n",
       "  box-sizing: border-box;\n",
       "  text-align: center;\n",
       "  align-items: start;\n",
       "  justify-content: space-between;\n",
       "  gap: 0.5em;\n",
       "}\n",
       "\n",
       "#sk-container-id-2 label.sk-toggleable__label .caption {\n",
       "  font-size: 0.6rem;\n",
       "  font-weight: lighter;\n",
       "  color: var(--sklearn-color-text-muted);\n",
       "}\n",
       "\n",
       "#sk-container-id-2 label.sk-toggleable__label-arrow:before {\n",
       "  /* Arrow on the left of the label */\n",
       "  content: \"▸\";\n",
       "  float: left;\n",
       "  margin-right: 0.25em;\n",
       "  color: var(--sklearn-color-icon);\n",
       "}\n",
       "\n",
       "#sk-container-id-2 label.sk-toggleable__label-arrow:hover:before {\n",
       "  color: var(--sklearn-color-text);\n",
       "}\n",
       "\n",
       "/* Toggleable content - dropdown */\n",
       "\n",
       "#sk-container-id-2 div.sk-toggleable__content {\n",
       "  max-height: 0;\n",
       "  max-width: 0;\n",
       "  overflow: hidden;\n",
       "  text-align: left;\n",
       "  /* unfitted */\n",
       "  background-color: var(--sklearn-color-unfitted-level-0);\n",
       "}\n",
       "\n",
       "#sk-container-id-2 div.sk-toggleable__content.fitted {\n",
       "  /* fitted */\n",
       "  background-color: var(--sklearn-color-fitted-level-0);\n",
       "}\n",
       "\n",
       "#sk-container-id-2 div.sk-toggleable__content pre {\n",
       "  margin: 0.2em;\n",
       "  border-radius: 0.25em;\n",
       "  color: var(--sklearn-color-text);\n",
       "  /* unfitted */\n",
       "  background-color: var(--sklearn-color-unfitted-level-0);\n",
       "}\n",
       "\n",
       "#sk-container-id-2 div.sk-toggleable__content.fitted pre {\n",
       "  /* unfitted */\n",
       "  background-color: var(--sklearn-color-fitted-level-0);\n",
       "}\n",
       "\n",
       "#sk-container-id-2 input.sk-toggleable__control:checked~div.sk-toggleable__content {\n",
       "  /* Expand drop-down */\n",
       "  max-height: 200px;\n",
       "  max-width: 100%;\n",
       "  overflow: auto;\n",
       "}\n",
       "\n",
       "#sk-container-id-2 input.sk-toggleable__control:checked~label.sk-toggleable__label-arrow:before {\n",
       "  content: \"▾\";\n",
       "}\n",
       "\n",
       "/* Pipeline/ColumnTransformer-specific style */\n",
       "\n",
       "#sk-container-id-2 div.sk-label input.sk-toggleable__control:checked~label.sk-toggleable__label {\n",
       "  color: var(--sklearn-color-text);\n",
       "  background-color: var(--sklearn-color-unfitted-level-2);\n",
       "}\n",
       "\n",
       "#sk-container-id-2 div.sk-label.fitted input.sk-toggleable__control:checked~label.sk-toggleable__label {\n",
       "  background-color: var(--sklearn-color-fitted-level-2);\n",
       "}\n",
       "\n",
       "/* Estimator-specific style */\n",
       "\n",
       "/* Colorize estimator box */\n",
       "#sk-container-id-2 div.sk-estimator input.sk-toggleable__control:checked~label.sk-toggleable__label {\n",
       "  /* unfitted */\n",
       "  background-color: var(--sklearn-color-unfitted-level-2);\n",
       "}\n",
       "\n",
       "#sk-container-id-2 div.sk-estimator.fitted input.sk-toggleable__control:checked~label.sk-toggleable__label {\n",
       "  /* fitted */\n",
       "  background-color: var(--sklearn-color-fitted-level-2);\n",
       "}\n",
       "\n",
       "#sk-container-id-2 div.sk-label label.sk-toggleable__label,\n",
       "#sk-container-id-2 div.sk-label label {\n",
       "  /* The background is the default theme color */\n",
       "  color: var(--sklearn-color-text-on-default-background);\n",
       "}\n",
       "\n",
       "/* On hover, darken the color of the background */\n",
       "#sk-container-id-2 div.sk-label:hover label.sk-toggleable__label {\n",
       "  color: var(--sklearn-color-text);\n",
       "  background-color: var(--sklearn-color-unfitted-level-2);\n",
       "}\n",
       "\n",
       "/* Label box, darken color on hover, fitted */\n",
       "#sk-container-id-2 div.sk-label.fitted:hover label.sk-toggleable__label.fitted {\n",
       "  color: var(--sklearn-color-text);\n",
       "  background-color: var(--sklearn-color-fitted-level-2);\n",
       "}\n",
       "\n",
       "/* Estimator label */\n",
       "\n",
       "#sk-container-id-2 div.sk-label label {\n",
       "  font-family: monospace;\n",
       "  font-weight: bold;\n",
       "  display: inline-block;\n",
       "  line-height: 1.2em;\n",
       "}\n",
       "\n",
       "#sk-container-id-2 div.sk-label-container {\n",
       "  text-align: center;\n",
       "}\n",
       "\n",
       "/* Estimator-specific */\n",
       "#sk-container-id-2 div.sk-estimator {\n",
       "  font-family: monospace;\n",
       "  border: 1px dotted var(--sklearn-color-border-box);\n",
       "  border-radius: 0.25em;\n",
       "  box-sizing: border-box;\n",
       "  margin-bottom: 0.5em;\n",
       "  /* unfitted */\n",
       "  background-color: var(--sklearn-color-unfitted-level-0);\n",
       "}\n",
       "\n",
       "#sk-container-id-2 div.sk-estimator.fitted {\n",
       "  /* fitted */\n",
       "  background-color: var(--sklearn-color-fitted-level-0);\n",
       "}\n",
       "\n",
       "/* on hover */\n",
       "#sk-container-id-2 div.sk-estimator:hover {\n",
       "  /* unfitted */\n",
       "  background-color: var(--sklearn-color-unfitted-level-2);\n",
       "}\n",
       "\n",
       "#sk-container-id-2 div.sk-estimator.fitted:hover {\n",
       "  /* fitted */\n",
       "  background-color: var(--sklearn-color-fitted-level-2);\n",
       "}\n",
       "\n",
       "/* Specification for estimator info (e.g. \"i\" and \"?\") */\n",
       "\n",
       "/* Common style for \"i\" and \"?\" */\n",
       "\n",
       ".sk-estimator-doc-link,\n",
       "a:link.sk-estimator-doc-link,\n",
       "a:visited.sk-estimator-doc-link {\n",
       "  float: right;\n",
       "  font-size: smaller;\n",
       "  line-height: 1em;\n",
       "  font-family: monospace;\n",
       "  background-color: var(--sklearn-color-background);\n",
       "  border-radius: 1em;\n",
       "  height: 1em;\n",
       "  width: 1em;\n",
       "  text-decoration: none !important;\n",
       "  margin-left: 0.5em;\n",
       "  text-align: center;\n",
       "  /* unfitted */\n",
       "  border: var(--sklearn-color-unfitted-level-1) 1pt solid;\n",
       "  color: var(--sklearn-color-unfitted-level-1);\n",
       "}\n",
       "\n",
       ".sk-estimator-doc-link.fitted,\n",
       "a:link.sk-estimator-doc-link.fitted,\n",
       "a:visited.sk-estimator-doc-link.fitted {\n",
       "  /* fitted */\n",
       "  border: var(--sklearn-color-fitted-level-1) 1pt solid;\n",
       "  color: var(--sklearn-color-fitted-level-1);\n",
       "}\n",
       "\n",
       "/* On hover */\n",
       "div.sk-estimator:hover .sk-estimator-doc-link:hover,\n",
       ".sk-estimator-doc-link:hover,\n",
       "div.sk-label-container:hover .sk-estimator-doc-link:hover,\n",
       ".sk-estimator-doc-link:hover {\n",
       "  /* unfitted */\n",
       "  background-color: var(--sklearn-color-unfitted-level-3);\n",
       "  color: var(--sklearn-color-background);\n",
       "  text-decoration: none;\n",
       "}\n",
       "\n",
       "div.sk-estimator.fitted:hover .sk-estimator-doc-link.fitted:hover,\n",
       ".sk-estimator-doc-link.fitted:hover,\n",
       "div.sk-label-container:hover .sk-estimator-doc-link.fitted:hover,\n",
       ".sk-estimator-doc-link.fitted:hover {\n",
       "  /* fitted */\n",
       "  background-color: var(--sklearn-color-fitted-level-3);\n",
       "  color: var(--sklearn-color-background);\n",
       "  text-decoration: none;\n",
       "}\n",
       "\n",
       "/* Span, style for the box shown on hovering the info icon */\n",
       ".sk-estimator-doc-link span {\n",
       "  display: none;\n",
       "  z-index: 9999;\n",
       "  position: relative;\n",
       "  font-weight: normal;\n",
       "  right: .2ex;\n",
       "  padding: .5ex;\n",
       "  margin: .5ex;\n",
       "  width: min-content;\n",
       "  min-width: 20ex;\n",
       "  max-width: 50ex;\n",
       "  color: var(--sklearn-color-text);\n",
       "  box-shadow: 2pt 2pt 4pt #999;\n",
       "  /* unfitted */\n",
       "  background: var(--sklearn-color-unfitted-level-0);\n",
       "  border: .5pt solid var(--sklearn-color-unfitted-level-3);\n",
       "}\n",
       "\n",
       ".sk-estimator-doc-link.fitted span {\n",
       "  /* fitted */\n",
       "  background: var(--sklearn-color-fitted-level-0);\n",
       "  border: var(--sklearn-color-fitted-level-3);\n",
       "}\n",
       "\n",
       ".sk-estimator-doc-link:hover span {\n",
       "  display: block;\n",
       "}\n",
       "\n",
       "/* \"?\"-specific style due to the `<a>` HTML tag */\n",
       "\n",
       "#sk-container-id-2 a.estimator_doc_link {\n",
       "  float: right;\n",
       "  font-size: 1rem;\n",
       "  line-height: 1em;\n",
       "  font-family: monospace;\n",
       "  background-color: var(--sklearn-color-background);\n",
       "  border-radius: 1rem;\n",
       "  height: 1rem;\n",
       "  width: 1rem;\n",
       "  text-decoration: none;\n",
       "  /* unfitted */\n",
       "  color: var(--sklearn-color-unfitted-level-1);\n",
       "  border: var(--sklearn-color-unfitted-level-1) 1pt solid;\n",
       "}\n",
       "\n",
       "#sk-container-id-2 a.estimator_doc_link.fitted {\n",
       "  /* fitted */\n",
       "  border: var(--sklearn-color-fitted-level-1) 1pt solid;\n",
       "  color: var(--sklearn-color-fitted-level-1);\n",
       "}\n",
       "\n",
       "/* On hover */\n",
       "#sk-container-id-2 a.estimator_doc_link:hover {\n",
       "  /* unfitted */\n",
       "  background-color: var(--sklearn-color-unfitted-level-3);\n",
       "  color: var(--sklearn-color-background);\n",
       "  text-decoration: none;\n",
       "}\n",
       "\n",
       "#sk-container-id-2 a.estimator_doc_link.fitted:hover {\n",
       "  /* fitted */\n",
       "  background-color: var(--sklearn-color-fitted-level-3);\n",
       "}\n",
       "</style><div id=\"sk-container-id-2\" class=\"sk-top-container\"><div class=\"sk-text-repr-fallback\"><pre>Pipeline(steps=[(&#x27;preprocessor&#x27;,\n",
       "                 ColumnTransformer(transformers=[(&#x27;num&#x27;,\n",
       "                                                  Pipeline(steps=[(&#x27;imputer&#x27;,\n",
       "                                                                   SimpleImputer(strategy=&#x27;median&#x27;)),\n",
       "                                                                  (&#x27;scaler&#x27;,\n",
       "                                                                   MinMaxScaler())]),\n",
       "                                                  Index([&#x27;Выручка_предыдущий_месяц&#x27;, &#x27;Выручка_препредыдущий_месяц&#x27;,\n",
       "       &#x27;Выручка_текущий_месяц&#x27;, &#x27;Маркет_актив_6_мес&#x27;, &#x27;Маркет_актив_тек_мес&#x27;,\n",
       "       &#x27;Длительность&#x27;, &#x27;Акционные_покупки&#x27;,\n",
       "       &#x27;Средний_просмотр_катег...\n",
       "                                                                                  unknown_value=-1))]),\n",
       "                                                  [&#x27;Тип_сервиса&#x27;,\n",
       "                                                   &#x27;Разрешить_сообщать&#x27;]),\n",
       "                                                 (&#x27;nom&#x27;,\n",
       "                                                  Pipeline(steps=[(&#x27;imputer&#x27;,\n",
       "                                                                   SimpleImputer(strategy=&#x27;most_frequent&#x27;)),\n",
       "                                                                  (&#x27;ohe&#x27;,\n",
       "                                                                   OneHotEncoder(drop=&#x27;first&#x27;,\n",
       "                                                                                 handle_unknown=&#x27;ignore&#x27;,\n",
       "                                                                                 sparse_output=False))]),\n",
       "                                                  [&#x27;Популярная_категория&#x27;])])),\n",
       "                (&#x27;classifier&#x27;,\n",
       "                 SVC(C=1, class_weight=&#x27;balanced&#x27;, gamma=&#x27;auto&#x27;, kernel=&#x27;poly&#x27;,\n",
       "                     probability=True, random_state=42))])</pre><b>In a Jupyter environment, please rerun this cell to show the HTML representation or trust the notebook. <br />On GitHub, the HTML representation is unable to render, please try loading this page with nbviewer.org.</b></div><div class=\"sk-container\" hidden><div class=\"sk-item sk-dashed-wrapped\"><div class=\"sk-label-container\"><div class=\"sk-label fitted sk-toggleable\"><input class=\"sk-toggleable__control sk-hidden--visually\" id=\"sk-estimator-id-14\" type=\"checkbox\" ><label for=\"sk-estimator-id-14\" class=\"sk-toggleable__label fitted sk-toggleable__label-arrow\"><div><div>Pipeline</div></div><div><a class=\"sk-estimator-doc-link fitted\" rel=\"noreferrer\" target=\"_blank\" href=\"https://scikit-learn.org/1.6/modules/generated/sklearn.pipeline.Pipeline.html\">?<span>Documentation for Pipeline</span></a><span class=\"sk-estimator-doc-link fitted\">i<span>Fitted</span></span></div></label><div class=\"sk-toggleable__content fitted\"><pre>Pipeline(steps=[(&#x27;preprocessor&#x27;,\n",
       "                 ColumnTransformer(transformers=[(&#x27;num&#x27;,\n",
       "                                                  Pipeline(steps=[(&#x27;imputer&#x27;,\n",
       "                                                                   SimpleImputer(strategy=&#x27;median&#x27;)),\n",
       "                                                                  (&#x27;scaler&#x27;,\n",
       "                                                                   MinMaxScaler())]),\n",
       "                                                  Index([&#x27;Выручка_предыдущий_месяц&#x27;, &#x27;Выручка_препредыдущий_месяц&#x27;,\n",
       "       &#x27;Выручка_текущий_месяц&#x27;, &#x27;Маркет_актив_6_мес&#x27;, &#x27;Маркет_актив_тек_мес&#x27;,\n",
       "       &#x27;Длительность&#x27;, &#x27;Акционные_покупки&#x27;,\n",
       "       &#x27;Средний_просмотр_катег...\n",
       "                                                                                  unknown_value=-1))]),\n",
       "                                                  [&#x27;Тип_сервиса&#x27;,\n",
       "                                                   &#x27;Разрешить_сообщать&#x27;]),\n",
       "                                                 (&#x27;nom&#x27;,\n",
       "                                                  Pipeline(steps=[(&#x27;imputer&#x27;,\n",
       "                                                                   SimpleImputer(strategy=&#x27;most_frequent&#x27;)),\n",
       "                                                                  (&#x27;ohe&#x27;,\n",
       "                                                                   OneHotEncoder(drop=&#x27;first&#x27;,\n",
       "                                                                                 handle_unknown=&#x27;ignore&#x27;,\n",
       "                                                                                 sparse_output=False))]),\n",
       "                                                  [&#x27;Популярная_категория&#x27;])])),\n",
       "                (&#x27;classifier&#x27;,\n",
       "                 SVC(C=1, class_weight=&#x27;balanced&#x27;, gamma=&#x27;auto&#x27;, kernel=&#x27;poly&#x27;,\n",
       "                     probability=True, random_state=42))])</pre></div> </div></div><div class=\"sk-serial\"><div class=\"sk-item sk-dashed-wrapped\"><div class=\"sk-label-container\"><div class=\"sk-label fitted sk-toggleable\"><input class=\"sk-toggleable__control sk-hidden--visually\" id=\"sk-estimator-id-15\" type=\"checkbox\" ><label for=\"sk-estimator-id-15\" class=\"sk-toggleable__label fitted sk-toggleable__label-arrow\"><div><div>preprocessor: ColumnTransformer</div></div><div><a class=\"sk-estimator-doc-link fitted\" rel=\"noreferrer\" target=\"_blank\" href=\"https://scikit-learn.org/1.6/modules/generated/sklearn.compose.ColumnTransformer.html\">?<span>Documentation for preprocessor: ColumnTransformer</span></a></div></label><div class=\"sk-toggleable__content fitted\"><pre>ColumnTransformer(transformers=[(&#x27;num&#x27;,\n",
       "                                 Pipeline(steps=[(&#x27;imputer&#x27;,\n",
       "                                                  SimpleImputer(strategy=&#x27;median&#x27;)),\n",
       "                                                 (&#x27;scaler&#x27;, MinMaxScaler())]),\n",
       "                                 Index([&#x27;Выручка_предыдущий_месяц&#x27;, &#x27;Выручка_препредыдущий_месяц&#x27;,\n",
       "       &#x27;Выручка_текущий_месяц&#x27;, &#x27;Маркет_актив_6_мес&#x27;, &#x27;Маркет_актив_тек_мес&#x27;,\n",
       "       &#x27;Длительность&#x27;, &#x27;Акционные_покупки&#x27;,\n",
       "       &#x27;Средний_просмотр_категорий_за_визит&#x27;,\n",
       "       &#x27;Неоплаченные_про...\n",
       "                                                 (&#x27;ordinal&#x27;,\n",
       "                                                  OrdinalEncoder(categories=[[&#x27;стандарт&#x27;,\n",
       "                                                                              &#x27;премиум&#x27;],\n",
       "                                                                             [&#x27;да&#x27;,\n",
       "                                                                              &#x27;нет&#x27;]],\n",
       "                                                                 handle_unknown=&#x27;use_encoded_value&#x27;,\n",
       "                                                                 unknown_value=-1))]),\n",
       "                                 [&#x27;Тип_сервиса&#x27;, &#x27;Разрешить_сообщать&#x27;]),\n",
       "                                (&#x27;nom&#x27;,\n",
       "                                 Pipeline(steps=[(&#x27;imputer&#x27;,\n",
       "                                                  SimpleImputer(strategy=&#x27;most_frequent&#x27;)),\n",
       "                                                 (&#x27;ohe&#x27;,\n",
       "                                                  OneHotEncoder(drop=&#x27;first&#x27;,\n",
       "                                                                handle_unknown=&#x27;ignore&#x27;,\n",
       "                                                                sparse_output=False))]),\n",
       "                                 [&#x27;Популярная_категория&#x27;])])</pre></div> </div></div><div class=\"sk-parallel\"><div class=\"sk-parallel-item\"><div class=\"sk-item\"><div class=\"sk-label-container\"><div class=\"sk-label fitted sk-toggleable\"><input class=\"sk-toggleable__control sk-hidden--visually\" id=\"sk-estimator-id-16\" type=\"checkbox\" ><label for=\"sk-estimator-id-16\" class=\"sk-toggleable__label fitted sk-toggleable__label-arrow\"><div><div>num</div></div></label><div class=\"sk-toggleable__content fitted\"><pre>Index([&#x27;Выручка_предыдущий_месяц&#x27;, &#x27;Выручка_препредыдущий_месяц&#x27;,\n",
       "       &#x27;Выручка_текущий_месяц&#x27;, &#x27;Маркет_актив_6_мес&#x27;, &#x27;Маркет_актив_тек_мес&#x27;,\n",
       "       &#x27;Длительность&#x27;, &#x27;Акционные_покупки&#x27;,\n",
       "       &#x27;Средний_просмотр_категорий_за_визит&#x27;,\n",
       "       &#x27;Неоплаченные_продукты_штук_квартал&#x27;, &#x27;Ошибка_сервиса&#x27;,\n",
       "       &#x27;Страниц_за_визит&#x27;, &#x27;минут_предыдущий_месяц&#x27;,\n",
       "       &#x27;минут_препредыдущий_месяц&#x27;],\n",
       "      dtype=&#x27;object&#x27;)</pre></div> </div></div><div class=\"sk-serial\"><div class=\"sk-item\"><div class=\"sk-serial\"><div class=\"sk-item\"><div class=\"sk-estimator fitted sk-toggleable\"><input class=\"sk-toggleable__control sk-hidden--visually\" id=\"sk-estimator-id-17\" type=\"checkbox\" ><label for=\"sk-estimator-id-17\" class=\"sk-toggleable__label fitted sk-toggleable__label-arrow\"><div><div>SimpleImputer</div></div><div><a class=\"sk-estimator-doc-link fitted\" rel=\"noreferrer\" target=\"_blank\" href=\"https://scikit-learn.org/1.6/modules/generated/sklearn.impute.SimpleImputer.html\">?<span>Documentation for SimpleImputer</span></a></div></label><div class=\"sk-toggleable__content fitted\"><pre>SimpleImputer(strategy=&#x27;median&#x27;)</pre></div> </div></div><div class=\"sk-item\"><div class=\"sk-estimator fitted sk-toggleable\"><input class=\"sk-toggleable__control sk-hidden--visually\" id=\"sk-estimator-id-18\" type=\"checkbox\" ><label for=\"sk-estimator-id-18\" class=\"sk-toggleable__label fitted sk-toggleable__label-arrow\"><div><div>MinMaxScaler</div></div><div><a class=\"sk-estimator-doc-link fitted\" rel=\"noreferrer\" target=\"_blank\" href=\"https://scikit-learn.org/1.6/modules/generated/sklearn.preprocessing.MinMaxScaler.html\">?<span>Documentation for MinMaxScaler</span></a></div></label><div class=\"sk-toggleable__content fitted\"><pre>MinMaxScaler()</pre></div> </div></div></div></div></div></div></div><div class=\"sk-parallel-item\"><div class=\"sk-item\"><div class=\"sk-label-container\"><div class=\"sk-label fitted sk-toggleable\"><input class=\"sk-toggleable__control sk-hidden--visually\" id=\"sk-estimator-id-19\" type=\"checkbox\" ><label for=\"sk-estimator-id-19\" class=\"sk-toggleable__label fitted sk-toggleable__label-arrow\"><div><div>ord</div></div></label><div class=\"sk-toggleable__content fitted\"><pre>[&#x27;Тип_сервиса&#x27;, &#x27;Разрешить_сообщать&#x27;]</pre></div> </div></div><div class=\"sk-serial\"><div class=\"sk-item\"><div class=\"sk-serial\"><div class=\"sk-item\"><div class=\"sk-estimator fitted sk-toggleable\"><input class=\"sk-toggleable__control sk-hidden--visually\" id=\"sk-estimator-id-20\" type=\"checkbox\" ><label for=\"sk-estimator-id-20\" class=\"sk-toggleable__label fitted sk-toggleable__label-arrow\"><div><div>SimpleImputer</div></div><div><a class=\"sk-estimator-doc-link fitted\" rel=\"noreferrer\" target=\"_blank\" href=\"https://scikit-learn.org/1.6/modules/generated/sklearn.impute.SimpleImputer.html\">?<span>Documentation for SimpleImputer</span></a></div></label><div class=\"sk-toggleable__content fitted\"><pre>SimpleImputer(strategy=&#x27;most_frequent&#x27;)</pre></div> </div></div><div class=\"sk-item\"><div class=\"sk-estimator fitted sk-toggleable\"><input class=\"sk-toggleable__control sk-hidden--visually\" id=\"sk-estimator-id-21\" type=\"checkbox\" ><label for=\"sk-estimator-id-21\" class=\"sk-toggleable__label fitted sk-toggleable__label-arrow\"><div><div>OrdinalEncoder</div></div><div><a class=\"sk-estimator-doc-link fitted\" rel=\"noreferrer\" target=\"_blank\" href=\"https://scikit-learn.org/1.6/modules/generated/sklearn.preprocessing.OrdinalEncoder.html\">?<span>Documentation for OrdinalEncoder</span></a></div></label><div class=\"sk-toggleable__content fitted\"><pre>OrdinalEncoder(categories=[[&#x27;стандарт&#x27;, &#x27;премиум&#x27;], [&#x27;да&#x27;, &#x27;нет&#x27;]],\n",
       "               handle_unknown=&#x27;use_encoded_value&#x27;, unknown_value=-1)</pre></div> </div></div></div></div></div></div></div><div class=\"sk-parallel-item\"><div class=\"sk-item\"><div class=\"sk-label-container\"><div class=\"sk-label fitted sk-toggleable\"><input class=\"sk-toggleable__control sk-hidden--visually\" id=\"sk-estimator-id-22\" type=\"checkbox\" ><label for=\"sk-estimator-id-22\" class=\"sk-toggleable__label fitted sk-toggleable__label-arrow\"><div><div>nom</div></div></label><div class=\"sk-toggleable__content fitted\"><pre>[&#x27;Популярная_категория&#x27;]</pre></div> </div></div><div class=\"sk-serial\"><div class=\"sk-item\"><div class=\"sk-serial\"><div class=\"sk-item\"><div class=\"sk-estimator fitted sk-toggleable\"><input class=\"sk-toggleable__control sk-hidden--visually\" id=\"sk-estimator-id-23\" type=\"checkbox\" ><label for=\"sk-estimator-id-23\" class=\"sk-toggleable__label fitted sk-toggleable__label-arrow\"><div><div>SimpleImputer</div></div><div><a class=\"sk-estimator-doc-link fitted\" rel=\"noreferrer\" target=\"_blank\" href=\"https://scikit-learn.org/1.6/modules/generated/sklearn.impute.SimpleImputer.html\">?<span>Documentation for SimpleImputer</span></a></div></label><div class=\"sk-toggleable__content fitted\"><pre>SimpleImputer(strategy=&#x27;most_frequent&#x27;)</pre></div> </div></div><div class=\"sk-item\"><div class=\"sk-estimator fitted sk-toggleable\"><input class=\"sk-toggleable__control sk-hidden--visually\" id=\"sk-estimator-id-24\" type=\"checkbox\" ><label for=\"sk-estimator-id-24\" class=\"sk-toggleable__label fitted sk-toggleable__label-arrow\"><div><div>OneHotEncoder</div></div><div><a class=\"sk-estimator-doc-link fitted\" rel=\"noreferrer\" target=\"_blank\" href=\"https://scikit-learn.org/1.6/modules/generated/sklearn.preprocessing.OneHotEncoder.html\">?<span>Documentation for OneHotEncoder</span></a></div></label><div class=\"sk-toggleable__content fitted\"><pre>OneHotEncoder(drop=&#x27;first&#x27;, handle_unknown=&#x27;ignore&#x27;, sparse_output=False)</pre></div> </div></div></div></div></div></div></div></div></div><div class=\"sk-item\"><div class=\"sk-estimator fitted sk-toggleable\"><input class=\"sk-toggleable__control sk-hidden--visually\" id=\"sk-estimator-id-25\" type=\"checkbox\" ><label for=\"sk-estimator-id-25\" class=\"sk-toggleable__label fitted sk-toggleable__label-arrow\"><div><div>SVC</div></div><div><a class=\"sk-estimator-doc-link fitted\" rel=\"noreferrer\" target=\"_blank\" href=\"https://scikit-learn.org/1.6/modules/generated/sklearn.svm.SVC.html\">?<span>Documentation for SVC</span></a></div></label><div class=\"sk-toggleable__content fitted\"><pre>SVC(C=1, class_weight=&#x27;balanced&#x27;, gamma=&#x27;auto&#x27;, kernel=&#x27;poly&#x27;, probability=True,\n",
       "    random_state=42)</pre></div> </div></div></div></div></div></div>"
      ],
      "text/plain": [
       "Pipeline(steps=[('preprocessor',\n",
       "                 ColumnTransformer(transformers=[('num',\n",
       "                                                  Pipeline(steps=[('imputer',\n",
       "                                                                   SimpleImputer(strategy='median')),\n",
       "                                                                  ('scaler',\n",
       "                                                                   MinMaxScaler())]),\n",
       "                                                  Index(['Выручка_предыдущий_месяц', 'Выручка_препредыдущий_месяц',\n",
       "       'Выручка_текущий_месяц', 'Маркет_актив_6_мес', 'Маркет_актив_тек_мес',\n",
       "       'Длительность', 'Акционные_покупки',\n",
       "       'Средний_просмотр_катег...\n",
       "                                                                                  unknown_value=-1))]),\n",
       "                                                  ['Тип_сервиса',\n",
       "                                                   'Разрешить_сообщать']),\n",
       "                                                 ('nom',\n",
       "                                                  Pipeline(steps=[('imputer',\n",
       "                                                                   SimpleImputer(strategy='most_frequent')),\n",
       "                                                                  ('ohe',\n",
       "                                                                   OneHotEncoder(drop='first',\n",
       "                                                                                 handle_unknown='ignore',\n",
       "                                                                                 sparse_output=False))]),\n",
       "                                                  ['Популярная_категория'])])),\n",
       "                ('classifier',\n",
       "                 SVC(C=1, class_weight='balanced', gamma='auto', kernel='poly',\n",
       "                     probability=True, random_state=42))])"
      ]
     },
     "execution_count": 56,
     "metadata": {},
     "output_type": "execute_result"
    }
   ],
   "source": [
    "best_model = grid_search.best_estimator_\n",
    "best_model"
   ]
  },
  {
   "cell_type": "markdown",
   "id": "ce603cfd",
   "metadata": {},
   "source": [
    "# **Этап 7. Анализ важности признаков**"
   ]
  },
  {
   "cell_type": "markdown",
   "id": "0cf0b98d",
   "metadata": {},
   "source": [
    "## **7.1 Важность признаков**"
   ]
  },
  {
   "cell_type": "markdown",
   "id": "45c0b025",
   "metadata": {},
   "source": [
    "Важность признаков для лучшей модели и построим график важности с помощью метода SHAP."
   ]
  },
  {
   "cell_type": "code",
   "execution_count": 57,
   "id": "b20edf08",
   "metadata": {},
   "outputs": [
    {
     "data": {
      "image/png": "[encoded data removed]",
      "text/plain": [
       "<Figure size 720x432 with 1 Axes>"
      ]
     },
     "metadata": {
      "needs_background": "light"
     },
     "output_type": "display_data"
    }
   ],
   "source": [
    "# Быстрый расчет важности признаков\n",
    "perm_importance = permutation_importance(best_model, X_train[:100], y_train[:100], n_repeats=5)\n",
    "\n",
    "# График важности с исходными названиями\n",
    "feature_names = X_train.columns\n",
    "plt.figure(figsize=(10, 6))\n",
    "plt.barh(range(len(perm_importance.importances_mean)), perm_importance.importances_mean)\n",
    "plt.yticks(range(len(feature_names)), feature_names)\n",
    "plt.xlabel('Важность признака')\n",
    "plt.title('Важность признаков (Permutation Importance)')\n",
    "plt.show()\n"
   ]
  },
  {
   "cell_type": "code",
   "execution_count": 58,
   "id": "0315bd71",
   "metadata": {},
   "outputs": [
    {
     "name": "stdout",
     "output_type": "stream",
     "text": [
      "                                Feature  Importance\n",
      "10  Средний_просмотр_категорий_за_визит        0.06\n",
      "14               минут_предыдущий_месяц        0.04\n",
      "13                     Страниц_за_визит        0.03\n",
      "15            минут_препредыдущий_месяц        0.03\n",
      "1           Выручка_препредыдущий_месяц        0.03\n",
      "9                  Популярная_категория        0.02\n",
      "5                    Маркет_актив_6_мес        0.02\n",
      "8                     Акционные_покупки        0.02\n",
      "12                       Ошибка_сервиса        0.01\n",
      "6                  Маркет_актив_тек_мес        0.01\n",
      "0              Выручка_предыдущий_месяц        0.00\n",
      "4                    Разрешить_сообщать        0.00\n",
      "11   Неоплаченные_продукты_штук_квартал        0.00\n",
      "7                          Длительность        0.00\n",
      "3                           Тип_сервиса        0.00\n"
     ]
    }
   ],
   "source": [
    "# Получаем важность признаков\n",
    "perm_importance = permutation_importance(\n",
    "    best_model, X_train, y_train, \n",
    "    n_repeats=5, random_state=42, n_jobs=-1\n",
    ")\n",
    "\n",
    "# Используем исходные названия столбцов\n",
    "feature_names = X_train.columns\n",
    "\n",
    "feature_importances = pd.DataFrame({\n",
    "    'Feature': feature_names[:len(perm_importance.importances_mean)],\n",
    "    'Importance': perm_importance.importances_mean\n",
    "}).sort_values('Importance', ascending=False)\n",
    "\n",
    "print(feature_importances.head(15))"
   ]
  },
  {
   "cell_type": "markdown",
   "id": "330c5d82",
   "metadata": {},
   "source": [
    "## **7.2 Выводы о значимости признаков:**"
   ]
  },
  {
   "cell_type": "markdown",
   "id": "8c497c86",
   "metadata": {},
   "source": [
    "### **7.2.1. Признаки, которые имеют наибольшее значения для модели**"
   ]
  },
  {
   "cell_type": "markdown",
   "id": "a6ee9bd4",
   "metadata": {},
   "source": [
    "**Топ-5 самых важных признаков:**\n",
    "\n",
    "* **Средний просмотр категорий за визит** (0.06) - Ключевой поведенческий индикатор. Показывает глубину интереса пользователя к товарам.\n",
    "\n",
    "* **Минут предыдущий месяц** (0.04) - Время, проведенное на сайте в прошлом месяце. Отражает уровень вовлеченности.\n",
    "\n",
    "* **Минут препредыдущий месяц** (0.03) - Исторические данные активности помогают выявить тренды поведения.\n",
    "\n",
    "* **Страниц за визит** (0.03) - Показатель интенсивности просмотра контента за сессию.\n",
    "\n",
    "* **Выручка препредыдущий месяц** (0.03) - Объем денег, полученный от клиента."
   ]
  },
  {
   "cell_type": "markdown",
   "id": "00f766a4",
   "metadata": {},
   "source": [
    "### **7.2.2. Признаки с минимальным влиянием:**"
   ]
  },
  {
   "cell_type": "markdown",
   "id": "fd548895",
   "metadata": {},
   "source": [
    "* **Выручка_предыдущий_месяц** (0.00) - не влиет.\n",
    "\n",
    "* **Разрешить_сообщать** (0.00) - Допуск спама - не показатель.\n",
    "\n",
    "* **Неоплаченные_продукты_штук_квартал** (0.00) - Своевременная оплата - не показатель.\n",
    "\n",
    "* **Длительность** (0.01) - Срок регистрации не имеет значения.\n",
    "\n",
    "* **Тип_сервиса** (0.01) - Стандарт или премиум не имеет значения."
   ]
  },
  {
   "cell_type": "markdown",
   "id": "e17ca6b7",
   "metadata": {},
   "source": [
    "**Вывод**: Модель в основном опирается на поведенческие метрики (просмотры, время на сайте) и исторические данные активности для прогнозирования снижения покупательской активности."
   ]
  },
  {
   "cell_type": "markdown",
   "id": "8ef4dbd1",
   "metadata": {},
   "source": [
    "# **Этап 8. Сегментация покупателей**"
   ]
  },
  {
   "cell_type": "markdown",
   "id": "4ccfc9bf",
   "metadata": {},
   "source": [
    "## **8.1. Цель сегментации**"
   ]
  },
  {
   "cell_type": "markdown",
   "id": "b7e750ac",
   "metadata": {},
   "source": [
    "**Разработать персонализированные предложения для каждого сегмента покупателей, чтобы увеличить покупательскую активность, на основе данных модели и данных о прибыльности клиентов.**"
   ]
  },
  {
   "cell_type": "markdown",
   "id": "35f9905e",
   "metadata": {},
   "source": [
    "Сегментация - это группировка клиентов по схожим характеристикам для персонализированных предложений.\n",
    "\n",
    "Находим целесообразным перед сегментацией покупателей:\n",
    "* Выделить отдельный признак прибыльности клиентов;\n",
    "* Определить риск снижения активности как отдельный сегмент на основе данных модели."
   ]
  },
  {
   "cell_type": "markdown",
   "id": "9990b31e",
   "metadata": {},
   "source": [
    "## **8.2 Создание признака прибыльности**"
   ]
  },
  {
   "cell_type": "markdown",
   "id": "276f9659",
   "metadata": {},
   "source": [
    "Определим сегмент прибыльности: разметим клиентов как являющихся \n",
    "\n",
    "* высоко прибыльными и \n",
    "* низко прибыльными."
   ]
  },
  {
   "cell_type": "markdown",
   "id": "21473eda",
   "metadata": {},
   "source": [
    "Для определения векторов и направления развития, полезно будет понять и отделить прибыльных и малоприбыльных клиентов для дальнейших группировок и анализа."
   ]
  },
  {
   "cell_type": "code",
   "execution_count": 59,
   "id": "f191f6b3",
   "metadata": {},
   "outputs": [
    {
     "data": {
      "text/html": [
       "<div>\n",
       "<style scoped>\n",
       "    .dataframe tbody tr th:only-of-type {\n",
       "        vertical-align: middle;\n",
       "    }\n",
       "\n",
       "    .dataframe tbody tr th {\n",
       "        vertical-align: top;\n",
       "    }\n",
       "\n",
       "    .dataframe thead th {\n",
       "        text-align: right;\n",
       "    }\n",
       "</style>\n",
       "<table border=\"1\" class=\"dataframe\">\n",
       "  <thead>\n",
       "    <tr style=\"text-align: right;\">\n",
       "      <th></th>\n",
       "      <th>id</th>\n",
       "      <th>Выручка_предыдущий_месяц</th>\n",
       "      <th>Выручка_препредыдущий_месяц</th>\n",
       "      <th>Выручка_текущий_месяц</th>\n",
       "      <th>Покупательская_активность</th>\n",
       "      <th>Тип_сервиса</th>\n",
       "      <th>Разрешить_сообщать</th>\n",
       "      <th>Маркет_актив_6_мес</th>\n",
       "      <th>Маркет_актив_тек_мес</th>\n",
       "      <th>Длительность</th>\n",
       "      <th>Акционные_покупки</th>\n",
       "      <th>Популярная_категория</th>\n",
       "      <th>Средний_просмотр_категорий_за_визит</th>\n",
       "      <th>Неоплаченные_продукты_штук_квартал</th>\n",
       "      <th>Ошибка_сервиса</th>\n",
       "      <th>Страниц_за_визит</th>\n",
       "      <th>минут_предыдущий_месяц</th>\n",
       "      <th>минут_препредыдущий_месяц</th>\n",
       "      <th>Прибыль</th>\n",
       "      <th>Прибыльность</th>\n",
       "    </tr>\n",
       "  </thead>\n",
       "  <tbody>\n",
       "    <tr>\n",
       "      <th>646</th>\n",
       "      <td>215997</td>\n",
       "      <td>4770.00</td>\n",
       "      <td>4817.00</td>\n",
       "      <td>4940.30</td>\n",
       "      <td>Прежний уровень</td>\n",
       "      <td>премиум</td>\n",
       "      <td>да</td>\n",
       "      <td>5.50</td>\n",
       "      <td>4</td>\n",
       "      <td>466</td>\n",
       "      <td>0.16</td>\n",
       "      <td>Товары для детей</td>\n",
       "      <td>3</td>\n",
       "      <td>4</td>\n",
       "      <td>1</td>\n",
       "      <td>13</td>\n",
       "      <td>21</td>\n",
       "      <td>15</td>\n",
       "      <td>3.89</td>\n",
       "      <td>Высокая</td>\n",
       "    </tr>\n",
       "    <tr>\n",
       "      <th>928</th>\n",
       "      <td>216279</td>\n",
       "      <td>5573.50</td>\n",
       "      <td>5494.00</td>\n",
       "      <td>5772.40</td>\n",
       "      <td>Прежний уровень</td>\n",
       "      <td>премиум</td>\n",
       "      <td>нет</td>\n",
       "      <td>4.90</td>\n",
       "      <td>4</td>\n",
       "      <td>719</td>\n",
       "      <td>0.24</td>\n",
       "      <td>Домашний текстиль</td>\n",
       "      <td>2</td>\n",
       "      <td>1</td>\n",
       "      <td>5</td>\n",
       "      <td>7</td>\n",
       "      <td>19</td>\n",
       "      <td>13</td>\n",
       "      <td>3.49</td>\n",
       "      <td>Высокая</td>\n",
       "    </tr>\n",
       "    <tr>\n",
       "      <th>739</th>\n",
       "      <td>216090</td>\n",
       "      <td>5359.00</td>\n",
       "      <td>5320.00</td>\n",
       "      <td>5522.80</td>\n",
       "      <td>Прежний уровень</td>\n",
       "      <td>стандарт</td>\n",
       "      <td>нет</td>\n",
       "      <td>5.50</td>\n",
       "      <td>4</td>\n",
       "      <td>793</td>\n",
       "      <td>0.27</td>\n",
       "      <td>Косметика и аксесуары</td>\n",
       "      <td>3</td>\n",
       "      <td>0</td>\n",
       "      <td>3</td>\n",
       "      <td>7</td>\n",
       "      <td>10</td>\n",
       "      <td>18</td>\n",
       "      <td>4.41</td>\n",
       "      <td>Низкая</td>\n",
       "    </tr>\n",
       "    <tr>\n",
       "      <th>1116</th>\n",
       "      <td>216467</td>\n",
       "      <td>4994.00</td>\n",
       "      <td>5267.00</td>\n",
       "      <td>4887.40</td>\n",
       "      <td>Прежний уровень</td>\n",
       "      <td>стандарт</td>\n",
       "      <td>да</td>\n",
       "      <td>4.10</td>\n",
       "      <td>3</td>\n",
       "      <td>564</td>\n",
       "      <td>0.28</td>\n",
       "      <td>Мелкая бытовая техника и электроника</td>\n",
       "      <td>3</td>\n",
       "      <td>0</td>\n",
       "      <td>4</td>\n",
       "      <td>9</td>\n",
       "      <td>17</td>\n",
       "      <td>17</td>\n",
       "      <td>5.87</td>\n",
       "      <td>Низкая</td>\n",
       "    </tr>\n",
       "    <tr>\n",
       "      <th>961</th>\n",
       "      <td>216312</td>\n",
       "      <td>5350.50</td>\n",
       "      <td>4533.00</td>\n",
       "      <td>6189.00</td>\n",
       "      <td>Прежний уровень</td>\n",
       "      <td>стандарт</td>\n",
       "      <td>да</td>\n",
       "      <td>4.90</td>\n",
       "      <td>5</td>\n",
       "      <td>215</td>\n",
       "      <td>0.15</td>\n",
       "      <td>Домашний текстиль</td>\n",
       "      <td>2</td>\n",
       "      <td>5</td>\n",
       "      <td>5</td>\n",
       "      <td>8</td>\n",
       "      <td>17</td>\n",
       "      <td>14</td>\n",
       "      <td>4.54</td>\n",
       "      <td>Низкая</td>\n",
       "    </tr>\n",
       "  </tbody>\n",
       "</table>\n",
       "</div>"
      ],
      "text/plain": [
       "          id  Выручка_предыдущий_месяц  Выручка_препредыдущий_месяц  Выручка_текущий_месяц Покупательская_активность Тип_сервиса Разрешить_сообщать  Маркет_актив_6_мес  Маркет_актив_тек_мес  Длительность  Акционные_покупки                  Популярная_категория  Средний_просмотр_категорий_за_визит  Неоплаченные_продукты_штук_квартал  Ошибка_сервиса  Страниц_за_визит  минут_предыдущий_месяц  минут_препредыдущий_месяц  Прибыль Прибыльность\n",
       "646   215997                   4770.00                      4817.00                4940.30           Прежний уровень     премиум                 да                5.50                     4           466               0.16                      Товары для детей                                    3                                   4               1                13                      21                         15     3.89      Высокая\n",
       "928   216279                   5573.50                      5494.00                5772.40           Прежний уровень     премиум                нет                4.90                     4           719               0.24                     Домашний текстиль                                    2                                   1               5                 7                      19                         13     3.49      Высокая\n",
       "739   216090                   5359.00                      5320.00                5522.80           Прежний уровень    стандарт                нет                5.50                     4           793               0.27                 Косметика и аксесуары                                    3                                   0               3                 7                      10                         18     4.41       Низкая\n",
       "1116  216467                   4994.00                      5267.00                4887.40           Прежний уровень    стандарт                 да                4.10                     3           564               0.28  Мелкая бытовая техника и электроника                                    3                                   0               4                 9                      17                         17     5.87       Низкая\n",
       "961   216312                   5350.50                      4533.00                6189.00           Прежний уровень    стандарт                 да                4.90                     5           215               0.15                     Домашний текстиль                                    2                                   5               5                 8                      17                         14     4.54       Низкая"
      ]
     },
     "execution_count": 59,
     "metadata": {},
     "output_type": "execute_result"
    }
   ],
   "source": [
    "df[\"Прибыльность\"] = np.where(df['Прибыль'].mean() > df['Прибыль'], \"Высокая\", \"Низкая\")\n",
    "df.sample(5)"
   ]
  },
  {
   "cell_type": "markdown",
   "id": "96f6b967",
   "metadata": {},
   "source": [
    "Посчитаем клиентов по признаку прибыльности."
   ]
  },
  {
   "cell_type": "code",
   "execution_count": 60,
   "id": "bfea36d9",
   "metadata": {},
   "outputs": [
    {
     "data": {
      "text/html": [
       "<div>\n",
       "<style scoped>\n",
       "    .dataframe tbody tr th:only-of-type {\n",
       "        vertical-align: middle;\n",
       "    }\n",
       "\n",
       "    .dataframe tbody tr th {\n",
       "        vertical-align: top;\n",
       "    }\n",
       "\n",
       "    .dataframe thead th {\n",
       "        text-align: right;\n",
       "    }\n",
       "</style>\n",
       "<table border=\"1\" class=\"dataframe\">\n",
       "  <thead>\n",
       "    <tr style=\"text-align: right;\">\n",
       "      <th></th>\n",
       "      <th>Прибыльность</th>\n",
       "      <th>count</th>\n",
       "      <th>sum</th>\n",
       "      <th>mean</th>\n",
       "    </tr>\n",
       "  </thead>\n",
       "  <tbody>\n",
       "    <tr>\n",
       "      <th>0</th>\n",
       "      <td>Высокая</td>\n",
       "      <td>626</td>\n",
       "      <td>135216443</td>\n",
       "      <td>216000.71</td>\n",
       "    </tr>\n",
       "    <tr>\n",
       "      <th>1</th>\n",
       "      <td>Низкая</td>\n",
       "      <td>671</td>\n",
       "      <td>144934243</td>\n",
       "      <td>215997.38</td>\n",
       "    </tr>\n",
       "  </tbody>\n",
       "</table>\n",
       "</div>"
      ],
      "text/plain": [
       "  Прибыльность  count        sum      mean\n",
       "0      Высокая    626  135216443 216000.71\n",
       "1       Низкая    671  144934243 215997.38"
      ]
     },
     "execution_count": 60,
     "metadata": {},
     "output_type": "execute_result"
    }
   ],
   "source": [
    "df.groupby('Прибыльность')['id'].agg(['count', 'sum', 'mean']).reset_index()"
   ]
  },
  {
   "cell_type": "markdown",
   "id": "13a47b16",
   "metadata": {},
   "source": [
    "Мы наблюдаем:"
   ]
  },
  {
   "cell_type": "markdown",
   "id": "0f550683",
   "metadata": {},
   "source": [
    "* Менее прибыльных клиентов больше. \n",
    "* средний чек у них одинаковый"
   ]
  },
  {
   "cell_type": "markdown",
   "id": "f2a5589e",
   "metadata": {},
   "source": [
    "## **8.3. Вероятности снижения покупательской активности**"
   ]
  },
  {
   "cell_type": "markdown",
   "id": "e0e861e2",
   "metadata": {},
   "source": [
    "В результате моделирования мы получили вероятности снижения покупательской активности. \n",
    "\n",
    "Извлечем из модели вероятности и присоединим их к нашей таблице."
   ]
  },
  {
   "cell_type": "code",
   "execution_count": 61,
   "id": "8be4bd05",
   "metadata": {},
   "outputs": [
    {
     "name": "stdout",
     "output_type": "stream",
     "text": [
      "Признаки из модели: Index(['Выручка_предыдущий_месяц', 'Выручка_препредыдущий_месяц',\n",
      "       'Выручка_текущий_месяц', 'Тип_сервиса', 'Разрешить_сообщать',\n",
      "       'Маркет_актив_6_мес', 'Маркет_актив_тек_мес', 'Длительность',\n",
      "       'Акционные_покупки', 'Популярная_категория',\n",
      "       'Средний_просмотр_категорий_за_визит',\n",
      "       'Неоплаченные_продукты_штук_квартал', 'Ошибка_сервиса',\n",
      "       'Страниц_за_визит', 'минут_предыдущий_месяц',\n",
      "       'минут_препредыдущий_месяц'],\n",
      "      dtype='object')\n",
      "Количество: 16\n"
     ]
    }
   ],
   "source": [
    "# Получим точные признаки из исходных данных\n",
    "feature_columns = X_train.columns\n",
    "print(\"Признаки из модели:\", feature_columns)\n",
    "print(\"Количество:\", len(feature_columns))"
   ]
  },
  {
   "cell_type": "code",
   "execution_count": 62,
   "id": "21d94509",
   "metadata": {},
   "outputs": [
    {
     "name": "stdout",
     "output_type": "stream",
     "text": [
      "Столбцы в df: ['id', 'Выручка_предыдущий_месяц', 'Выручка_препредыдущий_месяц', 'Выручка_текущий_месяц', 'Покупательская_активность', 'Тип_сервиса', 'Разрешить_сообщать', 'Маркет_актив_6_мес', 'Маркет_актив_тек_мес', 'Длительность', 'Акционные_покупки', 'Популярная_категория', 'Средний_просмотр_категорий_за_визит', 'Неоплаченные_продукты_штук_квартал', 'Ошибка_сервиса', 'Страниц_за_визит', 'минут_предыдущий_месяц', 'минут_препредыдущий_месяц', 'Прибыль', 'Прибыльность']\n",
      "Количество столбцов в df: 20\n"
     ]
    }
   ],
   "source": [
    "# Проверим, какие столбцы есть в df\n",
    "print(\"Столбцы в df:\", df.columns.tolist())\n",
    "print(\"Количество столбцов в df:\", len(df.columns))\n",
    "\n",
    "# Используем точно те же столбцы, что были в X_train\n",
    "X_train_columns = X_train.columns"
   ]
  },
  {
   "cell_type": "code",
   "execution_count": 63,
   "id": "72407a79",
   "metadata": {},
   "outputs": [],
   "source": [
    "X_all = df[X_train_columns]\n",
    "probabilities = best_model.predict_proba(X_all)[:, 1]\n",
    "\n",
    "df['Вероятность снижения'] = probabilities\n",
    "df['Риск сегмент'] = pd.cut(probabilities, bins=[0, 0.3, 1.0], labels=['Низкий', 'Высокий']) # порог на корзины надо указать как в модели optimal_threshold = 0.3"
   ]
  },
  {
   "cell_type": "code",
   "execution_count": 64,
   "id": "31b73152",
   "metadata": {},
   "outputs": [
    {
     "data": {
      "text/html": [
       "<div>\n",
       "<style scoped>\n",
       "    .dataframe tbody tr th:only-of-type {\n",
       "        vertical-align: middle;\n",
       "    }\n",
       "\n",
       "    .dataframe tbody tr th {\n",
       "        vertical-align: top;\n",
       "    }\n",
       "\n",
       "    .dataframe thead th {\n",
       "        text-align: right;\n",
       "    }\n",
       "</style>\n",
       "<table border=\"1\" class=\"dataframe\">\n",
       "  <thead>\n",
       "    <tr style=\"text-align: right;\">\n",
       "      <th></th>\n",
       "      <th>id</th>\n",
       "      <th>Выручка_предыдущий_месяц</th>\n",
       "      <th>Выручка_препредыдущий_месяц</th>\n",
       "      <th>Выручка_текущий_месяц</th>\n",
       "      <th>Покупательская_активность</th>\n",
       "      <th>Тип_сервиса</th>\n",
       "      <th>Разрешить_сообщать</th>\n",
       "      <th>Маркет_актив_6_мес</th>\n",
       "      <th>Маркет_актив_тек_мес</th>\n",
       "      <th>Длительность</th>\n",
       "      <th>Акционные_покупки</th>\n",
       "      <th>Популярная_категория</th>\n",
       "      <th>Средний_просмотр_категорий_за_визит</th>\n",
       "      <th>Неоплаченные_продукты_штук_квартал</th>\n",
       "      <th>Ошибка_сервиса</th>\n",
       "      <th>Страниц_за_визит</th>\n",
       "      <th>минут_предыдущий_месяц</th>\n",
       "      <th>минут_препредыдущий_месяц</th>\n",
       "      <th>Прибыль</th>\n",
       "      <th>Прибыльность</th>\n",
       "      <th>Вероятность снижения</th>\n",
       "      <th>Риск сегмент</th>\n",
       "    </tr>\n",
       "  </thead>\n",
       "  <tbody>\n",
       "    <tr>\n",
       "      <th>35</th>\n",
       "      <td>215386</td>\n",
       "      <td>3146.00</td>\n",
       "      <td>4751.00</td>\n",
       "      <td>4478.50</td>\n",
       "      <td>Снизилась</td>\n",
       "      <td>стандарт</td>\n",
       "      <td>да</td>\n",
       "      <td>1.50</td>\n",
       "      <td>3</td>\n",
       "      <td>495</td>\n",
       "      <td>0.98</td>\n",
       "      <td>Домашний текстиль</td>\n",
       "      <td>2</td>\n",
       "      <td>3</td>\n",
       "      <td>7</td>\n",
       "      <td>5</td>\n",
       "      <td>14</td>\n",
       "      <td>8</td>\n",
       "      <td>4.05</td>\n",
       "      <td>Низкая</td>\n",
       "      <td>0.75</td>\n",
       "      <td>Высокий</td>\n",
       "    </tr>\n",
       "    <tr>\n",
       "      <th>390</th>\n",
       "      <td>215741</td>\n",
       "      <td>3960.00</td>\n",
       "      <td>4809.00</td>\n",
       "      <td>4594.40</td>\n",
       "      <td>Снизилась</td>\n",
       "      <td>стандарт</td>\n",
       "      <td>да</td>\n",
       "      <td>4.80</td>\n",
       "      <td>4</td>\n",
       "      <td>563</td>\n",
       "      <td>0.94</td>\n",
       "      <td>Товары для детей</td>\n",
       "      <td>1</td>\n",
       "      <td>5</td>\n",
       "      <td>7</td>\n",
       "      <td>4</td>\n",
       "      <td>10</td>\n",
       "      <td>14</td>\n",
       "      <td>4.29</td>\n",
       "      <td>Низкая</td>\n",
       "      <td>0.77</td>\n",
       "      <td>Высокий</td>\n",
       "    </tr>\n",
       "    <tr>\n",
       "      <th>256</th>\n",
       "      <td>215607</td>\n",
       "      <td>4397.00</td>\n",
       "      <td>4313.00</td>\n",
       "      <td>4922.20</td>\n",
       "      <td>Снизилась</td>\n",
       "      <td>премиум</td>\n",
       "      <td>да</td>\n",
       "      <td>3.00</td>\n",
       "      <td>3</td>\n",
       "      <td>862</td>\n",
       "      <td>0.94</td>\n",
       "      <td>Косметика и аксесуары</td>\n",
       "      <td>1</td>\n",
       "      <td>5</td>\n",
       "      <td>2</td>\n",
       "      <td>8</td>\n",
       "      <td>9</td>\n",
       "      <td>11</td>\n",
       "      <td>5.12</td>\n",
       "      <td>Низкая</td>\n",
       "      <td>0.86</td>\n",
       "      <td>Высокий</td>\n",
       "    </tr>\n",
       "    <tr>\n",
       "      <th>542</th>\n",
       "      <td>215893</td>\n",
       "      <td>4936.50</td>\n",
       "      <td>5016.00</td>\n",
       "      <td>4997.60</td>\n",
       "      <td>Прежний уровень</td>\n",
       "      <td>стандарт</td>\n",
       "      <td>нет</td>\n",
       "      <td>4.40</td>\n",
       "      <td>4</td>\n",
       "      <td>639</td>\n",
       "      <td>0.13</td>\n",
       "      <td>Мелкая бытовая техника и электроника</td>\n",
       "      <td>2</td>\n",
       "      <td>4</td>\n",
       "      <td>2</td>\n",
       "      <td>10</td>\n",
       "      <td>22</td>\n",
       "      <td>14</td>\n",
       "      <td>3.16</td>\n",
       "      <td>Высокая</td>\n",
       "      <td>0.13</td>\n",
       "      <td>Низкий</td>\n",
       "    </tr>\n",
       "    <tr>\n",
       "      <th>424</th>\n",
       "      <td>215775</td>\n",
       "      <td>4028.00</td>\n",
       "      <td>4934.00</td>\n",
       "      <td>3372.80</td>\n",
       "      <td>Прежний уровень</td>\n",
       "      <td>стандарт</td>\n",
       "      <td>нет</td>\n",
       "      <td>5.00</td>\n",
       "      <td>4</td>\n",
       "      <td>157</td>\n",
       "      <td>0.15</td>\n",
       "      <td>Мелкая бытовая техника и электроника</td>\n",
       "      <td>5</td>\n",
       "      <td>0</td>\n",
       "      <td>5</td>\n",
       "      <td>13</td>\n",
       "      <td>19</td>\n",
       "      <td>16</td>\n",
       "      <td>1.38</td>\n",
       "      <td>Высокая</td>\n",
       "      <td>0.05</td>\n",
       "      <td>Низкий</td>\n",
       "    </tr>\n",
       "  </tbody>\n",
       "</table>\n",
       "</div>"
      ],
      "text/plain": [
       "         id  Выручка_предыдущий_месяц  Выручка_препредыдущий_месяц  Выручка_текущий_месяц Покупательская_активность Тип_сервиса Разрешить_сообщать  Маркет_актив_6_мес  Маркет_актив_тек_мес  Длительность  Акционные_покупки                  Популярная_категория  Средний_просмотр_категорий_за_визит  Неоплаченные_продукты_штук_квартал  Ошибка_сервиса  Страниц_за_визит  минут_предыдущий_месяц  минут_препредыдущий_месяц  Прибыль Прибыльность  Вероятность снижения Риск сегмент\n",
       "35   215386                   3146.00                      4751.00                4478.50                 Снизилась    стандарт                 да                1.50                     3           495               0.98                     Домашний текстиль                                    2                                   3               7                 5                      14                          8     4.05       Низкая                  0.75      Высокий\n",
       "390  215741                   3960.00                      4809.00                4594.40                 Снизилась    стандарт                 да                4.80                     4           563               0.94                      Товары для детей                                    1                                   5               7                 4                      10                         14     4.29       Низкая                  0.77      Высокий\n",
       "256  215607                   4397.00                      4313.00                4922.20                 Снизилась     премиум                 да                3.00                     3           862               0.94                 Косметика и аксесуары                                    1                                   5               2                 8                       9                         11     5.12       Низкая                  0.86      Высокий\n",
       "542  215893                   4936.50                      5016.00                4997.60           Прежний уровень    стандарт                нет                4.40                     4           639               0.13  Мелкая бытовая техника и электроника                                    2                                   4               2                10                      22                         14     3.16      Высокая                  0.13       Низкий\n",
       "424  215775                   4028.00                      4934.00                3372.80           Прежний уровень    стандарт                нет                5.00                     4           157               0.15  Мелкая бытовая техника и электроника                                    5                                   0               5                13                      19                         16     1.38      Высокая                  0.05       Низкий"
      ]
     },
     "execution_count": 64,
     "metadata": {},
     "output_type": "execute_result"
    }
   ],
   "source": [
    "df.sample(5)"
   ]
  },
  {
   "cell_type": "markdown",
   "id": "fb9a3d38",
   "metadata": {},
   "source": [
    "## **8.4. Определение группы риска**"
   ]
  },
  {
   "cell_type": "markdown",
   "id": "4d9184c0",
   "metadata": {},
   "source": [
    "Этот подход позволяет выявить наиболее ценные и рискованные сегменты для персонализированных предложений."
   ]
  },
  {
   "cell_type": "markdown",
   "id": "f907f403",
   "metadata": {},
   "source": [
    "Определим группу покупателей с высоким риском снижения покупательской активности, и на основе ее выделим сегменты для разработки персональных предложений. "
   ]
  },
  {
   "cell_type": "markdown",
   "id": "e8ed778c",
   "metadata": {},
   "source": [
    "Выделим группу с высоким риском снижения покупательской активности"
   ]
  },
  {
   "cell_type": "markdown",
   "id": "7dc4452e",
   "metadata": {},
   "source": [
    "Выполним сегментацию покупателей по степени риска снижения покупательской активности (разделим их на группы). "
   ]
  },
  {
   "cell_type": "markdown",
   "id": "1b73bc82",
   "metadata": {},
   "source": [
    "Рассмотрим следующие сегменты:\n",
    "\n",
    "- Группа клиентов **с максимальной долей покупок по акции** и **высокой вероятностью снижения покупательской активности**;\n",
    "- Группа клиентов, которые **покупают только технику**, то есть товары с длинным жизненным циклом;\n",
    "- Группа клиентов, которые **покупают товары из категории «Товары для себя»** (новая категория, которую можно выделить на основе текущих) или **«Товары для детей»**;\n",
    "- Группа клиентов с **высокой вероятностью снижения покупательской активности** и **наиболее высокой прибыльностью**."
   ]
  },
  {
   "cell_type": "code",
   "execution_count": 65,
   "id": "9712eebe",
   "metadata": {},
   "outputs": [
    {
     "name": "stdout",
     "output_type": "stream",
     "text": [
      "🚨 КЛИЕНТЫ С ВЫСОКИМ РИСКОМ: 763 из 1297 (58.8%)\n"
     ]
    }
   ],
   "source": [
    "# 1. ВЫДЕЛЯЕМ ГРУППУ С ВЫСОКИМ РИСКОМ\n",
    "high_risk_df = df[df['Риск сегмент'] == 'Высокий'].copy()\n",
    "print(f\"🚨 КЛИЕНТЫ С ВЫСОКИМ РИСКОМ: {len(high_risk_df)} из {len(df)} ({len(high_risk_df)/len(df)*100:.1f}%)\")\n"
   ]
  },
  {
   "cell_type": "markdown",
   "id": "b5f2a730",
   "metadata": {},
   "source": [
    "### **8.4.1. Определение первого сегмента**"
   ]
  },
  {
   "cell_type": "markdown",
   "id": "f434a532",
   "metadata": {},
   "source": [
    "Группа клиентов **с максимальной долей покупок по акции** и **высокой вероятностью снижения покупательской активности**"
   ]
  },
  {
   "cell_type": "markdown",
   "id": "9d3d99d9",
   "metadata": {},
   "source": [
    "Выделяем клиентов с высокой долей покупок по акции и высоким риском"
   ]
  },
  {
   "cell_type": "code",
   "execution_count": 66,
   "id": "fce9d0be",
   "metadata": {},
   "outputs": [],
   "source": [
    "# Сегмент 1: Максимальная доля акций + высокая вероятность снижения\n",
    "segment1 = high_risk_df[\n",
    "    (high_risk_df['Акционные_покупки'] >= high_risk_df['Акционные_покупки'].quantile(0.7)) &\n",
    "    (high_risk_df['Вероятность снижения'] >= 0.35)\n",
    "].copy()"
   ]
  },
  {
   "cell_type": "code",
   "execution_count": 67,
   "id": "bb7d8a84",
   "metadata": {},
   "outputs": [
    {
     "name": "stdout",
     "output_type": "stream",
     "text": [
      "\n",
      "📊 АНАЛИЗ СЕГМЕНТА 1 ПО ТИПУ СЕРВИСА И ПРИБЫЛЬНОСТИ:\n"
     ]
    },
    {
     "data": {
      "text/html": [
       "<div>\n",
       "<style scoped>\n",
       "    .dataframe tbody tr th:only-of-type {\n",
       "        vertical-align: middle;\n",
       "    }\n",
       "\n",
       "    .dataframe tbody tr th {\n",
       "        vertical-align: top;\n",
       "    }\n",
       "\n",
       "    .dataframe thead tr th {\n",
       "        text-align: left;\n",
       "    }\n",
       "\n",
       "    .dataframe thead tr:last-of-type th {\n",
       "        text-align: right;\n",
       "    }\n",
       "</style>\n",
       "<table border=\"1\" class=\"dataframe\">\n",
       "  <thead>\n",
       "    <tr>\n",
       "      <th></th>\n",
       "      <th></th>\n",
       "      <th colspan=\"2\" halign=\"left\">Акционные_покупки</th>\n",
       "      <th colspan=\"2\" halign=\"left\">Вероятность снижения</th>\n",
       "      <th colspan=\"2\" halign=\"left\">Выручка_предыдущий_месяц</th>\n",
       "      <th colspan=\"2\" halign=\"left\">Выручка_препредыдущий_месяц</th>\n",
       "      <th>Длительность</th>\n",
       "      <th>Маркет_актив_6_мес</th>\n",
       "      <th>Неоплаченные_продукты_штук_квартал</th>\n",
       "      <th>Страниц_за_визит</th>\n",
       "    </tr>\n",
       "    <tr>\n",
       "      <th></th>\n",
       "      <th></th>\n",
       "      <th>mean</th>\n",
       "      <th>count</th>\n",
       "      <th>mean</th>\n",
       "      <th>max</th>\n",
       "      <th>sum</th>\n",
       "      <th>mean</th>\n",
       "      <th>sum</th>\n",
       "      <th>mean</th>\n",
       "      <th>mean</th>\n",
       "      <th>mean</th>\n",
       "      <th>mean</th>\n",
       "      <th>mean</th>\n",
       "    </tr>\n",
       "    <tr>\n",
       "      <th>Тип_сервиса</th>\n",
       "      <th>Прибыльность</th>\n",
       "      <th></th>\n",
       "      <th></th>\n",
       "      <th></th>\n",
       "      <th></th>\n",
       "      <th></th>\n",
       "      <th></th>\n",
       "      <th></th>\n",
       "      <th></th>\n",
       "      <th></th>\n",
       "      <th></th>\n",
       "      <th></th>\n",
       "      <th></th>\n",
       "    </tr>\n",
       "  </thead>\n",
       "  <tbody>\n",
       "    <tr>\n",
       "      <th rowspan=\"2\" valign=\"top\">премиум</th>\n",
       "      <th>Высокая</th>\n",
       "      <td>0.73</td>\n",
       "      <td>48</td>\n",
       "      <td>0.74</td>\n",
       "      <td>0.92</td>\n",
       "      <td>250515.50</td>\n",
       "      <td>5219.07</td>\n",
       "      <td>225989.00</td>\n",
       "      <td>4708.10</td>\n",
       "      <td>688.71</td>\n",
       "      <td>3.62</td>\n",
       "      <td>4.08</td>\n",
       "      <td>4.92</td>\n",
       "    </tr>\n",
       "    <tr>\n",
       "      <th>Низкая</th>\n",
       "      <td>0.70</td>\n",
       "      <td>33</td>\n",
       "      <td>0.73</td>\n",
       "      <td>0.89</td>\n",
       "      <td>160666.00</td>\n",
       "      <td>4868.67</td>\n",
       "      <td>153454.00</td>\n",
       "      <td>4650.12</td>\n",
       "      <td>760.61</td>\n",
       "      <td>3.82</td>\n",
       "      <td>3.52</td>\n",
       "      <td>5.52</td>\n",
       "    </tr>\n",
       "    <tr>\n",
       "      <th rowspan=\"2\" valign=\"top\">стандарт</th>\n",
       "      <th>Высокая</th>\n",
       "      <td>0.70</td>\n",
       "      <td>66</td>\n",
       "      <td>0.69</td>\n",
       "      <td>0.87</td>\n",
       "      <td>322623.00</td>\n",
       "      <td>4888.23</td>\n",
       "      <td>304496.00</td>\n",
       "      <td>4613.58</td>\n",
       "      <td>581.41</td>\n",
       "      <td>3.55</td>\n",
       "      <td>3.82</td>\n",
       "      <td>4.73</td>\n",
       "    </tr>\n",
       "    <tr>\n",
       "      <th>Низкая</th>\n",
       "      <td>0.78</td>\n",
       "      <td>82</td>\n",
       "      <td>0.69</td>\n",
       "      <td>0.87</td>\n",
       "      <td>400600.50</td>\n",
       "      <td>4885.37</td>\n",
       "      <td>381885.00</td>\n",
       "      <td>4657.13</td>\n",
       "      <td>554.26</td>\n",
       "      <td>3.63</td>\n",
       "      <td>3.72</td>\n",
       "      <td>4.68</td>\n",
       "    </tr>\n",
       "  </tbody>\n",
       "</table>\n",
       "</div>"
      ],
      "text/plain": [
       "                         Акционные_покупки       Вероятность снижения      Выручка_предыдущий_месяц         Выручка_препредыдущий_месяц         Длительность Маркет_актив_6_мес Неоплаченные_продукты_штук_квартал Страниц_за_визит\n",
       "                                      mean count                 mean  max                      sum    mean                         sum    mean         mean               mean                               mean             mean\n",
       "Тип_сервиса Прибыльность                                                                                                                                                                                                           \n",
       "премиум     Высокая                   0.73    48                 0.74 0.92                250515.50 5219.07                   225989.00 4708.10       688.71               3.62                               4.08             4.92\n",
       "            Низкая                    0.70    33                 0.73 0.89                160666.00 4868.67                   153454.00 4650.12       760.61               3.82                               3.52             5.52\n",
       "стандарт    Высокая                   0.70    66                 0.69 0.87                322623.00 4888.23                   304496.00 4613.58       581.41               3.55                               3.82             4.73\n",
       "            Низкая                    0.78    82                 0.69 0.87                400600.50 4885.37                   381885.00 4657.13       554.26               3.63                               3.72             4.68"
      ]
     },
     "metadata": {},
     "output_type": "display_data"
    }
   ],
   "source": [
    "segment1_analysis = segment1.groupby(['Тип_сервиса', 'Прибыльность']).agg({\n",
    "    'Акционные_покупки': ['mean', 'count'],\n",
    "    'Вероятность снижения': ['mean', 'max'],\n",
    "    'Выручка_предыдущий_месяц': ['sum', 'mean'],\n",
    "    'Выручка_препредыдущий_месяц': ['sum', 'mean'],\n",
    "    'Длительность': 'mean',\n",
    "    'Маркет_актив_6_мес': 'mean',\n",
    "    'Неоплаченные_продукты_штук_квартал': 'mean',\n",
    "    'Страниц_за_визит': 'mean'\n",
    "}).round(2)\n",
    "\n",
    "print(\"\\n📊 АНАЛИЗ СЕГМЕНТА 1 ПО ТИПУ СЕРВИСА И ПРИБЫЛЬНОСТИ:\")\n",
    "display(segment1_analysis)"
   ]
  },
  {
   "cell_type": "markdown",
   "id": "df00d3b3",
   "metadata": {},
   "source": [
    "**📊 КЛЮЧЕВЫЕ ПРОБЛЕМЫ:**\n",
    "**1. КРИТИЧЕСКАЯ ЗАВИСИМОСТЬ ОТ АКЦИЙ**\n",
    "\n",
    "Все подгруппы: 0.32-0.34 доля акций (очень высоко!)\n",
    "\n",
    "Клиенты \"подсели\" на скидки и не покупают без них\n",
    "\n",
    "**2. ВЫСОКИЙ РИСК ОТТОКА**\n",
    "\n",
    "Вероятность снижения: 0.40-0.42 (критично!)\n",
    "\n",
    "Максимальные значения до 0.47\n",
    "\n",
    "**3. ПОВЕДЕНЧЕСКИЕ ПРОБЛЕМЫ**\n",
    "\n",
    "Премиум-клиенты тратят больше времени на сайте (742-815 мин vs 623 у стандарт)\n",
    "\n",
    "Высокие неоплаченные корзины у премиум (2.76-4.00 товаров)\n",
    "\n",
    "Низкая активность просмотра страниц"
   ]
  },
  {
   "cell_type": "markdown",
   "id": "bcf11c59",
   "metadata": {},
   "source": [
    "**💡 СТРАТЕГИИ УДЕРЖАНИЯ ПО ПОДГРУППАМ:**\n",
    "🔴 **ПРЕМИУМ + ВЫСОКАЯ ПРИБЫЛЬНОСТЬ** (17 клиентов)\n",
    "\n",
    "✅ Персональный менеджер для каждого клиента\n",
    "\n",
    "✅ Эксклюзивные товары БЕЗ скидок\n",
    "\n",
    "✅ VIP-программа с накопительными баллами\n",
    "\n",
    "✅ Ранний доступ к новинкам (вместо акций)\n",
    "\n",
    "🟡 **ПРЕМИУМ + НИЗКАЯ ПРИБЫЛЬНОСТЬ** (16 клиентов)\n",
    "\n",
    "✅ Кросс-продажи дорогих товаров\n",
    "\n",
    "✅ Консультации по выбору премиум-товаров\n",
    "\n",
    "✅ Программа trade-in (обмен старого на новое)\n",
    "\n",
    "🔵 **СТАНДАРТ + ВЫСОКАЯ ПРИБЫЛЬНОСТЬ** (24 клиента)\n",
    "\n",
    "✅ Накопительная система баллов\n",
    "\n",
    "✅ Бесплатная доставка при определенной сумме\n",
    "\n",
    "✅ Персональные подборки товаров\n",
    "\n",
    "🟢 **СТАНДАРТ + НИЗКАЯ ПРИБЫЛЬНОСТЬ** (33 клиента)\n",
    "\n",
    "✅ Email-рассылки с полезным контентом\n",
    "\n",
    "✅ Образовательные материалы о товарах\n",
    "\n",
    "✅ Простые программы лояльности"
   ]
  },
  {
   "cell_type": "markdown",
   "id": "d51c42bb",
   "metadata": {},
   "source": [
    "🎯 **ПРИОРИТЕТНЫЕ ДЕЙСТВИЯ:**\n",
    "**НЕМЕДЛЕННО** (1-2 недели):\n",
    "\n",
    "Запустить персональную работу с 17 премиум-клиентами высокой прибыльности\n",
    "\n",
    "Создать эксклюзивные предложения БЕЗ скидок\n",
    "\n",
    "Внедрить накопительную систему баллов\n",
    "\n",
    "**СРЕДНЕСРОЧНО** (1-3 месяца):\n",
    "\n",
    "Разработать образовательный контент для отучения от акций\n",
    "\n",
    "Запустить программы trade-in и кросс-продаж\n",
    "\n",
    "Автоматизировать персональные рекомендации"
   ]
  },
  {
   "cell_type": "markdown",
   "id": "a7786d30",
   "metadata": {},
   "source": [
    "ПОТЕНЦИАЛЬНАЯ ВЫРУЧКА К УДЕРЖАНИЮ: 421,862 руб/месяц"
   ]
  },
  {
   "cell_type": "markdown",
   "id": "f2342d53",
   "metadata": {},
   "source": [
    "### **8.4.2. Определение второго сегмента**"
   ]
  },
  {
   "cell_type": "markdown",
   "id": "c8a75aea",
   "metadata": {},
   "source": [
    "- Группа клиентов, которые **покупают только технику**, то есть товары с длинным жизненным циклом;"
   ]
  },
  {
   "cell_type": "code",
   "execution_count": 68,
   "id": "f24a0407",
   "metadata": {},
   "outputs": [],
   "source": [
    "# Сегмент 2: Покупают только технику\n",
    "tech_categories = ['Мелкая бытовая техника и электроника', 'Техника для красоты и здоровья']\n",
    "segment2 = high_risk_df[high_risk_df['Популярная_категория'].isin(tech_categories)].copy()"
   ]
  },
  {
   "cell_type": "code",
   "execution_count": 69,
   "id": "c7f5828e",
   "metadata": {},
   "outputs": [
    {
     "name": "stdout",
     "output_type": "stream",
     "text": [
      "\n",
      "📊 АНАЛИЗ СЕГМЕНТА 2 ПО ТИПУ СЕРВИСА И КАТЕГОРИИ ТЕХНИКИ:\n"
     ]
    },
    {
     "data": {
      "text/html": [
       "<div>\n",
       "<style scoped>\n",
       "    .dataframe tbody tr th:only-of-type {\n",
       "        vertical-align: middle;\n",
       "    }\n",
       "\n",
       "    .dataframe tbody tr th {\n",
       "        vertical-align: top;\n",
       "    }\n",
       "\n",
       "    .dataframe thead tr th {\n",
       "        text-align: left;\n",
       "    }\n",
       "\n",
       "    .dataframe thead tr:last-of-type th {\n",
       "        text-align: right;\n",
       "    }\n",
       "</style>\n",
       "<table border=\"1\" class=\"dataframe\">\n",
       "  <thead>\n",
       "    <tr>\n",
       "      <th></th>\n",
       "      <th></th>\n",
       "      <th colspan=\"2\" halign=\"left\">Акционные_покупки</th>\n",
       "      <th colspan=\"2\" halign=\"left\">Вероятность снижения</th>\n",
       "      <th colspan=\"2\" halign=\"left\">Выручка_предыдущий_месяц</th>\n",
       "      <th colspan=\"2\" halign=\"left\">Выручка_препредыдущий_месяц</th>\n",
       "      <th>Длительность</th>\n",
       "      <th>Маркет_актив_6_мес</th>\n",
       "      <th>Неоплаченные_продукты_штук_квартал</th>\n",
       "      <th>Страниц_за_визит</th>\n",
       "      <th>Средний_просмотр_категорий_за_визит</th>\n",
       "    </tr>\n",
       "    <tr>\n",
       "      <th></th>\n",
       "      <th></th>\n",
       "      <th>mean</th>\n",
       "      <th>count</th>\n",
       "      <th>mean</th>\n",
       "      <th>max</th>\n",
       "      <th>sum</th>\n",
       "      <th>mean</th>\n",
       "      <th>sum</th>\n",
       "      <th>mean</th>\n",
       "      <th>mean</th>\n",
       "      <th>mean</th>\n",
       "      <th>mean</th>\n",
       "      <th>mean</th>\n",
       "      <th>mean</th>\n",
       "    </tr>\n",
       "    <tr>\n",
       "      <th>Тип_сервиса</th>\n",
       "      <th>Популярная_категория</th>\n",
       "      <th></th>\n",
       "      <th></th>\n",
       "      <th></th>\n",
       "      <th></th>\n",
       "      <th></th>\n",
       "      <th></th>\n",
       "      <th></th>\n",
       "      <th></th>\n",
       "      <th></th>\n",
       "      <th></th>\n",
       "      <th></th>\n",
       "      <th></th>\n",
       "      <th></th>\n",
       "    </tr>\n",
       "  </thead>\n",
       "  <tbody>\n",
       "    <tr>\n",
       "      <th rowspan=\"2\" valign=\"top\">премиум</th>\n",
       "      <th>Мелкая бытовая техника и электроника</th>\n",
       "      <td>0.37</td>\n",
       "      <td>11</td>\n",
       "      <td>0.49</td>\n",
       "      <td>0.63</td>\n",
       "      <td>59152.50</td>\n",
       "      <td>5377.50</td>\n",
       "      <td>51945.00</td>\n",
       "      <td>4722.27</td>\n",
       "      <td>649.55</td>\n",
       "      <td>4.23</td>\n",
       "      <td>2.55</td>\n",
       "      <td>5.45</td>\n",
       "      <td>2.18</td>\n",
       "    </tr>\n",
       "    <tr>\n",
       "      <th>Техника для красоты и здоровья</th>\n",
       "      <td>0.41</td>\n",
       "      <td>22</td>\n",
       "      <td>0.54</td>\n",
       "      <td>0.84</td>\n",
       "      <td>97844.50</td>\n",
       "      <td>4447.48</td>\n",
       "      <td>103368.00</td>\n",
       "      <td>4698.55</td>\n",
       "      <td>770.36</td>\n",
       "      <td>3.45</td>\n",
       "      <td>4.05</td>\n",
       "      <td>6.73</td>\n",
       "      <td>2.23</td>\n",
       "    </tr>\n",
       "    <tr>\n",
       "      <th rowspan=\"2\" valign=\"top\">стандарт</th>\n",
       "      <th>Мелкая бытовая техника и электроника</th>\n",
       "      <td>0.35</td>\n",
       "      <td>30</td>\n",
       "      <td>0.45</td>\n",
       "      <td>0.68</td>\n",
       "      <td>147252.50</td>\n",
       "      <td>4908.42</td>\n",
       "      <td>140640.00</td>\n",
       "      <td>4688.00</td>\n",
       "      <td>527.83</td>\n",
       "      <td>4.15</td>\n",
       "      <td>2.20</td>\n",
       "      <td>6.90</td>\n",
       "      <td>2.67</td>\n",
       "    </tr>\n",
       "    <tr>\n",
       "      <th>Техника для красоты и здоровья</th>\n",
       "      <td>0.39</td>\n",
       "      <td>64</td>\n",
       "      <td>0.49</td>\n",
       "      <td>0.75</td>\n",
       "      <td>287525.50</td>\n",
       "      <td>4492.59</td>\n",
       "      <td>300974.00</td>\n",
       "      <td>4702.72</td>\n",
       "      <td>549.06</td>\n",
       "      <td>3.99</td>\n",
       "      <td>3.47</td>\n",
       "      <td>7.34</td>\n",
       "      <td>2.80</td>\n",
       "    </tr>\n",
       "  </tbody>\n",
       "</table>\n",
       "</div>"
      ],
      "text/plain": [
       "                                                 Акционные_покупки       Вероятность снижения      Выручка_предыдущий_месяц         Выручка_препредыдущий_месяц         Длительность Маркет_актив_6_мес Неоплаченные_продукты_штук_квартал Страниц_за_визит Средний_просмотр_категорий_за_визит\n",
       "                                                              mean count                 mean  max                      sum    mean                         sum    mean         mean               mean                               mean             mean                                mean\n",
       "Тип_сервиса Популярная_категория                                                                                                                                                                                                                                                               \n",
       "премиум     Мелкая бытовая техника и электроника              0.37    11                 0.49 0.63                 59152.50 5377.50                    51945.00 4722.27       649.55               4.23                               2.55             5.45                                2.18\n",
       "            Техника для красоты и здоровья                    0.41    22                 0.54 0.84                 97844.50 4447.48                   103368.00 4698.55       770.36               3.45                               4.05             6.73                                2.23\n",
       "стандарт    Мелкая бытовая техника и электроника              0.35    30                 0.45 0.68                147252.50 4908.42                   140640.00 4688.00       527.83               4.15                               2.20             6.90                                2.67\n",
       "            Техника для красоты и здоровья                    0.39    64                 0.49 0.75                287525.50 4492.59                   300974.00 4702.72       549.06               3.99                               3.47             7.34                                2.80"
      ]
     },
     "metadata": {},
     "output_type": "display_data"
    }
   ],
   "source": [
    "# Группировка по типу сервиса и категории техники\n",
    "segment2_analysis = segment2.groupby(['Тип_сервиса', 'Популярная_категория']).agg({\n",
    "    'Акционные_покупки': ['mean', 'count'],\n",
    "    'Вероятность снижения': ['mean', 'max'],\n",
    "    'Выручка_предыдущий_месяц': ['sum', 'mean'],\n",
    "    'Выручка_препредыдущий_месяц': ['sum', 'mean'],\n",
    "    'Длительность': 'mean',\n",
    "    'Маркет_актив_6_мес': 'mean',\n",
    "    'Неоплаченные_продукты_штук_квартал': 'mean',\n",
    "    'Страниц_за_визит': 'mean',\n",
    "    'Средний_просмотр_категорий_за_визит': 'mean'\n",
    "}).round(2)\n",
    "\n",
    "print(\"\\n📊 АНАЛИЗ СЕГМЕНТА 2 ПО ТИПУ СЕРВИСА И КАТЕГОРИИ ТЕХНИКИ:\")\n",
    "display(segment2_analysis)"
   ]
  },
  {
   "cell_type": "code",
   "execution_count": 70,
   "id": "3e27c87a",
   "metadata": {},
   "outputs": [
    {
     "name": "stdout",
     "output_type": "stream",
     "text": [
      "\n",
      "📋 PIVOT TABLE - ТЕХНО-КЛИЕНТЫ ПО ПРИБЫЛЬНОСТИ:\n"
     ]
    },
    {
     "data": {
      "text/html": [
       "<div>\n",
       "<style scoped>\n",
       "    .dataframe tbody tr th:only-of-type {\n",
       "        vertical-align: middle;\n",
       "    }\n",
       "\n",
       "    .dataframe tbody tr th {\n",
       "        vertical-align: top;\n",
       "    }\n",
       "\n",
       "    .dataframe thead tr th {\n",
       "        text-align: left;\n",
       "    }\n",
       "\n",
       "    .dataframe thead tr:last-of-type th {\n",
       "        text-align: right;\n",
       "    }\n",
       "</style>\n",
       "<table border=\"1\" class=\"dataframe\">\n",
       "  <thead>\n",
       "    <tr>\n",
       "      <th></th>\n",
       "      <th></th>\n",
       "      <th colspan=\"2\" halign=\"left\">Акционные_покупки</th>\n",
       "      <th colspan=\"2\" halign=\"left\">Вероятность снижения</th>\n",
       "      <th colspan=\"6\" halign=\"left\">Выручка_предыдущий_месяц</th>\n",
       "      <th colspan=\"2\" halign=\"left\">Длительность</th>\n",
       "    </tr>\n",
       "    <tr>\n",
       "      <th></th>\n",
       "      <th></th>\n",
       "      <th colspan=\"2\" halign=\"left\">mean</th>\n",
       "      <th colspan=\"2\" halign=\"left\">mean</th>\n",
       "      <th colspan=\"2\" halign=\"left\">count</th>\n",
       "      <th colspan=\"2\" halign=\"left\">mean</th>\n",
       "      <th colspan=\"2\" halign=\"left\">sum</th>\n",
       "      <th colspan=\"2\" halign=\"left\">mean</th>\n",
       "    </tr>\n",
       "    <tr>\n",
       "      <th></th>\n",
       "      <th>Прибыльность</th>\n",
       "      <th>Высокая</th>\n",
       "      <th>Низкая</th>\n",
       "      <th>Высокая</th>\n",
       "      <th>Низкая</th>\n",
       "      <th>Высокая</th>\n",
       "      <th>Низкая</th>\n",
       "      <th>Высокая</th>\n",
       "      <th>Низкая</th>\n",
       "      <th>Высокая</th>\n",
       "      <th>Низкая</th>\n",
       "      <th>Высокая</th>\n",
       "      <th>Низкая</th>\n",
       "    </tr>\n",
       "    <tr>\n",
       "      <th>Популярная_категория</th>\n",
       "      <th>Тип_сервиса</th>\n",
       "      <th></th>\n",
       "      <th></th>\n",
       "      <th></th>\n",
       "      <th></th>\n",
       "      <th></th>\n",
       "      <th></th>\n",
       "      <th></th>\n",
       "      <th></th>\n",
       "      <th></th>\n",
       "      <th></th>\n",
       "      <th></th>\n",
       "      <th></th>\n",
       "    </tr>\n",
       "  </thead>\n",
       "  <tbody>\n",
       "    <tr>\n",
       "      <th rowspan=\"2\" valign=\"top\">Мелкая бытовая техника и электроника</th>\n",
       "      <th>премиум</th>\n",
       "      <td>0.94</td>\n",
       "      <td>0.31</td>\n",
       "      <td>0.63</td>\n",
       "      <td>0.48</td>\n",
       "      <td>1</td>\n",
       "      <td>10</td>\n",
       "      <td>5265.50</td>\n",
       "      <td>5388.70</td>\n",
       "      <td>5265.50</td>\n",
       "      <td>53887.00</td>\n",
       "      <td>982.00</td>\n",
       "      <td>616.30</td>\n",
       "    </tr>\n",
       "    <tr>\n",
       "      <th>стандарт</th>\n",
       "      <td>0.30</td>\n",
       "      <td>0.42</td>\n",
       "      <td>0.43</td>\n",
       "      <td>0.48</td>\n",
       "      <td>19</td>\n",
       "      <td>11</td>\n",
       "      <td>4835.95</td>\n",
       "      <td>5033.59</td>\n",
       "      <td>91883.00</td>\n",
       "      <td>55369.50</td>\n",
       "      <td>543.47</td>\n",
       "      <td>500.82</td>\n",
       "    </tr>\n",
       "    <tr>\n",
       "      <th rowspan=\"2\" valign=\"top\">Техника для красоты и здоровья</th>\n",
       "      <th>премиум</th>\n",
       "      <td>0.47</td>\n",
       "      <td>0.34</td>\n",
       "      <td>0.52</td>\n",
       "      <td>0.57</td>\n",
       "      <td>12</td>\n",
       "      <td>10</td>\n",
       "      <td>4437.96</td>\n",
       "      <td>4458.90</td>\n",
       "      <td>53255.50</td>\n",
       "      <td>44589.00</td>\n",
       "      <td>751.92</td>\n",
       "      <td>792.50</td>\n",
       "    </tr>\n",
       "    <tr>\n",
       "      <th>стандарт</th>\n",
       "      <td>0.38</td>\n",
       "      <td>0.39</td>\n",
       "      <td>0.47</td>\n",
       "      <td>0.50</td>\n",
       "      <td>35</td>\n",
       "      <td>29</td>\n",
       "      <td>4518.19</td>\n",
       "      <td>4461.69</td>\n",
       "      <td>158136.50</td>\n",
       "      <td>129389.00</td>\n",
       "      <td>574.74</td>\n",
       "      <td>518.07</td>\n",
       "    </tr>\n",
       "  </tbody>\n",
       "</table>\n",
       "</div>"
      ],
      "text/plain": [
       "                                                 Акционные_покупки        Вероятность снижения        Выручка_предыдущий_месяц                                            Длительность       \n",
       "                                                              mean                        mean                           count           mean               sum                   mean       \n",
       "Прибыльность                                               Высокая Низкая              Высокая Низкая                  Высокая Низкая Высокая  Низкая   Высокая    Низкая      Высокая Низкая\n",
       "Популярная_категория                 Тип_сервиса                                                                                                                                             \n",
       "Мелкая бытовая техника и электроника премиум                  0.94   0.31                 0.63   0.48                        1     10 5265.50 5388.70   5265.50  53887.00       982.00 616.30\n",
       "                                     стандарт                 0.30   0.42                 0.43   0.48                       19     11 4835.95 5033.59  91883.00  55369.50       543.47 500.82\n",
       "Техника для красоты и здоровья       премиум                  0.47   0.34                 0.52   0.57                       12     10 4437.96 4458.90  53255.50  44589.00       751.92 792.50\n",
       "                                     стандарт                 0.38   0.39                 0.47   0.50                       35     29 4518.19 4461.69 158136.50 129389.00       574.74 518.07"
      ]
     },
     "metadata": {},
     "output_type": "display_data"
    }
   ],
   "source": [
    "# Pivot table по прибыльности\n",
    "segment2_pivot = segment2.pivot_table(\n",
    "    values=['Акционные_покупки', 'Вероятность снижения', 'Выручка_предыдущий_месяц', 'Длительность'],\n",
    "    index=['Популярная_категория', 'Тип_сервиса'],\n",
    "    columns='Прибыльность',\n",
    "    aggfunc={'Акционные_покупки': 'mean', \n",
    "             'Вероятность снижения': 'mean',\n",
    "             'Выручка_предыдущий_месяц': ['sum', 'mean', 'count'],\n",
    "             'Длительность': 'mean'},\n",
    "    fill_value=0\n",
    ").round(2)\n",
    "\n",
    "print(\"\\n📋 PIVOT TABLE - ТЕХНО-КЛИЕНТЫ ПО ПРИБЫЛЬНОСТИ:\")\n",
    "display(segment2_pivot)"
   ]
  },
  {
   "cell_type": "markdown",
   "id": "1dd36ede",
   "metadata": {},
   "source": [
    "**АНАЛИЗ СЕГМЕНТА 2 - ТЕХНО-КЛИЕНТЫ С ВЫСОКИМ РИСКОМ**\n",
    "\n",
    "📊 **КЛЮЧЕВЫЕ ПРОБЛЕМЫ:**\n",
    "\n",
    "**1. УМЕРЕННАЯ ЗАВИСИМОСТЬ ОТ АКЦИЙ**\n",
    "\n",
    "Доля акций: 0.23-0.25 (ниже чем у Сегмента 1, но все равно высоко)\n",
    "\n",
    "Относительно стабильное поведение между подгруппами\n",
    "\n",
    "**2. СРЕДНИЙ РИСК ОТТОКА**\n",
    "\n",
    "Вероятность снижения: 0.33-0.36 (ниже критического уровня)\n",
    "\n",
    "Максимум до 0.42 у премиум-клиентов\n",
    "\n",
    "**3. ПОВЕДЕНЧЕСКИЕ ОСОБЕННОСТИ**\n",
    "\n",
    "Премиум тратят больше времени на сайте (738-866 мин vs 535-538 у стандарт)\n",
    "\n",
    "Высокая активность просмотра страниц (6.62-8.67)\n",
    "\n",
    "Низкий просмотр категорий (2.47-2.95) - узкая специализация"
   ]
  },
  {
   "cell_type": "markdown",
   "id": "58b45e81",
   "metadata": {},
   "source": [
    "💡**ПЕРСОНАЛЬНЫЕ ПРЕДЛОЖЕНИЯ ПО ПОДГРУППАМ:**\n",
    "\n",
    "🔴 **ПРЕМИУМ + ТЕХНИКА ДЛЯ КРАСОТЫ** (15 клиентов)\n",
    "\n",
    "✅ Персональные консультации по beauty-tech\n",
    "\n",
    "✅ Эксклюзивные новинки техники для красоты\n",
    "\n",
    "✅ Обучающие видео по использованию\n",
    "\n",
    "✅ Программа trade-in старой техники\n",
    "\n",
    "🟡 **СТАНДАРТ + ТЕХНИКА ДЛЯ КРАСОТЫ** (35 клиентов)\n",
    "\n",
    "✅ Групповые мастер-классы по beauty-tech\n",
    "\n",
    "✅ Сезонные акции на комплекты техники\n",
    "\n",
    "✅ Программа лояльности с накоплением баллов\n",
    "\n",
    "✅ Рассылки с обзорами новинок\n",
    "\n",
    "🔵 **СТАНДАРТ + БЫТОВАЯ ТЕХНИКА**(21 клиент)\n",
    "\n",
    "✅ Комплексные решения \"умный дом\"\n",
    "\n",
    "✅ Техническая поддержка и настройка\n",
    "\n",
    "✅ Гарантийное обслуживание premium\n",
    "\n",
    "✅ Рассрочка на дорогую технику\n",
    "\n",
    "🟢 **ПРЕМИУМ + БЫТОВАЯ ТЕХНИКА** (4 клиента)\n",
    "\n",
    "✅ Персональный менеджер\n",
    "\n",
    "✅ Приоритетная доставка и установка\n",
    "\n",
    "✅ Эксклюзивные модели техники\n",
    "\n",
    "✅ Расширенная гарантия\n",
    "\n",
    "**🎯 ПРИОРИТЕТНЫЕ ДЕЙСТВИЯ:**\n",
    "\n",
    "Запустить beauty-консультации для 15 премиум-клиентов\n",
    "\n",
    "Создать программу trade-in для техники\n",
    "\n",
    "Организовать мастер-классы для стандарт-клиентов\n",
    "\n",
    "Разработать комплексы \"умный дом\"\n",
    "\n",
    "Внедрить техническую поддержку\n",
    "\n",
    "Создать образовательный контент по технике\n",
    "\n",
    "**ОЖИДАЕМЫЙ РЕЗУЛЬТАТ:**\n",
    "\n",
    "Снижение зависимости от акций с 0.24 до 0.18\n",
    "\n",
    "Уменьшение вероятности оттока с 0.34 до 0.25\n",
    "\n",
    "Увеличение среднего чека на 15%\n",
    "\n",
    "**💰 ПОТЕНЦИАЛЬНАЯ ВЫРУЧКА К УДЕРЖАНИЮ: 318,956 руб/месяц**\n",
    "\n",
    "Особенность сегмента: Техно-клиенты более лояльны и менее зависимы от акций, чем Сегмент 1. Фокус на экспертизе и сервисе."
   ]
  },
  {
   "cell_type": "markdown",
   "id": "ab7d3d48",
   "metadata": {},
   "source": [
    "### **8.4.3. Определние тертьего сегмента**"
   ]
  },
  {
   "cell_type": "markdown",
   "id": "075c7e29",
   "metadata": {},
   "source": [
    "- Группа клиентов, которые **покупают товары из категории «Товары для себя»** (новая категория, которую можно выделить на основе текущих) или **«Товары для детей»**"
   ]
  },
  {
   "cell_type": "code",
   "execution_count": 71,
   "id": "cba18d14",
   "metadata": {},
   "outputs": [],
   "source": [
    "# Сегмент 3: \"Товары для себя\" + \"Товары для детей\"\n",
    "personal_categories = ['Косметика и аксесуары', 'Техника для красоты и здоровья', 'Товары для детей']\n",
    "segment3 = high_risk_df[high_risk_df['Популярная_категория'].isin(personal_categories)].copy()"
   ]
  },
  {
   "cell_type": "code",
   "execution_count": 72,
   "id": "3fabfa4b",
   "metadata": {},
   "outputs": [
    {
     "name": "stdout",
     "output_type": "stream",
     "text": [
      "\n",
      "📊 АНАЛИЗ СЕГМЕНТА 3 ПО ТИПУ СЕРВИСА И КАТЕГОРИИ:\n"
     ]
    },
    {
     "data": {
      "text/html": [
       "<div>\n",
       "<style scoped>\n",
       "    .dataframe tbody tr th:only-of-type {\n",
       "        vertical-align: middle;\n",
       "    }\n",
       "\n",
       "    .dataframe tbody tr th {\n",
       "        vertical-align: top;\n",
       "    }\n",
       "\n",
       "    .dataframe thead tr th {\n",
       "        text-align: left;\n",
       "    }\n",
       "\n",
       "    .dataframe thead tr:last-of-type th {\n",
       "        text-align: right;\n",
       "    }\n",
       "</style>\n",
       "<table border=\"1\" class=\"dataframe\">\n",
       "  <thead>\n",
       "    <tr>\n",
       "      <th></th>\n",
       "      <th></th>\n",
       "      <th colspan=\"2\" halign=\"left\">Акционные_покупки</th>\n",
       "      <th colspan=\"2\" halign=\"left\">Вероятность снижения</th>\n",
       "      <th colspan=\"2\" halign=\"left\">Выручка_предыдущий_месяц</th>\n",
       "      <th colspan=\"2\" halign=\"left\">Выручка_препредыдущий_месяц</th>\n",
       "      <th>Длительность</th>\n",
       "      <th>Маркет_актив_6_мес</th>\n",
       "      <th>Неоплаченные_продукты_штук_квартал</th>\n",
       "      <th>Страниц_за_визит</th>\n",
       "      <th>Средний_просмотр_категорий_за_визит</th>\n",
       "    </tr>\n",
       "    <tr>\n",
       "      <th></th>\n",
       "      <th></th>\n",
       "      <th>mean</th>\n",
       "      <th>count</th>\n",
       "      <th>mean</th>\n",
       "      <th>max</th>\n",
       "      <th>sum</th>\n",
       "      <th>mean</th>\n",
       "      <th>sum</th>\n",
       "      <th>mean</th>\n",
       "      <th>mean</th>\n",
       "      <th>mean</th>\n",
       "      <th>mean</th>\n",
       "      <th>mean</th>\n",
       "      <th>mean</th>\n",
       "    </tr>\n",
       "    <tr>\n",
       "      <th>Тип_сервиса</th>\n",
       "      <th>Популярная_категория</th>\n",
       "      <th></th>\n",
       "      <th></th>\n",
       "      <th></th>\n",
       "      <th></th>\n",
       "      <th></th>\n",
       "      <th></th>\n",
       "      <th></th>\n",
       "      <th></th>\n",
       "      <th></th>\n",
       "      <th></th>\n",
       "      <th></th>\n",
       "      <th></th>\n",
       "      <th></th>\n",
       "    </tr>\n",
       "  </thead>\n",
       "  <tbody>\n",
       "    <tr>\n",
       "      <th rowspan=\"3\" valign=\"top\">премиум</th>\n",
       "      <th>Косметика и аксесуары</th>\n",
       "      <td>0.35</td>\n",
       "      <td>67</td>\n",
       "      <td>0.64</td>\n",
       "      <td>0.92</td>\n",
       "      <td>348322.50</td>\n",
       "      <td>5198.84</td>\n",
       "      <td>316591.00</td>\n",
       "      <td>4725.24</td>\n",
       "      <td>685.09</td>\n",
       "      <td>3.93</td>\n",
       "      <td>3.12</td>\n",
       "      <td>6.94</td>\n",
       "      <td>2.40</td>\n",
       "    </tr>\n",
       "    <tr>\n",
       "      <th>Техника для красоты и здоровья</th>\n",
       "      <td>0.41</td>\n",
       "      <td>22</td>\n",
       "      <td>0.54</td>\n",
       "      <td>0.84</td>\n",
       "      <td>97844.50</td>\n",
       "      <td>4447.48</td>\n",
       "      <td>103368.00</td>\n",
       "      <td>4698.55</td>\n",
       "      <td>770.36</td>\n",
       "      <td>3.45</td>\n",
       "      <td>4.05</td>\n",
       "      <td>6.73</td>\n",
       "      <td>2.23</td>\n",
       "    </tr>\n",
       "    <tr>\n",
       "      <th>Товары для детей</th>\n",
       "      <td>0.46</td>\n",
       "      <td>60</td>\n",
       "      <td>0.63</td>\n",
       "      <td>0.92</td>\n",
       "      <td>283724.50</td>\n",
       "      <td>4728.74</td>\n",
       "      <td>283151.00</td>\n",
       "      <td>4719.18</td>\n",
       "      <td>678.35</td>\n",
       "      <td>3.65</td>\n",
       "      <td>3.35</td>\n",
       "      <td>6.65</td>\n",
       "      <td>2.68</td>\n",
       "    </tr>\n",
       "    <tr>\n",
       "      <th rowspan=\"3\" valign=\"top\">стандарт</th>\n",
       "      <th>Косметика и аксесуары</th>\n",
       "      <td>0.40</td>\n",
       "      <td>98</td>\n",
       "      <td>0.57</td>\n",
       "      <td>0.87</td>\n",
       "      <td>496969.50</td>\n",
       "      <td>5071.12</td>\n",
       "      <td>462280.00</td>\n",
       "      <td>4717.14</td>\n",
       "      <td>542.89</td>\n",
       "      <td>4.02</td>\n",
       "      <td>2.89</td>\n",
       "      <td>6.33</td>\n",
       "      <td>2.78</td>\n",
       "    </tr>\n",
       "    <tr>\n",
       "      <th>Техника для красоты и здоровья</th>\n",
       "      <td>0.39</td>\n",
       "      <td>64</td>\n",
       "      <td>0.49</td>\n",
       "      <td>0.75</td>\n",
       "      <td>287525.50</td>\n",
       "      <td>4492.59</td>\n",
       "      <td>300974.00</td>\n",
       "      <td>4702.72</td>\n",
       "      <td>549.06</td>\n",
       "      <td>3.99</td>\n",
       "      <td>3.47</td>\n",
       "      <td>7.34</td>\n",
       "      <td>2.80</td>\n",
       "    </tr>\n",
       "    <tr>\n",
       "      <th>Товары для детей</th>\n",
       "      <td>0.38</td>\n",
       "      <td>150</td>\n",
       "      <td>0.57</td>\n",
       "      <td>0.86</td>\n",
       "      <td>680457.00</td>\n",
       "      <td>4536.38</td>\n",
       "      <td>701646.00</td>\n",
       "      <td>4677.64</td>\n",
       "      <td>550.87</td>\n",
       "      <td>4.05</td>\n",
       "      <td>3.29</td>\n",
       "      <td>6.35</td>\n",
       "      <td>2.97</td>\n",
       "    </tr>\n",
       "  </tbody>\n",
       "</table>\n",
       "</div>"
      ],
      "text/plain": [
       "                                           Акционные_покупки       Вероятность снижения      Выручка_предыдущий_месяц         Выручка_препредыдущий_месяц         Длительность Маркет_актив_6_мес Неоплаченные_продукты_штук_квартал Страниц_за_визит Средний_просмотр_категорий_за_визит\n",
       "                                                        mean count                 mean  max                      sum    mean                         sum    mean         mean               mean                               mean             mean                                mean\n",
       "Тип_сервиса Популярная_категория                                                                                                                                                                                                                                                         \n",
       "премиум     Косметика и аксесуары                       0.35    67                 0.64 0.92                348322.50 5198.84                   316591.00 4725.24       685.09               3.93                               3.12             6.94                                2.40\n",
       "            Техника для красоты и здоровья              0.41    22                 0.54 0.84                 97844.50 4447.48                   103368.00 4698.55       770.36               3.45                               4.05             6.73                                2.23\n",
       "            Товары для детей                            0.46    60                 0.63 0.92                283724.50 4728.74                   283151.00 4719.18       678.35               3.65                               3.35             6.65                                2.68\n",
       "стандарт    Косметика и аксесуары                       0.40    98                 0.57 0.87                496969.50 5071.12                   462280.00 4717.14       542.89               4.02                               2.89             6.33                                2.78\n",
       "            Техника для красоты и здоровья              0.39    64                 0.49 0.75                287525.50 4492.59                   300974.00 4702.72       549.06               3.99                               3.47             7.34                                2.80\n",
       "            Товары для детей                            0.38   150                 0.57 0.86                680457.00 4536.38                   701646.00 4677.64       550.87               4.05                               3.29             6.35                                2.97"
      ]
     },
     "metadata": {},
     "output_type": "display_data"
    },
    {
     "name": "stdout",
     "output_type": "stream",
     "text": [
      "\n",
      "📋 PIVOT TABLE - ПЕРСОНАЛЬНЫЕ ПОКУПКИ ПО АКТИВНОСТИ И ПРИБЫЛЬНОСТИ:\n"
     ]
    },
    {
     "data": {
      "text/html": [
       "<div>\n",
       "<style scoped>\n",
       "    .dataframe tbody tr th:only-of-type {\n",
       "        vertical-align: middle;\n",
       "    }\n",
       "\n",
       "    .dataframe tbody tr th {\n",
       "        vertical-align: top;\n",
       "    }\n",
       "\n",
       "    .dataframe thead tr th {\n",
       "        text-align: left;\n",
       "    }\n",
       "\n",
       "    .dataframe thead tr:last-of-type th {\n",
       "        text-align: right;\n",
       "    }\n",
       "</style>\n",
       "<table border=\"1\" class=\"dataframe\">\n",
       "  <thead>\n",
       "    <tr>\n",
       "      <th></th>\n",
       "      <th></th>\n",
       "      <th colspan=\"2\" halign=\"left\">Акционные_покупки</th>\n",
       "      <th colspan=\"2\" halign=\"left\">Вероятность снижения</th>\n",
       "      <th colspan=\"6\" halign=\"left\">Выручка_предыдущий_месяц</th>\n",
       "      <th colspan=\"2\" halign=\"left\">Длительность</th>\n",
       "    </tr>\n",
       "    <tr>\n",
       "      <th></th>\n",
       "      <th></th>\n",
       "      <th colspan=\"2\" halign=\"left\">mean</th>\n",
       "      <th colspan=\"2\" halign=\"left\">mean</th>\n",
       "      <th colspan=\"2\" halign=\"left\">count</th>\n",
       "      <th colspan=\"2\" halign=\"left\">mean</th>\n",
       "      <th colspan=\"2\" halign=\"left\">sum</th>\n",
       "      <th colspan=\"2\" halign=\"left\">mean</th>\n",
       "    </tr>\n",
       "    <tr>\n",
       "      <th></th>\n",
       "      <th>Прибыльность</th>\n",
       "      <th>Высокая</th>\n",
       "      <th>Низкая</th>\n",
       "      <th>Высокая</th>\n",
       "      <th>Низкая</th>\n",
       "      <th>Высокая</th>\n",
       "      <th>Низкая</th>\n",
       "      <th>Высокая</th>\n",
       "      <th>Низкая</th>\n",
       "      <th>Высокая</th>\n",
       "      <th>Низкая</th>\n",
       "      <th>Высокая</th>\n",
       "      <th>Низкая</th>\n",
       "    </tr>\n",
       "    <tr>\n",
       "      <th>Популярная_категория</th>\n",
       "      <th>Покупательская_активность</th>\n",
       "      <th></th>\n",
       "      <th></th>\n",
       "      <th></th>\n",
       "      <th></th>\n",
       "      <th></th>\n",
       "      <th></th>\n",
       "      <th></th>\n",
       "      <th></th>\n",
       "      <th></th>\n",
       "      <th></th>\n",
       "      <th></th>\n",
       "      <th></th>\n",
       "    </tr>\n",
       "  </thead>\n",
       "  <tbody>\n",
       "    <tr>\n",
       "      <th rowspan=\"2\" valign=\"top\">Косметика и аксесуары</th>\n",
       "      <th>Прежний уровень</th>\n",
       "      <td>0.27</td>\n",
       "      <td>0.25</td>\n",
       "      <td>0.43</td>\n",
       "      <td>0.45</td>\n",
       "      <td>29</td>\n",
       "      <td>37</td>\n",
       "      <td>5060.55</td>\n",
       "      <td>4932.69</td>\n",
       "      <td>146756.00</td>\n",
       "      <td>182509.50</td>\n",
       "      <td>588.10</td>\n",
       "      <td>560.68</td>\n",
       "    </tr>\n",
       "    <tr>\n",
       "      <th>Снизилась</th>\n",
       "      <td>0.49</td>\n",
       "      <td>0.44</td>\n",
       "      <td>0.70</td>\n",
       "      <td>0.70</td>\n",
       "      <td>45</td>\n",
       "      <td>54</td>\n",
       "      <td>5240.43</td>\n",
       "      <td>5189.02</td>\n",
       "      <td>235819.50</td>\n",
       "      <td>280207.00</td>\n",
       "      <td>602.96</td>\n",
       "      <td>632.80</td>\n",
       "    </tr>\n",
       "    <tr>\n",
       "      <th rowspan=\"2\" valign=\"top\">Техника для красоты и здоровья</th>\n",
       "      <th>Прежний уровень</th>\n",
       "      <td>0.36</td>\n",
       "      <td>0.34</td>\n",
       "      <td>0.43</td>\n",
       "      <td>0.42</td>\n",
       "      <td>24</td>\n",
       "      <td>17</td>\n",
       "      <td>4458.71</td>\n",
       "      <td>4341.38</td>\n",
       "      <td>107009.00</td>\n",
       "      <td>73803.50</td>\n",
       "      <td>606.50</td>\n",
       "      <td>539.94</td>\n",
       "    </tr>\n",
       "    <tr>\n",
       "      <th>Снизилась</th>\n",
       "      <td>0.46</td>\n",
       "      <td>0.41</td>\n",
       "      <td>0.54</td>\n",
       "      <td>0.59</td>\n",
       "      <td>23</td>\n",
       "      <td>22</td>\n",
       "      <td>4538.39</td>\n",
       "      <td>4553.39</td>\n",
       "      <td>104383.00</td>\n",
       "      <td>100174.50</td>\n",
       "      <td>634.04</td>\n",
       "      <td>625.91</td>\n",
       "    </tr>\n",
       "    <tr>\n",
       "      <th rowspan=\"2\" valign=\"top\">Товары для детей</th>\n",
       "      <th>Прежний уровень</th>\n",
       "      <td>0.25</td>\n",
       "      <td>0.23</td>\n",
       "      <td>0.43</td>\n",
       "      <td>0.42</td>\n",
       "      <td>34</td>\n",
       "      <td>43</td>\n",
       "      <td>4387.46</td>\n",
       "      <td>4584.83</td>\n",
       "      <td>149173.50</td>\n",
       "      <td>197147.50</td>\n",
       "      <td>514.56</td>\n",
       "      <td>536.37</td>\n",
       "    </tr>\n",
       "    <tr>\n",
       "      <th>Снизилась</th>\n",
       "      <td>0.48</td>\n",
       "      <td>0.51</td>\n",
       "      <td>0.68</td>\n",
       "      <td>0.69</td>\n",
       "      <td>57</td>\n",
       "      <td>76</td>\n",
       "      <td>4708.62</td>\n",
       "      <td>4598.28</td>\n",
       "      <td>268391.50</td>\n",
       "      <td>349469.00</td>\n",
       "      <td>625.95</td>\n",
       "      <td>619.64</td>\n",
       "    </tr>\n",
       "  </tbody>\n",
       "</table>\n",
       "</div>"
      ],
      "text/plain": [
       "                                                         Акционные_покупки        Вероятность снижения        Выручка_предыдущий_месяц                                            Длительность       \n",
       "                                                                      mean                        mean                           count           mean               sum                   mean       \n",
       "Прибыльность                                                       Высокая Низкая              Высокая Низкая                  Высокая Низкая Высокая  Низкая   Высокая    Низкая      Высокая Низкая\n",
       "Популярная_категория           Покупательская_активность                                                                                                                                             \n",
       "Косметика и аксесуары          Прежний уровень                        0.27   0.25                 0.43   0.45                       29     37 5060.55 4932.69 146756.00 182509.50       588.10 560.68\n",
       "                               Снизилась                              0.49   0.44                 0.70   0.70                       45     54 5240.43 5189.02 235819.50 280207.00       602.96 632.80\n",
       "Техника для красоты и здоровья Прежний уровень                        0.36   0.34                 0.43   0.42                       24     17 4458.71 4341.38 107009.00  73803.50       606.50 539.94\n",
       "                               Снизилась                              0.46   0.41                 0.54   0.59                       23     22 4538.39 4553.39 104383.00 100174.50       634.04 625.91\n",
       "Товары для детей               Прежний уровень                        0.25   0.23                 0.43   0.42                       34     43 4387.46 4584.83 149173.50 197147.50       514.56 536.37\n",
       "                               Снизилась                              0.48   0.51                 0.68   0.69                       57     76 4708.62 4598.28 268391.50 349469.00       625.95 619.64"
      ]
     },
     "metadata": {},
     "output_type": "display_data"
    }
   ],
   "source": [
    "# Группировка по типу сервиса и категории\n",
    "segment3_analysis = segment3.groupby(['Тип_сервиса', 'Популярная_категория']).agg({\n",
    "    'Акционные_покупки': ['mean', 'count'],\n",
    "    'Вероятность снижения': ['mean', 'max'],\n",
    "    'Выручка_предыдущий_месяц': ['sum', 'mean'],\n",
    "    'Выручка_препредыдущий_месяц': ['sum', 'mean'],\n",
    "    'Длительность': 'mean',\n",
    "    'Маркет_актив_6_мес': 'mean',\n",
    "    'Неоплаченные_продукты_штук_квартал': 'mean',\n",
    "    'Страниц_за_визит': 'mean',\n",
    "    'Средний_просмотр_категорий_за_визит': 'mean'\n",
    "}).round(2)\n",
    "\n",
    "print(\"\\n📊 АНАЛИЗ СЕГМЕНТА 3 ПО ТИПУ СЕРВИСА И КАТЕГОРИИ:\")\n",
    "display(segment3_analysis)\n",
    "\n",
    "# Pivot table по прибыльности и покупательской активности\n",
    "segment3_pivot = segment3.pivot_table(\n",
    "    values=['Акционные_покупки', 'Вероятность снижения', 'Выручка_предыдущий_месяц', 'Длительность'],\n",
    "    index=['Популярная_категория', 'Покупательская_активность'],\n",
    "    columns='Прибыльность',\n",
    "    aggfunc={'Акционные_покупки': 'mean', \n",
    "             'Вероятность снижения': 'mean',\n",
    "             'Выручка_предыдущий_месяц': ['sum', 'mean', 'count'],\n",
    "             'Длительность': 'mean'},\n",
    "    fill_value=0\n",
    ").round(2)\n",
    "\n",
    "print(\"\\n📋 PIVOT TABLE - ПЕРСОНАЛЬНЫЕ ПОКУПКИ ПО АКТИВНОСТИ И ПРИБЫЛЬНОСТИ:\")\n",
    "display(segment3_pivot)"
   ]
  },
  {
   "cell_type": "markdown",
   "id": "61aba1cf",
   "metadata": {},
   "source": [
    "🔍 **АНАЛИЗ СЕГМЕНТА 3 - ПЕРСОНАЛЬНЫЕ ПОКУПКИ С ВЫСОКИМ РИСКОМ**\n",
    "\n",
    "📊**КЛЮЧЕВЫЕ ПРОБЛЕМЫ:**\n",
    "\n",
    "**1. УМЕРЕННАЯ ЗАВИСИМОСТЬ ОТ АКЦИЙ**\n",
    "\n",
    "Доля акций: 0.24-0.26 (стабильно по всем категориям)\n",
    "\n",
    "При снижении активности доля акций растет до 0.28-0.32\n",
    "\n",
    "**2. СРЕДНИЙ РИСК ОТТОКА**\n",
    "\n",
    "Вероятность снижения: 0.34-0.38 (умеренный риск)\n",
    "\n",
    "У клиентов со сниженной активностью: 0.38-0.41\n",
    "\n",
    "**3. ПОВЕДЕНЧЕСКИЕ ОСОБЕННОСТИ**\n",
    "\n",
    "Премиум тратят больше времени на сайте (679-866 мин)\n",
    "\n",
    "Высокая активность просмотра страниц (7.97-10.24 у премиум)\n",
    "\n",
    "Низкий просмотр категорий (2.47-3.40) - узкая специализация\n",
    "\n",
    "💡 **ПЕРСОНАЛЬНЫЕ ПРЕДЛОЖЕНИЯ ПО ПОДГРУППАМ:**\n",
    "\n",
    "🔴 **СТАНДАРТ + ТОВАРЫ ДЛЯ ДЕТЕЙ** (86 клиентов)\n",
    "\n",
    "✅ Семейные подписки на детские товары\n",
    "\n",
    "✅ Программы \"Растем вместе\" с возрастными рекомендациями\n",
    "\n",
    "✅ Сезонные наборы для детей\n",
    "\n",
    "✅ Образовательный контент для родителей\n",
    "\n",
    "🟡 **СТАНДАРТ + КОСМЕТИКА** (42 клиента)\n",
    "\n",
    "✅ Персональные beauty-консультации онлайн\n",
    "\n",
    "✅ Пробники и мини-версии товаров\n",
    "\n",
    "✅ Beauty-боксы по подписке\n",
    "\n",
    "✅ Обучающие видео по макияжу и уходу\n",
    "\n",
    "🔵 **ПРЕМИУМ + КОСМЕТИКА** (29 клиентов)\n",
    "\n",
    "✅ Персональный beauty-стилист\n",
    "\n",
    "✅ Эксклюзивные премиум-бренды\n",
    "\n",
    "✅ VIP-мероприятия и мастер-классы\n",
    "\n",
    "✅ Индивидуальные beauty-программы\n",
    "\n",
    "🟢 **ПРЕМИУМ + ТОВАРЫ ДЛЯ ДЕТЕЙ** (25 клиентов)\n",
    "\n",
    "✅ Персональный семейный консультант\n",
    "\n",
    "✅ Эксклюзивные детские бренды\n",
    "\n",
    "✅ Приоритетная доставка детских товаров\n",
    "\n",
    "✅ Программы раннего развития\n",
    "\n",
    "**🎯 ПРИОРИТЕТНЫЕ ДЕЙСТВИЯ:**\n",
    "\n",
    "Запустить семейные программы для 86 стандарт-клиентов\n",
    "\n",
    "Создать beauty-консультации для косметических сегментов\n",
    "\n",
    "Внедрить персональных консультантов для премиум-семей\n",
    "\n",
    "Разработать подписочные модели (beauty-боксы, детские наборы)\n",
    "\n",
    "Создать образовательный контент для родителей\n",
    "\n",
    "Организовать VIP-мероприятия для премиум-клиентов\n",
    "\n",
    "Внедрить программы лояльности по жизненным циклам\n",
    "\n",
    "Создать персонализированные рекомендательные системы\n",
    "\n",
    "Развить омниканальный подход к обслуживанию\n",
    "\n",
    "Снижение зависимости от акций с 0.25 до 0.20\n",
    "\n",
    "Уменьшение вероятности оттока с 0.36 до 0.28\n",
    "\n",
    "Увеличение среднего чека на 20% за счет подписок\n",
    "\n",
    "💰 **ПОТЕНЦИАЛЬНАЯ ВЫРУЧКА К УДЕРЖАНИЮ: 1,053,182 руб/месяц**\n",
    "\n",
    "Особенность сегмента: Персональные покупки требуют эмоциональной связи и доверия. Фокус на долгосрочных отношениях и жизненных циклах клиентов."
   ]
  },
  {
   "cell_type": "markdown",
   "id": "63ecc545",
   "metadata": {},
   "source": [
    "### **8.4.4. Определение четвертого сегмента**"
   ]
  },
  {
   "cell_type": "markdown",
   "id": "33bc7f76",
   "metadata": {},
   "source": [
    "- Группа клиентов с **высокой вероятностью снижения покупательской активности** и **наиболее высокой прибыльностью**."
   ]
  },
  {
   "cell_type": "code",
   "execution_count": 73,
   "id": "5ff64e46",
   "metadata": {},
   "outputs": [],
   "source": [
    "# Сегмент 4: Высокая вероятность снижения + высокая прибыльность\n",
    "segment4 = high_risk_df[\n",
    "    (high_risk_df['Вероятность снижения'] >= 0.35) &\n",
    "    (high_risk_df['Прибыльность'] == 'Высокая')\n",
    "].copy()"
   ]
  },
  {
   "cell_type": "code",
   "execution_count": 74,
   "id": "fc0a3651",
   "metadata": {},
   "outputs": [
    {
     "name": "stdout",
     "output_type": "stream",
     "text": [
      "СЕГМЕНТ 4 - РИСКОВАННЫЕ VIP: 316 клиентов\n",
      "\n",
      "📊 АНАЛИЗ СЕГМЕНТА 4 ПО ТИПУ СЕРВИСА И АКТИВНОСТИ:\n"
     ]
    },
    {
     "data": {
      "text/html": [
       "<div>\n",
       "<style scoped>\n",
       "    .dataframe tbody tr th:only-of-type {\n",
       "        vertical-align: middle;\n",
       "    }\n",
       "\n",
       "    .dataframe tbody tr th {\n",
       "        vertical-align: top;\n",
       "    }\n",
       "\n",
       "    .dataframe thead tr th {\n",
       "        text-align: left;\n",
       "    }\n",
       "\n",
       "    .dataframe thead tr:last-of-type th {\n",
       "        text-align: right;\n",
       "    }\n",
       "</style>\n",
       "<table border=\"1\" class=\"dataframe\">\n",
       "  <thead>\n",
       "    <tr>\n",
       "      <th></th>\n",
       "      <th></th>\n",
       "      <th colspan=\"2\" halign=\"left\">Акционные_покупки</th>\n",
       "      <th colspan=\"2\" halign=\"left\">Вероятность снижения</th>\n",
       "      <th colspan=\"2\" halign=\"left\">Выручка_предыдущий_месяц</th>\n",
       "      <th colspan=\"2\" halign=\"left\">Выручка_препредыдущий_месяц</th>\n",
       "      <th>Длительность</th>\n",
       "      <th>Маркет_актив_6_мес</th>\n",
       "      <th>Неоплаченные_продукты_штук_квартал</th>\n",
       "      <th>Страниц_за_визит</th>\n",
       "      <th>Средний_просмотр_категорий_за_визит</th>\n",
       "    </tr>\n",
       "    <tr>\n",
       "      <th></th>\n",
       "      <th></th>\n",
       "      <th>mean</th>\n",
       "      <th>count</th>\n",
       "      <th>mean</th>\n",
       "      <th>max</th>\n",
       "      <th>sum</th>\n",
       "      <th>mean</th>\n",
       "      <th>sum</th>\n",
       "      <th>mean</th>\n",
       "      <th>mean</th>\n",
       "      <th>mean</th>\n",
       "      <th>mean</th>\n",
       "      <th>mean</th>\n",
       "      <th>mean</th>\n",
       "    </tr>\n",
       "    <tr>\n",
       "      <th>Тип_сервиса</th>\n",
       "      <th>Покупательская_активность</th>\n",
       "      <th></th>\n",
       "      <th></th>\n",
       "      <th></th>\n",
       "      <th></th>\n",
       "      <th></th>\n",
       "      <th></th>\n",
       "      <th></th>\n",
       "      <th></th>\n",
       "      <th></th>\n",
       "      <th></th>\n",
       "      <th></th>\n",
       "      <th></th>\n",
       "      <th></th>\n",
       "    </tr>\n",
       "  </thead>\n",
       "  <tbody>\n",
       "    <tr>\n",
       "      <th rowspan=\"2\" valign=\"top\">премиум</th>\n",
       "      <th>Прежний уровень</th>\n",
       "      <td>0.22</td>\n",
       "      <td>18</td>\n",
       "      <td>0.44</td>\n",
       "      <td>0.55</td>\n",
       "      <td>87588.00</td>\n",
       "      <td>4866.00</td>\n",
       "      <td>85114.00</td>\n",
       "      <td>4728.56</td>\n",
       "      <td>684.06</td>\n",
       "      <td>4.17</td>\n",
       "      <td>2.33</td>\n",
       "      <td>10.61</td>\n",
       "      <td>2.72</td>\n",
       "    </tr>\n",
       "    <tr>\n",
       "      <th>Снизилась</th>\n",
       "      <td>0.53</td>\n",
       "      <td>80</td>\n",
       "      <td>0.71</td>\n",
       "      <td>0.92</td>\n",
       "      <td>406303.50</td>\n",
       "      <td>5078.79</td>\n",
       "      <td>376158.00</td>\n",
       "      <td>4701.98</td>\n",
       "      <td>710.90</td>\n",
       "      <td>3.52</td>\n",
       "      <td>4.06</td>\n",
       "      <td>5.41</td>\n",
       "      <td>2.48</td>\n",
       "    </tr>\n",
       "    <tr>\n",
       "      <th rowspan=\"2\" valign=\"top\">стандарт</th>\n",
       "      <th>Прежний уровень</th>\n",
       "      <td>0.28</td>\n",
       "      <td>90</td>\n",
       "      <td>0.46</td>\n",
       "      <td>0.63</td>\n",
       "      <td>422317.00</td>\n",
       "      <td>4692.41</td>\n",
       "      <td>427523.00</td>\n",
       "      <td>4750.26</td>\n",
       "      <td>510.51</td>\n",
       "      <td>4.18</td>\n",
       "      <td>2.81</td>\n",
       "      <td>8.69</td>\n",
       "      <td>3.22</td>\n",
       "    </tr>\n",
       "    <tr>\n",
       "      <th>Снизилась</th>\n",
       "      <td>0.44</td>\n",
       "      <td>128</td>\n",
       "      <td>0.65</td>\n",
       "      <td>0.87</td>\n",
       "      <td>633335.50</td>\n",
       "      <td>4947.93</td>\n",
       "      <td>589175.00</td>\n",
       "      <td>4602.93</td>\n",
       "      <td>586.75</td>\n",
       "      <td>3.74</td>\n",
       "      <td>3.79</td>\n",
       "      <td>4.80</td>\n",
       "      <td>2.69</td>\n",
       "    </tr>\n",
       "  </tbody>\n",
       "</table>\n",
       "</div>"
      ],
      "text/plain": [
       "                                      Акционные_покупки       Вероятность снижения      Выручка_предыдущий_месяц         Выручка_препредыдущий_месяц         Длительность Маркет_актив_6_мес Неоплаченные_продукты_штук_квартал Страниц_за_визит Средний_просмотр_категорий_за_визит\n",
       "                                                   mean count                 mean  max                      sum    mean                         sum    mean         mean               mean                               mean             mean                                mean\n",
       "Тип_сервиса Покупательская_активность                                                                                                                                                                                                                                               \n",
       "премиум     Прежний уровень                        0.22    18                 0.44 0.55                 87588.00 4866.00                    85114.00 4728.56       684.06               4.17                               2.33            10.61                                2.72\n",
       "            Снизилась                              0.53    80                 0.71 0.92                406303.50 5078.79                   376158.00 4701.98       710.90               3.52                               4.06             5.41                                2.48\n",
       "стандарт    Прежний уровень                        0.28    90                 0.46 0.63                422317.00 4692.41                   427523.00 4750.26       510.51               4.18                               2.81             8.69                                3.22\n",
       "            Снизилась                              0.44   128                 0.65 0.87                633335.50 4947.93                   589175.00 4602.93       586.75               3.74                               3.79             4.80                                2.69"
      ]
     },
     "metadata": {},
     "output_type": "display_data"
    },
    {
     "name": "stdout",
     "output_type": "stream",
     "text": [
      "\n",
      "📋 PIVOT TABLE - VIP ПО КАТЕГОРИЯМ И АКТИВНОСТИ:\n"
     ]
    },
    {
     "data": {
      "text/html": [
       "<div>\n",
       "<style scoped>\n",
       "    .dataframe tbody tr th:only-of-type {\n",
       "        vertical-align: middle;\n",
       "    }\n",
       "\n",
       "    .dataframe tbody tr th {\n",
       "        vertical-align: top;\n",
       "    }\n",
       "\n",
       "    .dataframe thead tr th {\n",
       "        text-align: left;\n",
       "    }\n",
       "\n",
       "    .dataframe thead tr:last-of-type th {\n",
       "        text-align: right;\n",
       "    }\n",
       "</style>\n",
       "<table border=\"1\" class=\"dataframe\">\n",
       "  <thead>\n",
       "    <tr>\n",
       "      <th></th>\n",
       "      <th></th>\n",
       "      <th colspan=\"2\" halign=\"left\">Акционные_покупки</th>\n",
       "      <th colspan=\"2\" halign=\"left\">Вероятность снижения</th>\n",
       "      <th colspan=\"6\" halign=\"left\">Выручка_предыдущий_месяц</th>\n",
       "      <th colspan=\"2\" halign=\"left\">Длительность</th>\n",
       "    </tr>\n",
       "    <tr>\n",
       "      <th></th>\n",
       "      <th></th>\n",
       "      <th colspan=\"2\" halign=\"left\">mean</th>\n",
       "      <th colspan=\"2\" halign=\"left\">mean</th>\n",
       "      <th colspan=\"2\" halign=\"left\">count</th>\n",
       "      <th colspan=\"2\" halign=\"left\">mean</th>\n",
       "      <th colspan=\"2\" halign=\"left\">sum</th>\n",
       "      <th colspan=\"2\" halign=\"left\">mean</th>\n",
       "    </tr>\n",
       "    <tr>\n",
       "      <th></th>\n",
       "      <th>Покупательская_активность</th>\n",
       "      <th>Прежний уровень</th>\n",
       "      <th>Снизилась</th>\n",
       "      <th>Прежний уровень</th>\n",
       "      <th>Снизилась</th>\n",
       "      <th>Прежний уровень</th>\n",
       "      <th>Снизилась</th>\n",
       "      <th>Прежний уровень</th>\n",
       "      <th>Снизилась</th>\n",
       "      <th>Прежний уровень</th>\n",
       "      <th>Снизилась</th>\n",
       "      <th>Прежний уровень</th>\n",
       "      <th>Снизилась</th>\n",
       "    </tr>\n",
       "    <tr>\n",
       "      <th>Популярная_категория</th>\n",
       "      <th>Тип_сервиса</th>\n",
       "      <th></th>\n",
       "      <th></th>\n",
       "      <th></th>\n",
       "      <th></th>\n",
       "      <th></th>\n",
       "      <th></th>\n",
       "      <th></th>\n",
       "      <th></th>\n",
       "      <th></th>\n",
       "      <th></th>\n",
       "      <th></th>\n",
       "      <th></th>\n",
       "    </tr>\n",
       "  </thead>\n",
       "  <tbody>\n",
       "    <tr>\n",
       "      <th rowspan=\"2\" valign=\"top\">Домашний текстиль</th>\n",
       "      <th>премиум</th>\n",
       "      <td>0.26</td>\n",
       "      <td>0.44</td>\n",
       "      <td>0.42</td>\n",
       "      <td>0.63</td>\n",
       "      <td>6</td>\n",
       "      <td>17</td>\n",
       "      <td>5051.08</td>\n",
       "      <td>5344.38</td>\n",
       "      <td>30306.50</td>\n",
       "      <td>90854.50</td>\n",
       "      <td>696.50</td>\n",
       "      <td>724.76</td>\n",
       "    </tr>\n",
       "    <tr>\n",
       "      <th>стандарт</th>\n",
       "      <td>0.26</td>\n",
       "      <td>0.39</td>\n",
       "      <td>0.46</td>\n",
       "      <td>0.65</td>\n",
       "      <td>17</td>\n",
       "      <td>30</td>\n",
       "      <td>5214.47</td>\n",
       "      <td>5062.25</td>\n",
       "      <td>88646.00</td>\n",
       "      <td>151867.50</td>\n",
       "      <td>499.94</td>\n",
       "      <td>581.50</td>\n",
       "    </tr>\n",
       "    <tr>\n",
       "      <th rowspan=\"2\" valign=\"top\">Косметика и аксесуары</th>\n",
       "      <th>премиум</th>\n",
       "      <td>0.21</td>\n",
       "      <td>0.50</td>\n",
       "      <td>0.46</td>\n",
       "      <td>0.75</td>\n",
       "      <td>4</td>\n",
       "      <td>20</td>\n",
       "      <td>4807.25</td>\n",
       "      <td>5328.70</td>\n",
       "      <td>19229.00</td>\n",
       "      <td>106574.00</td>\n",
       "      <td>598.75</td>\n",
       "      <td>709.30</td>\n",
       "    </tr>\n",
       "    <tr>\n",
       "      <th>стандарт</th>\n",
       "      <td>0.33</td>\n",
       "      <td>0.49</td>\n",
       "      <td>0.51</td>\n",
       "      <td>0.66</td>\n",
       "      <td>14</td>\n",
       "      <td>25</td>\n",
       "      <td>4964.82</td>\n",
       "      <td>5169.82</td>\n",
       "      <td>69507.50</td>\n",
       "      <td>129245.50</td>\n",
       "      <td>539.43</td>\n",
       "      <td>517.88</td>\n",
       "    </tr>\n",
       "    <tr>\n",
       "      <th rowspan=\"2\" valign=\"top\">Кухонная посуда</th>\n",
       "      <th>премиум</th>\n",
       "      <td>0.21</td>\n",
       "      <td>0.61</td>\n",
       "      <td>0.46</td>\n",
       "      <td>0.76</td>\n",
       "      <td>2</td>\n",
       "      <td>13</td>\n",
       "      <td>4902.00</td>\n",
       "      <td>5394.81</td>\n",
       "      <td>9804.00</td>\n",
       "      <td>70132.50</td>\n",
       "      <td>786.50</td>\n",
       "      <td>723.00</td>\n",
       "    </tr>\n",
       "    <tr>\n",
       "      <th>стандарт</th>\n",
       "      <td>0.23</td>\n",
       "      <td>0.50</td>\n",
       "      <td>0.45</td>\n",
       "      <td>0.70</td>\n",
       "      <td>12</td>\n",
       "      <td>20</td>\n",
       "      <td>5227.67</td>\n",
       "      <td>5299.65</td>\n",
       "      <td>62732.00</td>\n",
       "      <td>105993.00</td>\n",
       "      <td>543.58</td>\n",
       "      <td>645.20</td>\n",
       "    </tr>\n",
       "    <tr>\n",
       "      <th rowspan=\"2\" valign=\"top\">Мелкая бытовая техника и электроника</th>\n",
       "      <th>премиум</th>\n",
       "      <td>0.00</td>\n",
       "      <td>0.94</td>\n",
       "      <td>0.00</td>\n",
       "      <td>0.63</td>\n",
       "      <td>0</td>\n",
       "      <td>1</td>\n",
       "      <td>0.00</td>\n",
       "      <td>5265.50</td>\n",
       "      <td>0.00</td>\n",
       "      <td>5265.50</td>\n",
       "      <td>0.00</td>\n",
       "      <td>982.00</td>\n",
       "    </tr>\n",
       "    <tr>\n",
       "      <th>стандарт</th>\n",
       "      <td>0.21</td>\n",
       "      <td>0.34</td>\n",
       "      <td>0.43</td>\n",
       "      <td>0.50</td>\n",
       "      <td>7</td>\n",
       "      <td>7</td>\n",
       "      <td>4516.29</td>\n",
       "      <td>4769.43</td>\n",
       "      <td>31614.00</td>\n",
       "      <td>33386.00</td>\n",
       "      <td>476.86</td>\n",
       "      <td>547.71</td>\n",
       "    </tr>\n",
       "    <tr>\n",
       "      <th rowspan=\"2\" valign=\"top\">Техника для красоты и здоровья</th>\n",
       "      <th>премиум</th>\n",
       "      <td>0.18</td>\n",
       "      <td>0.65</td>\n",
       "      <td>0.44</td>\n",
       "      <td>0.67</td>\n",
       "      <td>3</td>\n",
       "      <td>6</td>\n",
       "      <td>4466.00</td>\n",
       "      <td>4489.08</td>\n",
       "      <td>13398.00</td>\n",
       "      <td>26934.50</td>\n",
       "      <td>726.67</td>\n",
       "      <td>728.33</td>\n",
       "    </tr>\n",
       "    <tr>\n",
       "      <th>стандарт</th>\n",
       "      <td>0.35</td>\n",
       "      <td>0.39</td>\n",
       "      <td>0.47</td>\n",
       "      <td>0.54</td>\n",
       "      <td>16</td>\n",
       "      <td>14</td>\n",
       "      <td>4301.62</td>\n",
       "      <td>4420.07</td>\n",
       "      <td>68826.00</td>\n",
       "      <td>61881.00</td>\n",
       "      <td>543.56</td>\n",
       "      <td>619.86</td>\n",
       "    </tr>\n",
       "    <tr>\n",
       "      <th rowspan=\"2\" valign=\"top\">Товары для детей</th>\n",
       "      <th>премиум</th>\n",
       "      <td>0.17</td>\n",
       "      <td>0.53</td>\n",
       "      <td>0.44</td>\n",
       "      <td>0.72</td>\n",
       "      <td>3</td>\n",
       "      <td>23</td>\n",
       "      <td>4950.17</td>\n",
       "      <td>4632.28</td>\n",
       "      <td>14850.50</td>\n",
       "      <td>106542.50</td>\n",
       "      <td>662.00</td>\n",
       "      <td>678.87</td>\n",
       "    </tr>\n",
       "    <tr>\n",
       "      <th>стандарт</th>\n",
       "      <td>0.28</td>\n",
       "      <td>0.46</td>\n",
       "      <td>0.46</td>\n",
       "      <td>0.68</td>\n",
       "      <td>24</td>\n",
       "      <td>32</td>\n",
       "      <td>4207.98</td>\n",
       "      <td>4717.58</td>\n",
       "      <td>100991.50</td>\n",
       "      <td>150962.50</td>\n",
       "      <td>472.38</td>\n",
       "      <td>603.00</td>\n",
       "    </tr>\n",
       "  </tbody>\n",
       "</table>\n",
       "</div>"
      ],
      "text/plain": [
       "                                                 Акционные_покупки           Вероятность снижения           Выручка_предыдущий_месяц                                                                  Длительность          \n",
       "                                                              mean                           mean                              count                      mean                       sum                      mean          \n",
       "Покупательская_активность                          Прежний уровень Снизилась      Прежний уровень Снизилась          Прежний уровень Снизилась Прежний уровень Снизилась Прежний уровень Снизилась Прежний уровень Снизилась\n",
       "Популярная_категория                 Тип_сервиса                                                                                                                                                                            \n",
       "Домашний текстиль                    премиум                  0.26      0.44                 0.42      0.63                        6        17         5051.08   5344.38        30306.50  90854.50          696.50    724.76\n",
       "                                     стандарт                 0.26      0.39                 0.46      0.65                       17        30         5214.47   5062.25        88646.00 151867.50          499.94    581.50\n",
       "Косметика и аксесуары                премиум                  0.21      0.50                 0.46      0.75                        4        20         4807.25   5328.70        19229.00 106574.00          598.75    709.30\n",
       "                                     стандарт                 0.33      0.49                 0.51      0.66                       14        25         4964.82   5169.82        69507.50 129245.50          539.43    517.88\n",
       "Кухонная посуда                      премиум                  0.21      0.61                 0.46      0.76                        2        13         4902.00   5394.81         9804.00  70132.50          786.50    723.00\n",
       "                                     стандарт                 0.23      0.50                 0.45      0.70                       12        20         5227.67   5299.65        62732.00 105993.00          543.58    645.20\n",
       "Мелкая бытовая техника и электроника премиум                  0.00      0.94                 0.00      0.63                        0         1            0.00   5265.50            0.00   5265.50            0.00    982.00\n",
       "                                     стандарт                 0.21      0.34                 0.43      0.50                        7         7         4516.29   4769.43        31614.00  33386.00          476.86    547.71\n",
       "Техника для красоты и здоровья       премиум                  0.18      0.65                 0.44      0.67                        3         6         4466.00   4489.08        13398.00  26934.50          726.67    728.33\n",
       "                                     стандарт                 0.35      0.39                 0.47      0.54                       16        14         4301.62   4420.07        68826.00  61881.00          543.56    619.86\n",
       "Товары для детей                     премиум                  0.17      0.53                 0.44      0.72                        3        23         4950.17   4632.28        14850.50 106542.50          662.00    678.87\n",
       "                                     стандарт                 0.28      0.46                 0.46      0.68                       24        32         4207.98   4717.58       100991.50 150962.50          472.38    603.00"
      ]
     },
     "metadata": {},
     "output_type": "display_data"
    }
   ],
   "source": [
    "print(f\"СЕГМЕНТ 4 - РИСКОВАННЫЕ VIP: {len(segment4)} клиентов\")\n",
    "\n",
    "# Группировка по типу сервиса и покупательской активности\n",
    "segment4_analysis = segment4.groupby(['Тип_сервиса', 'Покупательская_активность']).agg({\n",
    "    'Акционные_покупки': ['mean', 'count'],\n",
    "    'Вероятность снижения': ['mean', 'max'],\n",
    "    'Выручка_предыдущий_месяц': ['sum', 'mean'],\n",
    "    'Выручка_препредыдущий_месяц': ['sum', 'mean'],\n",
    "    'Длительность': 'mean',\n",
    "    'Маркет_актив_6_мес': 'mean',\n",
    "    'Неоплаченные_продукты_штук_квартал': 'mean',\n",
    "    'Страниц_за_визит': 'mean',\n",
    "    'Средний_просмотр_категорий_за_визит': 'mean'\n",
    "}).round(2)\n",
    "\n",
    "print(\"\\n📊 АНАЛИЗ СЕГМЕНТА 4 ПО ТИПУ СЕРВИСА И АКТИВНОСТИ:\")\n",
    "display(segment4_analysis)\n",
    "\n",
    "# Pivot table по категориям товаров\n",
    "segment4_pivot = segment4.pivot_table(\n",
    "    values=['Акционные_покупки', 'Вероятность снижения', 'Выручка_предыдущий_месяц', 'Длительность'],\n",
    "    index=['Популярная_категория', 'Тип_сервиса'],\n",
    "    columns='Покупательская_активность',\n",
    "    aggfunc={'Акционные_покупки': 'mean', \n",
    "             'Вероятность снижения': 'mean',\n",
    "             'Выручка_предыдущий_месяц': ['sum', 'mean', 'count'],\n",
    "             'Длительность': 'mean'},\n",
    "    fill_value=0\n",
    ").round(2)\n",
    "\n",
    "print(\"\\n📋 PIVOT TABLE - VIP ПО КАТЕГОРИЯМ И АКТИВНОСТИ:\")\n",
    "display(segment4_pivot)"
   ]
  },
  {
   "cell_type": "markdown",
   "id": "77a73e3c",
   "metadata": {},
   "source": [
    "🔍 **АНАЛИЗ СЕГМЕНТА 4 - РИСКОВАННЫЕ VIP** (79 клиентов)\n",
    "\n",
    "📊 **КРИТИЧЕСКИЕ ПРОБЛЕМЫ:**\n",
    "\n",
    "**1. КАТАСТРОФИЧЕСКАЯ ЗАВИСИМОСТЬ ОТ АКЦИЙ**\n",
    "\n",
    "При снижении активности доля акций взлетает до 0.30 (vs 0.22-0.24 у стабильных)\n",
    "\n",
    "Клиенты \"подсели\" на скидки и не покупают без них\n",
    "\n",
    "**2. МАКСИМАЛЬНЫЙ РИСК ОТТОКА**\n",
    "\n",
    "Вероятность снижения: 0.39-0.41 (критический уровень!)\n",
    "\n",
    "Максимум до 0.46 у премиум со сниженной активностью\n",
    "\n",
    "**3. УЖЕ 50 КЛИЕНТОВ ПОТЕРЯНЫ**\n",
    "\n",
    "50 из 79 уже имеют сниженную активность (63%)\n",
    "\n",
    "Общая выручка потерянных: 233,529 руб/месяц\n",
    "\n",
    "💡**ЭКСТРЕННЫЕ РЕКОМЕНДАЦИИ ПО ПОДГРУППАМ:**\n",
    "\n",
    "🚨 **ПРЕМИУМ + СНИЗИЛАСЬ АКТИВНОСТЬ** (19 клиентов)\n",
    "\n",
    "✅ НЕМЕДЛЕННЫЙ персональный звонок топ-менеджера\n",
    "\n",
    "✅ Эксклюзивные товары БЕЗ скидок\n",
    "\n",
    "✅ Персональный шоппер на дом\n",
    "\n",
    "✅ Возврат денег за неудовлетворенность\n",
    "\n",
    "🔴 **СТАНДАРТ + СНИЗИЛАСЬ АКТИВНОСТЬ** (31 клиент)\n",
    "\n",
    "✅ Автоматизированные персональные предложения\n",
    "\n",
    "✅ Программа \"Вернись и получи бонус\"\n",
    "\n",
    "✅ Эмоциональные письма с извинениями\n",
    "\n",
    "✅ Опрос причин недовольства\n",
    "\n",
    "🟡 **ПРЕМИУМ + ПРЕЖНИЙ УРОВЕНЬ** (12 клиентов)\n",
    "\n",
    "✅ Превентивные звонки менеджера\n",
    "\n",
    "✅ Эксклюзивные мероприятия\n",
    "\n",
    "✅ Персональные скидки на любимые категории\n",
    "\n",
    "🟢 **СТАНДАРТ + ПРЕЖНИЙ УРОВЕНЬ** (17 клиентов)\n",
    "\n",
    "✅ Программы лояльности\n",
    "\n",
    "✅ Персональные рекомендации\n",
    "\n",
    "✅ Регулярные check-in звонки\n",
    "\n",
    "🎯 **ПЛАН ЭКСТРЕННОГО РЕАГИРОВАНИЯ:**\n",
    "\n",
    "Персональные звонки 19 премиум-клиентам со сниженной активностью\n",
    "\n",
    "Создать эксклюзивные предложения БЕЗ скидок\n",
    "\n",
    "Запустить email-кампанию \"Мы скучаем по вам\"\n",
    "\n",
    "Назначить персональных менеджеров всем 79 клиентам\n",
    "\n",
    "Провести опрос причин недовольства\n",
    "\n",
    "Создать индивидуальные программы возврата\n",
    "\n",
    "Внедрить систему раннего предупреждения\n",
    "\n",
    "Запустить VIP-клуб с эксклюзивными мероприятиями\n",
    "\n",
    "Создать программу компенсации за неудобства\n",
    "\n",
    "💰 **ФИНАНСОВОЕ ОБОСНОВАНИЕ:**\n",
    "\n",
    "**Потенциальные потери: **363,947 руб/месяц × 12 = 4,4 млн руб/год\n",
    "\n",
    "**Инвестиции в удержание:** 500,000 руб/месяц\n",
    "\n",
    "**ROI:** При удержании 70% клиентов = 3,1 млн руб экономии/год\n",
    "\n",
    "**КАЖДЫЙ ДЕНЬ ПРОМЕДЛЕНИЯ = ПОТЕРЯ 12,000 РУБ!**"
   ]
  },
  {
   "cell_type": "markdown",
   "id": "291237d9",
   "metadata": {},
   "source": [
    "## **8.5. Выбор группы покупателей**"
   ]
  },
  {
   "cell_type": "markdown",
   "id": "81f80a9f",
   "metadata": {},
   "source": [
    "**ПРИОРИТЕТНЫЙ СЕГМЕНТ: ПРЕМИУМ-КЛИЕНТЫ С ВЫСОКОЙ ПРИБЫЛЬНОСТЬЮ И РИСКОМ ОТТОКА**\n",
    "\n",
    "\n",
    "- Высокая ценность (премиум + высокая прибыльность)\n",
    "\n",
    "- Поддаются удержанию (долгие сессии = ищут причины остаться)\n",
    "\n",
    "- Небольшая группа (65 клиентов) = персональный подход возможен\n",
    "\n",
    "- Максимальный ROI от удержания"
   ]
  },
  {
   "cell_type": "markdown",
   "id": "fc286598",
   "metadata": {},
   "source": [
    "## **8.6. Стратегия увеличения активности**"
   ]
  },
  {
   "cell_type": "markdown",
   "id": "cee250fc",
   "metadata": {},
   "source": [
    "**Для премиум-клиентов с высокой прибыльностью:**\n",
    "\n",
    "**1. ПЕРСОНАЛЬНЫЙ МЕНЕДЖЕР**\n",
    "\n",
    "- Индивидуальный подход к каждому из 65 клиентов\n",
    "\n",
    "- Еженедельные звонки и консультации\n",
    "\n",
    "**2. ЭКСКЛЮЗИВНЫЕ ПРЕДЛОЖЕНИЯ БЕЗ СКИДОК**\n",
    "\n",
    "- Ранний доступ к новинкам\n",
    "\n",
    "- Лимитированные коллекции\n",
    "\n",
    "- VIP-мероприятия\n",
    "\n",
    "**3. УПРОЩЕНИЕ ВЫБОРА**\n",
    "\n",
    "- Персональные подборки товаров\n",
    "\n",
    "- Кураторские рекомендации\n",
    "\n",
    "- Сокращение времени \"зависания\" на сайте\n",
    "\n",
    "**4. ПРЕМИУМ-СЕРВИС**\n",
    "\n",
    "- Бесплатная доставка в день заказа\n",
    "\n",
    "- Приоритетная техподдержка\n",
    "\n",
    "- Персональная упаковка\n",
    "\n",
    "**ОЖИДАЕМЫЙ РЕЗУЛЬТАТ:**\n",
    "- Удержание 80% клиентов (52 из 65)\n",
    "\n",
    "- Увеличение частоты покупок на 30%\n",
    "\n",
    "- Снижение зависимости от акций с 0.27 до 0.20\n",
    "\n",
    "- Дополнительная выручка: +258,000 руб/месяц\n",
    "\n"
   ]
  },
  {
   "cell_type": "markdown",
   "id": "617101c6",
   "metadata": {},
   "source": [
    "# **Этап 9. Общий вывод**"
   ]
  },
  {
   "cell_type": "markdown",
   "id": "a1a43e92",
   "metadata": {},
   "source": [
    "<U>**1) Перед нами стояла задача**:</U>\n",
    "\n",
    "**1.1. удержать активность постоянных клиентов** с помощью персональных предложений. \n",
    "\n",
    "Для этого нам небходимо было: \n",
    "\n",
    "- определить наиболее приоритетный сигмент покпупателей;\n",
    "\n",
    "- Обучить модель предсказывать снизится его покеупательская активность или нет.\n",
    "\n",
    "Мы определили, что наиболее приоритетные потенциальные постоянные клиенты это рискованные vip-клиенты.\n",
    "\n",
    "- 65 премиум-клиентов с высокой прибыльностью и снижающейся активностью\n",
    "\n",
    "- Высокая ценность: средняя выручка ~4,965 руб\n",
    "\n",
    "- Риск оттока: покупательская активность снизилась\n",
    "\n",
    "- Поддаются удержанию: долгие сессии (705 мин) = ищут причины остаться\n",
    "\n",
    "**1.2. Обучить модель предсказыввать целевой признак.**\n",
    "\n",
    "Мы обучили успешно предсказывать модель снизится ли их покупательская активность. Показатель recall 0.91 на тесте.\n",
    "\n",
    "\n",
    "<U>**2) Исходные данные**</U>\n",
    "\n",
    "В качестве исходных данных нам был предоставлен набор данных с данными интернет-магазина о покупателях и признаках, характеризующих их поведение. Мы произвели предобработку данных:\n",
    "\n",
    "- использовали профайлинг данных;\n",
    "- исправили названия столбцов;\n",
    "- убрали неявные дубликаты; \n",
    "- убрали выбросы.\n",
    "- убрали высококоррелирующие признаки воизбежании переобучения модели\n",
    "\n",
    "всё это важно для качественного обучения модели.\n",
    "\n",
    "<U>**3) Перед обучением моедли**</U> мы провели \n",
    "\n",
    "**исследовательский анализ данных.**\n",
    "\n",
    "мы определили **общие рекомендации по повышению покупательской активности**:\n",
    "\n",
    "* **Увеличить вовлеченность**: улучшить навигацию, рекомендательную систему\n",
    "* **Работать с брошенными корзинами**: email-ремайндеры, упрощение оплаты\n",
    "* **Персонализированные акции** для ценочувствительных клиентов\n",
    "\n",
    "* **Развивать сайт** Пользователи активно взаимодействуют с сайтом, что создает хорошие возможности для персонализации и увеличения продаж\n",
    "* Оптимизировать UX для удержания среднего времени ~15 минут\n",
    "* A/B тестировать элементы для увеличения конверсии\n",
    "* **Снизить технические ошибки** (4+ ошибок критично)\n",
    "* **Оптимизировать конверсию корзины** (2.76 неоплаченных товаров)\n",
    "\n",
    "* **Персонализировать маркетинг** на основе категорий интересов\n",
    "* **Увеличить долю акционных предложений** для активных пользователей\n",
    "* **Персонализированные рекомендации** для среднего сегмента\n",
    "* **Программы лояльности** для топ-клиентов\n",
    "* **Стимулирование повторных покупок**\n",
    "\n",
    "\n",
    "**Определили риски:**\n",
    "\n",
    "- Высокий уровень технических проблем может снижать лояльность\n",
    "- Большое количество неоплаченных товаров указывает на проблемы UX\n",
    "\n",
    "\n",
    "<U>**3) При обучении модели мы использовали**:</U>\n",
    "- очищенеые и предобработанные данные;\n",
    "- пайпланы для автоматизации и ускорения вычислений;\n",
    "- набор различных скалеров для определния наиболее удачного метода масштабирования данных;\n",
    "- категорировали данные.\n",
    "\n",
    "<U>**4) Для поиска лучшей модели мы использовали:**</U>\n",
    "\n",
    "- GridSearchCV, которая на предоставленных комбинаций параметров выбрала лучшую модель. набор различных скалеров для масштабирования данных\n",
    "\n",
    "\n",
    "<U>**5) Лучшая модель**</U>\n",
    "\n",
    "  Модель опорных векторов SVC была определена лучшей для предсказания изменения признака покупательской активности."
   ]
  },
  {
   "cell_type": "code",
   "execution_count": 75,
   "id": "1725fc30",
   "metadata": {},
   "outputs": [
    {
     "name": "stdout",
     "output_type": "stream",
     "text": [
      "\n",
      "Лучшие параметры: {'classifier': SVC(class_weight='balanced', probability=True, random_state=42), 'classifier__C': 1, 'classifier__gamma': 'auto', 'classifier__kernel': 'poly', 'preprocessor__num__scaler': MinMaxScaler()}\n",
      "Модель выбрана по Recall: 0.9354838709677419\n"
     ]
    },
    {
     "data": {
      "text/html": [
       "<div>\n",
       "<style scoped>\n",
       "    .dataframe tbody tr th:only-of-type {\n",
       "        vertical-align: middle;\n",
       "    }\n",
       "\n",
       "    .dataframe tbody tr th {\n",
       "        vertical-align: top;\n",
       "    }\n",
       "\n",
       "    .dataframe thead th {\n",
       "        text-align: right;\n",
       "    }\n",
       "</style>\n",
       "<table border=\"1\" class=\"dataframe\">\n",
       "  <thead>\n",
       "    <tr style=\"text-align: right;\">\n",
       "      <th></th>\n",
       "      <th>Метрика</th>\n",
       "      <th>Train (CV)</th>\n",
       "      <th>Test (Final)</th>\n",
       "      <th>Dummy (Test)</th>\n",
       "    </tr>\n",
       "  </thead>\n",
       "  <tbody>\n",
       "    <tr>\n",
       "      <th>0</th>\n",
       "      <td>Recall c порогом 0.3</td>\n",
       "      <td>0.91</td>\n",
       "      <td>0.94</td>\n",
       "      <td>0.00</td>\n",
       "    </tr>\n",
       "    <tr>\n",
       "      <th>1</th>\n",
       "      <td>Precision</td>\n",
       "      <td>0.54</td>\n",
       "      <td>0.57</td>\n",
       "      <td>0.00</td>\n",
       "    </tr>\n",
       "    <tr>\n",
       "      <th>2</th>\n",
       "      <td>F1</td>\n",
       "      <td>0.68</td>\n",
       "      <td>0.70</td>\n",
       "      <td>0.00</td>\n",
       "    </tr>\n",
       "    <tr>\n",
       "      <th>3</th>\n",
       "      <td>ROC-AUC</td>\n",
       "      <td>0.89</td>\n",
       "      <td>0.93</td>\n",
       "      <td>0.50</td>\n",
       "    </tr>\n",
       "  </tbody>\n",
       "</table>\n",
       "</div>"
      ],
      "text/plain": [
       "                Метрика  Train (CV)  Test (Final)  Dummy (Test)\n",
       "0  Recall c порогом 0.3        0.91          0.94          0.00\n",
       "1             Precision        0.54          0.57          0.00\n",
       "2                    F1        0.68          0.70          0.00\n",
       "3               ROC-AUC        0.89          0.93          0.50"
      ]
     },
     "metadata": {},
     "output_type": "display_data"
    }
   ],
   "source": [
    "print(f\"\\nЛучшие параметры: {grid_search.best_params_}\")\n",
    "print(f\"Модель выбрана по Recall: {recall_score(y_test, final_predictions, pos_label=pos_label)}\")\n",
    "\n",
    "display(metrics_df_final)"
   ]
  }
 ],
 "metadata": {
  "ExecuteTimeLog": [
   {
    "duration": 1504,
    "start_time": "2025-10-12T17:40:08.474Z"
   },
   {
    "duration": 0,
    "start_time": "2025-10-12T17:40:09.980Z"
   },
   {
    "duration": 0,
    "start_time": "2025-10-12T17:40:09.981Z"
   },
   {
    "duration": 0,
    "start_time": "2025-10-12T17:40:09.982Z"
   },
   {
    "duration": 0,
    "start_time": "2025-10-12T17:40:09.983Z"
   },
   {
    "duration": 0,
    "start_time": "2025-10-12T17:40:09.984Z"
   },
   {
    "duration": 0,
    "start_time": "2025-10-12T17:40:09.985Z"
   },
   {
    "duration": 0,
    "start_time": "2025-10-12T17:40:09.986Z"
   },
   {
    "duration": 0,
    "start_time": "2025-10-12T17:40:09.987Z"
   },
   {
    "duration": 0,
    "start_time": "2025-10-12T17:40:09.988Z"
   },
   {
    "duration": 0,
    "start_time": "2025-10-12T17:40:10.005Z"
   },
   {
    "duration": 0,
    "start_time": "2025-10-12T17:40:10.006Z"
   },
   {
    "duration": 0,
    "start_time": "2025-10-12T17:40:10.007Z"
   },
   {
    "duration": 0,
    "start_time": "2025-10-12T17:40:10.008Z"
   },
   {
    "duration": 0,
    "start_time": "2025-10-12T17:40:10.009Z"
   },
   {
    "duration": 0,
    "start_time": "2025-10-12T17:40:10.010Z"
   },
   {
    "duration": 0,
    "start_time": "2025-10-12T17:40:10.011Z"
   },
   {
    "duration": 0,
    "start_time": "2025-10-12T17:40:10.012Z"
   },
   {
    "duration": 0,
    "start_time": "2025-10-12T17:40:10.013Z"
   },
   {
    "duration": 0,
    "start_time": "2025-10-12T17:40:10.014Z"
   },
   {
    "duration": 0,
    "start_time": "2025-10-12T17:40:10.015Z"
   },
   {
    "duration": 0,
    "start_time": "2025-10-12T17:40:10.015Z"
   },
   {
    "duration": 0,
    "start_time": "2025-10-12T17:40:10.016Z"
   },
   {
    "duration": 0,
    "start_time": "2025-10-12T17:40:10.017Z"
   },
   {
    "duration": 0,
    "start_time": "2025-10-12T17:40:10.018Z"
   },
   {
    "duration": 0,
    "start_time": "2025-10-12T17:40:10.019Z"
   },
   {
    "duration": 0,
    "start_time": "2025-10-12T17:40:10.020Z"
   },
   {
    "duration": 0,
    "start_time": "2025-10-12T17:40:10.021Z"
   },
   {
    "duration": 0,
    "start_time": "2025-10-12T17:40:10.021Z"
   },
   {
    "duration": 0,
    "start_time": "2025-10-12T17:40:10.022Z"
   },
   {
    "duration": 0,
    "start_time": "2025-10-12T17:40:10.023Z"
   },
   {
    "duration": 0,
    "start_time": "2025-10-12T17:40:10.024Z"
   },
   {
    "duration": 0,
    "start_time": "2025-10-12T17:40:10.025Z"
   },
   {
    "duration": 0,
    "start_time": "2025-10-12T17:40:10.026Z"
   },
   {
    "duration": 0,
    "start_time": "2025-10-12T17:40:10.027Z"
   },
   {
    "duration": 0,
    "start_time": "2025-10-12T17:40:10.028Z"
   },
   {
    "duration": 0,
    "start_time": "2025-10-12T17:40:10.029Z"
   },
   {
    "duration": 0,
    "start_time": "2025-10-12T17:40:10.030Z"
   },
   {
    "duration": 0,
    "start_time": "2025-10-12T17:40:10.031Z"
   },
   {
    "duration": 0,
    "start_time": "2025-10-12T17:40:10.032Z"
   },
   {
    "duration": 0,
    "start_time": "2025-10-12T17:40:10.032Z"
   },
   {
    "duration": 0,
    "start_time": "2025-10-12T17:40:10.033Z"
   },
   {
    "duration": 0,
    "start_time": "2025-10-12T17:40:10.035Z"
   },
   {
    "duration": 0,
    "start_time": "2025-10-12T17:40:10.036Z"
   },
   {
    "duration": 0,
    "start_time": "2025-10-12T17:40:10.037Z"
   },
   {
    "duration": 0,
    "start_time": "2025-10-12T17:40:10.038Z"
   },
   {
    "duration": 0,
    "start_time": "2025-10-12T17:40:10.039Z"
   },
   {
    "duration": 0,
    "start_time": "2025-10-12T17:40:10.039Z"
   },
   {
    "duration": 0,
    "start_time": "2025-10-12T17:40:10.105Z"
   },
   {
    "duration": 0,
    "start_time": "2025-10-12T17:40:10.106Z"
   },
   {
    "duration": 0,
    "start_time": "2025-10-12T17:40:10.108Z"
   },
   {
    "duration": 0,
    "start_time": "2025-10-12T17:40:10.109Z"
   },
   {
    "duration": 0,
    "start_time": "2025-10-12T17:40:10.109Z"
   },
   {
    "duration": 0,
    "start_time": "2025-10-12T17:40:10.110Z"
   },
   {
    "duration": 4055,
    "start_time": "2025-10-12T18:22:52.316Z"
   },
   {
    "duration": 1576,
    "start_time": "2025-10-12T18:23:02.641Z"
   },
   {
    "duration": 41862,
    "start_time": "2025-10-12T18:23:24.237Z"
   },
   {
    "duration": 618,
    "start_time": "2025-10-12T18:25:19.464Z"
   },
   {
    "duration": 2976,
    "start_time": "2025-10-12T18:25:36.158Z"
   },
   {
    "duration": 1834,
    "start_time": "2025-10-12T18:25:39.137Z"
   },
   {
    "duration": 0,
    "start_time": "2025-10-12T18:25:40.976Z"
   },
   {
    "duration": 0,
    "start_time": "2025-10-12T18:25:40.977Z"
   },
   {
    "duration": 0,
    "start_time": "2025-10-12T18:25:40.979Z"
   },
   {
    "duration": 0,
    "start_time": "2025-10-12T18:25:40.980Z"
   },
   {
    "duration": 0,
    "start_time": "2025-10-12T18:25:40.981Z"
   },
   {
    "duration": 0,
    "start_time": "2025-10-12T18:25:40.982Z"
   },
   {
    "duration": 0,
    "start_time": "2025-10-12T18:25:40.983Z"
   },
   {
    "duration": 0,
    "start_time": "2025-10-12T18:25:40.984Z"
   },
   {
    "duration": 0,
    "start_time": "2025-10-12T18:25:40.986Z"
   },
   {
    "duration": 0,
    "start_time": "2025-10-12T18:25:40.987Z"
   },
   {
    "duration": 0,
    "start_time": "2025-10-12T18:25:40.988Z"
   },
   {
    "duration": 0,
    "start_time": "2025-10-12T18:25:40.989Z"
   },
   {
    "duration": 0,
    "start_time": "2025-10-12T18:25:40.990Z"
   },
   {
    "duration": 0,
    "start_time": "2025-10-12T18:25:40.991Z"
   },
   {
    "duration": 0,
    "start_time": "2025-10-12T18:25:40.992Z"
   },
   {
    "duration": 0,
    "start_time": "2025-10-12T18:25:40.992Z"
   },
   {
    "duration": 0,
    "start_time": "2025-10-12T18:25:40.994Z"
   },
   {
    "duration": 0,
    "start_time": "2025-10-12T18:25:40.995Z"
   },
   {
    "duration": 0,
    "start_time": "2025-10-12T18:25:40.996Z"
   },
   {
    "duration": 0,
    "start_time": "2025-10-12T18:25:40.997Z"
   },
   {
    "duration": 0,
    "start_time": "2025-10-12T18:25:40.998Z"
   },
   {
    "duration": 0,
    "start_time": "2025-10-12T18:25:40.999Z"
   },
   {
    "duration": 0,
    "start_time": "2025-10-12T18:25:41.000Z"
   },
   {
    "duration": 0,
    "start_time": "2025-10-12T18:25:41.001Z"
   },
   {
    "duration": 0,
    "start_time": "2025-10-12T18:25:41.002Z"
   },
   {
    "duration": 0,
    "start_time": "2025-10-12T18:25:41.003Z"
   },
   {
    "duration": 0,
    "start_time": "2025-10-12T18:25:41.004Z"
   },
   {
    "duration": 0,
    "start_time": "2025-10-12T18:25:41.005Z"
   },
   {
    "duration": 0,
    "start_time": "2025-10-12T18:25:41.058Z"
   },
   {
    "duration": 0,
    "start_time": "2025-10-12T18:25:41.059Z"
   },
   {
    "duration": 0,
    "start_time": "2025-10-12T18:25:41.060Z"
   },
   {
    "duration": 0,
    "start_time": "2025-10-12T18:25:41.061Z"
   },
   {
    "duration": 0,
    "start_time": "2025-10-12T18:25:41.062Z"
   },
   {
    "duration": 0,
    "start_time": "2025-10-12T18:25:41.063Z"
   },
   {
    "duration": 0,
    "start_time": "2025-10-12T18:25:41.065Z"
   },
   {
    "duration": 0,
    "start_time": "2025-10-12T18:25:41.066Z"
   },
   {
    "duration": 0,
    "start_time": "2025-10-12T18:25:41.067Z"
   },
   {
    "duration": 0,
    "start_time": "2025-10-12T18:25:41.068Z"
   },
   {
    "duration": 0,
    "start_time": "2025-10-12T18:25:41.069Z"
   },
   {
    "duration": 0,
    "start_time": "2025-10-12T18:25:41.070Z"
   },
   {
    "duration": 0,
    "start_time": "2025-10-12T18:25:41.072Z"
   },
   {
    "duration": 0,
    "start_time": "2025-10-12T18:25:41.073Z"
   },
   {
    "duration": 0,
    "start_time": "2025-10-12T18:25:41.074Z"
   },
   {
    "duration": 0,
    "start_time": "2025-10-12T18:25:41.075Z"
   },
   {
    "duration": 0,
    "start_time": "2025-10-12T18:25:41.076Z"
   },
   {
    "duration": 0,
    "start_time": "2025-10-12T18:25:41.077Z"
   },
   {
    "duration": 0,
    "start_time": "2025-10-12T18:25:41.078Z"
   },
   {
    "duration": 0,
    "start_time": "2025-10-12T18:25:41.080Z"
   },
   {
    "duration": 0,
    "start_time": "2025-10-12T18:25:41.080Z"
   },
   {
    "duration": 0,
    "start_time": "2025-10-12T18:25:41.082Z"
   },
   {
    "duration": 0,
    "start_time": "2025-10-12T18:25:41.083Z"
   },
   {
    "duration": 0,
    "start_time": "2025-10-12T18:25:41.084Z"
   },
   {
    "duration": 0,
    "start_time": "2025-10-12T18:25:41.085Z"
   },
   {
    "duration": 4270,
    "start_time": "2025-10-12T18:29:26.128Z"
   },
   {
    "duration": 2953,
    "start_time": "2025-10-12T18:29:40.714Z"
   },
   {
    "duration": 3061,
    "start_time": "2025-10-12T18:29:43.669Z"
   },
   {
    "duration": 3890,
    "start_time": "2025-10-12T18:29:46.732Z"
   },
   {
    "duration": 176,
    "start_time": "2025-10-12T18:29:50.625Z"
   },
   {
    "duration": 634,
    "start_time": "2025-10-12T18:29:50.803Z"
   },
   {
    "duration": 0,
    "start_time": "2025-10-12T18:29:51.441Z"
   },
   {
    "duration": 0,
    "start_time": "2025-10-12T18:29:51.442Z"
   },
   {
    "duration": 0,
    "start_time": "2025-10-12T18:29:51.444Z"
   },
   {
    "duration": 0,
    "start_time": "2025-10-12T18:29:51.444Z"
   },
   {
    "duration": 0,
    "start_time": "2025-10-12T18:29:51.458Z"
   },
   {
    "duration": 0,
    "start_time": "2025-10-12T18:29:51.459Z"
   },
   {
    "duration": 0,
    "start_time": "2025-10-12T18:29:51.460Z"
   },
   {
    "duration": 0,
    "start_time": "2025-10-12T18:29:51.461Z"
   },
   {
    "duration": 0,
    "start_time": "2025-10-12T18:29:51.463Z"
   },
   {
    "duration": 0,
    "start_time": "2025-10-12T18:29:51.464Z"
   },
   {
    "duration": 0,
    "start_time": "2025-10-12T18:29:51.465Z"
   },
   {
    "duration": 0,
    "start_time": "2025-10-12T18:29:51.466Z"
   },
   {
    "duration": 0,
    "start_time": "2025-10-12T18:29:51.467Z"
   },
   {
    "duration": 0,
    "start_time": "2025-10-12T18:29:51.468Z"
   },
   {
    "duration": 0,
    "start_time": "2025-10-12T18:29:51.469Z"
   },
   {
    "duration": 0,
    "start_time": "2025-10-12T18:29:51.471Z"
   },
   {
    "duration": 0,
    "start_time": "2025-10-12T18:29:51.472Z"
   },
   {
    "duration": 0,
    "start_time": "2025-10-12T18:29:51.473Z"
   },
   {
    "duration": 0,
    "start_time": "2025-10-12T18:29:51.474Z"
   },
   {
    "duration": 0,
    "start_time": "2025-10-12T18:29:51.475Z"
   },
   {
    "duration": 0,
    "start_time": "2025-10-12T18:29:51.476Z"
   },
   {
    "duration": 0,
    "start_time": "2025-10-12T18:29:51.477Z"
   },
   {
    "duration": 0,
    "start_time": "2025-10-12T18:29:51.478Z"
   },
   {
    "duration": 0,
    "start_time": "2025-10-12T18:29:51.479Z"
   },
   {
    "duration": 0,
    "start_time": "2025-10-12T18:29:51.480Z"
   },
   {
    "duration": 0,
    "start_time": "2025-10-12T18:29:51.481Z"
   },
   {
    "duration": 0,
    "start_time": "2025-10-12T18:29:51.483Z"
   },
   {
    "duration": 0,
    "start_time": "2025-10-12T18:29:51.484Z"
   },
   {
    "duration": 0,
    "start_time": "2025-10-12T18:29:51.485Z"
   },
   {
    "duration": 0,
    "start_time": "2025-10-12T18:29:51.486Z"
   },
   {
    "duration": 0,
    "start_time": "2025-10-12T18:29:51.487Z"
   },
   {
    "duration": 0,
    "start_time": "2025-10-12T18:29:51.488Z"
   },
   {
    "duration": 0,
    "start_time": "2025-10-12T18:29:51.489Z"
   },
   {
    "duration": 0,
    "start_time": "2025-10-12T18:29:51.491Z"
   },
   {
    "duration": 0,
    "start_time": "2025-10-12T18:29:51.492Z"
   },
   {
    "duration": 0,
    "start_time": "2025-10-12T18:29:51.493Z"
   },
   {
    "duration": 0,
    "start_time": "2025-10-12T18:29:51.558Z"
   },
   {
    "duration": 0,
    "start_time": "2025-10-12T18:29:51.560Z"
   },
   {
    "duration": 0,
    "start_time": "2025-10-12T18:29:51.561Z"
   },
   {
    "duration": 0,
    "start_time": "2025-10-12T18:29:51.562Z"
   },
   {
    "duration": 0,
    "start_time": "2025-10-12T18:29:51.563Z"
   },
   {
    "duration": 0,
    "start_time": "2025-10-12T18:29:51.564Z"
   },
   {
    "duration": 0,
    "start_time": "2025-10-12T18:29:51.565Z"
   },
   {
    "duration": 0,
    "start_time": "2025-10-12T18:29:51.566Z"
   },
   {
    "duration": 0,
    "start_time": "2025-10-12T18:29:51.567Z"
   },
   {
    "duration": 0,
    "start_time": "2025-10-12T18:29:51.569Z"
   },
   {
    "duration": 0,
    "start_time": "2025-10-12T18:29:51.570Z"
   },
   {
    "duration": 0,
    "start_time": "2025-10-12T18:29:51.572Z"
   },
   {
    "duration": 0,
    "start_time": "2025-10-12T18:29:51.572Z"
   },
   {
    "duration": 0,
    "start_time": "2025-10-12T18:29:51.573Z"
   },
   {
    "duration": 0,
    "start_time": "2025-10-12T18:29:51.574Z"
   },
   {
    "duration": 50,
    "start_time": "2025-10-12T18:31:37.156Z"
   },
   {
    "duration": 229,
    "start_time": "2025-10-12T18:35:22.748Z"
   },
   {
    "duration": 3091,
    "start_time": "2025-10-12T18:35:40.055Z"
   },
   {
    "duration": 3876,
    "start_time": "2025-10-12T18:35:43.149Z"
   },
   {
    "duration": 9,
    "start_time": "2025-10-12T18:35:47.027Z"
   },
   {
    "duration": 34,
    "start_time": "2025-10-12T18:35:47.037Z"
   },
   {
    "duration": 166,
    "start_time": "2025-10-12T18:35:47.074Z"
   },
   {
    "duration": 18,
    "start_time": "2025-10-12T18:35:47.241Z"
   },
   {
    "duration": 9,
    "start_time": "2025-10-12T18:35:47.260Z"
   },
   {
    "duration": 10,
    "start_time": "2025-10-12T18:35:47.271Z"
   },
   {
    "duration": 16,
    "start_time": "2025-10-12T18:35:47.283Z"
   },
   {
    "duration": 5,
    "start_time": "2025-10-12T18:35:47.302Z"
   },
   {
    "duration": 7,
    "start_time": "2025-10-12T18:35:47.309Z"
   },
   {
    "duration": 6,
    "start_time": "2025-10-12T18:35:47.318Z"
   },
   {
    "duration": 36,
    "start_time": "2025-10-12T18:35:47.325Z"
   },
   {
    "duration": 11,
    "start_time": "2025-10-12T18:35:47.365Z"
   },
   {
    "duration": 6,
    "start_time": "2025-10-12T18:35:47.377Z"
   },
   {
    "duration": 6,
    "start_time": "2025-10-12T18:35:47.385Z"
   },
   {
    "duration": 6,
    "start_time": "2025-10-12T18:35:47.393Z"
   },
   {
    "duration": 6,
    "start_time": "2025-10-12T18:35:47.400Z"
   },
   {
    "duration": 16,
    "start_time": "2025-10-12T18:35:47.408Z"
   },
   {
    "duration": 17,
    "start_time": "2025-10-12T18:35:47.425Z"
   },
   {
    "duration": 146,
    "start_time": "2025-10-12T18:35:47.444Z"
   },
   {
    "duration": 44176,
    "start_time": "2025-10-12T18:35:47.592Z"
   },
   {
    "duration": 23,
    "start_time": "2025-10-12T18:36:31.770Z"
   },
   {
    "duration": 262,
    "start_time": "2025-10-12T18:36:31.796Z"
   },
   {
    "duration": 14,
    "start_time": "2025-10-12T18:36:32.060Z"
   },
   {
    "duration": 26,
    "start_time": "2025-10-12T18:36:32.076Z"
   },
   {
    "duration": 25,
    "start_time": "2025-10-12T18:36:32.104Z"
   },
   {
    "duration": 40,
    "start_time": "2025-10-12T18:36:32.163Z"
   },
   {
    "duration": 30,
    "start_time": "2025-10-12T18:36:32.205Z"
   },
   {
    "duration": 40,
    "start_time": "2025-10-12T18:36:32.236Z"
   },
   {
    "duration": 4,
    "start_time": "2025-10-12T18:36:32.278Z"
   },
   {
    "duration": 30,
    "start_time": "2025-10-12T18:36:32.284Z"
   },
   {
    "duration": 46,
    "start_time": "2025-10-12T18:36:32.316Z"
   },
   {
    "duration": 2221,
    "start_time": "2025-10-12T18:36:32.363Z"
   },
   {
    "duration": 5,
    "start_time": "2025-10-12T18:36:34.586Z"
   },
   {
    "duration": 31,
    "start_time": "2025-10-12T18:36:34.593Z"
   },
   {
    "duration": 51,
    "start_time": "2025-10-12T18:36:34.626Z"
   },
   {
    "duration": 0,
    "start_time": "2025-10-12T18:36:34.680Z"
   },
   {
    "duration": 0,
    "start_time": "2025-10-12T18:36:34.681Z"
   },
   {
    "duration": 0,
    "start_time": "2025-10-12T18:36:34.683Z"
   },
   {
    "duration": 0,
    "start_time": "2025-10-12T18:36:34.684Z"
   },
   {
    "duration": 0,
    "start_time": "2025-10-12T18:36:34.686Z"
   },
   {
    "duration": 0,
    "start_time": "2025-10-12T18:36:34.687Z"
   },
   {
    "duration": 0,
    "start_time": "2025-10-12T18:36:34.689Z"
   },
   {
    "duration": 0,
    "start_time": "2025-10-12T18:36:34.690Z"
   },
   {
    "duration": 0,
    "start_time": "2025-10-12T18:36:34.691Z"
   },
   {
    "duration": 0,
    "start_time": "2025-10-12T18:36:34.693Z"
   },
   {
    "duration": 0,
    "start_time": "2025-10-12T18:36:34.695Z"
   },
   {
    "duration": 1,
    "start_time": "2025-10-12T18:36:34.696Z"
   },
   {
    "duration": 0,
    "start_time": "2025-10-12T18:36:34.698Z"
   },
   {
    "duration": 0,
    "start_time": "2025-10-12T18:36:34.700Z"
   },
   {
    "duration": 0,
    "start_time": "2025-10-12T18:36:34.701Z"
   },
   {
    "duration": 0,
    "start_time": "2025-10-12T18:36:34.702Z"
   },
   {
    "duration": 0,
    "start_time": "2025-10-12T18:36:34.704Z"
   },
   {
    "duration": 0,
    "start_time": "2025-10-12T18:36:34.706Z"
   },
   {
    "duration": 0,
    "start_time": "2025-10-12T18:36:34.708Z"
   },
   {
    "duration": 7,
    "start_time": "2025-10-12T18:37:57.535Z"
   },
   {
    "duration": 6756,
    "start_time": "2025-10-12T18:38:04.027Z"
   },
   {
    "duration": 6,
    "start_time": "2025-10-12T18:44:17.797Z"
   },
   {
    "duration": 80156,
    "start_time": "2025-10-12T18:44:21.017Z"
   },
   {
    "duration": 12962,
    "start_time": "2025-10-12T18:45:57.882Z"
   },
   {
    "duration": 3676,
    "start_time": "2025-10-12T18:47:12.163Z"
   },
   {
    "duration": 4266,
    "start_time": "2025-10-12T18:47:15.842Z"
   },
   {
    "duration": 4682,
    "start_time": "2025-10-12T18:47:20.111Z"
   },
   {
    "duration": 3686,
    "start_time": "2025-10-12T18:47:24.796Z"
   },
   {
    "duration": 34,
    "start_time": "2025-10-12T18:47:28.484Z"
   },
   {
    "duration": 175,
    "start_time": "2025-10-12T18:47:28.520Z"
   },
   {
    "duration": 14,
    "start_time": "2025-10-12T18:47:28.697Z"
   },
   {
    "duration": 7,
    "start_time": "2025-10-12T18:47:28.713Z"
   },
   {
    "duration": 11,
    "start_time": "2025-10-12T18:47:28.721Z"
   },
   {
    "duration": 76,
    "start_time": "2025-10-12T18:47:28.735Z"
   },
   {
    "duration": 30,
    "start_time": "2025-10-12T18:47:28.812Z"
   },
   {
    "duration": 11,
    "start_time": "2025-10-12T18:47:28.845Z"
   },
   {
    "duration": 8,
    "start_time": "2025-10-12T18:47:28.859Z"
   },
   {
    "duration": 10,
    "start_time": "2025-10-12T18:47:28.869Z"
   },
   {
    "duration": 8,
    "start_time": "2025-10-12T18:47:28.881Z"
   },
   {
    "duration": 5,
    "start_time": "2025-10-12T18:47:28.891Z"
   },
   {
    "duration": 6,
    "start_time": "2025-10-12T18:47:28.898Z"
   },
   {
    "duration": 7,
    "start_time": "2025-10-12T18:47:28.905Z"
   },
   {
    "duration": 11,
    "start_time": "2025-10-12T18:47:28.914Z"
   },
   {
    "duration": 45,
    "start_time": "2025-10-12T18:47:28.927Z"
   },
   {
    "duration": 27,
    "start_time": "2025-10-12T18:47:28.974Z"
   },
   {
    "duration": 114,
    "start_time": "2025-10-12T18:47:29.003Z"
   },
   {
    "duration": 48579,
    "start_time": "2025-10-12T18:47:29.119Z"
   },
   {
    "duration": 21,
    "start_time": "2025-10-12T18:48:17.700Z"
   },
   {
    "duration": 318,
    "start_time": "2025-10-12T18:48:17.723Z"
   },
   {
    "duration": 21,
    "start_time": "2025-10-12T18:48:18.043Z"
   },
   {
    "duration": 25,
    "start_time": "2025-10-12T18:48:18.067Z"
   },
   {
    "duration": 24,
    "start_time": "2025-10-12T18:48:18.097Z"
   },
   {
    "duration": 53,
    "start_time": "2025-10-12T18:48:18.123Z"
   },
   {
    "duration": 25,
    "start_time": "2025-10-12T18:48:18.178Z"
   },
   {
    "duration": 18,
    "start_time": "2025-10-12T18:48:18.205Z"
   },
   {
    "duration": 4,
    "start_time": "2025-10-12T18:48:18.225Z"
   },
   {
    "duration": 31,
    "start_time": "2025-10-12T18:48:18.257Z"
   },
   {
    "duration": 25,
    "start_time": "2025-10-12T18:48:18.290Z"
   },
   {
    "duration": 2331,
    "start_time": "2025-10-12T18:48:18.317Z"
   },
   {
    "duration": 9,
    "start_time": "2025-10-12T18:48:20.649Z"
   },
   {
    "duration": 25,
    "start_time": "2025-10-12T18:48:20.659Z"
   },
   {
    "duration": 241,
    "start_time": "2025-10-12T18:48:20.686Z"
   },
   {
    "duration": 0,
    "start_time": "2025-10-12T18:48:20.929Z"
   },
   {
    "duration": 0,
    "start_time": "2025-10-12T18:48:20.930Z"
   },
   {
    "duration": 0,
    "start_time": "2025-10-12T18:48:20.931Z"
   },
   {
    "duration": 0,
    "start_time": "2025-10-12T18:48:20.933Z"
   },
   {
    "duration": 0,
    "start_time": "2025-10-12T18:48:20.934Z"
   },
   {
    "duration": 0,
    "start_time": "2025-10-12T18:48:20.935Z"
   },
   {
    "duration": 0,
    "start_time": "2025-10-12T18:48:20.936Z"
   },
   {
    "duration": 0,
    "start_time": "2025-10-12T18:48:20.937Z"
   },
   {
    "duration": 0,
    "start_time": "2025-10-12T18:48:20.938Z"
   },
   {
    "duration": 0,
    "start_time": "2025-10-12T18:48:20.962Z"
   },
   {
    "duration": 0,
    "start_time": "2025-10-12T18:48:20.963Z"
   },
   {
    "duration": 0,
    "start_time": "2025-10-12T18:48:20.964Z"
   },
   {
    "duration": 0,
    "start_time": "2025-10-12T18:48:20.966Z"
   },
   {
    "duration": 0,
    "start_time": "2025-10-12T18:48:20.967Z"
   },
   {
    "duration": 0,
    "start_time": "2025-10-12T18:48:20.968Z"
   },
   {
    "duration": 0,
    "start_time": "2025-10-12T18:48:20.969Z"
   },
   {
    "duration": 0,
    "start_time": "2025-10-12T18:48:20.971Z"
   },
   {
    "duration": 0,
    "start_time": "2025-10-12T18:48:20.972Z"
   },
   {
    "duration": 0,
    "start_time": "2025-10-12T18:48:20.973Z"
   },
   {
    "duration": 6,
    "start_time": "2025-10-12T18:50:15.924Z"
   },
   {
    "duration": 2998,
    "start_time": "2025-10-12T18:51:17.110Z"
   },
   {
    "duration": 3955,
    "start_time": "2025-10-12T18:51:20.111Z"
   },
   {
    "duration": 4157,
    "start_time": "2025-10-12T18:51:24.068Z"
   },
   {
    "duration": 6,
    "start_time": "2025-10-12T18:51:28.228Z"
   },
   {
    "duration": 43,
    "start_time": "2025-10-12T18:51:28.236Z"
   },
   {
    "duration": 169,
    "start_time": "2025-10-12T18:51:28.280Z"
   },
   {
    "duration": 12,
    "start_time": "2025-10-12T18:51:28.451Z"
   },
   {
    "duration": 36,
    "start_time": "2025-10-12T18:51:28.464Z"
   },
   {
    "duration": 9,
    "start_time": "2025-10-12T18:51:28.501Z"
   },
   {
    "duration": 6,
    "start_time": "2025-10-12T18:51:28.513Z"
   },
   {
    "duration": 4,
    "start_time": "2025-10-12T18:51:28.521Z"
   },
   {
    "duration": 7,
    "start_time": "2025-10-12T18:51:28.526Z"
   },
   {
    "duration": 6,
    "start_time": "2025-10-12T18:51:28.535Z"
   },
   {
    "duration": 15,
    "start_time": "2025-10-12T18:51:28.542Z"
   },
   {
    "duration": 7,
    "start_time": "2025-10-12T18:51:28.559Z"
   },
   {
    "duration": 8,
    "start_time": "2025-10-12T18:51:28.567Z"
   },
   {
    "duration": 6,
    "start_time": "2025-10-12T18:51:28.576Z"
   },
   {
    "duration": 6,
    "start_time": "2025-10-12T18:51:28.583Z"
   },
   {
    "duration": 6,
    "start_time": "2025-10-12T18:51:28.590Z"
   },
   {
    "duration": 10,
    "start_time": "2025-10-12T18:51:28.598Z"
   },
   {
    "duration": 7,
    "start_time": "2025-10-12T18:51:28.610Z"
   },
   {
    "duration": 149,
    "start_time": "2025-10-12T18:51:28.618Z"
   },
   {
    "duration": 42798,
    "start_time": "2025-10-12T18:51:28.769Z"
   },
   {
    "duration": 23,
    "start_time": "2025-10-12T18:52:11.569Z"
   },
   {
    "duration": 254,
    "start_time": "2025-10-12T18:52:11.593Z"
   },
   {
    "duration": 17,
    "start_time": "2025-10-12T18:52:11.849Z"
   },
   {
    "duration": 23,
    "start_time": "2025-10-12T18:52:11.868Z"
   },
   {
    "duration": 22,
    "start_time": "2025-10-12T18:52:11.896Z"
   },
   {
    "duration": 51,
    "start_time": "2025-10-12T18:52:11.920Z"
   },
   {
    "duration": 24,
    "start_time": "2025-10-12T18:52:11.972Z"
   },
   {
    "duration": 24,
    "start_time": "2025-10-12T18:52:11.998Z"
   },
   {
    "duration": 3,
    "start_time": "2025-10-12T18:52:12.024Z"
   },
   {
    "duration": 49,
    "start_time": "2025-10-12T18:52:12.029Z"
   },
   {
    "duration": 24,
    "start_time": "2025-10-12T18:52:12.079Z"
   },
   {
    "duration": 1592,
    "start_time": "2025-10-12T18:52:12.105Z"
   },
   {
    "duration": 4,
    "start_time": "2025-10-12T18:52:13.699Z"
   },
   {
    "duration": 24,
    "start_time": "2025-10-12T18:52:13.704Z"
   },
   {
    "duration": 29,
    "start_time": "2025-10-12T18:52:13.730Z"
   },
   {
    "duration": 43878,
    "start_time": "2025-10-12T18:52:13.761Z"
   },
   {
    "duration": 77,
    "start_time": "2025-10-12T18:52:57.641Z"
   },
   {
    "duration": 77,
    "start_time": "2025-10-12T18:52:57.720Z"
   },
   {
    "duration": 11,
    "start_time": "2025-10-12T18:52:57.800Z"
   },
   {
    "duration": 8,
    "start_time": "2025-10-12T18:52:57.813Z"
   },
   {
    "duration": 7,
    "start_time": "2025-10-12T18:52:57.823Z"
   },
   {
    "duration": 8,
    "start_time": "2025-10-12T18:52:57.858Z"
   },
   {
    "duration": 9,
    "start_time": "2025-10-12T18:52:57.867Z"
   },
   {
    "duration": 11,
    "start_time": "2025-10-12T18:52:57.877Z"
   },
   {
    "duration": 9,
    "start_time": "2025-10-12T18:52:57.890Z"
   },
   {
    "duration": 17,
    "start_time": "2025-10-12T18:52:57.901Z"
   },
   {
    "duration": 48,
    "start_time": "2025-10-12T18:52:57.920Z"
   },
   {
    "duration": 22,
    "start_time": "2025-10-12T18:52:57.970Z"
   },
   {
    "duration": 25,
    "start_time": "2025-10-12T18:52:57.994Z"
   },
   {
    "duration": 58,
    "start_time": "2025-10-12T18:52:58.020Z"
   },
   {
    "duration": 38,
    "start_time": "2025-10-12T18:52:58.080Z"
   },
   {
    "duration": 7,
    "start_time": "2025-10-12T18:52:58.121Z"
   },
   {
    "duration": 1923,
    "start_time": "2025-10-12T18:52:58.157Z"
   },
   {
    "duration": 9,
    "start_time": "2025-10-12T18:53:00.082Z"
   },
   {
    "duration": 9,
    "start_time": "2025-10-12T19:05:46.307Z"
   },
   {
    "duration": 3126,
    "start_time": "2025-10-12T19:07:06.697Z"
   },
   {
    "duration": 4122,
    "start_time": "2025-10-12T19:07:09.825Z"
   },
   {
    "duration": 4475,
    "start_time": "2025-10-12T19:07:13.951Z"
   },
   {
    "duration": 7,
    "start_time": "2025-10-12T19:07:18.430Z"
   },
   {
    "duration": 39,
    "start_time": "2025-10-12T19:07:18.438Z"
   },
   {
    "duration": 195,
    "start_time": "2025-10-12T19:07:18.479Z"
   },
   {
    "duration": 13,
    "start_time": "2025-10-12T19:07:18.676Z"
   },
   {
    "duration": 8,
    "start_time": "2025-10-12T19:07:18.690Z"
   },
   {
    "duration": 11,
    "start_time": "2025-10-12T19:07:18.699Z"
   },
   {
    "duration": 8,
    "start_time": "2025-10-12T19:07:18.713Z"
   },
   {
    "duration": 6,
    "start_time": "2025-10-12T19:07:18.722Z"
   },
   {
    "duration": 7,
    "start_time": "2025-10-12T19:07:18.730Z"
   },
   {
    "duration": 18,
    "start_time": "2025-10-12T19:07:18.739Z"
   },
   {
    "duration": 12,
    "start_time": "2025-10-12T19:07:18.759Z"
   },
   {
    "duration": 17,
    "start_time": "2025-10-12T19:07:18.773Z"
   },
   {
    "duration": 15,
    "start_time": "2025-10-12T19:07:18.791Z"
   },
   {
    "duration": 8,
    "start_time": "2025-10-12T19:07:18.807Z"
   },
   {
    "duration": 9,
    "start_time": "2025-10-12T19:07:18.816Z"
   },
   {
    "duration": 8,
    "start_time": "2025-10-12T19:07:18.827Z"
   },
   {
    "duration": 29,
    "start_time": "2025-10-12T19:07:18.837Z"
   },
   {
    "duration": 37,
    "start_time": "2025-10-12T19:07:18.868Z"
   },
   {
    "duration": 108,
    "start_time": "2025-10-12T19:07:18.907Z"
   },
   {
    "duration": 47253,
    "start_time": "2025-10-12T19:07:19.017Z"
   },
   {
    "duration": 25,
    "start_time": "2025-10-12T19:08:06.273Z"
   },
   {
    "duration": 345,
    "start_time": "2025-10-12T19:08:06.299Z"
   },
   {
    "duration": 24,
    "start_time": "2025-10-12T19:08:06.646Z"
   },
   {
    "duration": 26,
    "start_time": "2025-10-12T19:08:06.673Z"
   },
   {
    "duration": 24,
    "start_time": "2025-10-12T19:08:06.704Z"
   },
   {
    "duration": 31,
    "start_time": "2025-10-12T19:08:06.758Z"
   },
   {
    "duration": 27,
    "start_time": "2025-10-12T19:08:06.791Z"
   },
   {
    "duration": 45,
    "start_time": "2025-10-12T19:08:06.819Z"
   },
   {
    "duration": 5,
    "start_time": "2025-10-12T19:08:06.865Z"
   },
   {
    "duration": 61,
    "start_time": "2025-10-12T19:08:06.872Z"
   },
   {
    "duration": 24,
    "start_time": "2025-10-12T19:08:06.935Z"
   },
   {
    "duration": 1660,
    "start_time": "2025-10-12T19:08:06.961Z"
   },
   {
    "duration": 4,
    "start_time": "2025-10-12T19:08:08.623Z"
   },
   {
    "duration": 40,
    "start_time": "2025-10-12T19:08:08.629Z"
   },
   {
    "duration": 7,
    "start_time": "2025-10-12T19:08:08.670Z"
   },
   {
    "duration": 46866,
    "start_time": "2025-10-12T19:08:08.679Z"
   },
   {
    "duration": 82,
    "start_time": "2025-10-12T19:08:55.547Z"
   },
   {
    "duration": 78,
    "start_time": "2025-10-12T19:08:55.631Z"
   },
   {
    "duration": 13,
    "start_time": "2025-10-12T19:08:55.711Z"
   },
   {
    "duration": 33,
    "start_time": "2025-10-12T19:08:55.726Z"
   },
   {
    "duration": 9,
    "start_time": "2025-10-12T19:08:55.761Z"
   },
   {
    "duration": 7,
    "start_time": "2025-10-12T19:08:55.772Z"
   },
   {
    "duration": 18,
    "start_time": "2025-10-12T19:08:55.781Z"
   },
   {
    "duration": 24,
    "start_time": "2025-10-12T19:08:55.801Z"
   },
   {
    "duration": 12,
    "start_time": "2025-10-12T19:08:55.827Z"
   },
   {
    "duration": 23,
    "start_time": "2025-10-12T19:08:55.858Z"
   },
   {
    "duration": 17,
    "start_time": "2025-10-12T19:08:55.883Z"
   },
   {
    "duration": 23,
    "start_time": "2025-10-12T19:08:55.902Z"
   },
   {
    "duration": 54,
    "start_time": "2025-10-12T19:08:55.927Z"
   },
   {
    "duration": 23,
    "start_time": "2025-10-12T19:08:55.983Z"
   },
   {
    "duration": 22,
    "start_time": "2025-10-12T19:08:56.008Z"
   },
   {
    "duration": 32,
    "start_time": "2025-10-12T19:08:56.031Z"
   },
   {
    "duration": 1993,
    "start_time": "2025-10-12T19:08:56.065Z"
   },
   {
    "duration": 13,
    "start_time": "2025-10-12T19:08:58.061Z"
   },
   {
    "duration": 30,
    "start_time": "2025-10-12T19:13:38.030Z"
   },
   {
    "duration": 18,
    "start_time": "2025-10-12T19:13:57.010Z"
   },
   {
    "duration": 4191,
    "start_time": "2025-10-12T19:14:55.581Z"
   },
   {
    "duration": 161,
    "start_time": "2025-10-12T19:15:07.381Z"
   },
   {
    "duration": 3229,
    "start_time": "2025-10-12T19:15:11.843Z"
   },
   {
    "duration": 4140,
    "start_time": "2025-10-12T19:15:15.075Z"
   },
   {
    "duration": 4346,
    "start_time": "2025-10-12T19:15:19.217Z"
   },
   {
    "duration": 2939,
    "start_time": "2025-10-12T19:15:23.567Z"
   },
   {
    "duration": 6,
    "start_time": "2025-10-12T19:15:26.508Z"
   },
   {
    "duration": 80,
    "start_time": "2025-10-12T19:15:26.515Z"
   },
   {
    "duration": 139,
    "start_time": "2025-10-12T19:15:26.596Z"
   },
   {
    "duration": 13,
    "start_time": "2025-10-12T19:15:26.737Z"
   },
   {
    "duration": 11,
    "start_time": "2025-10-12T19:15:26.751Z"
   },
   {
    "duration": 6,
    "start_time": "2025-10-12T19:15:26.765Z"
   },
   {
    "duration": 6,
    "start_time": "2025-10-12T19:15:26.772Z"
   },
   {
    "duration": 3,
    "start_time": "2025-10-12T19:15:26.780Z"
   },
   {
    "duration": 7,
    "start_time": "2025-10-12T19:15:26.785Z"
   },
   {
    "duration": 5,
    "start_time": "2025-10-12T19:15:26.794Z"
   },
   {
    "duration": 6,
    "start_time": "2025-10-12T19:15:26.801Z"
   },
   {
    "duration": 51,
    "start_time": "2025-10-12T19:15:26.809Z"
   },
   {
    "duration": 12,
    "start_time": "2025-10-12T19:15:26.862Z"
   },
   {
    "duration": 52,
    "start_time": "2025-10-12T19:15:26.876Z"
   },
   {
    "duration": 6,
    "start_time": "2025-10-12T19:15:26.930Z"
   },
   {
    "duration": 13,
    "start_time": "2025-10-12T19:15:26.937Z"
   },
   {
    "duration": 9,
    "start_time": "2025-10-12T19:15:26.952Z"
   },
   {
    "duration": 17,
    "start_time": "2025-10-12T19:15:26.963Z"
   },
   {
    "duration": 113,
    "start_time": "2025-10-12T19:15:26.982Z"
   },
   {
    "duration": 42886,
    "start_time": "2025-10-12T19:15:27.097Z"
   },
   {
    "duration": 29,
    "start_time": "2025-10-12T19:16:09.985Z"
   },
   {
    "duration": 269,
    "start_time": "2025-10-12T19:16:10.058Z"
   },
   {
    "duration": 13,
    "start_time": "2025-10-12T19:16:10.330Z"
   },
   {
    "duration": 25,
    "start_time": "2025-10-12T19:16:10.357Z"
   },
   {
    "duration": 25,
    "start_time": "2025-10-12T19:16:10.384Z"
   },
   {
    "duration": 54,
    "start_time": "2025-10-12T19:16:10.411Z"
   },
   {
    "duration": 24,
    "start_time": "2025-10-12T19:16:10.467Z"
   },
   {
    "duration": 22,
    "start_time": "2025-10-12T19:16:10.493Z"
   },
   {
    "duration": 4,
    "start_time": "2025-10-12T19:16:10.517Z"
   },
   {
    "duration": 55,
    "start_time": "2025-10-12T19:16:10.523Z"
   },
   {
    "duration": 24,
    "start_time": "2025-10-12T19:16:10.580Z"
   },
   {
    "duration": 2306,
    "start_time": "2025-10-12T19:16:10.605Z"
   },
   {
    "duration": 3,
    "start_time": "2025-10-12T19:16:12.913Z"
   },
   {
    "duration": 26,
    "start_time": "2025-10-12T19:16:12.918Z"
   },
   {
    "duration": 14,
    "start_time": "2025-10-12T19:16:12.946Z"
   },
   {
    "duration": 43797,
    "start_time": "2025-10-12T19:16:12.962Z"
   },
   {
    "duration": 78,
    "start_time": "2025-10-12T19:16:56.761Z"
   },
   {
    "duration": 76,
    "start_time": "2025-10-12T19:16:56.841Z"
   },
   {
    "duration": 11,
    "start_time": "2025-10-12T19:16:56.919Z"
   },
   {
    "duration": 609,
    "start_time": "2025-10-12T19:16:56.931Z"
   },
   {
    "duration": 7,
    "start_time": "2025-10-12T19:16:57.542Z"
   },
   {
    "duration": 9,
    "start_time": "2025-10-12T19:16:57.558Z"
   },
   {
    "duration": 13,
    "start_time": "2025-10-12T19:16:57.569Z"
   },
   {
    "duration": 12,
    "start_time": "2025-10-12T19:16:57.583Z"
   },
   {
    "duration": 14,
    "start_time": "2025-10-12T19:16:57.597Z"
   },
   {
    "duration": 9,
    "start_time": "2025-10-12T19:16:57.613Z"
   },
   {
    "duration": 38,
    "start_time": "2025-10-12T19:16:57.623Z"
   },
   {
    "duration": 17,
    "start_time": "2025-10-12T19:16:57.663Z"
   },
   {
    "duration": 24,
    "start_time": "2025-10-12T19:16:57.682Z"
   },
   {
    "duration": 58,
    "start_time": "2025-10-12T19:16:57.708Z"
   },
   {
    "duration": 26,
    "start_time": "2025-10-12T19:16:57.768Z"
   },
   {
    "duration": 25,
    "start_time": "2025-10-12T19:16:57.796Z"
   },
   {
    "duration": 22,
    "start_time": "2025-10-12T19:16:57.822Z"
   },
   {
    "duration": 1771,
    "start_time": "2025-10-12T19:16:57.858Z"
   },
   {
    "duration": 9,
    "start_time": "2025-10-12T19:16:59.630Z"
   },
   {
    "duration": 35282,
    "start_time": "2025-10-13T17:31:57.264Z"
   },
   {
    "duration": 14864,
    "start_time": "2025-10-13T17:32:32.553Z"
   },
   {
    "duration": 14212,
    "start_time": "2025-10-13T17:32:47.419Z"
   },
   {
    "duration": 11934,
    "start_time": "2025-10-13T17:33:01.634Z"
   },
   {
    "duration": 612,
    "start_time": "2025-10-13T17:33:13.571Z"
   },
   {
    "duration": 0,
    "start_time": "2025-10-13T17:33:14.188Z"
   },
   {
    "duration": 0,
    "start_time": "2025-10-13T17:33:14.189Z"
   },
   {
    "duration": 0,
    "start_time": "2025-10-13T17:33:14.190Z"
   },
   {
    "duration": 0,
    "start_time": "2025-10-13T17:33:14.192Z"
   },
   {
    "duration": 0,
    "start_time": "2025-10-13T17:33:14.193Z"
   },
   {
    "duration": 0,
    "start_time": "2025-10-13T17:33:14.194Z"
   },
   {
    "duration": 0,
    "start_time": "2025-10-13T17:33:14.196Z"
   },
   {
    "duration": 0,
    "start_time": "2025-10-13T17:33:14.197Z"
   },
   {
    "duration": 0,
    "start_time": "2025-10-13T17:33:14.199Z"
   },
   {
    "duration": 0,
    "start_time": "2025-10-13T17:33:14.200Z"
   },
   {
    "duration": 0,
    "start_time": "2025-10-13T17:33:14.202Z"
   },
   {
    "duration": 0,
    "start_time": "2025-10-13T17:33:14.203Z"
   },
   {
    "duration": 0,
    "start_time": "2025-10-13T17:33:14.204Z"
   },
   {
    "duration": 0,
    "start_time": "2025-10-13T17:33:14.205Z"
   },
   {
    "duration": 0,
    "start_time": "2025-10-13T17:33:14.207Z"
   },
   {
    "duration": 0,
    "start_time": "2025-10-13T17:33:14.248Z"
   },
   {
    "duration": 0,
    "start_time": "2025-10-13T17:33:14.249Z"
   },
   {
    "duration": 0,
    "start_time": "2025-10-13T17:33:14.250Z"
   },
   {
    "duration": 0,
    "start_time": "2025-10-13T17:33:14.251Z"
   },
   {
    "duration": 0,
    "start_time": "2025-10-13T17:33:14.252Z"
   },
   {
    "duration": 0,
    "start_time": "2025-10-13T17:33:14.253Z"
   },
   {
    "duration": 0,
    "start_time": "2025-10-13T17:33:14.254Z"
   },
   {
    "duration": 0,
    "start_time": "2025-10-13T17:33:14.255Z"
   },
   {
    "duration": 0,
    "start_time": "2025-10-13T17:33:14.256Z"
   },
   {
    "duration": 0,
    "start_time": "2025-10-13T17:33:14.260Z"
   },
   {
    "duration": 0,
    "start_time": "2025-10-13T17:33:14.261Z"
   },
   {
    "duration": 0,
    "start_time": "2025-10-13T17:33:14.263Z"
   },
   {
    "duration": 52871,
    "start_time": "2025-10-13T17:34:22.122Z"
   },
   {
    "duration": 5239,
    "start_time": "2025-10-13T17:35:14.995Z"
   },
   {
    "duration": 17153,
    "start_time": "2025-10-13T17:35:20.236Z"
   },
   {
    "duration": 5862,
    "start_time": "2025-10-13T17:35:37.391Z"
   },
   {
    "duration": 9351,
    "start_time": "2025-10-13T17:35:43.255Z"
   },
   {
    "duration": 59,
    "start_time": "2025-10-13T17:35:52.608Z"
   },
   {
    "duration": 300,
    "start_time": "2025-10-13T17:35:52.669Z"
   },
   {
    "duration": 15,
    "start_time": "2025-10-13T17:35:52.971Z"
   },
   {
    "duration": 79,
    "start_time": "2025-10-13T17:35:52.988Z"
   },
   {
    "duration": 30,
    "start_time": "2025-10-13T17:35:53.071Z"
   },
   {
    "duration": 97,
    "start_time": "2025-10-13T17:35:53.103Z"
   },
   {
    "duration": 14,
    "start_time": "2025-10-13T17:35:53.202Z"
   },
   {
    "duration": 8,
    "start_time": "2025-10-13T17:35:53.218Z"
   },
   {
    "duration": 7,
    "start_time": "2025-10-13T17:35:53.229Z"
   },
   {
    "duration": 16,
    "start_time": "2025-10-13T17:35:53.239Z"
   },
   {
    "duration": 12,
    "start_time": "2025-10-13T17:35:53.258Z"
   },
   {
    "duration": 21,
    "start_time": "2025-10-13T17:35:53.275Z"
   },
   {
    "duration": 30,
    "start_time": "2025-10-13T17:35:53.299Z"
   },
   {
    "duration": 7,
    "start_time": "2025-10-13T17:35:53.331Z"
   },
   {
    "duration": 14,
    "start_time": "2025-10-13T17:35:53.341Z"
   },
   {
    "duration": 35,
    "start_time": "2025-10-13T17:35:53.359Z"
   },
   {
    "duration": 9,
    "start_time": "2025-10-13T17:35:53.396Z"
   },
   {
    "duration": 147,
    "start_time": "2025-10-13T17:35:53.406Z"
   },
   {
    "duration": 48548,
    "start_time": "2025-10-13T17:35:53.555Z"
   },
   {
    "duration": 66,
    "start_time": "2025-10-13T17:36:42.105Z"
   },
   {
    "duration": 992,
    "start_time": "2025-10-13T17:36:42.173Z"
   },
   {
    "duration": 15,
    "start_time": "2025-10-13T17:36:43.167Z"
   },
   {
    "duration": 34,
    "start_time": "2025-10-13T17:36:43.187Z"
   },
   {
    "duration": 51,
    "start_time": "2025-10-13T17:36:43.223Z"
   },
   {
    "duration": 25,
    "start_time": "2025-10-13T17:36:43.276Z"
   },
   {
    "duration": 45,
    "start_time": "2025-10-13T17:36:43.303Z"
   },
   {
    "duration": 26,
    "start_time": "2025-10-13T17:36:43.354Z"
   },
   {
    "duration": 26,
    "start_time": "2025-10-13T17:36:51.457Z"
   },
   {
    "duration": 2,
    "start_time": "2025-10-15T13:09:36.419Z"
   },
   {
    "duration": 27,
    "start_time": "2025-10-15T13:09:36.423Z"
   },
   {
    "duration": 11,
    "start_time": "2025-10-15T13:09:36.452Z"
   },
   {
    "duration": 23,
    "start_time": "2025-10-15T13:09:36.465Z"
   },
   {
    "duration": 0,
    "start_time": "2025-10-15T13:09:36.490Z"
   },
   {
    "duration": 0,
    "start_time": "2025-10-15T13:09:36.491Z"
   },
   {
    "duration": 0,
    "start_time": "2025-10-15T13:09:36.492Z"
   },
   {
    "duration": 0,
    "start_time": "2025-10-15T13:09:36.494Z"
   },
   {
    "duration": 0,
    "start_time": "2025-10-15T13:09:36.495Z"
   },
   {
    "duration": 0,
    "start_time": "2025-10-15T13:09:36.495Z"
   },
   {
    "duration": 0,
    "start_time": "2025-10-15T13:09:36.497Z"
   },
   {
    "duration": 0,
    "start_time": "2025-10-15T13:09:36.498Z"
   },
   {
    "duration": 0,
    "start_time": "2025-10-15T13:09:36.500Z"
   },
   {
    "duration": 0,
    "start_time": "2025-10-15T13:09:36.501Z"
   },
   {
    "duration": 0,
    "start_time": "2025-10-15T13:09:36.502Z"
   },
   {
    "duration": 0,
    "start_time": "2025-10-15T13:09:36.503Z"
   },
   {
    "duration": 0,
    "start_time": "2025-10-15T13:09:36.504Z"
   },
   {
    "duration": 0,
    "start_time": "2025-10-15T13:09:36.505Z"
   },
   {
    "duration": 0,
    "start_time": "2025-10-15T13:09:36.506Z"
   },
   {
    "duration": 0,
    "start_time": "2025-10-15T13:09:36.507Z"
   },
   {
    "duration": 1,
    "start_time": "2025-10-15T13:09:36.508Z"
   },
   {
    "duration": 3,
    "start_time": "2025-10-15T13:09:36.562Z"
   },
   {
    "duration": 32,
    "start_time": "2025-10-15T13:09:36.567Z"
   },
   {
    "duration": 226,
    "start_time": "2025-10-15T13:09:36.601Z"
   },
   {
    "duration": 14,
    "start_time": "2025-10-15T13:09:36.830Z"
   },
   {
    "duration": 41,
    "start_time": "2025-10-15T13:09:36.858Z"
   },
   {
    "duration": 34,
    "start_time": "2025-10-15T13:09:36.902Z"
   },
   {
    "duration": 57,
    "start_time": "2025-10-15T13:09:36.938Z"
   },
   {
    "duration": 34,
    "start_time": "2025-10-15T13:09:36.997Z"
   },
   {
    "duration": 59,
    "start_time": "2025-10-15T13:09:37.032Z"
   },
   {
    "duration": 43,
    "start_time": "2025-10-15T13:09:37.093Z"
   },
   {
    "duration": 28,
    "start_time": "2025-10-15T13:09:37.138Z"
   },
   {
    "duration": 6,
    "start_time": "2025-10-15T13:09:37.168Z"
   },
   {
    "duration": 885,
    "start_time": "2025-10-15T13:09:37.176Z"
   },
   {
    "duration": 2224,
    "start_time": "2025-10-15T13:09:38.066Z"
   },
   {
    "duration": 11,
    "start_time": "2025-10-15T13:09:40.292Z"
   },
   {
    "duration": 23,
    "start_time": "2025-10-15T13:09:40.305Z"
   },
   {
    "duration": 37,
    "start_time": "2025-10-15T13:09:40.330Z"
   },
   {
    "duration": 10,
    "start_time": "2025-10-15T13:09:40.369Z"
   },
   {
    "duration": 8,
    "start_time": "2025-10-15T13:09:40.385Z"
   },
   {
    "duration": 176758,
    "start_time": "2025-10-15T13:09:40.395Z"
   },
   {
    "duration": 6,
    "start_time": "2025-10-15T13:12:37.158Z"
   },
   {
    "duration": 49,
    "start_time": "2025-10-15T13:12:37.166Z"
   },
   {
    "duration": 76,
    "start_time": "2025-10-15T13:12:37.217Z"
   },
   {
    "duration": 1115,
    "start_time": "2025-10-15T13:12:37.294Z"
   },
   {
    "duration": 1334,
    "start_time": "2025-10-15T13:12:38.411Z"
   },
   {
    "duration": 47,
    "start_time": "2025-10-15T13:12:39.747Z"
   },
   {
    "duration": 13,
    "start_time": "2025-10-15T13:12:39.796Z"
   },
   {
    "duration": 11,
    "start_time": "2025-10-15T13:12:39.810Z"
   },
   {
    "duration": 41,
    "start_time": "2025-10-15T13:12:39.822Z"
   },
   {
    "duration": 26,
    "start_time": "2025-10-15T13:12:39.868Z"
   },
   {
    "duration": 10,
    "start_time": "2025-10-15T13:12:39.896Z"
   },
   {
    "duration": 6,
    "start_time": "2025-10-15T13:12:39.907Z"
   },
   {
    "duration": 7,
    "start_time": "2025-10-15T13:12:39.915Z"
   },
   {
    "duration": 72,
    "start_time": "2025-10-15T13:12:39.924Z"
   },
   {
    "duration": 4,
    "start_time": "2025-10-15T13:12:39.998Z"
   },
   {
    "duration": 76,
    "start_time": "2025-10-15T13:12:40.004Z"
   },
   {
    "duration": 54,
    "start_time": "2025-10-15T13:12:40.085Z"
   },
   {
    "duration": 4,
    "start_time": "2025-10-15T13:12:40.141Z"
   },
   {
    "duration": 125,
    "start_time": "2025-10-15T13:12:40.159Z"
   },
   {
    "duration": 5,
    "start_time": "2025-10-15T13:12:40.291Z"
   },
   {
    "duration": 118,
    "start_time": "2025-10-15T13:12:40.297Z"
   },
   {
    "duration": 9,
    "start_time": "2025-10-15T13:12:40.417Z"
   },
   {
    "duration": 4,
    "start_time": "2025-10-15T13:20:08.173Z"
   },
   {
    "duration": 8,
    "start_time": "2025-10-15T13:20:08.180Z"
   },
   {
    "duration": 19,
    "start_time": "2025-10-15T13:20:08.190Z"
   },
   {
    "duration": 37,
    "start_time": "2025-10-15T13:20:08.211Z"
   },
   {
    "duration": 0,
    "start_time": "2025-10-15T13:20:08.251Z"
   },
   {
    "duration": 0,
    "start_time": "2025-10-15T13:20:08.252Z"
   },
   {
    "duration": 0,
    "start_time": "2025-10-15T13:20:08.253Z"
   },
   {
    "duration": 0,
    "start_time": "2025-10-15T13:20:08.255Z"
   },
   {
    "duration": 0,
    "start_time": "2025-10-15T13:20:08.257Z"
   },
   {
    "duration": 0,
    "start_time": "2025-10-15T13:20:08.258Z"
   },
   {
    "duration": 0,
    "start_time": "2025-10-15T13:20:08.261Z"
   },
   {
    "duration": 0,
    "start_time": "2025-10-15T13:20:08.262Z"
   },
   {
    "duration": 0,
    "start_time": "2025-10-15T13:20:08.264Z"
   },
   {
    "duration": 0,
    "start_time": "2025-10-15T13:20:08.265Z"
   },
   {
    "duration": 0,
    "start_time": "2025-10-15T13:20:08.266Z"
   },
   {
    "duration": 0,
    "start_time": "2025-10-15T13:20:08.267Z"
   },
   {
    "duration": 1,
    "start_time": "2025-10-15T13:20:08.268Z"
   },
   {
    "duration": 0,
    "start_time": "2025-10-15T13:20:08.270Z"
   },
   {
    "duration": 0,
    "start_time": "2025-10-15T13:20:08.271Z"
   },
   {
    "duration": 0,
    "start_time": "2025-10-15T13:20:08.272Z"
   },
   {
    "duration": 0,
    "start_time": "2025-10-15T13:20:08.274Z"
   },
   {
    "duration": 0,
    "start_time": "2025-10-15T13:20:08.275Z"
   },
   {
    "duration": 0,
    "start_time": "2025-10-15T13:20:08.276Z"
   },
   {
    "duration": 0,
    "start_time": "2025-10-15T13:20:08.277Z"
   },
   {
    "duration": 17,
    "start_time": "2025-10-15T13:20:08.281Z"
   },
   {
    "duration": 95,
    "start_time": "2025-10-15T13:20:08.300Z"
   },
   {
    "duration": 79,
    "start_time": "2025-10-15T13:20:08.397Z"
   },
   {
    "duration": 37,
    "start_time": "2025-10-15T13:20:08.478Z"
   },
   {
    "duration": 62,
    "start_time": "2025-10-15T13:20:08.517Z"
   },
   {
    "duration": 29,
    "start_time": "2025-10-15T13:20:08.581Z"
   },
   {
    "duration": 64,
    "start_time": "2025-10-15T13:20:08.612Z"
   },
   {
    "duration": 7,
    "start_time": "2025-10-15T13:20:08.679Z"
   },
   {
    "duration": 12,
    "start_time": "2025-10-15T13:20:08.688Z"
   },
   {
    "duration": 837,
    "start_time": "2025-10-15T13:20:08.702Z"
   },
   {
    "duration": 2162,
    "start_time": "2025-10-15T13:20:09.541Z"
   },
   {
    "duration": 9,
    "start_time": "2025-10-15T13:20:11.705Z"
   },
   {
    "duration": 45,
    "start_time": "2025-10-15T13:20:11.716Z"
   },
   {
    "duration": 19,
    "start_time": "2025-10-15T13:20:11.763Z"
   },
   {
    "duration": 50,
    "start_time": "2025-10-15T13:20:11.784Z"
   },
   {
    "duration": 7,
    "start_time": "2025-10-15T13:20:11.836Z"
   },
   {
    "duration": 169780,
    "start_time": "2025-10-15T13:20:11.845Z"
   },
   {
    "duration": 4,
    "start_time": "2025-10-15T13:23:01.627Z"
   },
   {
    "duration": 67,
    "start_time": "2025-10-15T13:23:01.634Z"
   },
   {
    "duration": 40,
    "start_time": "2025-10-15T13:23:01.703Z"
   },
   {
    "duration": 1204,
    "start_time": "2025-10-15T13:23:01.757Z"
   },
   {
    "duration": 1340,
    "start_time": "2025-10-15T13:23:02.964Z"
   },
   {
    "duration": 25,
    "start_time": "2025-10-15T13:23:04.306Z"
   },
   {
    "duration": 35,
    "start_time": "2025-10-15T13:23:04.333Z"
   },
   {
    "duration": 6,
    "start_time": "2025-10-15T13:23:04.370Z"
   },
   {
    "duration": 31,
    "start_time": "2025-10-15T13:23:04.378Z"
   },
   {
    "duration": 18,
    "start_time": "2025-10-15T13:23:04.410Z"
   },
   {
    "duration": 24,
    "start_time": "2025-10-15T13:23:04.456Z"
   },
   {
    "duration": 27,
    "start_time": "2025-10-15T13:23:04.482Z"
   },
   {
    "duration": 16,
    "start_time": "2025-10-15T13:23:04.511Z"
   },
   {
    "duration": 86,
    "start_time": "2025-10-15T13:23:04.529Z"
   },
   {
    "duration": 17,
    "start_time": "2025-10-15T13:23:04.617Z"
   },
   {
    "duration": 74,
    "start_time": "2025-10-15T13:23:04.636Z"
   },
   {
    "duration": 66,
    "start_time": "2025-10-15T13:23:04.712Z"
   },
   {
    "duration": 9,
    "start_time": "2025-10-15T13:23:04.779Z"
   },
   {
    "duration": 137,
    "start_time": "2025-10-15T13:23:04.790Z"
   },
   {
    "duration": 5,
    "start_time": "2025-10-15T13:23:04.928Z"
   },
   {
    "duration": 131,
    "start_time": "2025-10-15T13:23:04.935Z"
   },
   {
    "duration": 11,
    "start_time": "2025-10-15T13:23:05.069Z"
   },
   {
    "duration": 12,
    "start_time": "2025-10-15T13:34:00.810Z"
   },
   {
    "duration": 4,
    "start_time": "2025-10-16T04:15:37.587Z"
   },
   {
    "duration": 4,
    "start_time": "2025-10-16T04:15:37.593Z"
   },
   {
    "duration": 2554,
    "start_time": "2025-10-16T04:15:37.599Z"
   },
   {
    "duration": 127,
    "start_time": "2025-10-16T04:15:40.155Z"
   },
   {
    "duration": 0,
    "start_time": "2025-10-16T04:15:40.287Z"
   },
   {
    "duration": 0,
    "start_time": "2025-10-16T04:15:40.288Z"
   },
   {
    "duration": 0,
    "start_time": "2025-10-16T04:15:40.290Z"
   },
   {
    "duration": 0,
    "start_time": "2025-10-16T04:15:40.291Z"
   },
   {
    "duration": 0,
    "start_time": "2025-10-16T04:15:40.293Z"
   },
   {
    "duration": 0,
    "start_time": "2025-10-16T04:15:40.294Z"
   },
   {
    "duration": 0,
    "start_time": "2025-10-16T04:15:40.296Z"
   },
   {
    "duration": 0,
    "start_time": "2025-10-16T04:15:40.298Z"
   },
   {
    "duration": 0,
    "start_time": "2025-10-16T04:15:40.300Z"
   },
   {
    "duration": 0,
    "start_time": "2025-10-16T04:15:40.301Z"
   },
   {
    "duration": 0,
    "start_time": "2025-10-16T04:15:40.303Z"
   },
   {
    "duration": 0,
    "start_time": "2025-10-16T04:15:40.304Z"
   },
   {
    "duration": 0,
    "start_time": "2025-10-16T04:15:40.306Z"
   },
   {
    "duration": 0,
    "start_time": "2025-10-16T04:15:40.331Z"
   },
   {
    "duration": 0,
    "start_time": "2025-10-16T04:15:40.333Z"
   },
   {
    "duration": 0,
    "start_time": "2025-10-16T04:15:40.334Z"
   },
   {
    "duration": 0,
    "start_time": "2025-10-16T04:15:40.336Z"
   },
   {
    "duration": 0,
    "start_time": "2025-10-16T04:15:40.337Z"
   },
   {
    "duration": 0,
    "start_time": "2025-10-16T04:15:40.339Z"
   },
   {
    "duration": 0,
    "start_time": "2025-10-16T04:15:40.341Z"
   },
   {
    "duration": 0,
    "start_time": "2025-10-16T04:15:40.342Z"
   },
   {
    "duration": 0,
    "start_time": "2025-10-16T04:15:40.344Z"
   },
   {
    "duration": 0,
    "start_time": "2025-10-16T04:15:40.346Z"
   },
   {
    "duration": 0,
    "start_time": "2025-10-16T04:15:40.347Z"
   },
   {
    "duration": 0,
    "start_time": "2025-10-16T04:15:40.349Z"
   },
   {
    "duration": 0,
    "start_time": "2025-10-16T04:15:40.350Z"
   },
   {
    "duration": 0,
    "start_time": "2025-10-16T04:15:40.351Z"
   },
   {
    "duration": 0,
    "start_time": "2025-10-16T04:15:40.352Z"
   },
   {
    "duration": 0,
    "start_time": "2025-10-16T04:15:40.353Z"
   },
   {
    "duration": 1,
    "start_time": "2025-10-16T04:15:40.354Z"
   },
   {
    "duration": 0,
    "start_time": "2025-10-16T04:15:40.356Z"
   },
   {
    "duration": 0,
    "start_time": "2025-10-16T04:15:40.357Z"
   },
   {
    "duration": 0,
    "start_time": "2025-10-16T04:15:40.358Z"
   },
   {
    "duration": 0,
    "start_time": "2025-10-16T04:15:40.359Z"
   },
   {
    "duration": 0,
    "start_time": "2025-10-16T04:15:40.360Z"
   },
   {
    "duration": 0,
    "start_time": "2025-10-16T04:15:40.361Z"
   },
   {
    "duration": 0,
    "start_time": "2025-10-16T04:15:40.362Z"
   },
   {
    "duration": 0,
    "start_time": "2025-10-16T04:15:40.364Z"
   },
   {
    "duration": 0,
    "start_time": "2025-10-16T04:15:40.365Z"
   },
   {
    "duration": 0,
    "start_time": "2025-10-16T04:15:40.366Z"
   },
   {
    "duration": 0,
    "start_time": "2025-10-16T04:15:40.367Z"
   },
   {
    "duration": 0,
    "start_time": "2025-10-16T04:15:40.367Z"
   },
   {
    "duration": 0,
    "start_time": "2025-10-16T04:15:40.369Z"
   },
   {
    "duration": 0,
    "start_time": "2025-10-16T04:15:40.431Z"
   },
   {
    "duration": 0,
    "start_time": "2025-10-16T04:15:40.432Z"
   },
   {
    "duration": 0,
    "start_time": "2025-10-16T04:15:40.433Z"
   },
   {
    "duration": 0,
    "start_time": "2025-10-16T04:15:40.434Z"
   },
   {
    "duration": 0,
    "start_time": "2025-10-16T04:15:40.435Z"
   },
   {
    "duration": 0,
    "start_time": "2025-10-16T04:15:40.437Z"
   },
   {
    "duration": 0,
    "start_time": "2025-10-16T04:15:40.438Z"
   },
   {
    "duration": 0,
    "start_time": "2025-10-16T04:15:40.439Z"
   },
   {
    "duration": 0,
    "start_time": "2025-10-16T04:15:40.440Z"
   },
   {
    "duration": 0,
    "start_time": "2025-10-16T04:15:40.441Z"
   },
   {
    "duration": 0,
    "start_time": "2025-10-16T04:15:40.443Z"
   },
   {
    "duration": 0,
    "start_time": "2025-10-16T04:15:40.444Z"
   },
   {
    "duration": 0,
    "start_time": "2025-10-16T04:15:40.445Z"
   },
   {
    "duration": 0,
    "start_time": "2025-10-16T04:15:40.446Z"
   },
   {
    "duration": 0,
    "start_time": "2025-10-16T04:15:40.447Z"
   },
   {
    "duration": 0,
    "start_time": "2025-10-16T04:15:40.448Z"
   },
   {
    "duration": 50,
    "start_time": "2025-10-16T04:16:29.989Z"
   },
   {
    "duration": 6,
    "start_time": "2025-10-16T04:16:37.381Z"
   },
   {
    "duration": 4,
    "start_time": "2025-10-16T04:16:42.555Z"
   },
   {
    "duration": 4,
    "start_time": "2025-10-16T04:16:42.563Z"
   },
   {
    "duration": 1876,
    "start_time": "2025-10-16T04:16:42.569Z"
   },
   {
    "duration": 6,
    "start_time": "2025-10-16T04:16:44.447Z"
   },
   {
    "duration": 254,
    "start_time": "2025-10-16T04:16:44.455Z"
   },
   {
    "duration": 16,
    "start_time": "2025-10-16T04:16:44.711Z"
   },
   {
    "duration": 10,
    "start_time": "2025-10-16T04:16:44.728Z"
   },
   {
    "duration": 8,
    "start_time": "2025-10-16T04:16:44.739Z"
   },
   {
    "duration": 8,
    "start_time": "2025-10-16T04:16:44.748Z"
   },
   {
    "duration": 4,
    "start_time": "2025-10-16T04:16:44.758Z"
   },
   {
    "duration": 8,
    "start_time": "2025-10-16T04:16:44.763Z"
   },
   {
    "duration": 5,
    "start_time": "2025-10-16T04:16:44.773Z"
   },
   {
    "duration": 7,
    "start_time": "2025-10-16T04:16:44.780Z"
   },
   {
    "duration": 43,
    "start_time": "2025-10-16T04:16:44.788Z"
   },
   {
    "duration": 4,
    "start_time": "2025-10-16T04:16:44.833Z"
   },
   {
    "duration": 5,
    "start_time": "2025-10-16T04:16:44.839Z"
   },
   {
    "duration": 7,
    "start_time": "2025-10-16T04:16:44.845Z"
   },
   {
    "duration": 6,
    "start_time": "2025-10-16T04:16:44.853Z"
   },
   {
    "duration": 10,
    "start_time": "2025-10-16T04:16:44.861Z"
   },
   {
    "duration": 9,
    "start_time": "2025-10-16T04:16:44.873Z"
   },
   {
    "duration": 185,
    "start_time": "2025-10-16T04:16:44.883Z"
   },
   {
    "duration": 3,
    "start_time": "2025-10-16T04:16:45.070Z"
   },
   {
    "duration": 49,
    "start_time": "2025-10-16T04:16:45.074Z"
   },
   {
    "duration": 182,
    "start_time": "2025-10-16T04:16:45.130Z"
   },
   {
    "duration": 19,
    "start_time": "2025-10-16T04:16:45.316Z"
   },
   {
    "duration": 36,
    "start_time": "2025-10-16T04:16:45.336Z"
   },
   {
    "duration": 35,
    "start_time": "2025-10-16T04:16:45.373Z"
   },
   {
    "duration": 35,
    "start_time": "2025-10-16T04:16:45.430Z"
   },
   {
    "duration": 35,
    "start_time": "2025-10-16T04:16:45.467Z"
   },
   {
    "duration": 50,
    "start_time": "2025-10-16T04:16:45.504Z"
   },
   {
    "duration": 45,
    "start_time": "2025-10-16T04:16:45.556Z"
   },
   {
    "duration": 28,
    "start_time": "2025-10-16T04:16:45.602Z"
   },
   {
    "duration": 4,
    "start_time": "2025-10-16T04:16:45.632Z"
   },
   {
    "duration": 799,
    "start_time": "2025-10-16T04:16:45.638Z"
   },
   {
    "duration": 2081,
    "start_time": "2025-10-16T04:16:46.439Z"
   },
   {
    "duration": 8,
    "start_time": "2025-10-16T04:16:48.529Z"
   },
   {
    "duration": 22,
    "start_time": "2025-10-16T04:16:48.539Z"
   },
   {
    "duration": 9,
    "start_time": "2025-10-16T04:16:48.563Z"
   },
   {
    "duration": 143,
    "start_time": "2025-10-16T04:16:48.573Z"
   },
   {
    "duration": 0,
    "start_time": "2025-10-16T04:16:48.718Z"
   },
   {
    "duration": 0,
    "start_time": "2025-10-16T04:16:48.719Z"
   },
   {
    "duration": 0,
    "start_time": "2025-10-16T04:16:48.720Z"
   },
   {
    "duration": 0,
    "start_time": "2025-10-16T04:16:48.730Z"
   },
   {
    "duration": 0,
    "start_time": "2025-10-16T04:16:48.731Z"
   },
   {
    "duration": 0,
    "start_time": "2025-10-16T04:16:48.732Z"
   },
   {
    "duration": 0,
    "start_time": "2025-10-16T04:16:48.733Z"
   },
   {
    "duration": 0,
    "start_time": "2025-10-16T04:16:48.734Z"
   },
   {
    "duration": 0,
    "start_time": "2025-10-16T04:16:48.735Z"
   },
   {
    "duration": 0,
    "start_time": "2025-10-16T04:16:48.736Z"
   },
   {
    "duration": 0,
    "start_time": "2025-10-16T04:16:48.737Z"
   },
   {
    "duration": 0,
    "start_time": "2025-10-16T04:16:48.739Z"
   },
   {
    "duration": 0,
    "start_time": "2025-10-16T04:16:48.740Z"
   },
   {
    "duration": 0,
    "start_time": "2025-10-16T04:16:48.742Z"
   },
   {
    "duration": 0,
    "start_time": "2025-10-16T04:16:48.743Z"
   },
   {
    "duration": 0,
    "start_time": "2025-10-16T04:16:48.744Z"
   },
   {
    "duration": 0,
    "start_time": "2025-10-16T04:16:48.745Z"
   },
   {
    "duration": 0,
    "start_time": "2025-10-16T04:16:48.746Z"
   },
   {
    "duration": 0,
    "start_time": "2025-10-16T04:16:48.747Z"
   },
   {
    "duration": 0,
    "start_time": "2025-10-16T04:16:48.748Z"
   },
   {
    "duration": 0,
    "start_time": "2025-10-16T04:16:48.750Z"
   },
   {
    "duration": 0,
    "start_time": "2025-10-16T04:16:48.751Z"
   },
   {
    "duration": 0,
    "start_time": "2025-10-16T04:16:48.752Z"
   },
   {
    "duration": 0,
    "start_time": "2025-10-16T04:16:48.753Z"
   },
   {
    "duration": 7,
    "start_time": "2025-10-16T04:17:08.651Z"
   },
   {
    "duration": 10,
    "start_time": "2025-10-16T04:17:12.545Z"
   },
   {
    "duration": 215449,
    "start_time": "2025-10-16T04:17:12.558Z"
   },
   {
    "duration": 5,
    "start_time": "2025-10-16T04:20:48.009Z"
   },
   {
    "duration": 66,
    "start_time": "2025-10-16T04:20:48.015Z"
   },
   {
    "duration": 110,
    "start_time": "2025-10-16T04:20:48.083Z"
   },
   {
    "duration": 12,
    "start_time": "2025-10-16T04:20:48.195Z"
   },
   {
    "duration": 0,
    "start_time": "2025-10-16T04:20:48.208Z"
   },
   {
    "duration": 0,
    "start_time": "2025-10-16T04:20:48.210Z"
   },
   {
    "duration": 0,
    "start_time": "2025-10-16T04:20:48.230Z"
   },
   {
    "duration": 0,
    "start_time": "2025-10-16T04:20:48.231Z"
   },
   {
    "duration": 0,
    "start_time": "2025-10-16T04:20:48.232Z"
   },
   {
    "duration": 0,
    "start_time": "2025-10-16T04:20:48.234Z"
   },
   {
    "duration": 0,
    "start_time": "2025-10-16T04:20:48.235Z"
   },
   {
    "duration": 0,
    "start_time": "2025-10-16T04:20:48.236Z"
   },
   {
    "duration": 1,
    "start_time": "2025-10-16T04:20:48.237Z"
   },
   {
    "duration": 0,
    "start_time": "2025-10-16T04:20:48.239Z"
   },
   {
    "duration": 1,
    "start_time": "2025-10-16T04:20:48.239Z"
   },
   {
    "duration": 0,
    "start_time": "2025-10-16T04:20:48.241Z"
   },
   {
    "duration": 0,
    "start_time": "2025-10-16T04:20:48.242Z"
   },
   {
    "duration": 0,
    "start_time": "2025-10-16T04:20:48.243Z"
   },
   {
    "duration": 0,
    "start_time": "2025-10-16T04:20:48.244Z"
   },
   {
    "duration": 0,
    "start_time": "2025-10-16T04:20:48.245Z"
   },
   {
    "duration": 0,
    "start_time": "2025-10-16T04:20:48.246Z"
   },
   {
    "duration": 0,
    "start_time": "2025-10-16T04:20:48.247Z"
   },
   {
    "duration": 4,
    "start_time": "2025-10-16T04:37:21.349Z"
   },
   {
    "duration": 3,
    "start_time": "2025-10-16T04:37:33.870Z"
   },
   {
    "duration": 57,
    "start_time": "2025-10-16T04:37:33.877Z"
   },
   {
    "duration": 1930,
    "start_time": "2025-10-16T04:37:33.936Z"
   },
   {
    "duration": 7,
    "start_time": "2025-10-16T04:37:35.868Z"
   },
   {
    "duration": 235,
    "start_time": "2025-10-16T04:37:35.876Z"
   },
   {
    "duration": 15,
    "start_time": "2025-10-16T04:37:36.113Z"
   },
   {
    "duration": 24,
    "start_time": "2025-10-16T04:37:36.130Z"
   },
   {
    "duration": 14,
    "start_time": "2025-10-16T04:37:36.156Z"
   },
   {
    "duration": 7,
    "start_time": "2025-10-16T04:37:36.171Z"
   },
   {
    "duration": 4,
    "start_time": "2025-10-16T04:37:36.180Z"
   },
   {
    "duration": 8,
    "start_time": "2025-10-16T04:37:36.186Z"
   },
   {
    "duration": 7,
    "start_time": "2025-10-16T04:37:36.195Z"
   },
   {
    "duration": 7,
    "start_time": "2025-10-16T04:37:36.204Z"
   },
   {
    "duration": 18,
    "start_time": "2025-10-16T04:37:36.212Z"
   },
   {
    "duration": 15,
    "start_time": "2025-10-16T04:37:36.232Z"
   },
   {
    "duration": 11,
    "start_time": "2025-10-16T04:37:36.249Z"
   },
   {
    "duration": 7,
    "start_time": "2025-10-16T04:37:36.261Z"
   },
   {
    "duration": 6,
    "start_time": "2025-10-16T04:37:36.270Z"
   },
   {
    "duration": 10,
    "start_time": "2025-10-16T04:37:36.278Z"
   },
   {
    "duration": 10,
    "start_time": "2025-10-16T04:37:36.289Z"
   },
   {
    "duration": 172,
    "start_time": "2025-10-16T04:37:36.300Z"
   },
   {
    "duration": 2,
    "start_time": "2025-10-16T04:37:36.474Z"
   },
   {
    "duration": 27,
    "start_time": "2025-10-16T04:37:36.478Z"
   },
   {
    "duration": 176,
    "start_time": "2025-10-16T04:37:36.529Z"
   },
   {
    "duration": 25,
    "start_time": "2025-10-16T04:37:36.706Z"
   },
   {
    "duration": 35,
    "start_time": "2025-10-16T04:37:36.733Z"
   },
   {
    "duration": 37,
    "start_time": "2025-10-16T04:37:36.770Z"
   },
   {
    "duration": 37,
    "start_time": "2025-10-16T04:37:36.831Z"
   },
   {
    "duration": 32,
    "start_time": "2025-10-16T04:37:36.870Z"
   },
   {
    "duration": 56,
    "start_time": "2025-10-16T04:37:36.904Z"
   },
   {
    "duration": 41,
    "start_time": "2025-10-16T04:37:36.962Z"
   },
   {
    "duration": 4,
    "start_time": "2025-10-16T04:37:43.880Z"
   },
   {
    "duration": 3,
    "start_time": "2025-10-16T13:16:46.980Z"
   },
   {
    "duration": 4,
    "start_time": "2025-10-16T13:16:46.986Z"
   },
   {
    "duration": 7537,
    "start_time": "2025-10-16T13:16:46.992Z"
   },
   {
    "duration": 1536,
    "start_time": "2025-10-16T13:16:54.532Z"
   },
   {
    "duration": 0,
    "start_time": "2025-10-16T13:16:56.071Z"
   },
   {
    "duration": 0,
    "start_time": "2025-10-16T13:16:56.073Z"
   },
   {
    "duration": 0,
    "start_time": "2025-10-16T13:16:56.074Z"
   },
   {
    "duration": 0,
    "start_time": "2025-10-16T13:16:56.076Z"
   },
   {
    "duration": 0,
    "start_time": "2025-10-16T13:16:56.077Z"
   },
   {
    "duration": 0,
    "start_time": "2025-10-16T13:16:56.078Z"
   },
   {
    "duration": 0,
    "start_time": "2025-10-16T13:16:56.079Z"
   },
   {
    "duration": 0,
    "start_time": "2025-10-16T13:16:56.080Z"
   },
   {
    "duration": 0,
    "start_time": "2025-10-16T13:16:56.081Z"
   },
   {
    "duration": 0,
    "start_time": "2025-10-16T13:16:56.082Z"
   },
   {
    "duration": 0,
    "start_time": "2025-10-16T13:16:56.108Z"
   },
   {
    "duration": 0,
    "start_time": "2025-10-16T13:16:56.109Z"
   },
   {
    "duration": 0,
    "start_time": "2025-10-16T13:16:56.110Z"
   },
   {
    "duration": 0,
    "start_time": "2025-10-16T13:16:56.112Z"
   },
   {
    "duration": 0,
    "start_time": "2025-10-16T13:16:56.113Z"
   },
   {
    "duration": 0,
    "start_time": "2025-10-16T13:16:56.114Z"
   },
   {
    "duration": 0,
    "start_time": "2025-10-16T13:16:56.115Z"
   },
   {
    "duration": 0,
    "start_time": "2025-10-16T13:16:56.116Z"
   },
   {
    "duration": 0,
    "start_time": "2025-10-16T13:16:56.117Z"
   },
   {
    "duration": 0,
    "start_time": "2025-10-16T13:16:56.118Z"
   },
   {
    "duration": 0,
    "start_time": "2025-10-16T13:16:56.119Z"
   },
   {
    "duration": 0,
    "start_time": "2025-10-16T13:16:56.120Z"
   },
   {
    "duration": 0,
    "start_time": "2025-10-16T13:16:56.122Z"
   },
   {
    "duration": 0,
    "start_time": "2025-10-16T13:16:56.123Z"
   },
   {
    "duration": 0,
    "start_time": "2025-10-16T13:16:56.124Z"
   },
   {
    "duration": 0,
    "start_time": "2025-10-16T13:16:56.125Z"
   },
   {
    "duration": 0,
    "start_time": "2025-10-16T13:16:56.126Z"
   },
   {
    "duration": 0,
    "start_time": "2025-10-16T13:16:56.127Z"
   },
   {
    "duration": 0,
    "start_time": "2025-10-16T13:16:56.128Z"
   },
   {
    "duration": 0,
    "start_time": "2025-10-16T13:16:56.130Z"
   },
   {
    "duration": 0,
    "start_time": "2025-10-16T13:16:56.131Z"
   },
   {
    "duration": 0,
    "start_time": "2025-10-16T13:16:56.132Z"
   },
   {
    "duration": 0,
    "start_time": "2025-10-16T13:16:56.134Z"
   },
   {
    "duration": 0,
    "start_time": "2025-10-16T13:16:56.136Z"
   },
   {
    "duration": 0,
    "start_time": "2025-10-16T13:16:56.138Z"
   },
   {
    "duration": 0,
    "start_time": "2025-10-16T13:16:56.139Z"
   },
   {
    "duration": 0,
    "start_time": "2025-10-16T13:16:56.141Z"
   },
   {
    "duration": 0,
    "start_time": "2025-10-16T13:16:56.143Z"
   },
   {
    "duration": 0,
    "start_time": "2025-10-16T13:16:56.144Z"
   },
   {
    "duration": 1,
    "start_time": "2025-10-16T13:16:56.145Z"
   },
   {
    "duration": 0,
    "start_time": "2025-10-16T13:16:56.208Z"
   },
   {
    "duration": 0,
    "start_time": "2025-10-16T13:16:56.210Z"
   },
   {
    "duration": 0,
    "start_time": "2025-10-16T13:16:56.212Z"
   },
   {
    "duration": 0,
    "start_time": "2025-10-16T13:16:56.215Z"
   },
   {
    "duration": 0,
    "start_time": "2025-10-16T13:16:56.217Z"
   },
   {
    "duration": 0,
    "start_time": "2025-10-16T13:16:56.219Z"
   },
   {
    "duration": 0,
    "start_time": "2025-10-16T13:16:56.220Z"
   },
   {
    "duration": 0,
    "start_time": "2025-10-16T13:16:56.222Z"
   },
   {
    "duration": 0,
    "start_time": "2025-10-16T13:16:56.224Z"
   },
   {
    "duration": 0,
    "start_time": "2025-10-16T13:16:56.225Z"
   },
   {
    "duration": 0,
    "start_time": "2025-10-16T13:16:56.227Z"
   },
   {
    "duration": 0,
    "start_time": "2025-10-16T13:16:56.228Z"
   },
   {
    "duration": 0,
    "start_time": "2025-10-16T13:16:56.230Z"
   },
   {
    "duration": 0,
    "start_time": "2025-10-16T13:16:56.232Z"
   },
   {
    "duration": 0,
    "start_time": "2025-10-16T13:16:56.233Z"
   },
   {
    "duration": 0,
    "start_time": "2025-10-16T13:16:56.235Z"
   },
   {
    "duration": 0,
    "start_time": "2025-10-16T13:16:56.236Z"
   },
   {
    "duration": 0,
    "start_time": "2025-10-16T13:16:56.237Z"
   },
   {
    "duration": 0,
    "start_time": "2025-10-16T13:16:56.239Z"
   },
   {
    "duration": 0,
    "start_time": "2025-10-16T13:16:56.240Z"
   },
   {
    "duration": 0,
    "start_time": "2025-10-16T13:16:56.241Z"
   },
   {
    "duration": 0,
    "start_time": "2025-10-16T13:16:56.243Z"
   },
   {
    "duration": 0,
    "start_time": "2025-10-16T13:16:56.306Z"
   },
   {
    "duration": 0,
    "start_time": "2025-10-16T13:16:56.308Z"
   },
   {
    "duration": 0,
    "start_time": "2025-10-16T13:16:56.309Z"
   },
   {
    "duration": 0,
    "start_time": "2025-10-16T13:16:56.312Z"
   },
   {
    "duration": 0,
    "start_time": "2025-10-16T13:16:56.313Z"
   },
   {
    "duration": 0,
    "start_time": "2025-10-16T13:16:56.315Z"
   },
   {
    "duration": 0,
    "start_time": "2025-10-16T13:16:56.317Z"
   },
   {
    "duration": 1,
    "start_time": "2025-10-16T13:16:56.318Z"
   },
   {
    "duration": 3388,
    "start_time": "2025-10-16T13:19:12.388Z"
   },
   {
    "duration": 3,
    "start_time": "2025-10-16T13:19:19.802Z"
   },
   {
    "duration": 4,
    "start_time": "2025-10-16T13:19:19.809Z"
   },
   {
    "duration": 2735,
    "start_time": "2025-10-16T13:19:19.815Z"
   },
   {
    "duration": 3399,
    "start_time": "2025-10-16T13:19:22.552Z"
   },
   {
    "duration": 222,
    "start_time": "2025-10-16T13:19:25.953Z"
   },
   {
    "duration": 7,
    "start_time": "2025-10-16T13:19:26.176Z"
   },
   {
    "duration": 352,
    "start_time": "2025-10-16T13:19:26.184Z"
   },
   {
    "duration": 18,
    "start_time": "2025-10-16T13:19:26.538Z"
   },
   {
    "duration": 43,
    "start_time": "2025-10-16T13:19:26.557Z"
   },
   {
    "duration": 9,
    "start_time": "2025-10-16T13:19:26.601Z"
   },
   {
    "duration": 15,
    "start_time": "2025-10-16T13:19:26.613Z"
   },
   {
    "duration": 8,
    "start_time": "2025-10-16T13:19:26.630Z"
   },
   {
    "duration": 13,
    "start_time": "2025-10-16T13:19:26.640Z"
   },
   {
    "duration": 8,
    "start_time": "2025-10-16T13:19:26.655Z"
   },
   {
    "duration": 43,
    "start_time": "2025-10-16T13:19:26.665Z"
   },
   {
    "duration": 17,
    "start_time": "2025-10-16T13:19:26.710Z"
   },
   {
    "duration": 10,
    "start_time": "2025-10-16T13:19:26.729Z"
   },
   {
    "duration": 13,
    "start_time": "2025-10-16T13:19:26.741Z"
   },
   {
    "duration": 19,
    "start_time": "2025-10-16T13:19:26.756Z"
   },
   {
    "duration": 7,
    "start_time": "2025-10-16T13:19:26.777Z"
   },
   {
    "duration": 22,
    "start_time": "2025-10-16T13:19:26.786Z"
   },
   {
    "duration": 26,
    "start_time": "2025-10-16T13:19:26.810Z"
   },
   {
    "duration": 10,
    "start_time": "2025-10-16T13:19:26.838Z"
   },
   {
    "duration": 24,
    "start_time": "2025-10-16T13:19:26.850Z"
   },
   {
    "duration": 15,
    "start_time": "2025-10-16T13:19:26.876Z"
   },
   {
    "duration": 38,
    "start_time": "2025-10-16T13:19:26.893Z"
   },
   {
    "duration": 88,
    "start_time": "2025-10-16T13:19:26.933Z"
   },
   {
    "duration": 3,
    "start_time": "2025-10-16T13:19:27.023Z"
   },
   {
    "duration": 27,
    "start_time": "2025-10-16T13:19:27.030Z"
   },
   {
    "duration": 212,
    "start_time": "2025-10-16T13:19:27.059Z"
   },
   {
    "duration": 39,
    "start_time": "2025-10-16T13:19:27.274Z"
   },
   {
    "duration": 9,
    "start_time": "2025-10-16T13:19:27.316Z"
   },
   {
    "duration": 31,
    "start_time": "2025-10-16T13:19:27.327Z"
   },
   {
    "duration": 7,
    "start_time": "2025-10-16T13:19:27.360Z"
   },
   {
    "duration": 39,
    "start_time": "2025-10-16T13:19:27.369Z"
   },
   {
    "duration": 4,
    "start_time": "2025-10-16T13:19:27.410Z"
   },
   {
    "duration": 36,
    "start_time": "2025-10-16T13:19:27.416Z"
   },
   {
    "duration": 20,
    "start_time": "2025-10-16T13:19:27.454Z"
   },
   {
    "duration": 4,
    "start_time": "2025-10-16T13:19:27.476Z"
   },
   {
    "duration": 45,
    "start_time": "2025-10-16T13:19:27.481Z"
   },
   {
    "duration": 4,
    "start_time": "2025-10-16T13:19:27.528Z"
   },
   {
    "duration": 8,
    "start_time": "2025-10-16T13:19:27.533Z"
   },
   {
    "duration": 16,
    "start_time": "2025-10-16T13:19:27.543Z"
   },
   {
    "duration": 922,
    "start_time": "2025-10-16T13:19:27.561Z"
   },
   {
    "duration": 2335,
    "start_time": "2025-10-16T13:19:28.485Z"
   },
   {
    "duration": 10,
    "start_time": "2025-10-16T13:19:30.821Z"
   },
   {
    "duration": 24,
    "start_time": "2025-10-16T13:19:30.833Z"
   },
   {
    "duration": 9,
    "start_time": "2025-10-16T13:19:30.859Z"
   },
   {
    "duration": 11,
    "start_time": "2025-10-16T13:19:30.870Z"
   },
   {
    "duration": 24,
    "start_time": "2025-10-16T13:19:30.883Z"
   },
   {
    "duration": 8,
    "start_time": "2025-10-16T13:19:30.909Z"
   },
   {
    "duration": 344834,
    "start_time": "2025-10-16T13:19:30.918Z"
   },
   {
    "duration": 5,
    "start_time": "2025-10-16T13:25:15.753Z"
   },
   {
    "duration": 872,
    "start_time": "2025-10-16T13:25:15.760Z"
   },
   {
    "duration": 43,
    "start_time": "2025-10-16T13:25:16.634Z"
   },
   {
    "duration": 131,
    "start_time": "2025-10-16T13:25:16.679Z"
   },
   {
    "duration": 1458,
    "start_time": "2025-10-16T13:25:16.815Z"
   },
   {
    "duration": 3295,
    "start_time": "2025-10-16T13:25:18.275Z"
   },
   {
    "duration": 19,
    "start_time": "2025-10-16T13:25:21.572Z"
   },
   {
    "duration": 27,
    "start_time": "2025-10-16T13:25:21.593Z"
   },
   {
    "duration": 7,
    "start_time": "2025-10-16T13:25:21.626Z"
   },
   {
    "duration": 24,
    "start_time": "2025-10-16T13:25:21.635Z"
   },
   {
    "duration": 68,
    "start_time": "2025-10-16T13:25:21.661Z"
   },
   {
    "duration": 17,
    "start_time": "2025-10-16T13:25:21.731Z"
   },
   {
    "duration": 8,
    "start_time": "2025-10-16T13:25:21.750Z"
   },
   {
    "duration": 10,
    "start_time": "2025-10-16T13:25:21.760Z"
   },
   {
    "duration": 88,
    "start_time": "2025-10-16T13:25:21.771Z"
   },
   {
    "duration": 6,
    "start_time": "2025-10-16T13:25:21.861Z"
   },
   {
    "duration": 81,
    "start_time": "2025-10-16T13:25:21.870Z"
   },
   {
    "duration": 74,
    "start_time": "2025-10-16T13:25:21.953Z"
   },
   {
    "duration": 8,
    "start_time": "2025-10-16T13:25:22.029Z"
   },
   {
    "duration": 124,
    "start_time": "2025-10-16T13:25:22.039Z"
   },
   {
    "duration": 6,
    "start_time": "2025-10-16T13:25:22.165Z"
   },
   {
    "duration": 138,
    "start_time": "2025-10-16T13:25:22.173Z"
   },
   {
    "duration": 18,
    "start_time": "2025-10-16T13:25:22.315Z"
   },
   {
    "duration": 12,
    "start_time": "2025-10-17T13:25:11.486Z"
   },
   {
    "duration": 4,
    "start_time": "2025-10-17T13:26:11.778Z"
   },
   {
    "duration": 82,
    "start_time": "2025-10-17T13:31:40.654Z"
   },
   {
    "duration": 83,
    "start_time": "2025-10-17T13:37:37.078Z"
   },
   {
    "duration": 2,
    "start_time": "2025-10-17T13:41:06.149Z"
   },
   {
    "duration": 3,
    "start_time": "2025-10-17T13:41:06.157Z"
   },
   {
    "duration": 3774,
    "start_time": "2025-10-17T13:41:06.162Z"
   },
   {
    "duration": 7562,
    "start_time": "2025-10-17T13:41:09.939Z"
   },
   {
    "duration": 1727,
    "start_time": "2025-10-17T13:41:17.504Z"
   },
   {
    "duration": 9,
    "start_time": "2025-10-17T13:41:19.234Z"
   },
   {
    "duration": 346,
    "start_time": "2025-10-17T13:41:19.245Z"
   },
   {
    "duration": 16,
    "start_time": "2025-10-17T13:41:19.593Z"
   },
   {
    "duration": 15,
    "start_time": "2025-10-17T13:41:19.611Z"
   },
   {
    "duration": 12,
    "start_time": "2025-10-17T13:41:19.631Z"
   },
   {
    "duration": 11,
    "start_time": "2025-10-17T13:41:19.645Z"
   },
   {
    "duration": 8,
    "start_time": "2025-10-17T13:41:19.658Z"
   },
   {
    "duration": 10,
    "start_time": "2025-10-17T13:41:19.667Z"
   },
   {
    "duration": 41,
    "start_time": "2025-10-17T13:41:19.679Z"
   },
   {
    "duration": 14,
    "start_time": "2025-10-17T13:41:19.724Z"
   },
   {
    "duration": 10,
    "start_time": "2025-10-17T13:41:19.740Z"
   },
   {
    "duration": 9,
    "start_time": "2025-10-17T13:41:19.752Z"
   },
   {
    "duration": 12,
    "start_time": "2025-10-17T13:41:19.763Z"
   },
   {
    "duration": 8,
    "start_time": "2025-10-17T13:41:19.777Z"
   },
   {
    "duration": 7,
    "start_time": "2025-10-17T13:41:19.815Z"
   },
   {
    "duration": 6,
    "start_time": "2025-10-17T13:41:19.824Z"
   },
   {
    "duration": 6,
    "start_time": "2025-10-17T13:41:19.832Z"
   },
   {
    "duration": 6,
    "start_time": "2025-10-17T13:41:19.840Z"
   },
   {
    "duration": 11,
    "start_time": "2025-10-17T13:41:19.847Z"
   },
   {
    "duration": 11,
    "start_time": "2025-10-17T13:41:19.863Z"
   },
   {
    "duration": 43,
    "start_time": "2025-10-17T13:41:19.875Z"
   },
   {
    "duration": 117,
    "start_time": "2025-10-17T13:41:19.920Z"
   },
   {
    "duration": 3,
    "start_time": "2025-10-17T13:41:20.039Z"
   },
   {
    "duration": 32,
    "start_time": "2025-10-17T13:41:20.044Z"
   },
   {
    "duration": 209,
    "start_time": "2025-10-17T13:41:20.077Z"
   },
   {
    "duration": 34,
    "start_time": "2025-10-17T13:41:20.288Z"
   },
   {
    "duration": 5,
    "start_time": "2025-10-17T13:41:20.325Z"
   },
   {
    "duration": 25,
    "start_time": "2025-10-17T13:41:20.332Z"
   },
   {
    "duration": 5,
    "start_time": "2025-10-17T13:41:20.359Z"
   },
   {
    "duration": 19,
    "start_time": "2025-10-17T13:41:20.365Z"
   },
   {
    "duration": 31,
    "start_time": "2025-10-17T13:41:20.385Z"
   },
   {
    "duration": 95,
    "start_time": "2025-10-17T13:41:20.418Z"
   },
   {
    "duration": 24,
    "start_time": "2025-10-17T13:41:20.516Z"
   },
   {
    "duration": 5,
    "start_time": "2025-10-17T13:41:20.541Z"
   },
   {
    "duration": 30,
    "start_time": "2025-10-17T13:41:20.547Z"
   },
   {
    "duration": 4,
    "start_time": "2025-10-17T13:41:20.578Z"
   },
   {
    "duration": 32,
    "start_time": "2025-10-17T13:41:20.584Z"
   },
   {
    "duration": 5,
    "start_time": "2025-10-17T13:41:20.618Z"
   },
   {
    "duration": 956,
    "start_time": "2025-10-17T13:41:20.625Z"
   },
   {
    "duration": 2404,
    "start_time": "2025-10-17T13:41:21.583Z"
   },
   {
    "duration": 9,
    "start_time": "2025-10-17T13:41:23.989Z"
   },
   {
    "duration": 46,
    "start_time": "2025-10-17T13:41:24.000Z"
   },
   {
    "duration": 11,
    "start_time": "2025-10-17T13:41:24.048Z"
   },
   {
    "duration": 7,
    "start_time": "2025-10-17T13:41:24.060Z"
   },
   {
    "duration": 136,
    "start_time": "2025-10-17T13:41:24.069Z"
   },
   {
    "duration": 0,
    "start_time": "2025-10-17T13:41:24.207Z"
   },
   {
    "duration": 0,
    "start_time": "2025-10-17T13:41:24.209Z"
   },
   {
    "duration": 0,
    "start_time": "2025-10-17T13:41:24.215Z"
   },
   {
    "duration": 0,
    "start_time": "2025-10-17T13:41:24.216Z"
   },
   {
    "duration": 0,
    "start_time": "2025-10-17T13:41:24.218Z"
   },
   {
    "duration": 0,
    "start_time": "2025-10-17T13:41:24.219Z"
   },
   {
    "duration": 0,
    "start_time": "2025-10-17T13:41:24.221Z"
   },
   {
    "duration": 1,
    "start_time": "2025-10-17T13:41:24.221Z"
   },
   {
    "duration": 0,
    "start_time": "2025-10-17T13:41:24.223Z"
   },
   {
    "duration": 0,
    "start_time": "2025-10-17T13:41:24.224Z"
   },
   {
    "duration": 0,
    "start_time": "2025-10-17T13:41:24.225Z"
   },
   {
    "duration": 0,
    "start_time": "2025-10-17T13:41:24.227Z"
   },
   {
    "duration": 0,
    "start_time": "2025-10-17T13:41:24.229Z"
   },
   {
    "duration": 0,
    "start_time": "2025-10-17T13:41:24.230Z"
   },
   {
    "duration": 0,
    "start_time": "2025-10-17T13:41:24.231Z"
   },
   {
    "duration": 0,
    "start_time": "2025-10-17T13:41:24.233Z"
   },
   {
    "duration": 0,
    "start_time": "2025-10-17T13:41:24.234Z"
   },
   {
    "duration": 0,
    "start_time": "2025-10-17T13:41:24.235Z"
   },
   {
    "duration": 0,
    "start_time": "2025-10-17T13:41:24.237Z"
   },
   {
    "duration": 0,
    "start_time": "2025-10-17T13:41:24.238Z"
   },
   {
    "duration": 0,
    "start_time": "2025-10-17T13:41:24.240Z"
   },
   {
    "duration": 0,
    "start_time": "2025-10-17T13:41:24.241Z"
   },
   {
    "duration": 0,
    "start_time": "2025-10-17T13:41:24.242Z"
   },
   {
    "duration": 0,
    "start_time": "2025-10-17T13:41:24.243Z"
   },
   {
    "duration": 0,
    "start_time": "2025-10-17T13:41:24.244Z"
   },
   {
    "duration": 3,
    "start_time": "2025-10-17T13:42:32.080Z"
   },
   {
    "duration": 9,
    "start_time": "2025-10-17T13:42:32.085Z"
   },
   {
    "duration": 2828,
    "start_time": "2025-10-17T13:42:32.096Z"
   },
   {
    "duration": 3413,
    "start_time": "2025-10-17T13:42:34.926Z"
   },
   {
    "duration": 6,
    "start_time": "2025-10-17T13:42:38.343Z"
   },
   {
    "duration": 11,
    "start_time": "2025-10-17T13:42:38.351Z"
   },
   {
    "duration": 196,
    "start_time": "2025-10-17T13:42:38.364Z"
   },
   {
    "duration": 14,
    "start_time": "2025-10-17T13:42:38.562Z"
   },
   {
    "duration": 16,
    "start_time": "2025-10-17T13:42:38.578Z"
   },
   {
    "duration": 11,
    "start_time": "2025-10-17T13:42:38.596Z"
   },
   {
    "duration": 14,
    "start_time": "2025-10-17T13:42:38.614Z"
   },
   {
    "duration": 11,
    "start_time": "2025-10-17T13:42:38.629Z"
   },
   {
    "duration": 12,
    "start_time": "2025-10-17T13:42:38.641Z"
   },
   {
    "duration": 7,
    "start_time": "2025-10-17T13:42:38.656Z"
   },
   {
    "duration": 11,
    "start_time": "2025-10-17T13:42:38.665Z"
   },
   {
    "duration": 40,
    "start_time": "2025-10-17T13:42:38.677Z"
   },
   {
    "duration": 38,
    "start_time": "2025-10-17T13:42:38.719Z"
   },
   {
    "duration": 9,
    "start_time": "2025-10-17T13:42:38.758Z"
   },
   {
    "duration": 7,
    "start_time": "2025-10-17T13:42:38.769Z"
   },
   {
    "duration": 27,
    "start_time": "2025-10-17T13:42:38.777Z"
   },
   {
    "duration": 50,
    "start_time": "2025-10-17T13:42:38.806Z"
   },
   {
    "duration": 73,
    "start_time": "2025-10-17T13:42:38.857Z"
   },
   {
    "duration": 41,
    "start_time": "2025-10-17T13:42:38.933Z"
   },
   {
    "duration": 39,
    "start_time": "2025-10-17T13:42:38.976Z"
   },
   {
    "duration": 34,
    "start_time": "2025-10-17T13:42:39.017Z"
   },
   {
    "duration": 83,
    "start_time": "2025-10-17T13:42:39.054Z"
   },
   {
    "duration": 133,
    "start_time": "2025-10-17T13:42:39.139Z"
   },
   {
    "duration": 2,
    "start_time": "2025-10-17T13:42:39.273Z"
   },
   {
    "duration": 58,
    "start_time": "2025-10-17T13:42:39.277Z"
   },
   {
    "duration": 188,
    "start_time": "2025-10-17T13:42:39.337Z"
   },
   {
    "duration": 20,
    "start_time": "2025-10-17T13:42:39.527Z"
   },
   {
    "duration": 5,
    "start_time": "2025-10-17T13:42:39.549Z"
   },
   {
    "duration": 23,
    "start_time": "2025-10-17T13:42:39.555Z"
   },
   {
    "duration": 5,
    "start_time": "2025-10-17T13:42:39.579Z"
   },
   {
    "duration": 26,
    "start_time": "2025-10-17T13:42:39.615Z"
   },
   {
    "duration": 5,
    "start_time": "2025-10-17T13:42:39.642Z"
   },
   {
    "duration": 23,
    "start_time": "2025-10-17T13:42:39.648Z"
   },
   {
    "duration": 47,
    "start_time": "2025-10-17T13:42:39.673Z"
   },
   {
    "duration": 4,
    "start_time": "2025-10-17T13:42:39.722Z"
   },
   {
    "duration": 21,
    "start_time": "2025-10-17T13:42:39.728Z"
   },
   {
    "duration": 4,
    "start_time": "2025-10-17T13:42:39.754Z"
   },
   {
    "duration": 9,
    "start_time": "2025-10-17T13:42:39.759Z"
   },
   {
    "duration": 4,
    "start_time": "2025-10-17T13:42:39.770Z"
   },
   {
    "duration": 941,
    "start_time": "2025-10-17T13:42:39.775Z"
   },
   {
    "duration": 2321,
    "start_time": "2025-10-17T13:42:40.718Z"
   },
   {
    "duration": 10,
    "start_time": "2025-10-17T13:42:43.043Z"
   },
   {
    "duration": 20,
    "start_time": "2025-10-17T13:42:43.055Z"
   },
   {
    "duration": 56,
    "start_time": "2025-10-17T13:42:43.077Z"
   },
   {
    "duration": 5,
    "start_time": "2025-10-17T13:42:43.135Z"
   },
   {
    "duration": 7,
    "start_time": "2025-10-17T13:42:43.141Z"
   },
   {
    "duration": 9,
    "start_time": "2025-10-17T13:42:43.149Z"
   },
   {
    "duration": 331215,
    "start_time": "2025-10-17T13:42:43.160Z"
   },
   {
    "duration": 5,
    "start_time": "2025-10-17T13:48:14.376Z"
   },
   {
    "duration": 794,
    "start_time": "2025-10-17T13:48:14.383Z"
   },
   {
    "duration": 76,
    "start_time": "2025-10-17T13:48:15.179Z"
   },
   {
    "duration": 118,
    "start_time": "2025-10-17T13:48:15.257Z"
   },
   {
    "duration": 1357,
    "start_time": "2025-10-17T13:48:15.377Z"
   },
   {
    "duration": 2916,
    "start_time": "2025-10-17T13:48:16.736Z"
   },
   {
    "duration": 17,
    "start_time": "2025-10-17T13:48:19.654Z"
   },
   {
    "duration": 12,
    "start_time": "2025-10-17T13:48:19.673Z"
   },
   {
    "duration": 29,
    "start_time": "2025-10-17T13:48:19.687Z"
   },
   {
    "duration": 5,
    "start_time": "2025-10-17T13:48:19.718Z"
   },
   {
    "duration": 64,
    "start_time": "2025-10-17T13:48:19.725Z"
   },
   {
    "duration": 26,
    "start_time": "2025-10-17T13:48:19.791Z"
   },
   {
    "duration": 5,
    "start_time": "2025-10-17T13:48:19.819Z"
   },
   {
    "duration": 6,
    "start_time": "2025-10-17T13:48:19.826Z"
   },
   {
    "duration": 44,
    "start_time": "2025-10-17T13:48:19.834Z"
   },
   {
    "duration": 4,
    "start_time": "2025-10-17T13:48:19.880Z"
   },
   {
    "duration": 46,
    "start_time": "2025-10-17T13:48:19.914Z"
   },
   {
    "duration": 72,
    "start_time": "2025-10-17T13:48:19.961Z"
   },
   {
    "duration": 4,
    "start_time": "2025-10-17T13:48:20.034Z"
   },
   {
    "duration": 107,
    "start_time": "2025-10-17T13:48:20.040Z"
   },
   {
    "duration": 5,
    "start_time": "2025-10-17T13:48:20.149Z"
   },
   {
    "duration": 106,
    "start_time": "2025-10-17T13:48:20.155Z"
   },
   {
    "duration": 14,
    "start_time": "2025-10-17T13:48:20.263Z"
   },
   {
    "duration": 82,
    "start_time": "2025-10-17T13:59:06.454Z"
   },
   {
    "duration": 79,
    "start_time": "2025-10-17T14:02:22.645Z"
   },
   {
    "duration": 3,
    "start_time": "2025-10-17T14:04:08.117Z"
   },
   {
    "duration": 6,
    "start_time": "2025-10-17T14:04:08.123Z"
   },
   {
    "duration": 3006,
    "start_time": "2025-10-17T14:04:08.131Z"
   },
   {
    "duration": 3587,
    "start_time": "2025-10-17T14:04:11.141Z"
   },
   {
    "duration": 9,
    "start_time": "2025-10-17T14:04:14.731Z"
   },
   {
    "duration": 8,
    "start_time": "2025-10-17T14:04:14.742Z"
   },
   {
    "duration": 168,
    "start_time": "2025-10-17T14:04:14.752Z"
   },
   {
    "duration": 18,
    "start_time": "2025-10-17T14:04:14.922Z"
   },
   {
    "duration": 17,
    "start_time": "2025-10-17T14:04:14.941Z"
   },
   {
    "duration": 9,
    "start_time": "2025-10-17T14:04:14.961Z"
   },
   {
    "duration": 12,
    "start_time": "2025-10-17T14:04:14.971Z"
   },
   {
    "duration": 33,
    "start_time": "2025-10-17T14:04:14.984Z"
   },
   {
    "duration": 45,
    "start_time": "2025-10-17T14:04:15.020Z"
   },
   {
    "duration": 24,
    "start_time": "2025-10-17T14:04:15.067Z"
   },
   {
    "duration": 53,
    "start_time": "2025-10-17T14:04:15.093Z"
   },
   {
    "duration": 37,
    "start_time": "2025-10-17T14:04:15.148Z"
   },
   {
    "duration": 17,
    "start_time": "2025-10-17T14:04:15.188Z"
   },
   {
    "duration": 13,
    "start_time": "2025-10-17T14:04:15.208Z"
   },
   {
    "duration": 17,
    "start_time": "2025-10-17T14:04:15.223Z"
   },
   {
    "duration": 10,
    "start_time": "2025-10-17T14:04:15.243Z"
   },
   {
    "duration": 29,
    "start_time": "2025-10-17T14:04:15.255Z"
   },
   {
    "duration": 46,
    "start_time": "2025-10-17T14:04:15.286Z"
   },
   {
    "duration": 8,
    "start_time": "2025-10-17T14:04:15.334Z"
   },
   {
    "duration": 10,
    "start_time": "2025-10-17T14:04:15.344Z"
   },
   {
    "duration": 16,
    "start_time": "2025-10-17T14:04:15.356Z"
   },
   {
    "duration": 24,
    "start_time": "2025-10-17T14:04:15.374Z"
   },
   {
    "duration": 123,
    "start_time": "2025-10-17T14:04:15.400Z"
   },
   {
    "duration": 3,
    "start_time": "2025-10-17T14:04:15.529Z"
   },
   {
    "duration": 31,
    "start_time": "2025-10-17T14:04:15.534Z"
   },
   {
    "duration": 198,
    "start_time": "2025-10-17T14:04:15.567Z"
   },
   {
    "duration": 18,
    "start_time": "2025-10-17T14:04:15.767Z"
   },
   {
    "duration": 8,
    "start_time": "2025-10-17T14:04:15.786Z"
   },
   {
    "duration": 44,
    "start_time": "2025-10-17T14:04:15.796Z"
   },
   {
    "duration": 5,
    "start_time": "2025-10-17T14:04:15.842Z"
   },
   {
    "duration": 19,
    "start_time": "2025-10-17T14:04:15.848Z"
   },
   {
    "duration": 4,
    "start_time": "2025-10-17T14:04:15.869Z"
   },
   {
    "duration": 50,
    "start_time": "2025-10-17T14:04:15.874Z"
   },
   {
    "duration": 23,
    "start_time": "2025-10-17T14:04:15.926Z"
   },
   {
    "duration": 4,
    "start_time": "2025-10-17T14:04:15.950Z"
   },
   {
    "duration": 18,
    "start_time": "2025-10-17T14:04:15.956Z"
   },
   {
    "duration": 4,
    "start_time": "2025-10-17T14:04:15.975Z"
   },
   {
    "duration": 42,
    "start_time": "2025-10-17T14:04:15.981Z"
   },
   {
    "duration": 6,
    "start_time": "2025-10-17T14:04:16.025Z"
   },
   {
    "duration": 984,
    "start_time": "2025-10-17T14:04:16.033Z"
   },
   {
    "duration": 2479,
    "start_time": "2025-10-17T14:04:17.019Z"
   },
   {
    "duration": 33,
    "start_time": "2025-10-17T14:04:19.499Z"
   },
   {
    "duration": 22,
    "start_time": "2025-10-17T14:04:19.533Z"
   },
   {
    "duration": 11,
    "start_time": "2025-10-17T14:04:19.556Z"
   },
   {
    "duration": 5,
    "start_time": "2025-10-17T14:04:19.568Z"
   },
   {
    "duration": 5,
    "start_time": "2025-10-17T14:04:19.575Z"
   },
   {
    "duration": 44,
    "start_time": "2025-10-17T14:04:19.582Z"
   },
   {
    "duration": 332520,
    "start_time": "2025-10-17T14:04:19.628Z"
   },
   {
    "duration": 5,
    "start_time": "2025-10-17T14:09:52.150Z"
   },
   {
    "duration": 890,
    "start_time": "2025-10-17T14:09:52.156Z"
   },
   {
    "duration": 47,
    "start_time": "2025-10-17T14:09:53.048Z"
   },
   {
    "duration": 151,
    "start_time": "2025-10-17T14:09:53.097Z"
   },
   {
    "duration": 1488,
    "start_time": "2025-10-17T14:09:53.250Z"
   },
   {
    "duration": 3360,
    "start_time": "2025-10-17T14:09:54.740Z"
   },
   {
    "duration": 30,
    "start_time": "2025-10-17T14:09:58.101Z"
   },
   {
    "duration": 16,
    "start_time": "2025-10-17T14:09:58.133Z"
   },
   {
    "duration": 4,
    "start_time": "2025-10-17T14:09:58.150Z"
   },
   {
    "duration": 4,
    "start_time": "2025-10-17T14:09:58.157Z"
   },
   {
    "duration": 88,
    "start_time": "2025-10-17T14:09:58.163Z"
   },
   {
    "duration": 19,
    "start_time": "2025-10-17T14:09:58.253Z"
   },
   {
    "duration": 11,
    "start_time": "2025-10-17T14:09:58.274Z"
   },
   {
    "duration": 41,
    "start_time": "2025-10-17T14:09:58.287Z"
   },
   {
    "duration": 45,
    "start_time": "2025-10-17T14:09:58.331Z"
   },
   {
    "duration": 4,
    "start_time": "2025-10-17T14:09:58.378Z"
   },
   {
    "duration": 71,
    "start_time": "2025-10-17T14:09:58.384Z"
   },
   {
    "duration": 75,
    "start_time": "2025-10-17T14:09:58.457Z"
   },
   {
    "duration": 6,
    "start_time": "2025-10-17T14:09:58.539Z"
   },
   {
    "duration": 131,
    "start_time": "2025-10-17T14:09:58.549Z"
   },
   {
    "duration": 5,
    "start_time": "2025-10-17T14:09:58.682Z"
   },
   {
    "duration": 113,
    "start_time": "2025-10-17T14:09:58.689Z"
   },
   {
    "duration": 26,
    "start_time": "2025-10-17T14:09:58.813Z"
   },
   {
    "duration": 4,
    "start_time": "2025-10-17T14:29:50.355Z"
   },
   {
    "duration": 17,
    "start_time": "2025-10-17T14:29:50.362Z"
   },
   {
    "duration": 2825,
    "start_time": "2025-10-17T14:29:50.383Z"
   },
   {
    "duration": 3475,
    "start_time": "2025-10-17T14:29:53.212Z"
   },
   {
    "duration": 11,
    "start_time": "2025-10-17T14:29:56.690Z"
   },
   {
    "duration": 16,
    "start_time": "2025-10-17T14:29:56.703Z"
   },
   {
    "duration": 340,
    "start_time": "2025-10-17T14:29:56.721Z"
   },
   {
    "duration": 19,
    "start_time": "2025-10-17T14:29:57.064Z"
   },
   {
    "duration": 19,
    "start_time": "2025-10-17T14:29:57.086Z"
   },
   {
    "duration": 13,
    "start_time": "2025-10-17T14:29:57.107Z"
   },
   {
    "duration": 17,
    "start_time": "2025-10-17T14:29:57.123Z"
   },
   {
    "duration": 12,
    "start_time": "2025-10-17T14:29:57.146Z"
   },
   {
    "duration": 16,
    "start_time": "2025-10-17T14:29:57.160Z"
   },
   {
    "duration": 61,
    "start_time": "2025-10-17T14:29:57.178Z"
   },
   {
    "duration": 15,
    "start_time": "2025-10-17T14:29:57.242Z"
   },
   {
    "duration": 4,
    "start_time": "2025-10-17T14:29:57.260Z"
   },
   {
    "duration": 12,
    "start_time": "2025-10-17T14:29:57.266Z"
   },
   {
    "duration": 15,
    "start_time": "2025-10-17T14:29:57.280Z"
   },
   {
    "duration": 22,
    "start_time": "2025-10-17T14:29:57.298Z"
   },
   {
    "duration": 11,
    "start_time": "2025-10-17T14:29:57.323Z"
   },
   {
    "duration": 7,
    "start_time": "2025-10-17T14:29:57.336Z"
   },
   {
    "duration": 12,
    "start_time": "2025-10-17T14:29:57.346Z"
   },
   {
    "duration": 9,
    "start_time": "2025-10-17T14:29:57.360Z"
   },
   {
    "duration": 44,
    "start_time": "2025-10-17T14:29:57.371Z"
   },
   {
    "duration": 18,
    "start_time": "2025-10-17T14:29:57.418Z"
   },
   {
    "duration": 11,
    "start_time": "2025-10-17T14:29:57.439Z"
   },
   {
    "duration": 174,
    "start_time": "2025-10-17T14:29:57.453Z"
   },
   {
    "duration": 3,
    "start_time": "2025-10-17T14:29:57.632Z"
   },
   {
    "duration": 46,
    "start_time": "2025-10-17T14:29:57.638Z"
   },
   {
    "duration": 218,
    "start_time": "2025-10-17T14:29:57.687Z"
   },
   {
    "duration": 37,
    "start_time": "2025-10-17T14:29:57.907Z"
   },
   {
    "duration": 6,
    "start_time": "2025-10-17T14:29:57.946Z"
   },
   {
    "duration": 24,
    "start_time": "2025-10-17T14:29:57.954Z"
   },
   {
    "duration": 37,
    "start_time": "2025-10-17T14:29:57.980Z"
   },
   {
    "duration": 31,
    "start_time": "2025-10-17T14:29:58.021Z"
   },
   {
    "duration": 5,
    "start_time": "2025-10-17T14:29:58.054Z"
   },
   {
    "duration": 54,
    "start_time": "2025-10-17T14:29:58.061Z"
   },
   {
    "duration": 20,
    "start_time": "2025-10-17T14:29:58.117Z"
   },
   {
    "duration": 6,
    "start_time": "2025-10-17T14:29:58.142Z"
   },
   {
    "duration": 21,
    "start_time": "2025-10-17T14:29:58.151Z"
   },
   {
    "duration": 43,
    "start_time": "2025-10-17T14:29:58.174Z"
   },
   {
    "duration": 9,
    "start_time": "2025-10-17T14:29:58.219Z"
   },
   {
    "duration": 5,
    "start_time": "2025-10-17T14:29:58.230Z"
   },
   {
    "duration": 469623,
    "start_time": "2025-10-17T14:29:58.237Z"
   },
   {
    "duration": 4,
    "start_time": "2025-10-17T14:44:15.585Z"
   },
   {
    "duration": 26,
    "start_time": "2025-10-17T14:44:15.614Z"
   },
   {
    "duration": 3025,
    "start_time": "2025-10-17T14:44:15.647Z"
   },
   {
    "duration": 3737,
    "start_time": "2025-10-17T14:44:18.675Z"
   },
   {
    "duration": 14,
    "start_time": "2025-10-17T14:44:22.417Z"
   },
   {
    "duration": 15,
    "start_time": "2025-10-17T14:44:22.436Z"
   },
   {
    "duration": 207,
    "start_time": "2025-10-17T14:44:22.454Z"
   },
   {
    "duration": 13,
    "start_time": "2025-10-17T14:44:22.663Z"
   },
   {
    "duration": 14,
    "start_time": "2025-10-17T14:44:22.678Z"
   },
   {
    "duration": 10,
    "start_time": "2025-10-17T14:44:22.694Z"
   },
   {
    "duration": 13,
    "start_time": "2025-10-17T14:44:22.706Z"
   },
   {
    "duration": 28,
    "start_time": "2025-10-17T14:44:22.722Z"
   },
   {
    "duration": 16,
    "start_time": "2025-10-17T14:44:22.752Z"
   },
   {
    "duration": 10,
    "start_time": "2025-10-17T14:44:22.770Z"
   },
   {
    "duration": 47,
    "start_time": "2025-10-17T14:44:22.782Z"
   },
   {
    "duration": 3,
    "start_time": "2025-10-17T14:44:22.841Z"
   },
   {
    "duration": 10,
    "start_time": "2025-10-17T14:44:22.846Z"
   },
   {
    "duration": 6,
    "start_time": "2025-10-17T14:44:22.858Z"
   },
   {
    "duration": 7,
    "start_time": "2025-10-17T14:44:22.866Z"
   },
   {
    "duration": 11,
    "start_time": "2025-10-17T14:44:22.876Z"
   },
   {
    "duration": 36,
    "start_time": "2025-10-17T14:44:22.889Z"
   },
   {
    "duration": 16,
    "start_time": "2025-10-17T14:44:22.927Z"
   },
   {
    "duration": 7,
    "start_time": "2025-10-17T14:44:22.945Z"
   },
   {
    "duration": 47,
    "start_time": "2025-10-17T14:44:22.954Z"
   },
   {
    "duration": 40,
    "start_time": "2025-10-17T14:44:23.003Z"
   },
   {
    "duration": 10,
    "start_time": "2025-10-17T14:44:23.045Z"
   },
   {
    "duration": 107,
    "start_time": "2025-10-17T14:44:23.057Z"
   },
   {
    "duration": 3,
    "start_time": "2025-10-17T14:44:23.165Z"
   },
   {
    "duration": 50,
    "start_time": "2025-10-17T14:44:23.170Z"
   },
   {
    "duration": 185,
    "start_time": "2025-10-17T14:44:23.222Z"
   },
   {
    "duration": 38,
    "start_time": "2025-10-17T14:44:23.409Z"
   },
   {
    "duration": 6,
    "start_time": "2025-10-17T14:44:23.449Z"
   },
   {
    "duration": 23,
    "start_time": "2025-10-17T14:44:23.457Z"
   },
   {
    "duration": 5,
    "start_time": "2025-10-17T14:44:23.482Z"
   },
   {
    "duration": 53,
    "start_time": "2025-10-17T14:44:23.489Z"
   },
   {
    "duration": 5,
    "start_time": "2025-10-17T14:44:23.544Z"
   },
   {
    "duration": 39,
    "start_time": "2025-10-17T14:44:23.552Z"
   },
   {
    "duration": 45,
    "start_time": "2025-10-17T14:44:23.593Z"
   },
   {
    "duration": 5,
    "start_time": "2025-10-17T14:44:23.641Z"
   },
   {
    "duration": 21,
    "start_time": "2025-10-17T14:44:23.649Z"
   },
   {
    "duration": 4,
    "start_time": "2025-10-17T14:44:23.672Z"
   },
   {
    "duration": 19,
    "start_time": "2025-10-17T14:44:23.678Z"
   },
   {
    "duration": 17,
    "start_time": "2025-10-17T14:44:23.699Z"
   },
   {
    "duration": 471179,
    "start_time": "2025-10-17T14:44:23.722Z"
   },
   {
    "duration": 2524,
    "start_time": "2025-10-17T14:52:14.903Z"
   },
   {
    "duration": 12,
    "start_time": "2025-10-17T14:52:17.431Z"
   },
   {
    "duration": 23,
    "start_time": "2025-10-17T14:52:17.445Z"
   },
   {
    "duration": 10,
    "start_time": "2025-10-17T14:52:17.470Z"
   },
   {
    "duration": 14,
    "start_time": "2025-10-17T14:52:17.482Z"
   },
   {
    "duration": 26,
    "start_time": "2025-10-17T14:52:17.498Z"
   },
   {
    "duration": 14,
    "start_time": "2025-10-17T14:52:17.527Z"
   },
   {
    "duration": 365846,
    "start_time": "2025-10-17T14:52:17.548Z"
   },
   {
    "duration": 6,
    "start_time": "2025-10-17T14:58:23.396Z"
   },
   {
    "duration": 876,
    "start_time": "2025-10-17T14:58:23.404Z"
   },
   {
    "duration": 69,
    "start_time": "2025-10-17T14:58:24.281Z"
   },
   {
    "duration": 116,
    "start_time": "2025-10-17T14:58:24.352Z"
   },
   {
    "duration": 1498,
    "start_time": "2025-10-17T14:58:24.469Z"
   },
   {
    "duration": 3345,
    "start_time": "2025-10-17T14:58:25.968Z"
   },
   {
    "duration": 27,
    "start_time": "2025-10-17T14:58:29.322Z"
   },
   {
    "duration": 12,
    "start_time": "2025-10-17T14:58:29.351Z"
   },
   {
    "duration": 4,
    "start_time": "2025-10-17T14:58:29.365Z"
   },
   {
    "duration": 5,
    "start_time": "2025-10-17T14:58:29.371Z"
   },
   {
    "duration": 82,
    "start_time": "2025-10-17T14:58:29.378Z"
   },
   {
    "duration": 17,
    "start_time": "2025-10-17T14:58:29.462Z"
   },
   {
    "duration": 6,
    "start_time": "2025-10-17T14:58:29.481Z"
   },
   {
    "duration": 27,
    "start_time": "2025-10-17T14:58:29.489Z"
   },
   {
    "duration": 45,
    "start_time": "2025-10-17T14:58:29.527Z"
   },
   {
    "duration": 4,
    "start_time": "2025-10-17T14:58:29.574Z"
   },
   {
    "duration": 63,
    "start_time": "2025-10-17T14:58:29.580Z"
   },
   {
    "duration": 54,
    "start_time": "2025-10-17T14:58:29.645Z"
   },
   {
    "duration": 15,
    "start_time": "2025-10-17T14:58:29.722Z"
   },
   {
    "duration": 106,
    "start_time": "2025-10-17T14:58:29.739Z"
   },
   {
    "duration": 5,
    "start_time": "2025-10-17T14:58:29.847Z"
   },
   {
    "duration": 130,
    "start_time": "2025-10-17T14:58:29.853Z"
   },
   {
    "duration": 15,
    "start_time": "2025-10-17T14:58:29.985Z"
   },
   {
    "duration": 3,
    "start_time": "2025-10-17T15:03:36.223Z"
   },
   {
    "duration": 38,
    "start_time": "2025-10-17T15:03:36.233Z"
   },
   {
    "duration": 2806,
    "start_time": "2025-10-17T15:03:36.274Z"
   },
   {
    "duration": 3630,
    "start_time": "2025-10-17T15:03:39.082Z"
   },
   {
    "duration": 7,
    "start_time": "2025-10-17T15:03:42.715Z"
   },
   {
    "duration": 10,
    "start_time": "2025-10-17T15:03:42.725Z"
   },
   {
    "duration": 214,
    "start_time": "2025-10-17T15:03:42.737Z"
   },
   {
    "duration": 14,
    "start_time": "2025-10-17T15:03:42.952Z"
   },
   {
    "duration": 28,
    "start_time": "2025-10-17T15:03:42.968Z"
   },
   {
    "duration": 14,
    "start_time": "2025-10-17T15:03:42.998Z"
   },
   {
    "duration": 18,
    "start_time": "2025-10-17T15:03:43.014Z"
   },
   {
    "duration": 8,
    "start_time": "2025-10-17T15:03:43.034Z"
   },
   {
    "duration": 10,
    "start_time": "2025-10-17T15:03:43.044Z"
   },
   {
    "duration": 8,
    "start_time": "2025-10-17T15:03:43.056Z"
   },
   {
    "duration": 11,
    "start_time": "2025-10-17T15:03:43.067Z"
   },
   {
    "duration": 38,
    "start_time": "2025-10-17T15:03:43.080Z"
   },
   {
    "duration": 9,
    "start_time": "2025-10-17T15:03:43.122Z"
   },
   {
    "duration": 7,
    "start_time": "2025-10-17T15:03:43.133Z"
   },
   {
    "duration": 8,
    "start_time": "2025-10-17T15:03:43.142Z"
   },
   {
    "duration": 7,
    "start_time": "2025-10-17T15:03:43.152Z"
   },
   {
    "duration": 15,
    "start_time": "2025-10-17T15:03:43.161Z"
   },
   {
    "duration": 6,
    "start_time": "2025-10-17T15:03:43.177Z"
   },
   {
    "duration": 37,
    "start_time": "2025-10-17T15:03:43.184Z"
   },
   {
    "duration": 9,
    "start_time": "2025-10-17T15:03:43.223Z"
   },
   {
    "duration": 11,
    "start_time": "2025-10-17T15:03:43.234Z"
   },
   {
    "duration": 57,
    "start_time": "2025-10-17T15:03:43.247Z"
   },
   {
    "duration": 111,
    "start_time": "2025-10-17T15:03:43.306Z"
   },
   {
    "duration": 2,
    "start_time": "2025-10-17T15:03:43.420Z"
   },
   {
    "duration": 36,
    "start_time": "2025-10-17T15:03:43.424Z"
   },
   {
    "duration": 185,
    "start_time": "2025-10-17T15:03:43.463Z"
   },
   {
    "duration": 20,
    "start_time": "2025-10-17T15:03:43.650Z"
   },
   {
    "duration": 5,
    "start_time": "2025-10-17T15:03:43.672Z"
   },
   {
    "duration": 49,
    "start_time": "2025-10-17T15:03:43.679Z"
   },
   {
    "duration": 6,
    "start_time": "2025-10-17T15:03:43.730Z"
   },
   {
    "duration": 27,
    "start_time": "2025-10-17T15:03:43.738Z"
   },
   {
    "duration": 4,
    "start_time": "2025-10-17T15:03:43.767Z"
   },
   {
    "duration": 22,
    "start_time": "2025-10-17T15:03:43.773Z"
   },
   {
    "duration": 40,
    "start_time": "2025-10-17T15:03:43.797Z"
   },
   {
    "duration": 5,
    "start_time": "2025-10-17T15:03:43.838Z"
   },
   {
    "duration": 21,
    "start_time": "2025-10-17T15:03:43.845Z"
   },
   {
    "duration": 4,
    "start_time": "2025-10-17T15:03:43.868Z"
   },
   {
    "duration": 44,
    "start_time": "2025-10-17T15:03:43.876Z"
   },
   {
    "duration": 4,
    "start_time": "2025-10-17T15:03:43.922Z"
   },
   {
    "duration": 440514,
    "start_time": "2025-10-17T15:03:43.928Z"
   },
   {
    "duration": 2438,
    "start_time": "2025-10-17T15:11:04.443Z"
   },
   {
    "duration": 9,
    "start_time": "2025-10-17T15:11:06.883Z"
   },
   {
    "duration": 42,
    "start_time": "2025-10-17T15:11:06.894Z"
   },
   {
    "duration": 9,
    "start_time": "2025-10-17T15:11:06.938Z"
   },
   {
    "duration": 23,
    "start_time": "2025-10-17T15:11:06.949Z"
   },
   {
    "duration": 5,
    "start_time": "2025-10-17T15:11:06.974Z"
   },
   {
    "duration": 114,
    "start_time": "2025-10-17T15:11:06.980Z"
   },
   {
    "duration": 337330,
    "start_time": "2025-10-17T15:11:07.096Z"
   },
   {
    "duration": 6,
    "start_time": "2025-10-17T15:16:44.429Z"
   },
   {
    "duration": 884,
    "start_time": "2025-10-17T15:16:44.437Z"
   },
   {
    "duration": 58,
    "start_time": "2025-10-17T15:16:45.323Z"
   },
   {
    "duration": 136,
    "start_time": "2025-10-17T15:16:45.382Z"
   },
   {
    "duration": 1442,
    "start_time": "2025-10-17T15:16:45.520Z"
   },
   {
    "duration": 2965,
    "start_time": "2025-10-17T15:16:46.964Z"
   },
   {
    "duration": 18,
    "start_time": "2025-10-17T15:16:49.931Z"
   },
   {
    "duration": 11,
    "start_time": "2025-10-17T15:16:49.951Z"
   },
   {
    "duration": 4,
    "start_time": "2025-10-17T15:16:49.964Z"
   },
   {
    "duration": 4,
    "start_time": "2025-10-17T15:16:49.969Z"
   },
   {
    "duration": 92,
    "start_time": "2025-10-17T15:16:49.975Z"
   },
   {
    "duration": 18,
    "start_time": "2025-10-17T15:16:50.069Z"
   },
   {
    "duration": 22,
    "start_time": "2025-10-17T15:16:50.088Z"
   },
   {
    "duration": 9,
    "start_time": "2025-10-17T15:16:50.112Z"
   },
   {
    "duration": 45,
    "start_time": "2025-10-17T15:16:50.123Z"
   },
   {
    "duration": 4,
    "start_time": "2025-10-17T15:16:50.170Z"
   },
   {
    "duration": 75,
    "start_time": "2025-10-17T15:16:50.176Z"
   },
   {
    "duration": 70,
    "start_time": "2025-10-17T15:16:50.253Z"
   },
   {
    "duration": 6,
    "start_time": "2025-10-17T15:16:50.325Z"
   },
   {
    "duration": 113,
    "start_time": "2025-10-17T15:16:50.334Z"
   },
   {
    "duration": 4,
    "start_time": "2025-10-17T15:16:50.449Z"
   },
   {
    "duration": 122,
    "start_time": "2025-10-17T15:16:50.455Z"
   },
   {
    "duration": 13,
    "start_time": "2025-10-17T15:16:50.579Z"
   },
   {
    "duration": 4,
    "start_time": "2025-10-18T14:50:09.479Z"
   },
   {
    "duration": 4,
    "start_time": "2025-10-18T14:50:09.485Z"
   },
   {
    "duration": 3569,
    "start_time": "2025-10-18T14:50:09.491Z"
   },
   {
    "duration": 6954,
    "start_time": "2025-10-18T14:50:13.062Z"
   },
   {
    "duration": 4,
    "start_time": "2025-10-18T14:50:30.147Z"
   },
   {
    "duration": 30,
    "start_time": "2025-10-18T14:50:30.154Z"
   },
   {
    "duration": 2835,
    "start_time": "2025-10-18T14:50:30.186Z"
   },
   {
    "duration": 3342,
    "start_time": "2025-10-18T14:50:33.024Z"
   },
   {
    "duration": 1949,
    "start_time": "2025-10-18T14:50:36.368Z"
   },
   {
    "duration": 7,
    "start_time": "2025-10-18T14:50:38.320Z"
   },
   {
    "duration": 371,
    "start_time": "2025-10-18T14:50:38.329Z"
   },
   {
    "duration": 17,
    "start_time": "2025-10-18T14:50:38.702Z"
   },
   {
    "duration": 13,
    "start_time": "2025-10-18T14:50:38.720Z"
   },
   {
    "duration": 8,
    "start_time": "2025-10-18T14:50:38.735Z"
   },
   {
    "duration": 13,
    "start_time": "2025-10-18T14:50:38.745Z"
   },
   {
    "duration": 8,
    "start_time": "2025-10-18T14:50:38.760Z"
   },
   {
    "duration": 12,
    "start_time": "2025-10-18T14:50:38.770Z"
   },
   {
    "duration": 9,
    "start_time": "2025-10-18T14:50:38.783Z"
   },
   {
    "duration": 12,
    "start_time": "2025-10-18T14:50:38.795Z"
   },
   {
    "duration": 5,
    "start_time": "2025-10-18T14:50:38.808Z"
   },
   {
    "duration": 44,
    "start_time": "2025-10-18T14:50:38.815Z"
   },
   {
    "duration": 5,
    "start_time": "2025-10-18T14:50:38.861Z"
   },
   {
    "duration": 9,
    "start_time": "2025-10-18T14:50:38.868Z"
   },
   {
    "duration": 7,
    "start_time": "2025-10-18T14:50:38.878Z"
   },
   {
    "duration": 14,
    "start_time": "2025-10-18T14:50:38.887Z"
   },
   {
    "duration": 6,
    "start_time": "2025-10-18T14:50:38.903Z"
   },
   {
    "duration": 7,
    "start_time": "2025-10-18T14:50:38.910Z"
   },
   {
    "duration": 17,
    "start_time": "2025-10-18T14:50:38.919Z"
   },
   {
    "duration": 10,
    "start_time": "2025-10-18T14:50:38.957Z"
   },
   {
    "duration": 8,
    "start_time": "2025-10-18T14:50:38.969Z"
   },
   {
    "duration": 107,
    "start_time": "2025-10-18T14:50:38.979Z"
   },
   {
    "duration": 3,
    "start_time": "2025-10-18T14:50:39.088Z"
   },
   {
    "duration": 39,
    "start_time": "2025-10-18T14:50:39.092Z"
   },
   {
    "duration": 204,
    "start_time": "2025-10-18T14:50:39.132Z"
   },
   {
    "duration": 20,
    "start_time": "2025-10-18T14:50:39.338Z"
   },
   {
    "duration": 6,
    "start_time": "2025-10-18T14:50:39.360Z"
   },
   {
    "duration": 21,
    "start_time": "2025-10-18T14:50:39.368Z"
   },
   {
    "duration": 6,
    "start_time": "2025-10-18T14:50:39.390Z"
   },
   {
    "duration": 20,
    "start_time": "2025-10-18T14:50:39.397Z"
   },
   {
    "duration": 3,
    "start_time": "2025-10-18T14:50:39.419Z"
   },
   {
    "duration": 24,
    "start_time": "2025-10-18T14:50:39.457Z"
   },
   {
    "duration": 42,
    "start_time": "2025-10-18T14:50:39.482Z"
   },
   {
    "duration": 17,
    "start_time": "2025-10-18T14:50:39.526Z"
   },
   {
    "duration": 19,
    "start_time": "2025-10-18T14:50:39.545Z"
   },
   {
    "duration": 4,
    "start_time": "2025-10-18T14:50:39.565Z"
   },
   {
    "duration": 6,
    "start_time": "2025-10-18T14:50:39.574Z"
   },
   {
    "duration": 4,
    "start_time": "2025-10-18T14:50:39.581Z"
   },
   {
    "duration": 919,
    "start_time": "2025-10-18T14:50:39.587Z"
   },
   {
    "duration": 2222,
    "start_time": "2025-10-18T14:50:40.508Z"
   },
   {
    "duration": 25,
    "start_time": "2025-10-18T14:50:42.732Z"
   },
   {
    "duration": 21,
    "start_time": "2025-10-18T14:50:42.759Z"
   },
   {
    "duration": 22,
    "start_time": "2025-10-18T14:50:42.782Z"
   },
   {
    "duration": 7,
    "start_time": "2025-10-18T14:50:42.805Z"
   },
   {
    "duration": 5,
    "start_time": "2025-10-18T14:50:42.813Z"
   },
   {
    "duration": 13,
    "start_time": "2025-10-18T14:50:42.820Z"
   },
   {
    "duration": 317469,
    "start_time": "2025-10-18T14:50:42.835Z"
   },
   {
    "duration": 6,
    "start_time": "2025-10-18T14:56:00.305Z"
   },
   {
    "duration": 790,
    "start_time": "2025-10-18T14:56:00.313Z"
   },
   {
    "duration": 60,
    "start_time": "2025-10-18T14:56:01.105Z"
   },
   {
    "duration": 114,
    "start_time": "2025-10-18T14:56:01.166Z"
   },
   {
    "duration": 1386,
    "start_time": "2025-10-18T14:56:01.282Z"
   },
   {
    "duration": 3121,
    "start_time": "2025-10-18T14:56:02.670Z"
   },
   {
    "duration": 26,
    "start_time": "2025-10-18T14:56:05.794Z"
   },
   {
    "duration": 47,
    "start_time": "2025-10-18T14:56:05.822Z"
   },
   {
    "duration": 8,
    "start_time": "2025-10-18T14:56:05.870Z"
   },
   {
    "duration": 9,
    "start_time": "2025-10-18T14:56:05.880Z"
   },
   {
    "duration": 103,
    "start_time": "2025-10-18T14:56:05.891Z"
   },
   {
    "duration": 68,
    "start_time": "2025-10-18T14:56:05.996Z"
   },
   {
    "duration": 7,
    "start_time": "2025-10-18T14:56:06.066Z"
   },
   {
    "duration": 7,
    "start_time": "2025-10-18T14:56:06.075Z"
   },
   {
    "duration": 43,
    "start_time": "2025-10-18T14:56:06.083Z"
   },
   {
    "duration": 4,
    "start_time": "2025-10-18T14:56:06.128Z"
   },
   {
    "duration": 122,
    "start_time": "2025-10-18T14:56:06.134Z"
   },
   {
    "duration": 101,
    "start_time": "2025-10-18T14:56:06.258Z"
   },
   {
    "duration": 5,
    "start_time": "2025-10-18T14:56:06.361Z"
   },
   {
    "duration": 127,
    "start_time": "2025-10-18T14:56:06.368Z"
   },
   {
    "duration": 5,
    "start_time": "2025-10-18T14:56:06.497Z"
   },
   {
    "duration": 121,
    "start_time": "2025-10-18T14:56:06.504Z"
   },
   {
    "duration": 39,
    "start_time": "2025-10-18T14:56:06.627Z"
   }
  ],
  "kernelspec": {
   "display_name": "base",
   "language": "python",
   "name": "python3"
  },
  "language_info": {
   "codemirror_mode": {
    "name": "ipython",
    "version": 3
   },
   "file_extension": ".py",
   "mimetype": "text/x-python",
   "name": "python",
   "nbconvert_exporter": "python",
   "pygments_lexer": "ipython3",
   "version": "3.12.7"
  },
  "toc": {
   "base_numbering": 1,
   "nav_menu": {},
   "number_sections": true,
   "sideBar": true,
   "skip_h1_title": true,
   "title_cell": "Table of Contents",
   "title_sidebar": "Contents",
   "toc_cell": false,
   "toc_position": {},
   "toc_section_display": true,
   "toc_window_display": false
  }
 },
 "nbformat": 4,
 "nbformat_minor": 5
}
